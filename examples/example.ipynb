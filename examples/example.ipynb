{
 "metadata": {
  "name": ""
 },
 "nbformat": 3,
 "nbformat_minor": 0,
 "worksheets": [
  {
   "cells": [
    {
     "cell_type": "heading",
     "level": 1,
     "metadata": {},
     "source": [
      "Using theano_bpr for recommendations"
     ]
    },
    {
     "cell_type": "markdown",
     "metadata": {},
     "source": [
      "Bayesian Personalised Ranking (BPR) is a state-of-the-art algorithm for predicting personalised preferences over a range of items from implicit feedback. One of the main difference with other machine learning approaches for item recommenders is that it doesn't assume that unseen items are items that weren't liked by a user.\n",
      "\n",
      "BPR is also used for a number of other use-cases, such as tag and link prediction, matrix completion, etc."
     ]
    },
    {
     "cell_type": "heading",
     "level": 2,
     "metadata": {},
     "source": [
      "Loading data"
     ]
    },
    {
     "cell_type": "markdown",
     "metadata": {},
     "source": [
      "We start by loading training and testing data from Movielens data. The theano_bpr library provides a small utility function for that, which will extract all user-item pairs for which the rating is above a given threshold and map user and item identifiers to coordinates in a user-item matrix. "
     ]
    },
    {
     "cell_type": "code",
     "collapsed": false,
     "input": [
      "from theano_bpr.utils import load_data_from_movielens"
     ],
     "language": "python",
     "metadata": {},
     "outputs": [],
     "prompt_number": 1
    },
    {
     "cell_type": "code",
     "collapsed": false,
     "input": [
      "training_data, users_to_index, items_to_index = load_data_from_movielens('http://files.grouplens.org/datasets/movielens/ml-100k/ua.base', 3)"
     ],
     "language": "python",
     "metadata": {},
     "outputs": [],
     "prompt_number": 2
    },
    {
     "cell_type": "markdown",
     "metadata": {},
     "source": [
      " This function returns three things\n",
      " * Entries in the user-item matrix"
     ]
    },
    {
     "cell_type": "code",
     "collapsed": false,
     "input": [
      "training_data[0:5]"
     ],
     "language": "python",
     "metadata": {},
     "outputs": [
      {
       "metadata": {},
       "output_type": "pyout",
       "prompt_number": 3,
       "text": [
        "[(0, 0), (0, 1), (0, 2), (0, 3), (0, 4)]"
       ]
      }
     ],
     "prompt_number": 3
    },
    {
     "cell_type": "markdown",
     "metadata": {},
     "source": [
      " * A mapping from user identifiers to coordinates"
     ]
    },
    {
     "cell_type": "code",
     "collapsed": false,
     "input": [
      "users_to_index.keys()[0:10]"
     ],
     "language": "python",
     "metadata": {},
     "outputs": [
      {
       "metadata": {},
       "output_type": "pyout",
       "prompt_number": 4,
       "text": [
        "['344', '345', '346', '347', '340', '341', '342', '343', '810', '811']"
       ]
      }
     ],
     "prompt_number": 4
    },
    {
     "cell_type": "code",
     "collapsed": false,
     "input": [
      "users_to_index['811']"
     ],
     "language": "python",
     "metadata": {},
     "outputs": [
      {
       "metadata": {},
       "output_type": "pyout",
       "prompt_number": 5,
       "text": [
        "809"
       ]
      }
     ],
     "prompt_number": 5
    },
    {
     "cell_type": "markdown",
     "metadata": {},
     "source": [
      " * A mapping from item identifiers (in our case programme identifiers) to coordinates"
     ]
    },
    {
     "cell_type": "code",
     "collapsed": false,
     "input": [
      "items_to_index.keys()[0:10]"
     ],
     "language": "python",
     "metadata": {},
     "outputs": [
      {
       "metadata": {},
       "output_type": "pyout",
       "prompt_number": 6,
       "text": [
        "['344', '345', '346', '347', '340', '341', '342', '343', '348', '349']"
       ]
      }
     ],
     "prompt_number": 6
    },
    {
     "cell_type": "code",
     "collapsed": false,
     "input": [
      "items_to_index['349']"
     ],
     "language": "python",
     "metadata": {},
     "outputs": [
      {
       "metadata": {},
       "output_type": "pyout",
       "prompt_number": 7,
       "text": [
        "1090"
       ]
      }
     ],
     "prompt_number": 7
    },
    {
     "cell_type": "markdown",
     "metadata": {},
     "source": [
      "We now load the testing data, in the same way. The only difference is the two extra parameters, which define initial coordinates for users and items (the ones generated from the training data)."
     ]
    },
    {
     "cell_type": "code",
     "collapsed": false,
     "input": [
      "testing_data, users_to_index, items_to_index = load_data_from_movielens('http://files.grouplens.org/datasets/movielens/ml-100k/ua.test', 3, users_to_index, items_to_index)"
     ],
     "language": "python",
     "metadata": {},
     "outputs": [],
     "prompt_number": 8
    },
    {
     "cell_type": "code",
     "collapsed": false,
     "input": [
      "testing_data[0:5]"
     ],
     "language": "python",
     "metadata": {},
     "outputs": [
      {
       "metadata": {},
       "output_type": "pyout",
       "prompt_number": 9,
       "text": [
        "[(0, 820), (0, 442), (0, 513), (0, 446), (0, 658)]"
       ]
      }
     ],
     "prompt_number": 9
    },
    {
     "cell_type": "markdown",
     "metadata": {},
     "source": [
      "We now have data for training our model, and data to test our trained model. We import the BPR class from our theano_bpr library, an implementation of Bayesian Personalised Ranking for Matrix Factorisation, using the Theano machine learning library."
     ]
    },
    {
     "cell_type": "heading",
     "level": 2,
     "metadata": {},
     "source": [
      "Training a BPR model"
     ]
    },
    {
     "cell_type": "code",
     "collapsed": false,
     "input": [
      "from theano_bpr import BPR"
     ],
     "language": "python",
     "metadata": {},
     "outputs": [],
     "prompt_number": 10
    },
    {
     "cell_type": "markdown",
     "metadata": {},
     "source": [
      "We create a new BPR object. The required initialisation arguments are:\n",
      "\n",
      " * The number of latent dimensions in our matrix factorisation model\n",
      " * The total number of users\n",
      " * The total number of items"
     ]
    },
    {
     "cell_type": "code",
     "collapsed": false,
     "input": [
      "bpr = BPR(10, len(users_to_index.keys()), len(items_to_index.keys()))"
     ],
     "language": "python",
     "metadata": {},
     "outputs": [],
     "prompt_number": 18
    },
    {
     "cell_type": "markdown",
     "metadata": {},
     "source": [
      "We now train our BPR matrix factorisation model using our training data. We can also define the number of iterations through the entire training data at this stage. The actual learning will be done through stochastic gradient descent over the training data, with randomly sampled batches of training data (uniform user sampling to make sure we don't skew the model towards very active users).\n",
      "\n",
      "For training, we recommend [using a GPU](http://deeplearning.net/software/theano/tutorial/using_gpu.html) or multithreaded [OpenBLAS](http://www.openblas.net/)."
     ]
    },
    {
     "cell_type": "code",
     "collapsed": false,
     "input": [
      "bpr.train(training_data, epochs=50)"
     ],
     "language": "python",
     "metadata": {},
     "outputs": [
      {
       "output_type": "stream",
       "stream": "stderr",
       "text": [
        "Generating 2495300 random training samples\n",
        "\r",
        "Processed 1000 ( 0.04% ) in 0.0142 seconds"
       ]
      },
      {
       "output_type": "stream",
       "stream": "stderr",
       "text": [
        "\r",
        "Processed 2000 ( 0.08% ) in 0.0365 seconds"
       ]
      },
      {
       "output_type": "stream",
       "stream": "stderr",
       "text": [
        "\r",
        "Processed 3000 ( 0.12% ) in 0.0190 seconds"
       ]
      },
      {
       "output_type": "stream",
       "stream": "stderr",
       "text": [
        "\r",
        "Processed 4000 ( 0.16% ) in 0.0186 seconds"
       ]
      },
      {
       "output_type": "stream",
       "stream": "stderr",
       "text": [
        "\r",
        "Processed 5000 ( 0.20% ) in 0.0173 seconds"
       ]
      },
      {
       "output_type": "stream",
       "stream": "stderr",
       "text": [
        "\r",
        "Processed 6000 ( 0.24% ) in 0.0198 seconds"
       ]
      },
      {
       "output_type": "stream",
       "stream": "stderr",
       "text": [
        "\r",
        "Processed 7000 ( 0.28% ) in 0.0149 seconds"
       ]
      },
      {
       "output_type": "stream",
       "stream": "stderr",
       "text": [
        "\r",
        "Processed 8000 ( 0.32% ) in 0.0198 seconds"
       ]
      },
      {
       "output_type": "stream",
       "stream": "stderr",
       "text": [
        "\r",
        "Processed 9000 ( 0.36% ) in 0.0187 seconds"
       ]
      },
      {
       "output_type": "stream",
       "stream": "stderr",
       "text": [
        "\r",
        "Processed 10000 ( 0.40% ) in 0.0181 seconds"
       ]
      },
      {
       "output_type": "stream",
       "stream": "stderr",
       "text": [
        "\r",
        "Processed 11000 ( 0.44% ) in 0.0185 seconds"
       ]
      },
      {
       "output_type": "stream",
       "stream": "stderr",
       "text": [
        "\r",
        "Processed 12000 ( 0.48% ) in 0.0175 seconds"
       ]
      },
      {
       "output_type": "stream",
       "stream": "stderr",
       "text": [
        "\r",
        "Processed 13000 ( 0.52% ) in 0.0177 seconds"
       ]
      },
      {
       "output_type": "stream",
       "stream": "stderr",
       "text": [
        "\r",
        "Processed 14000 ( 0.56% ) in 0.0193 seconds"
       ]
      },
      {
       "output_type": "stream",
       "stream": "stderr",
       "text": [
        "\r",
        "Processed 15000 ( 0.60% ) in 0.0191 seconds"
       ]
      },
      {
       "output_type": "stream",
       "stream": "stderr",
       "text": [
        "\r",
        "Processed 16000 ( 0.64% ) in 0.0193 seconds"
       ]
      },
      {
       "output_type": "stream",
       "stream": "stderr",
       "text": [
        "\r",
        "Processed 17000 ( 0.68% ) in 0.0193 seconds"
       ]
      },
      {
       "output_type": "stream",
       "stream": "stderr",
       "text": [
        "\r",
        "Processed 18000 ( 0.72% ) in 0.0188 seconds"
       ]
      },
      {
       "output_type": "stream",
       "stream": "stderr",
       "text": [
        "\r",
        "Processed 19000 ( 0.76% ) in 0.0208 seconds"
       ]
      },
      {
       "output_type": "stream",
       "stream": "stderr",
       "text": [
        "\r",
        "Processed 20000 ( 0.80% ) in 0.0210 seconds"
       ]
      },
      {
       "output_type": "stream",
       "stream": "stderr",
       "text": [
        "\r",
        "Processed 21000 ( 0.84% ) in 0.0190 seconds"
       ]
      },
      {
       "output_type": "stream",
       "stream": "stderr",
       "text": [
        "\r",
        "Processed 22000 ( 0.88% ) in 0.0193 seconds"
       ]
      },
      {
       "output_type": "stream",
       "stream": "stderr",
       "text": [
        "\r",
        "Processed 23000 ( 0.92% ) in 0.0187 seconds"
       ]
      },
      {
       "output_type": "stream",
       "stream": "stderr",
       "text": [
        "\r",
        "Processed 24000 ( 0.96% ) in 0.0184 seconds"
       ]
      },
      {
       "output_type": "stream",
       "stream": "stderr",
       "text": [
        "\r",
        "Processed 25000 ( 1.00% ) in 0.0192 seconds"
       ]
      },
      {
       "output_type": "stream",
       "stream": "stderr",
       "text": [
        "\r",
        "Processed 26000 ( 1.04% ) in 0.0180 seconds"
       ]
      },
      {
       "output_type": "stream",
       "stream": "stderr",
       "text": [
        "\r",
        "Processed 27000 ( 1.08% ) in 0.0198 seconds"
       ]
      },
      {
       "output_type": "stream",
       "stream": "stderr",
       "text": [
        "\r",
        "Processed 28000 ( 1.12% ) in 0.0184 seconds"
       ]
      },
      {
       "output_type": "stream",
       "stream": "stderr",
       "text": [
        "\r",
        "Processed 29000 ( 1.16% ) in 0.0186 seconds"
       ]
      },
      {
       "output_type": "stream",
       "stream": "stderr",
       "text": [
        "\r",
        "Processed 30000 ( 1.20% ) in 0.0181 seconds"
       ]
      },
      {
       "output_type": "stream",
       "stream": "stderr",
       "text": [
        "\r",
        "Processed 31000 ( 1.24% ) in 0.0186 seconds"
       ]
      },
      {
       "output_type": "stream",
       "stream": "stderr",
       "text": [
        "\r",
        "Processed 32000 ( 1.28% ) in 0.0187 seconds"
       ]
      },
      {
       "output_type": "stream",
       "stream": "stderr",
       "text": [
        "\r",
        "Processed 33000 ( 1.32% ) in 0.0166 seconds"
       ]
      },
      {
       "output_type": "stream",
       "stream": "stderr",
       "text": [
        "\r",
        "Processed 34000 ( 1.36% ) in 0.0188 seconds"
       ]
      },
      {
       "output_type": "stream",
       "stream": "stderr",
       "text": [
        "\r",
        "Processed 35000 ( 1.40% ) in 0.0214 seconds"
       ]
      },
      {
       "output_type": "stream",
       "stream": "stderr",
       "text": [
        "\r",
        "Processed 36000 ( 1.44% ) in 0.0191 seconds"
       ]
      },
      {
       "output_type": "stream",
       "stream": "stderr",
       "text": [
        "\r",
        "Processed 37000 ( 1.48% ) in 0.0176 seconds"
       ]
      },
      {
       "output_type": "stream",
       "stream": "stderr",
       "text": [
        "\r",
        "Processed 38000 ( 1.52% ) in 0.0187 seconds"
       ]
      },
      {
       "output_type": "stream",
       "stream": "stderr",
       "text": [
        "\r",
        "Processed 39000 ( 1.56% ) in 0.0512 seconds"
       ]
      },
      {
       "output_type": "stream",
       "stream": "stderr",
       "text": [
        "\r",
        "Processed 40000 ( 1.60% ) in 0.0190 seconds"
       ]
      },
      {
       "output_type": "stream",
       "stream": "stderr",
       "text": [
        "\r",
        "Processed 41000 ( 1.64% ) in 0.0188 seconds"
       ]
      },
      {
       "output_type": "stream",
       "stream": "stderr",
       "text": [
        "\r",
        "Processed 42000 ( 1.68% ) in 0.0196 seconds"
       ]
      },
      {
       "output_type": "stream",
       "stream": "stderr",
       "text": [
        "\r",
        "Processed 43000 ( 1.72% ) in 0.0182 seconds"
       ]
      },
      {
       "output_type": "stream",
       "stream": "stderr",
       "text": [
        "\r",
        "Processed 44000 ( 1.76% ) in 0.0172 seconds"
       ]
      },
      {
       "output_type": "stream",
       "stream": "stderr",
       "text": [
        "\r",
        "Processed 45000 ( 1.80% ) in 0.0187 seconds"
       ]
      },
      {
       "output_type": "stream",
       "stream": "stderr",
       "text": [
        "\r",
        "Processed 46000 ( 1.84% ) in 0.0174 seconds"
       ]
      },
      {
       "output_type": "stream",
       "stream": "stderr",
       "text": [
        "\r",
        "Processed 47000 ( 1.88% ) in 0.0189 seconds"
       ]
      },
      {
       "output_type": "stream",
       "stream": "stderr",
       "text": [
        "\r",
        "Processed 48000 ( 1.92% ) in 0.0202 seconds"
       ]
      },
      {
       "output_type": "stream",
       "stream": "stderr",
       "text": [
        "\r",
        "Processed 49000 ( 1.96% ) in 0.0195 seconds"
       ]
      },
      {
       "output_type": "stream",
       "stream": "stderr",
       "text": [
        "\r",
        "Processed 50000 ( 2.00% ) in 0.0177 seconds"
       ]
      },
      {
       "output_type": "stream",
       "stream": "stderr",
       "text": [
        "\r",
        "Processed 51000 ( 2.04% ) in 0.0192 seconds"
       ]
      },
      {
       "output_type": "stream",
       "stream": "stderr",
       "text": [
        "\r",
        "Processed 52000 ( 2.08% ) in 0.0205 seconds"
       ]
      },
      {
       "output_type": "stream",
       "stream": "stderr",
       "text": [
        "\r",
        "Processed 53000 ( 2.12% ) in 0.0194 seconds"
       ]
      },
      {
       "output_type": "stream",
       "stream": "stderr",
       "text": [
        "\r",
        "Processed 54000 ( 2.16% ) in 0.0189 seconds"
       ]
      },
      {
       "output_type": "stream",
       "stream": "stderr",
       "text": [
        "\r",
        "Processed 55000 ( 2.20% ) in 0.0198 seconds"
       ]
      },
      {
       "output_type": "stream",
       "stream": "stderr",
       "text": [
        "\r",
        "Processed 56000 ( 2.24% ) in 0.0192 seconds"
       ]
      },
      {
       "output_type": "stream",
       "stream": "stderr",
       "text": [
        "\r",
        "Processed 57000 ( 2.28% ) in 0.0208 seconds"
       ]
      },
      {
       "output_type": "stream",
       "stream": "stderr",
       "text": [
        "\r",
        "Processed 58000 ( 2.32% ) in 0.0208 seconds"
       ]
      },
      {
       "output_type": "stream",
       "stream": "stderr",
       "text": [
        "\r",
        "Processed 59000 ( 2.36% ) in 0.0205 seconds"
       ]
      },
      {
       "output_type": "stream",
       "stream": "stderr",
       "text": [
        "\r",
        "Processed 60000 ( 2.40% ) in 0.0195 seconds"
       ]
      },
      {
       "output_type": "stream",
       "stream": "stderr",
       "text": [
        "\r",
        "Processed 61000 ( 2.44% ) in 0.0258 seconds"
       ]
      },
      {
       "output_type": "stream",
       "stream": "stderr",
       "text": [
        "\r",
        "Processed 62000 ( 2.48% ) in 0.0214 seconds"
       ]
      },
      {
       "output_type": "stream",
       "stream": "stderr",
       "text": [
        "\r",
        "Processed 63000 ( 2.52% ) in 0.0234 seconds"
       ]
      },
      {
       "output_type": "stream",
       "stream": "stderr",
       "text": [
        "\r",
        "Processed 64000 ( 2.56% ) in 0.0210 seconds"
       ]
      },
      {
       "output_type": "stream",
       "stream": "stderr",
       "text": [
        "\r",
        "Processed 65000 ( 2.60% ) in 0.0196 seconds"
       ]
      },
      {
       "output_type": "stream",
       "stream": "stderr",
       "text": [
        "\r",
        "Processed 66000 ( 2.64% ) in 0.0179 seconds"
       ]
      },
      {
       "output_type": "stream",
       "stream": "stderr",
       "text": [
        "\r",
        "Processed 67000 ( 2.69% ) in 0.0184 seconds"
       ]
      },
      {
       "output_type": "stream",
       "stream": "stderr",
       "text": [
        "\r",
        "Processed 68000 ( 2.73% ) in 0.0201 seconds"
       ]
      },
      {
       "output_type": "stream",
       "stream": "stderr",
       "text": [
        "\r",
        "Processed 69000 ( 2.77% ) in 0.0190 seconds"
       ]
      },
      {
       "output_type": "stream",
       "stream": "stderr",
       "text": [
        "\r",
        "Processed 70000 ( 2.81% ) in 0.0385 seconds"
       ]
      },
      {
       "output_type": "stream",
       "stream": "stderr",
       "text": [
        "\r",
        "Processed 71000 ( 2.85% ) in 0.0215 seconds"
       ]
      },
      {
       "output_type": "stream",
       "stream": "stderr",
       "text": [
        "\r",
        "Processed 72000 ( 2.89% ) in 0.0374 seconds"
       ]
      },
      {
       "output_type": "stream",
       "stream": "stderr",
       "text": [
        "\r",
        "Processed 73000 ( 2.93% ) in 0.0226 seconds"
       ]
      },
      {
       "output_type": "stream",
       "stream": "stderr",
       "text": [
        "\r",
        "Processed 74000 ( 2.97% ) in 0.0199 seconds"
       ]
      },
      {
       "output_type": "stream",
       "stream": "stderr",
       "text": [
        "\r",
        "Processed 75000 ( 3.01% ) in 0.0213 seconds"
       ]
      },
      {
       "output_type": "stream",
       "stream": "stderr",
       "text": [
        "\r",
        "Processed 76000 ( 3.05% ) in 0.0197 seconds"
       ]
      },
      {
       "output_type": "stream",
       "stream": "stderr",
       "text": [
        "\r",
        "Processed 77000 ( 3.09% ) in 0.0188 seconds"
       ]
      },
      {
       "output_type": "stream",
       "stream": "stderr",
       "text": [
        "\r",
        "Processed 78000 ( 3.13% ) in 0.0206 seconds"
       ]
      },
      {
       "output_type": "stream",
       "stream": "stderr",
       "text": [
        "\r",
        "Processed 79000 ( 3.17% ) in 0.0193 seconds"
       ]
      },
      {
       "output_type": "stream",
       "stream": "stderr",
       "text": [
        "\r",
        "Processed 80000 ( 3.21% ) in 0.0201 seconds"
       ]
      },
      {
       "output_type": "stream",
       "stream": "stderr",
       "text": [
        "\r",
        "Processed 81000 ( 3.25% ) in 0.0189 seconds"
       ]
      },
      {
       "output_type": "stream",
       "stream": "stderr",
       "text": [
        "\r",
        "Processed 82000 ( 3.29% ) in 0.0190 seconds"
       ]
      },
      {
       "output_type": "stream",
       "stream": "stderr",
       "text": [
        "\r",
        "Processed 83000 ( 3.33% ) in 0.0203 seconds"
       ]
      },
      {
       "output_type": "stream",
       "stream": "stderr",
       "text": [
        "\r",
        "Processed 84000 ( 3.37% ) in 0.0192 seconds"
       ]
      },
      {
       "output_type": "stream",
       "stream": "stderr",
       "text": [
        "\r",
        "Processed 85000 ( 3.41% ) in 0.0190 seconds"
       ]
      },
      {
       "output_type": "stream",
       "stream": "stderr",
       "text": [
        "\r",
        "Processed 86000 ( 3.45% ) in 0.0197 seconds"
       ]
      },
      {
       "output_type": "stream",
       "stream": "stderr",
       "text": [
        "\r",
        "Processed 87000 ( 3.49% ) in 0.0184 seconds"
       ]
      },
      {
       "output_type": "stream",
       "stream": "stderr",
       "text": [
        "\r",
        "Processed 88000 ( 3.53% ) in 0.0199 seconds"
       ]
      },
      {
       "output_type": "stream",
       "stream": "stderr",
       "text": [
        "\r",
        "Processed 89000 ( 3.57% ) in 0.0186 seconds"
       ]
      },
      {
       "output_type": "stream",
       "stream": "stderr",
       "text": [
        "\r",
        "Processed 90000 ( 3.61% ) in 0.0198 seconds"
       ]
      },
      {
       "output_type": "stream",
       "stream": "stderr",
       "text": [
        "\r",
        "Processed 91000 ( 3.65% ) in 0.0207 seconds"
       ]
      },
      {
       "output_type": "stream",
       "stream": "stderr",
       "text": [
        "\r",
        "Processed 92000 ( 3.69% ) in 0.0184 seconds"
       ]
      },
      {
       "output_type": "stream",
       "stream": "stderr",
       "text": [
        "\r",
        "Processed 93000 ( 3.73% ) in 0.0191 seconds"
       ]
      },
      {
       "output_type": "stream",
       "stream": "stderr",
       "text": [
        "\r",
        "Processed 94000 ( 3.77% ) in 0.0182 seconds"
       ]
      },
      {
       "output_type": "stream",
       "stream": "stderr",
       "text": [
        "\r",
        "Processed 95000 ( 3.81% ) in 0.0184 seconds"
       ]
      },
      {
       "output_type": "stream",
       "stream": "stderr",
       "text": [
        "\r",
        "Processed 96000 ( 3.85% ) in 0.0183 seconds"
       ]
      },
      {
       "output_type": "stream",
       "stream": "stderr",
       "text": [
        "\r",
        "Processed 97000 ( 3.89% ) in 0.0192 seconds"
       ]
      },
      {
       "output_type": "stream",
       "stream": "stderr",
       "text": [
        "\r",
        "Processed 98000 ( 3.93% ) in 0.0184 seconds"
       ]
      },
      {
       "output_type": "stream",
       "stream": "stderr",
       "text": [
        "\r",
        "Processed 99000 ( 3.97% ) in 0.0201 seconds"
       ]
      },
      {
       "output_type": "stream",
       "stream": "stderr",
       "text": [
        "\r",
        "Processed 100000 ( 4.01% ) in 0.0194 seconds"
       ]
      },
      {
       "output_type": "stream",
       "stream": "stderr",
       "text": [
        "\r",
        "Processed 101000 ( 4.05% ) in 0.0185 seconds"
       ]
      },
      {
       "output_type": "stream",
       "stream": "stderr",
       "text": [
        "\r",
        "Processed 102000 ( 4.09% ) in 0.0171 seconds"
       ]
      },
      {
       "output_type": "stream",
       "stream": "stderr",
       "text": [
        "\r",
        "Processed 103000 ( 4.13% ) in 0.0186 seconds"
       ]
      },
      {
       "output_type": "stream",
       "stream": "stderr",
       "text": [
        "\r",
        "Processed 104000 ( 4.17% ) in 0.0202 seconds"
       ]
      },
      {
       "output_type": "stream",
       "stream": "stderr",
       "text": [
        "\r",
        "Processed 105000 ( 4.21% ) in 0.0195 seconds"
       ]
      },
      {
       "output_type": "stream",
       "stream": "stderr",
       "text": [
        "\r",
        "Processed 106000 ( 4.25% ) in 0.0200 seconds"
       ]
      },
      {
       "output_type": "stream",
       "stream": "stderr",
       "text": [
        "\r",
        "Processed 107000 ( 4.29% ) in 0.0199 seconds"
       ]
      },
      {
       "output_type": "stream",
       "stream": "stderr",
       "text": [
        "\r",
        "Processed 108000 ( 4.33% ) in 0.0177 seconds"
       ]
      },
      {
       "output_type": "stream",
       "stream": "stderr",
       "text": [
        "\r",
        "Processed 109000 ( 4.37% ) in 0.0178 seconds"
       ]
      },
      {
       "output_type": "stream",
       "stream": "stderr",
       "text": [
        "\r",
        "Processed 110000 ( 4.41% ) in 0.0177 seconds"
       ]
      },
      {
       "output_type": "stream",
       "stream": "stderr",
       "text": [
        "\r",
        "Processed 111000 ( 4.45% ) in 0.0181 seconds"
       ]
      },
      {
       "output_type": "stream",
       "stream": "stderr",
       "text": [
        "\r",
        "Processed 112000 ( 4.49% ) in 0.0179 seconds"
       ]
      },
      {
       "output_type": "stream",
       "stream": "stderr",
       "text": [
        "\r",
        "Processed 113000 ( 4.53% ) in 0.0173 seconds"
       ]
      },
      {
       "output_type": "stream",
       "stream": "stderr",
       "text": [
        "\r",
        "Processed 114000 ( 4.57% ) in 0.0168 seconds"
       ]
      },
      {
       "output_type": "stream",
       "stream": "stderr",
       "text": [
        "\r",
        "Processed 115000 ( 4.61% ) in 0.0187 seconds"
       ]
      },
      {
       "output_type": "stream",
       "stream": "stderr",
       "text": [
        "\r",
        "Processed 116000 ( 4.65% ) in 0.0196 seconds"
       ]
      },
      {
       "output_type": "stream",
       "stream": "stderr",
       "text": [
        "\r",
        "Processed 117000 ( 4.69% ) in 0.0184 seconds"
       ]
      },
      {
       "output_type": "stream",
       "stream": "stderr",
       "text": [
        "\r",
        "Processed 118000 ( 4.73% ) in 0.0184 seconds"
       ]
      },
      {
       "output_type": "stream",
       "stream": "stderr",
       "text": [
        "\r",
        "Processed 119000 ( 4.77% ) in 0.0185 seconds"
       ]
      },
      {
       "output_type": "stream",
       "stream": "stderr",
       "text": [
        "\r",
        "Processed 120000 ( 4.81% ) in 0.0194 seconds"
       ]
      },
      {
       "output_type": "stream",
       "stream": "stderr",
       "text": [
        "\r",
        "Processed 121000 ( 4.85% ) in 0.0200 seconds"
       ]
      },
      {
       "output_type": "stream",
       "stream": "stderr",
       "text": [
        "\r",
        "Processed 122000 ( 4.89% ) in 0.0182 seconds"
       ]
      },
      {
       "output_type": "stream",
       "stream": "stderr",
       "text": [
        "\r",
        "Processed 123000 ( 4.93% ) in 0.0175 seconds"
       ]
      },
      {
       "output_type": "stream",
       "stream": "stderr",
       "text": [
        "\r",
        "Processed 124000 ( 4.97% ) in 0.0189 seconds"
       ]
      },
      {
       "output_type": "stream",
       "stream": "stderr",
       "text": [
        "\r",
        "Processed 125000 ( 5.01% ) in 0.0182 seconds"
       ]
      },
      {
       "output_type": "stream",
       "stream": "stderr",
       "text": [
        "\r",
        "Processed 126000 ( 5.05% ) in 0.0202 seconds"
       ]
      },
      {
       "output_type": "stream",
       "stream": "stderr",
       "text": [
        "\r",
        "Processed 127000 ( 5.09% ) in 0.0189 seconds"
       ]
      },
      {
       "output_type": "stream",
       "stream": "stderr",
       "text": [
        "\r",
        "Processed 128000 ( 5.13% ) in 0.0180 seconds"
       ]
      },
      {
       "output_type": "stream",
       "stream": "stderr",
       "text": [
        "\r",
        "Processed 129000 ( 5.17% ) in 0.0192 seconds"
       ]
      },
      {
       "output_type": "stream",
       "stream": "stderr",
       "text": [
        "\r",
        "Processed 130000 ( 5.21% ) in 0.0177 seconds"
       ]
      },
      {
       "output_type": "stream",
       "stream": "stderr",
       "text": [
        "\r",
        "Processed 131000 ( 5.25% ) in 0.0196 seconds"
       ]
      },
      {
       "output_type": "stream",
       "stream": "stderr",
       "text": [
        "\r",
        "Processed 132000 ( 5.29% ) in 0.0188 seconds"
       ]
      },
      {
       "output_type": "stream",
       "stream": "stderr",
       "text": [
        "\r",
        "Processed 133000 ( 5.33% ) in 0.0193 seconds"
       ]
      },
      {
       "output_type": "stream",
       "stream": "stderr",
       "text": [
        "\r",
        "Processed 134000 ( 5.37% ) in 0.0164 seconds"
       ]
      },
      {
       "output_type": "stream",
       "stream": "stderr",
       "text": [
        "\r",
        "Processed 135000 ( 5.41% ) in 0.0197 seconds"
       ]
      },
      {
       "output_type": "stream",
       "stream": "stderr",
       "text": [
        "\r",
        "Processed 136000 ( 5.45% ) in 0.0185 seconds"
       ]
      },
      {
       "output_type": "stream",
       "stream": "stderr",
       "text": [
        "\r",
        "Processed 137000 ( 5.49% ) in 0.0179 seconds"
       ]
      },
      {
       "output_type": "stream",
       "stream": "stderr",
       "text": [
        "\r",
        "Processed 138000 ( 5.53% ) in 0.0181 seconds"
       ]
      },
      {
       "output_type": "stream",
       "stream": "stderr",
       "text": [
        "\r",
        "Processed 139000 ( 5.57% ) in 0.0181 seconds"
       ]
      },
      {
       "output_type": "stream",
       "stream": "stderr",
       "text": [
        "\r",
        "Processed 140000 ( 5.61% ) in 0.0196 seconds"
       ]
      },
      {
       "output_type": "stream",
       "stream": "stderr",
       "text": [
        "\r",
        "Processed 141000 ( 5.65% ) in 0.0203 seconds"
       ]
      },
      {
       "output_type": "stream",
       "stream": "stderr",
       "text": [
        "\r",
        "Processed 142000 ( 5.69% ) in 0.0202 seconds"
       ]
      },
      {
       "output_type": "stream",
       "stream": "stderr",
       "text": [
        "\r",
        "Processed 143000 ( 5.73% ) in 0.0197 seconds"
       ]
      },
      {
       "output_type": "stream",
       "stream": "stderr",
       "text": [
        "\r",
        "Processed 144000 ( 5.77% ) in 0.0187 seconds"
       ]
      },
      {
       "output_type": "stream",
       "stream": "stderr",
       "text": [
        "\r",
        "Processed 145000 ( 5.81% ) in 0.0176 seconds"
       ]
      },
      {
       "output_type": "stream",
       "stream": "stderr",
       "text": [
        "\r",
        "Processed 146000 ( 5.85% ) in 0.0182 seconds"
       ]
      },
      {
       "output_type": "stream",
       "stream": "stderr",
       "text": [
        "\r",
        "Processed 147000 ( 5.89% ) in 0.0180 seconds"
       ]
      },
      {
       "output_type": "stream",
       "stream": "stderr",
       "text": [
        "\r",
        "Processed 148000 ( 5.93% ) in 0.0170 seconds"
       ]
      },
      {
       "output_type": "stream",
       "stream": "stderr",
       "text": [
        "\r",
        "Processed 149000 ( 5.97% ) in 0.0186 seconds"
       ]
      },
      {
       "output_type": "stream",
       "stream": "stderr",
       "text": [
        "\r",
        "Processed 150000 ( 6.01% ) in 0.0197 seconds"
       ]
      },
      {
       "output_type": "stream",
       "stream": "stderr",
       "text": [
        "\r",
        "Processed 151000 ( 6.05% ) in 0.0185 seconds"
       ]
      },
      {
       "output_type": "stream",
       "stream": "stderr",
       "text": [
        "\r",
        "Processed 152000 ( 6.09% ) in 0.0193 seconds"
       ]
      },
      {
       "output_type": "stream",
       "stream": "stderr",
       "text": [
        "\r",
        "Processed 153000 ( 6.13% ) in 0.0188 seconds"
       ]
      },
      {
       "output_type": "stream",
       "stream": "stderr",
       "text": [
        "\r",
        "Processed 154000 ( 6.17% ) in 0.0176 seconds"
       ]
      },
      {
       "output_type": "stream",
       "stream": "stderr",
       "text": [
        "\r",
        "Processed 155000 ( 6.21% ) in 0.0173 seconds"
       ]
      },
      {
       "output_type": "stream",
       "stream": "stderr",
       "text": [
        "\r",
        "Processed 156000 ( 6.25% ) in 0.0180 seconds"
       ]
      },
      {
       "output_type": "stream",
       "stream": "stderr",
       "text": [
        "\r",
        "Processed 157000 ( 6.29% ) in 0.0182 seconds"
       ]
      },
      {
       "output_type": "stream",
       "stream": "stderr",
       "text": [
        "\r",
        "Processed 158000 ( 6.33% ) in 0.0206 seconds"
       ]
      },
      {
       "output_type": "stream",
       "stream": "stderr",
       "text": [
        "\r",
        "Processed 159000 ( 6.37% ) in 0.0212 seconds"
       ]
      },
      {
       "output_type": "stream",
       "stream": "stderr",
       "text": [
        "\r",
        "Processed 160000 ( 6.41% ) in 0.0199 seconds"
       ]
      },
      {
       "output_type": "stream",
       "stream": "stderr",
       "text": [
        "\r",
        "Processed 161000 ( 6.45% ) in 0.0188 seconds"
       ]
      },
      {
       "output_type": "stream",
       "stream": "stderr",
       "text": [
        "\r",
        "Processed 162000 ( 6.49% ) in 0.0168 seconds"
       ]
      },
      {
       "output_type": "stream",
       "stream": "stderr",
       "text": [
        "\r",
        "Processed 163000 ( 6.53% ) in 0.0180 seconds"
       ]
      },
      {
       "output_type": "stream",
       "stream": "stderr",
       "text": [
        "\r",
        "Processed 164000 ( 6.57% ) in 0.0184 seconds"
       ]
      },
      {
       "output_type": "stream",
       "stream": "stderr",
       "text": [
        "\r",
        "Processed 165000 ( 6.61% ) in 0.0188 seconds"
       ]
      },
      {
       "output_type": "stream",
       "stream": "stderr",
       "text": [
        "\r",
        "Processed 166000 ( 6.65% ) in 0.0208 seconds"
       ]
      },
      {
       "output_type": "stream",
       "stream": "stderr",
       "text": [
        "\r",
        "Processed 167000 ( 6.69% ) in 0.0201 seconds"
       ]
      },
      {
       "output_type": "stream",
       "stream": "stderr",
       "text": [
        "\r",
        "Processed 168000 ( 6.73% ) in 0.0189 seconds"
       ]
      },
      {
       "output_type": "stream",
       "stream": "stderr",
       "text": [
        "\r",
        "Processed 169000 ( 6.77% ) in 0.0186 seconds"
       ]
      },
      {
       "output_type": "stream",
       "stream": "stderr",
       "text": [
        "\r",
        "Processed 170000 ( 6.81% ) in 0.0186 seconds"
       ]
      },
      {
       "output_type": "stream",
       "stream": "stderr",
       "text": [
        "\r",
        "Processed 171000 ( 6.85% ) in 0.0190 seconds"
       ]
      },
      {
       "output_type": "stream",
       "stream": "stderr",
       "text": [
        "\r",
        "Processed 172000 ( 6.89% ) in 0.0197 seconds"
       ]
      },
      {
       "output_type": "stream",
       "stream": "stderr",
       "text": [
        "\r",
        "Processed 173000 ( 6.93% ) in 0.0209 seconds"
       ]
      },
      {
       "output_type": "stream",
       "stream": "stderr",
       "text": [
        "\r",
        "Processed 174000 ( 6.97% ) in 0.0204 seconds"
       ]
      },
      {
       "output_type": "stream",
       "stream": "stderr",
       "text": [
        "\r",
        "Processed 175000 ( 7.01% ) in 0.0206 seconds"
       ]
      },
      {
       "output_type": "stream",
       "stream": "stderr",
       "text": [
        "\r",
        "Processed 176000 ( 7.05% ) in 0.0238 seconds"
       ]
      },
      {
       "output_type": "stream",
       "stream": "stderr",
       "text": [
        "\r",
        "Processed 177000 ( 7.09% ) in 0.0189 seconds"
       ]
      },
      {
       "output_type": "stream",
       "stream": "stderr",
       "text": [
        "\r",
        "Processed 178000 ( 7.13% ) in 0.0179 seconds"
       ]
      },
      {
       "output_type": "stream",
       "stream": "stderr",
       "text": [
        "\r",
        "Processed 179000 ( 7.17% ) in 0.0189 seconds"
       ]
      },
      {
       "output_type": "stream",
       "stream": "stderr",
       "text": [
        "\r",
        "Processed 180000 ( 7.21% ) in 0.0201 seconds"
       ]
      },
      {
       "output_type": "stream",
       "stream": "stderr",
       "text": [
        "\r",
        "Processed 181000 ( 7.25% ) in 0.0191 seconds"
       ]
      },
      {
       "output_type": "stream",
       "stream": "stderr",
       "text": [
        "\r",
        "Processed 182000 ( 7.29% ) in 0.0202 seconds"
       ]
      },
      {
       "output_type": "stream",
       "stream": "stderr",
       "text": [
        "\r",
        "Processed 183000 ( 7.33% ) in 0.0202 seconds"
       ]
      },
      {
       "output_type": "stream",
       "stream": "stderr",
       "text": [
        "\r",
        "Processed 184000 ( 7.37% ) in 0.0200 seconds"
       ]
      },
      {
       "output_type": "stream",
       "stream": "stderr",
       "text": [
        "\r",
        "Processed 185000 ( 7.41% ) in 0.0204 seconds"
       ]
      },
      {
       "output_type": "stream",
       "stream": "stderr",
       "text": [
        "\r",
        "Processed 186000 ( 7.45% ) in 0.0202 seconds"
       ]
      },
      {
       "output_type": "stream",
       "stream": "stderr",
       "text": [
        "\r",
        "Processed 187000 ( 7.49% ) in 0.0188 seconds"
       ]
      },
      {
       "output_type": "stream",
       "stream": "stderr",
       "text": [
        "\r",
        "Processed 188000 ( 7.53% ) in 0.0208 seconds"
       ]
      },
      {
       "output_type": "stream",
       "stream": "stderr",
       "text": [
        "\r",
        "Processed 189000 ( 7.57% ) in 0.0204 seconds"
       ]
      },
      {
       "output_type": "stream",
       "stream": "stderr",
       "text": [
        "\r",
        "Processed 190000 ( 7.61% ) in 0.0203 seconds"
       ]
      },
      {
       "output_type": "stream",
       "stream": "stderr",
       "text": [
        "\r",
        "Processed 191000 ( 7.65% ) in 0.0200 seconds"
       ]
      },
      {
       "output_type": "stream",
       "stream": "stderr",
       "text": [
        "\r",
        "Processed 192000 ( 7.69% ) in 0.0187 seconds"
       ]
      },
      {
       "output_type": "stream",
       "stream": "stderr",
       "text": [
        "\r",
        "Processed 193000 ( 7.73% ) in 0.0200 seconds"
       ]
      },
      {
       "output_type": "stream",
       "stream": "stderr",
       "text": [
        "\r",
        "Processed 194000 ( 7.77% ) in 0.0214 seconds"
       ]
      },
      {
       "output_type": "stream",
       "stream": "stderr",
       "text": [
        "\r",
        "Processed 195000 ( 7.81% ) in 0.0213 seconds"
       ]
      },
      {
       "output_type": "stream",
       "stream": "stderr",
       "text": [
        "\r",
        "Processed 196000 ( 7.85% ) in 0.0187 seconds"
       ]
      },
      {
       "output_type": "stream",
       "stream": "stderr",
       "text": [
        "\r",
        "Processed 197000 ( 7.89% ) in 0.0188 seconds"
       ]
      },
      {
       "output_type": "stream",
       "stream": "stderr",
       "text": [
        "\r",
        "Processed 198000 ( 7.93% ) in 0.0227 seconds"
       ]
      },
      {
       "output_type": "stream",
       "stream": "stderr",
       "text": [
        "\r",
        "Processed 199000 ( 7.97% ) in 0.0175 seconds"
       ]
      },
      {
       "output_type": "stream",
       "stream": "stderr",
       "text": [
        "\r",
        "Processed 200000 ( 8.02% ) in 0.0195 seconds"
       ]
      },
      {
       "output_type": "stream",
       "stream": "stderr",
       "text": [
        "\r",
        "Processed 201000 ( 8.06% ) in 0.0181 seconds"
       ]
      },
      {
       "output_type": "stream",
       "stream": "stderr",
       "text": [
        "\r",
        "Processed 202000 ( 8.10% ) in 0.0172 seconds"
       ]
      },
      {
       "output_type": "stream",
       "stream": "stderr",
       "text": [
        "\r",
        "Processed 203000 ( 8.14% ) in 0.0186 seconds"
       ]
      },
      {
       "output_type": "stream",
       "stream": "stderr",
       "text": [
        "\r",
        "Processed 204000 ( 8.18% ) in 0.0187 seconds"
       ]
      },
      {
       "output_type": "stream",
       "stream": "stderr",
       "text": [
        "\r",
        "Processed 205000 ( 8.22% ) in 0.0200 seconds"
       ]
      },
      {
       "output_type": "stream",
       "stream": "stderr",
       "text": [
        "\r",
        "Processed 206000 ( 8.26% ) in 0.0195 seconds"
       ]
      },
      {
       "output_type": "stream",
       "stream": "stderr",
       "text": [
        "\r",
        "Processed 207000 ( 8.30% ) in 0.0204 seconds"
       ]
      },
      {
       "output_type": "stream",
       "stream": "stderr",
       "text": [
        "\r",
        "Processed 208000 ( 8.34% ) in 0.0191 seconds"
       ]
      },
      {
       "output_type": "stream",
       "stream": "stderr",
       "text": [
        "\r",
        "Processed 209000 ( 8.38% ) in 0.0177 seconds"
       ]
      },
      {
       "output_type": "stream",
       "stream": "stderr",
       "text": [
        "\r",
        "Processed 210000 ( 8.42% ) in 0.0181 seconds"
       ]
      },
      {
       "output_type": "stream",
       "stream": "stderr",
       "text": [
        "\r",
        "Processed 211000 ( 8.46% ) in 0.0180 seconds"
       ]
      },
      {
       "output_type": "stream",
       "stream": "stderr",
       "text": [
        "\r",
        "Processed 212000 ( 8.50% ) in 0.0161 seconds"
       ]
      },
      {
       "output_type": "stream",
       "stream": "stderr",
       "text": [
        "\r",
        "Processed 213000 ( 8.54% ) in 0.0172 seconds"
       ]
      },
      {
       "output_type": "stream",
       "stream": "stderr",
       "text": [
        "\r",
        "Processed 214000 ( 8.58% ) in 0.0183 seconds"
       ]
      },
      {
       "output_type": "stream",
       "stream": "stderr",
       "text": [
        "\r",
        "Processed 215000 ( 8.62% ) in 0.0160 seconds"
       ]
      },
      {
       "output_type": "stream",
       "stream": "stderr",
       "text": [
        "\r",
        "Processed 216000 ( 8.66% ) in 0.0182 seconds"
       ]
      },
      {
       "output_type": "stream",
       "stream": "stderr",
       "text": [
        "\r",
        "Processed 217000 ( 8.70% ) in 0.0154 seconds"
       ]
      },
      {
       "output_type": "stream",
       "stream": "stderr",
       "text": [
        "\r",
        "Processed 218000 ( 8.74% ) in 0.0412 seconds"
       ]
      },
      {
       "output_type": "stream",
       "stream": "stderr",
       "text": [
        "\r",
        "Processed 219000 ( 8.78% ) in 0.0173 seconds"
       ]
      },
      {
       "output_type": "stream",
       "stream": "stderr",
       "text": [
        "\r",
        "Processed 220000 ( 8.82% ) in 0.0185 seconds"
       ]
      },
      {
       "output_type": "stream",
       "stream": "stderr",
       "text": [
        "\r",
        "Processed 221000 ( 8.86% ) in 0.0234 seconds"
       ]
      },
      {
       "output_type": "stream",
       "stream": "stderr",
       "text": [
        "\r",
        "Processed 222000 ( 8.90% ) in 0.0171 seconds"
       ]
      },
      {
       "output_type": "stream",
       "stream": "stderr",
       "text": [
        "\r",
        "Processed 223000 ( 8.94% ) in 0.0188 seconds"
       ]
      },
      {
       "output_type": "stream",
       "stream": "stderr",
       "text": [
        "\r",
        "Processed 224000 ( 8.98% ) in 0.0199 seconds"
       ]
      },
      {
       "output_type": "stream",
       "stream": "stderr",
       "text": [
        "\r",
        "Processed 225000 ( 9.02% ) in 0.0405 seconds"
       ]
      },
      {
       "output_type": "stream",
       "stream": "stderr",
       "text": [
        "\r",
        "Processed 226000 ( 9.06% ) in 0.0259 seconds"
       ]
      },
      {
       "output_type": "stream",
       "stream": "stderr",
       "text": [
        "\r",
        "Processed 227000 ( 9.10% ) in 0.0334 seconds"
       ]
      },
      {
       "output_type": "stream",
       "stream": "stderr",
       "text": [
        "\r",
        "Processed 228000 ( 9.14% ) in 0.0230 seconds"
       ]
      },
      {
       "output_type": "stream",
       "stream": "stderr",
       "text": [
        "\r",
        "Processed 229000 ( 9.18% ) in 0.0260 seconds"
       ]
      },
      {
       "output_type": "stream",
       "stream": "stderr",
       "text": [
        "\r",
        "Processed 230000 ( 9.22% ) in 0.0362 seconds"
       ]
      },
      {
       "output_type": "stream",
       "stream": "stderr",
       "text": [
        "\r",
        "Processed 231000 ( 9.26% ) in 0.0374 seconds"
       ]
      },
      {
       "output_type": "stream",
       "stream": "stderr",
       "text": [
        "\r",
        "Processed 232000 ( 9.30% ) in 0.0204 seconds"
       ]
      },
      {
       "output_type": "stream",
       "stream": "stderr",
       "text": [
        "\r",
        "Processed 233000 ( 9.34% ) in 0.0187 seconds"
       ]
      },
      {
       "output_type": "stream",
       "stream": "stderr",
       "text": [
        "\r",
        "Processed 234000 ( 9.38% ) in 0.0197 seconds"
       ]
      },
      {
       "output_type": "stream",
       "stream": "stderr",
       "text": [
        "\r",
        "Processed 235000 ( 9.42% ) in 0.0201 seconds"
       ]
      },
      {
       "output_type": "stream",
       "stream": "stderr",
       "text": [
        "\r",
        "Processed 236000 ( 9.46% ) in 0.0178 seconds"
       ]
      },
      {
       "output_type": "stream",
       "stream": "stderr",
       "text": [
        "\r",
        "Processed 237000 ( 9.50% ) in 0.0183 seconds"
       ]
      },
      {
       "output_type": "stream",
       "stream": "stderr",
       "text": [
        "\r",
        "Processed 238000 ( 9.54% ) in 0.0188 seconds"
       ]
      },
      {
       "output_type": "stream",
       "stream": "stderr",
       "text": [
        "\r",
        "Processed 239000 ( 9.58% ) in 0.0212 seconds"
       ]
      },
      {
       "output_type": "stream",
       "stream": "stderr",
       "text": [
        "\r",
        "Processed 240000 ( 9.62% ) in 0.0193 seconds"
       ]
      },
      {
       "output_type": "stream",
       "stream": "stderr",
       "text": [
        "\r",
        "Processed 241000 ( 9.66% ) in 0.0233 seconds"
       ]
      },
      {
       "output_type": "stream",
       "stream": "stderr",
       "text": [
        "\r",
        "Processed 242000 ( 9.70% ) in 0.0345 seconds"
       ]
      },
      {
       "output_type": "stream",
       "stream": "stderr",
       "text": [
        "\r",
        "Processed 243000 ( 9.74% ) in 0.0192 seconds"
       ]
      },
      {
       "output_type": "stream",
       "stream": "stderr",
       "text": [
        "\r",
        "Processed 244000 ( 9.78% ) in 0.0186 seconds"
       ]
      },
      {
       "output_type": "stream",
       "stream": "stderr",
       "text": [
        "\r",
        "Processed 245000 ( 9.82% ) in 0.0188 seconds"
       ]
      },
      {
       "output_type": "stream",
       "stream": "stderr",
       "text": [
        "\r",
        "Processed 246000 ( 9.86% ) in 0.0213 seconds"
       ]
      },
      {
       "output_type": "stream",
       "stream": "stderr",
       "text": [
        "\r",
        "Processed 247000 ( 9.90% ) in 0.0168 seconds"
       ]
      },
      {
       "output_type": "stream",
       "stream": "stderr",
       "text": [
        "\r",
        "Processed 248000 ( 9.94% ) in 0.0163 seconds"
       ]
      },
      {
       "output_type": "stream",
       "stream": "stderr",
       "text": [
        "\r",
        "Processed 249000 ( 9.98% ) in 0.0172 seconds"
       ]
      },
      {
       "output_type": "stream",
       "stream": "stderr",
       "text": [
        "\r",
        "Processed 250000 ( 10.02% ) in 0.0199 seconds"
       ]
      },
      {
       "output_type": "stream",
       "stream": "stderr",
       "text": [
        "\r",
        "Processed 251000 ( 10.06% ) in 0.0187 seconds"
       ]
      },
      {
       "output_type": "stream",
       "stream": "stderr",
       "text": [
        "\r",
        "Processed 252000 ( 10.10% ) in 0.0196 seconds"
       ]
      },
      {
       "output_type": "stream",
       "stream": "stderr",
       "text": [
        "\r",
        "Processed 253000 ( 10.14% ) in 0.0184 seconds"
       ]
      },
      {
       "output_type": "stream",
       "stream": "stderr",
       "text": [
        "\r",
        "Processed 254000 ( 10.18% ) in 0.0185 seconds"
       ]
      },
      {
       "output_type": "stream",
       "stream": "stderr",
       "text": [
        "\r",
        "Processed 255000 ( 10.22% ) in 0.0162 seconds"
       ]
      },
      {
       "output_type": "stream",
       "stream": "stderr",
       "text": [
        "\r",
        "Processed 256000 ( 10.26% ) in 0.0173 seconds"
       ]
      },
      {
       "output_type": "stream",
       "stream": "stderr",
       "text": [
        "\r",
        "Processed 257000 ( 10.30% ) in 0.0191 seconds"
       ]
      },
      {
       "output_type": "stream",
       "stream": "stderr",
       "text": [
        "\r",
        "Processed 258000 ( 10.34% ) in 0.0205 seconds"
       ]
      },
      {
       "output_type": "stream",
       "stream": "stderr",
       "text": [
        "\r",
        "Processed 259000 ( 10.38% ) in 0.0190 seconds"
       ]
      },
      {
       "output_type": "stream",
       "stream": "stderr",
       "text": [
        "\r",
        "Processed 260000 ( 10.42% ) in 0.0184 seconds"
       ]
      },
      {
       "output_type": "stream",
       "stream": "stderr",
       "text": [
        "\r",
        "Processed 261000 ( 10.46% ) in 0.0206 seconds"
       ]
      },
      {
       "output_type": "stream",
       "stream": "stderr",
       "text": [
        "\r",
        "Processed 262000 ( 10.50% ) in 0.0188 seconds"
       ]
      },
      {
       "output_type": "stream",
       "stream": "stderr",
       "text": [
        "\r",
        "Processed 263000 ( 10.54% ) in 0.0191 seconds"
       ]
      },
      {
       "output_type": "stream",
       "stream": "stderr",
       "text": [
        "\r",
        "Processed 264000 ( 10.58% ) in 0.0216 seconds"
       ]
      },
      {
       "output_type": "stream",
       "stream": "stderr",
       "text": [
        "\r",
        "Processed 265000 ( 10.62% ) in 0.0183 seconds"
       ]
      },
      {
       "output_type": "stream",
       "stream": "stderr",
       "text": [
        "\r",
        "Processed 266000 ( 10.66% ) in 0.0208 seconds"
       ]
      },
      {
       "output_type": "stream",
       "stream": "stderr",
       "text": [
        "\r",
        "Processed 267000 ( 10.70% ) in 0.0200 seconds"
       ]
      },
      {
       "output_type": "stream",
       "stream": "stderr",
       "text": [
        "\r",
        "Processed 268000 ( 10.74% ) in 0.0302 seconds"
       ]
      },
      {
       "output_type": "stream",
       "stream": "stderr",
       "text": [
        "\r",
        "Processed 269000 ( 10.78% ) in 0.0223 seconds"
       ]
      },
      {
       "output_type": "stream",
       "stream": "stderr",
       "text": [
        "\r",
        "Processed 270000 ( 10.82% ) in 0.0304 seconds"
       ]
      },
      {
       "output_type": "stream",
       "stream": "stderr",
       "text": [
        "\r",
        "Processed 271000 ( 10.86% ) in 0.0173 seconds"
       ]
      },
      {
       "output_type": "stream",
       "stream": "stderr",
       "text": [
        "\r",
        "Processed 272000 ( 10.90% ) in 0.0207 seconds"
       ]
      },
      {
       "output_type": "stream",
       "stream": "stderr",
       "text": [
        "\r",
        "Processed 273000 ( 10.94% ) in 0.0182 seconds"
       ]
      },
      {
       "output_type": "stream",
       "stream": "stderr",
       "text": [
        "\r",
        "Processed 274000 ( 10.98% ) in 0.0175 seconds"
       ]
      },
      {
       "output_type": "stream",
       "stream": "stderr",
       "text": [
        "\r",
        "Processed 275000 ( 11.02% ) in 0.0191 seconds"
       ]
      },
      {
       "output_type": "stream",
       "stream": "stderr",
       "text": [
        "\r",
        "Processed 276000 ( 11.06% ) in 0.0176 seconds"
       ]
      },
      {
       "output_type": "stream",
       "stream": "stderr",
       "text": [
        "\r",
        "Processed 277000 ( 11.10% ) in 0.0195 seconds"
       ]
      },
      {
       "output_type": "stream",
       "stream": "stderr",
       "text": [
        "\r",
        "Processed 278000 ( 11.14% ) in 0.0188 seconds"
       ]
      },
      {
       "output_type": "stream",
       "stream": "stderr",
       "text": [
        "\r",
        "Processed 279000 ( 11.18% ) in 0.0198 seconds"
       ]
      },
      {
       "output_type": "stream",
       "stream": "stderr",
       "text": [
        "\r",
        "Processed 280000 ( 11.22% ) in 0.0188 seconds"
       ]
      },
      {
       "output_type": "stream",
       "stream": "stderr",
       "text": [
        "\r",
        "Processed 281000 ( 11.26% ) in 0.0210 seconds"
       ]
      },
      {
       "output_type": "stream",
       "stream": "stderr",
       "text": [
        "\r",
        "Processed 282000 ( 11.30% ) in 0.0225 seconds"
       ]
      },
      {
       "output_type": "stream",
       "stream": "stderr",
       "text": [
        "\r",
        "Processed 283000 ( 11.34% ) in 0.0271 seconds"
       ]
      },
      {
       "output_type": "stream",
       "stream": "stderr",
       "text": [
        "\r",
        "Processed 284000 ( 11.38% ) in 0.0209 seconds"
       ]
      },
      {
       "output_type": "stream",
       "stream": "stderr",
       "text": [
        "\r",
        "Processed 285000 ( 11.42% ) in 0.0190 seconds"
       ]
      },
      {
       "output_type": "stream",
       "stream": "stderr",
       "text": [
        "\r",
        "Processed 286000 ( 11.46% ) in 0.0205 seconds"
       ]
      },
      {
       "output_type": "stream",
       "stream": "stderr",
       "text": [
        "\r",
        "Processed 287000 ( 11.50% ) in 0.0204 seconds"
       ]
      },
      {
       "output_type": "stream",
       "stream": "stderr",
       "text": [
        "\r",
        "Processed 288000 ( 11.54% ) in 0.0208 seconds"
       ]
      },
      {
       "output_type": "stream",
       "stream": "stderr",
       "text": [
        "\r",
        "Processed 289000 ( 11.58% ) in 0.0190 seconds"
       ]
      },
      {
       "output_type": "stream",
       "stream": "stderr",
       "text": [
        "\r",
        "Processed 290000 ( 11.62% ) in 0.0210 seconds"
       ]
      },
      {
       "output_type": "stream",
       "stream": "stderr",
       "text": [
        "\r",
        "Processed 291000 ( 11.66% ) in 0.0220 seconds"
       ]
      },
      {
       "output_type": "stream",
       "stream": "stderr",
       "text": [
        "\r",
        "Processed 292000 ( 11.70% ) in 0.0275 seconds"
       ]
      },
      {
       "output_type": "stream",
       "stream": "stderr",
       "text": [
        "\r",
        "Processed 293000 ( 11.74% ) in 0.0219 seconds"
       ]
      },
      {
       "output_type": "stream",
       "stream": "stderr",
       "text": [
        "\r",
        "Processed 294000 ( 11.78% ) in 0.0295 seconds"
       ]
      },
      {
       "output_type": "stream",
       "stream": "stderr",
       "text": [
        "\r",
        "Processed 295000 ( 11.82% ) in 0.0252 seconds"
       ]
      },
      {
       "output_type": "stream",
       "stream": "stderr",
       "text": [
        "\r",
        "Processed 296000 ( 11.86% ) in 0.0238 seconds"
       ]
      },
      {
       "output_type": "stream",
       "stream": "stderr",
       "text": [
        "\r",
        "Processed 297000 ( 11.90% ) in 0.0204 seconds"
       ]
      },
      {
       "output_type": "stream",
       "stream": "stderr",
       "text": [
        "\r",
        "Processed 298000 ( 11.94% ) in 0.0170 seconds"
       ]
      },
      {
       "output_type": "stream",
       "stream": "stderr",
       "text": [
        "\r",
        "Processed 299000 ( 11.98% ) in 0.0190 seconds"
       ]
      },
      {
       "output_type": "stream",
       "stream": "stderr",
       "text": [
        "\r",
        "Processed 300000 ( 12.02% ) in 0.0172 seconds"
       ]
      },
      {
       "output_type": "stream",
       "stream": "stderr",
       "text": [
        "\r",
        "Processed 301000 ( 12.06% ) in 0.0186 seconds"
       ]
      },
      {
       "output_type": "stream",
       "stream": "stderr",
       "text": [
        "\r",
        "Processed 302000 ( 12.10% ) in 0.0206 seconds"
       ]
      },
      {
       "output_type": "stream",
       "stream": "stderr",
       "text": [
        "\r",
        "Processed 303000 ( 12.14% ) in 0.0184 seconds"
       ]
      },
      {
       "output_type": "stream",
       "stream": "stderr",
       "text": [
        "\r",
        "Processed 304000 ( 12.18% ) in 0.0192 seconds"
       ]
      },
      {
       "output_type": "stream",
       "stream": "stderr",
       "text": [
        "\r",
        "Processed 305000 ( 12.22% ) in 0.0191 seconds"
       ]
      },
      {
       "output_type": "stream",
       "stream": "stderr",
       "text": [
        "\r",
        "Processed 306000 ( 12.26% ) in 0.0191 seconds"
       ]
      },
      {
       "output_type": "stream",
       "stream": "stderr",
       "text": [
        "\r",
        "Processed 307000 ( 12.30% ) in 0.0195 seconds"
       ]
      },
      {
       "output_type": "stream",
       "stream": "stderr",
       "text": [
        "\r",
        "Processed 308000 ( 12.34% ) in 0.0203 seconds"
       ]
      },
      {
       "output_type": "stream",
       "stream": "stderr",
       "text": [
        "\r",
        "Processed 309000 ( 12.38% ) in 0.0613 seconds"
       ]
      },
      {
       "output_type": "stream",
       "stream": "stderr",
       "text": [
        "\r",
        "Processed 310000 ( 12.42% ) in 0.0374 seconds"
       ]
      },
      {
       "output_type": "stream",
       "stream": "stderr",
       "text": [
        "\r",
        "Processed 311000 ( 12.46% ) in 0.0347 seconds"
       ]
      },
      {
       "output_type": "stream",
       "stream": "stderr",
       "text": [
        "\r",
        "Processed 312000 ( 12.50% ) in 0.0293 seconds"
       ]
      },
      {
       "output_type": "stream",
       "stream": "stderr",
       "text": [
        "\r",
        "Processed 313000 ( 12.54% ) in 0.0267 seconds"
       ]
      },
      {
       "output_type": "stream",
       "stream": "stderr",
       "text": [
        "\r",
        "Processed 314000 ( 12.58% ) in 0.0236 seconds"
       ]
      },
      {
       "output_type": "stream",
       "stream": "stderr",
       "text": [
        "\r",
        "Processed 315000 ( 12.62% ) in 0.0443 seconds"
       ]
      },
      {
       "output_type": "stream",
       "stream": "stderr",
       "text": [
        "\r",
        "Processed 316000 ( 12.66% ) in 0.0370 seconds"
       ]
      },
      {
       "output_type": "stream",
       "stream": "stderr",
       "text": [
        "\r",
        "Processed 317000 ( 12.70% ) in 0.0363 seconds"
       ]
      },
      {
       "output_type": "stream",
       "stream": "stderr",
       "text": [
        "\r",
        "Processed 318000 ( 12.74% ) in 0.0212 seconds"
       ]
      },
      {
       "output_type": "stream",
       "stream": "stderr",
       "text": [
        "\r",
        "Processed 319000 ( 12.78% ) in 0.0325 seconds"
       ]
      },
      {
       "output_type": "stream",
       "stream": "stderr",
       "text": [
        "\r",
        "Processed 320000 ( 12.82% ) in 0.0247 seconds"
       ]
      },
      {
       "output_type": "stream",
       "stream": "stderr",
       "text": [
        "\r",
        "Processed 321000 ( 12.86% ) in 0.0442 seconds"
       ]
      },
      {
       "output_type": "stream",
       "stream": "stderr",
       "text": [
        "\r",
        "Processed 322000 ( 12.90% ) in 0.0229 seconds"
       ]
      },
      {
       "output_type": "stream",
       "stream": "stderr",
       "text": [
        "\r",
        "Processed 323000 ( 12.94% ) in 0.0159 seconds"
       ]
      },
      {
       "output_type": "stream",
       "stream": "stderr",
       "text": [
        "\r",
        "Processed 324000 ( 12.98% ) in 0.0156 seconds"
       ]
      },
      {
       "output_type": "stream",
       "stream": "stderr",
       "text": [
        "\r",
        "Processed 325000 ( 13.02% ) in 0.0156 seconds"
       ]
      },
      {
       "output_type": "stream",
       "stream": "stderr",
       "text": [
        "\r",
        "Processed 326000 ( 13.06% ) in 0.0155 seconds"
       ]
      },
      {
       "output_type": "stream",
       "stream": "stderr",
       "text": [
        "\r",
        "Processed 327000 ( 13.10% ) in 0.0156 seconds"
       ]
      },
      {
       "output_type": "stream",
       "stream": "stderr",
       "text": [
        "\r",
        "Processed 328000 ( 13.14% ) in 0.0156 seconds"
       ]
      },
      {
       "output_type": "stream",
       "stream": "stderr",
       "text": [
        "\r",
        "Processed 329000 ( 13.18% ) in 0.0158 seconds"
       ]
      },
      {
       "output_type": "stream",
       "stream": "stderr",
       "text": [
        "\r",
        "Processed 330000 ( 13.22% ) in 0.0156 seconds"
       ]
      },
      {
       "output_type": "stream",
       "stream": "stderr",
       "text": [
        "\r",
        "Processed 331000 ( 13.26% ) in 0.0157 seconds"
       ]
      },
      {
       "output_type": "stream",
       "stream": "stderr",
       "text": [
        "\r",
        "Processed 332000 ( 13.31% ) in 0.0272 seconds"
       ]
      },
      {
       "output_type": "stream",
       "stream": "stderr",
       "text": [
        "\r",
        "Processed 333000 ( 13.35% ) in 0.0150 seconds"
       ]
      },
      {
       "output_type": "stream",
       "stream": "stderr",
       "text": [
        "\r",
        "Processed 334000 ( 13.39% ) in 0.0148 seconds"
       ]
      },
      {
       "output_type": "stream",
       "stream": "stderr",
       "text": [
        "\r",
        "Processed 335000 ( 13.43% ) in 0.0151 seconds"
       ]
      },
      {
       "output_type": "stream",
       "stream": "stderr",
       "text": [
        "\r",
        "Processed 336000 ( 13.47% ) in 0.0150 seconds"
       ]
      },
      {
       "output_type": "stream",
       "stream": "stderr",
       "text": [
        "\r",
        "Processed 337000 ( 13.51% ) in 0.0150 seconds"
       ]
      },
      {
       "output_type": "stream",
       "stream": "stderr",
       "text": [
        "\r",
        "Processed 338000 ( 13.55% ) in 0.0150 seconds"
       ]
      },
      {
       "output_type": "stream",
       "stream": "stderr",
       "text": [
        "\r",
        "Processed 339000 ( 13.59% ) in 0.0152 seconds"
       ]
      },
      {
       "output_type": "stream",
       "stream": "stderr",
       "text": [
        "\r",
        "Processed 340000 ( 13.63% ) in 0.0150 seconds"
       ]
      },
      {
       "output_type": "stream",
       "stream": "stderr",
       "text": [
        "\r",
        "Processed 341000 ( 13.67% ) in 0.0148 seconds"
       ]
      },
      {
       "output_type": "stream",
       "stream": "stderr",
       "text": [
        "\r",
        "Processed 342000 ( 13.71% ) in 0.0197 seconds"
       ]
      },
      {
       "output_type": "stream",
       "stream": "stderr",
       "text": [
        "\r",
        "Processed 343000 ( 13.75% ) in 0.0150 seconds"
       ]
      },
      {
       "output_type": "stream",
       "stream": "stderr",
       "text": [
        "\r",
        "Processed 344000 ( 13.79% ) in 0.0150 seconds"
       ]
      },
      {
       "output_type": "stream",
       "stream": "stderr",
       "text": [
        "\r",
        "Processed 345000 ( 13.83% ) in 0.0151 seconds"
       ]
      },
      {
       "output_type": "stream",
       "stream": "stderr",
       "text": [
        "\r",
        "Processed 346000 ( 13.87% ) in 0.0150 seconds"
       ]
      },
      {
       "output_type": "stream",
       "stream": "stderr",
       "text": [
        "\r",
        "Processed 347000 ( 13.91% ) in 0.0151 seconds"
       ]
      },
      {
       "output_type": "stream",
       "stream": "stderr",
       "text": [
        "\r",
        "Processed 348000 ( 13.95% ) in 0.0150 seconds"
       ]
      },
      {
       "output_type": "stream",
       "stream": "stderr",
       "text": [
        "\r",
        "Processed 349000 ( 13.99% ) in 0.0150 seconds"
       ]
      },
      {
       "output_type": "stream",
       "stream": "stderr",
       "text": [
        "\r",
        "Processed 350000 ( 14.03% ) in 0.0150 seconds"
       ]
      },
      {
       "output_type": "stream",
       "stream": "stderr",
       "text": [
        "\r",
        "Processed 351000 ( 14.07% ) in 0.0273 seconds"
       ]
      },
      {
       "output_type": "stream",
       "stream": "stderr",
       "text": [
        "\r",
        "Processed 352000 ( 14.11% ) in 0.0153 seconds"
       ]
      },
      {
       "output_type": "stream",
       "stream": "stderr",
       "text": [
        "\r",
        "Processed 353000 ( 14.15% ) in 0.0151 seconds"
       ]
      },
      {
       "output_type": "stream",
       "stream": "stderr",
       "text": [
        "\r",
        "Processed 354000 ( 14.19% ) in 0.0152 seconds"
       ]
      },
      {
       "output_type": "stream",
       "stream": "stderr",
       "text": [
        "\r",
        "Processed 355000 ( 14.23% ) in 0.0413 seconds"
       ]
      },
      {
       "output_type": "stream",
       "stream": "stderr",
       "text": [
        "\r",
        "Processed 356000 ( 14.27% ) in 0.0181 seconds"
       ]
      },
      {
       "output_type": "stream",
       "stream": "stderr",
       "text": [
        "\r",
        "Processed 357000 ( 14.31% ) in 0.0150 seconds"
       ]
      },
      {
       "output_type": "stream",
       "stream": "stderr",
       "text": [
        "\r",
        "Processed 358000 ( 14.35% ) in 0.0152 seconds"
       ]
      },
      {
       "output_type": "stream",
       "stream": "stderr",
       "text": [
        "\r",
        "Processed 359000 ( 14.39% ) in 0.0151 seconds"
       ]
      },
      {
       "output_type": "stream",
       "stream": "stderr",
       "text": [
        "\r",
        "Processed 360000 ( 14.43% ) in 0.0150 seconds"
       ]
      },
      {
       "output_type": "stream",
       "stream": "stderr",
       "text": [
        "\r",
        "Processed 361000 ( 14.47% ) in 0.0149 seconds"
       ]
      },
      {
       "output_type": "stream",
       "stream": "stderr",
       "text": [
        "\r",
        "Processed 362000 ( 14.51% ) in 0.0150 seconds"
       ]
      },
      {
       "output_type": "stream",
       "stream": "stderr",
       "text": [
        "\r",
        "Processed 363000 ( 14.55% ) in 0.0154 seconds"
       ]
      },
      {
       "output_type": "stream",
       "stream": "stderr",
       "text": [
        "\r",
        "Processed 364000 ( 14.59% ) in 0.0150 seconds"
       ]
      },
      {
       "output_type": "stream",
       "stream": "stderr",
       "text": [
        "\r",
        "Processed 365000 ( 14.63% ) in 0.0152 seconds"
       ]
      },
      {
       "output_type": "stream",
       "stream": "stderr",
       "text": [
        "\r",
        "Processed 366000 ( 14.67% ) in 0.0149 seconds"
       ]
      },
      {
       "output_type": "stream",
       "stream": "stderr",
       "text": [
        "\r",
        "Processed 367000 ( 14.71% ) in 0.0166 seconds"
       ]
      },
      {
       "output_type": "stream",
       "stream": "stderr",
       "text": [
        "\r",
        "Processed 368000 ( 14.75% ) in 0.0417 seconds"
       ]
      },
      {
       "output_type": "stream",
       "stream": "stderr",
       "text": [
        "\r",
        "Processed 369000 ( 14.79% ) in 0.0381 seconds"
       ]
      },
      {
       "output_type": "stream",
       "stream": "stderr",
       "text": [
        "\r",
        "Processed 370000 ( 14.83% ) in 0.0394 seconds"
       ]
      },
      {
       "output_type": "stream",
       "stream": "stderr",
       "text": [
        "\r",
        "Processed 371000 ( 14.87% ) in 0.0330 seconds"
       ]
      },
      {
       "output_type": "stream",
       "stream": "stderr",
       "text": [
        "\r",
        "Processed 372000 ( 14.91% ) in 0.0213 seconds"
       ]
      },
      {
       "output_type": "stream",
       "stream": "stderr",
       "text": [
        "\r",
        "Processed 373000 ( 14.95% ) in 0.0239 seconds"
       ]
      },
      {
       "output_type": "stream",
       "stream": "stderr",
       "text": [
        "\r",
        "Processed 374000 ( 14.99% ) in 0.0172 seconds"
       ]
      },
      {
       "output_type": "stream",
       "stream": "stderr",
       "text": [
        "\r",
        "Processed 375000 ( 15.03% ) in 0.0162 seconds"
       ]
      },
      {
       "output_type": "stream",
       "stream": "stderr",
       "text": [
        "\r",
        "Processed 376000 ( 15.07% ) in 0.0151 seconds"
       ]
      },
      {
       "output_type": "stream",
       "stream": "stderr",
       "text": [
        "\r",
        "Processed 377000 ( 15.11% ) in 0.0150 seconds"
       ]
      },
      {
       "output_type": "stream",
       "stream": "stderr",
       "text": [
        "\r",
        "Processed 378000 ( 15.15% ) in 0.0151 seconds"
       ]
      },
      {
       "output_type": "stream",
       "stream": "stderr",
       "text": [
        "\r",
        "Processed 379000 ( 15.19% ) in 0.0154 seconds"
       ]
      },
      {
       "output_type": "stream",
       "stream": "stderr",
       "text": [
        "\r",
        "Processed 380000 ( 15.23% ) in 0.0151 seconds"
       ]
      },
      {
       "output_type": "stream",
       "stream": "stderr",
       "text": [
        "\r",
        "Processed 381000 ( 15.27% ) in 0.0151 seconds"
       ]
      },
      {
       "output_type": "stream",
       "stream": "stderr",
       "text": [
        "\r",
        "Processed 382000 ( 15.31% ) in 0.0150 seconds"
       ]
      },
      {
       "output_type": "stream",
       "stream": "stderr",
       "text": [
        "\r",
        "Processed 383000 ( 15.35% ) in 0.0149 seconds"
       ]
      },
      {
       "output_type": "stream",
       "stream": "stderr",
       "text": [
        "\r",
        "Processed 384000 ( 15.39% ) in 0.0150 seconds"
       ]
      },
      {
       "output_type": "stream",
       "stream": "stderr",
       "text": [
        "\r",
        "Processed 385000 ( 15.43% ) in 0.0150 seconds"
       ]
      },
      {
       "output_type": "stream",
       "stream": "stderr",
       "text": [
        "\r",
        "Processed 386000 ( 15.47% ) in 0.0155 seconds"
       ]
      },
      {
       "output_type": "stream",
       "stream": "stderr",
       "text": [
        "\r",
        "Processed 387000 ( 15.51% ) in 0.0157 seconds"
       ]
      },
      {
       "output_type": "stream",
       "stream": "stderr",
       "text": [
        "\r",
        "Processed 388000 ( 15.55% ) in 0.0163 seconds"
       ]
      },
      {
       "output_type": "stream",
       "stream": "stderr",
       "text": [
        "\r",
        "Processed 389000 ( 15.59% ) in 0.0152 seconds"
       ]
      },
      {
       "output_type": "stream",
       "stream": "stderr",
       "text": [
        "\r",
        "Processed 390000 ( 15.63% ) in 0.0151 seconds"
       ]
      },
      {
       "output_type": "stream",
       "stream": "stderr",
       "text": [
        "\r",
        "Processed 391000 ( 15.67% ) in 0.0152 seconds"
       ]
      },
      {
       "output_type": "stream",
       "stream": "stderr",
       "text": [
        "\r",
        "Processed 392000 ( 15.71% ) in 0.0278 seconds"
       ]
      },
      {
       "output_type": "stream",
       "stream": "stderr",
       "text": [
        "\r",
        "Processed 393000 ( 15.75% ) in 0.0153 seconds"
       ]
      },
      {
       "output_type": "stream",
       "stream": "stderr",
       "text": [
        "\r",
        "Processed 394000 ( 15.79% ) in 0.0151 seconds"
       ]
      },
      {
       "output_type": "stream",
       "stream": "stderr",
       "text": [
        "\r",
        "Processed 395000 ( 15.83% ) in 0.0150 seconds"
       ]
      },
      {
       "output_type": "stream",
       "stream": "stderr",
       "text": [
        "\r",
        "Processed 396000 ( 15.87% ) in 0.0202 seconds"
       ]
      },
      {
       "output_type": "stream",
       "stream": "stderr",
       "text": [
        "\r",
        "Processed 397000 ( 15.91% ) in 0.0169 seconds"
       ]
      },
      {
       "output_type": "stream",
       "stream": "stderr",
       "text": [
        "\r",
        "Processed 398000 ( 15.95% ) in 0.0170 seconds"
       ]
      },
      {
       "output_type": "stream",
       "stream": "stderr",
       "text": [
        "\r",
        "Processed 399000 ( 15.99% ) in 0.0154 seconds"
       ]
      },
      {
       "output_type": "stream",
       "stream": "stderr",
       "text": [
        "\r",
        "Processed 400000 ( 16.03% ) in 0.0158 seconds"
       ]
      },
      {
       "output_type": "stream",
       "stream": "stderr",
       "text": [
        "\r",
        "Processed 401000 ( 16.07% ) in 0.0167 seconds"
       ]
      },
      {
       "output_type": "stream",
       "stream": "stderr",
       "text": [
        "\r",
        "Processed 402000 ( 16.11% ) in 0.0159 seconds"
       ]
      },
      {
       "output_type": "stream",
       "stream": "stderr",
       "text": [
        "\r",
        "Processed 403000 ( 16.15% ) in 0.0159 seconds"
       ]
      },
      {
       "output_type": "stream",
       "stream": "stderr",
       "text": [
        "\r",
        "Processed 404000 ( 16.19% ) in 0.0161 seconds"
       ]
      },
      {
       "output_type": "stream",
       "stream": "stderr",
       "text": [
        "\r",
        "Processed 405000 ( 16.23% ) in 0.0158 seconds"
       ]
      },
      {
       "output_type": "stream",
       "stream": "stderr",
       "text": [
        "\r",
        "Processed 406000 ( 16.27% ) in 0.0163 seconds"
       ]
      },
      {
       "output_type": "stream",
       "stream": "stderr",
       "text": [
        "\r",
        "Processed 407000 ( 16.31% ) in 0.0157 seconds"
       ]
      },
      {
       "output_type": "stream",
       "stream": "stderr",
       "text": [
        "\r",
        "Processed 408000 ( 16.35% ) in 0.0151 seconds"
       ]
      },
      {
       "output_type": "stream",
       "stream": "stderr",
       "text": [
        "\r",
        "Processed 409000 ( 16.39% ) in 0.0240 seconds"
       ]
      },
      {
       "output_type": "stream",
       "stream": "stderr",
       "text": [
        "\r",
        "Processed 410000 ( 16.43% ) in 0.0156 seconds"
       ]
      },
      {
       "output_type": "stream",
       "stream": "stderr",
       "text": [
        "\r",
        "Processed 411000 ( 16.47% ) in 0.0154 seconds"
       ]
      },
      {
       "output_type": "stream",
       "stream": "stderr",
       "text": [
        "\r",
        "Processed 412000 ( 16.51% ) in 0.0155 seconds"
       ]
      },
      {
       "output_type": "stream",
       "stream": "stderr",
       "text": [
        "\r",
        "Processed 413000 ( 16.55% ) in 0.0153 seconds"
       ]
      },
      {
       "output_type": "stream",
       "stream": "stderr",
       "text": [
        "\r",
        "Processed 414000 ( 16.59% ) in 0.0156 seconds"
       ]
      },
      {
       "output_type": "stream",
       "stream": "stderr",
       "text": [
        "\r",
        "Processed 415000 ( 16.63% ) in 0.0154 seconds"
       ]
      },
      {
       "output_type": "stream",
       "stream": "stderr",
       "text": [
        "\r",
        "Processed 416000 ( 16.67% ) in 0.0156 seconds"
       ]
      },
      {
       "output_type": "stream",
       "stream": "stderr",
       "text": [
        "\r",
        "Processed 417000 ( 16.71% ) in 0.0153 seconds"
       ]
      },
      {
       "output_type": "stream",
       "stream": "stderr",
       "text": [
        "\r",
        "Processed 418000 ( 16.75% ) in 0.0155 seconds"
       ]
      },
      {
       "output_type": "stream",
       "stream": "stderr",
       "text": [
        "\r",
        "Processed 419000 ( 16.79% ) in 0.0155 seconds"
       ]
      },
      {
       "output_type": "stream",
       "stream": "stderr",
       "text": [
        "\r",
        "Processed 420000 ( 16.83% ) in 0.0155 seconds"
       ]
      },
      {
       "output_type": "stream",
       "stream": "stderr",
       "text": [
        "\r",
        "Processed 421000 ( 16.87% ) in 0.0154 seconds"
       ]
      },
      {
       "output_type": "stream",
       "stream": "stderr",
       "text": [
        "\r",
        "Processed 422000 ( 16.91% ) in 0.0183 seconds"
       ]
      },
      {
       "output_type": "stream",
       "stream": "stderr",
       "text": [
        "\r",
        "Processed 423000 ( 16.95% ) in 0.0353 seconds"
       ]
      },
      {
       "output_type": "stream",
       "stream": "stderr",
       "text": [
        "\r",
        "Processed 424000 ( 16.99% ) in 0.0305 seconds"
       ]
      },
      {
       "output_type": "stream",
       "stream": "stderr",
       "text": [
        "\r",
        "Processed 425000 ( 17.03% ) in 0.0287 seconds"
       ]
      },
      {
       "output_type": "stream",
       "stream": "stderr",
       "text": [
        "\r",
        "Processed 426000 ( 17.07% ) in 0.0200 seconds"
       ]
      },
      {
       "output_type": "stream",
       "stream": "stderr",
       "text": [
        "\r",
        "Processed 427000 ( 17.11% ) in 0.0201 seconds"
       ]
      },
      {
       "output_type": "stream",
       "stream": "stderr",
       "text": [
        "\r",
        "Processed 428000 ( 17.15% ) in 0.0194 seconds"
       ]
      },
      {
       "output_type": "stream",
       "stream": "stderr",
       "text": [
        "\r",
        "Processed 429000 ( 17.19% ) in 0.0198 seconds"
       ]
      },
      {
       "output_type": "stream",
       "stream": "stderr",
       "text": [
        "\r",
        "Processed 430000 ( 17.23% ) in 0.0213 seconds"
       ]
      },
      {
       "output_type": "stream",
       "stream": "stderr",
       "text": [
        "\r",
        "Processed 431000 ( 17.27% ) in 0.0262 seconds"
       ]
      },
      {
       "output_type": "stream",
       "stream": "stderr",
       "text": [
        "\r",
        "Processed 432000 ( 17.31% ) in 0.0165 seconds"
       ]
      },
      {
       "output_type": "stream",
       "stream": "stderr",
       "text": [
        "\r",
        "Processed 433000 ( 17.35% ) in 0.0159 seconds"
       ]
      },
      {
       "output_type": "stream",
       "stream": "stderr",
       "text": [
        "\r",
        "Processed 434000 ( 17.39% ) in 0.0162 seconds"
       ]
      },
      {
       "output_type": "stream",
       "stream": "stderr",
       "text": [
        "\r",
        "Processed 435000 ( 17.43% ) in 0.0163 seconds"
       ]
      },
      {
       "output_type": "stream",
       "stream": "stderr",
       "text": [
        "\r",
        "Processed 436000 ( 17.47% ) in 0.0157 seconds"
       ]
      },
      {
       "output_type": "stream",
       "stream": "stderr",
       "text": [
        "\r",
        "Processed 437000 ( 17.51% ) in 0.0161 seconds"
       ]
      },
      {
       "output_type": "stream",
       "stream": "stderr",
       "text": [
        "\r",
        "Processed 438000 ( 17.55% ) in 0.0162 seconds"
       ]
      },
      {
       "output_type": "stream",
       "stream": "stderr",
       "text": [
        "\r",
        "Processed 439000 ( 17.59% ) in 0.0160 seconds"
       ]
      },
      {
       "output_type": "stream",
       "stream": "stderr",
       "text": [
        "\r",
        "Processed 440000 ( 17.63% ) in 0.0163 seconds"
       ]
      },
      {
       "output_type": "stream",
       "stream": "stderr",
       "text": [
        "\r",
        "Processed 441000 ( 17.67% ) in 0.0194 seconds"
       ]
      },
      {
       "output_type": "stream",
       "stream": "stderr",
       "text": [
        "\r",
        "Processed 442000 ( 17.71% ) in 0.0163 seconds"
       ]
      },
      {
       "output_type": "stream",
       "stream": "stderr",
       "text": [
        "\r",
        "Processed 443000 ( 17.75% ) in 0.0157 seconds"
       ]
      },
      {
       "output_type": "stream",
       "stream": "stderr",
       "text": [
        "\r",
        "Processed 444000 ( 17.79% ) in 0.0160 seconds"
       ]
      },
      {
       "output_type": "stream",
       "stream": "stderr",
       "text": [
        "\r",
        "Processed 445000 ( 17.83% ) in 0.0162 seconds"
       ]
      },
      {
       "output_type": "stream",
       "stream": "stderr",
       "text": [
        "\r",
        "Processed 446000 ( 17.87% ) in 0.0160 seconds"
       ]
      },
      {
       "output_type": "stream",
       "stream": "stderr",
       "text": [
        "\r",
        "Processed 447000 ( 17.91% ) in 0.0163 seconds"
       ]
      },
      {
       "output_type": "stream",
       "stream": "stderr",
       "text": [
        "\r",
        "Processed 448000 ( 17.95% ) in 0.0162 seconds"
       ]
      },
      {
       "output_type": "stream",
       "stream": "stderr",
       "text": [
        "\r",
        "Processed 449000 ( 17.99% ) in 0.0220 seconds"
       ]
      },
      {
       "output_type": "stream",
       "stream": "stderr",
       "text": [
        "\r",
        "Processed 450000 ( 18.03% ) in 0.0295 seconds"
       ]
      },
      {
       "output_type": "stream",
       "stream": "stderr",
       "text": [
        "\r",
        "Processed 451000 ( 18.07% ) in 0.0213 seconds"
       ]
      },
      {
       "output_type": "stream",
       "stream": "stderr",
       "text": [
        "\r",
        "Processed 452000 ( 18.11% ) in 0.0352 seconds"
       ]
      },
      {
       "output_type": "stream",
       "stream": "stderr",
       "text": [
        "\r",
        "Processed 453000 ( 18.15% ) in 0.0299 seconds"
       ]
      },
      {
       "output_type": "stream",
       "stream": "stderr",
       "text": [
        "\r",
        "Processed 454000 ( 18.19% ) in 0.0177 seconds"
       ]
      },
      {
       "output_type": "stream",
       "stream": "stderr",
       "text": [
        "\r",
        "Processed 455000 ( 18.23% ) in 0.0160 seconds"
       ]
      },
      {
       "output_type": "stream",
       "stream": "stderr",
       "text": [
        "\r",
        "Processed 456000 ( 18.27% ) in 0.0163 seconds"
       ]
      },
      {
       "output_type": "stream",
       "stream": "stderr",
       "text": [
        "\r",
        "Processed 457000 ( 18.31% ) in 0.0162 seconds"
       ]
      },
      {
       "output_type": "stream",
       "stream": "stderr",
       "text": [
        "\r",
        "Processed 458000 ( 18.35% ) in 0.0162 seconds"
       ]
      },
      {
       "output_type": "stream",
       "stream": "stderr",
       "text": [
        "\r",
        "Processed 459000 ( 18.39% ) in 0.0160 seconds"
       ]
      },
      {
       "output_type": "stream",
       "stream": "stderr",
       "text": [
        "\r",
        "Processed 460000 ( 18.43% ) in 0.0164 seconds"
       ]
      },
      {
       "output_type": "stream",
       "stream": "stderr",
       "text": [
        "\r",
        "Processed 461000 ( 18.47% ) in 0.0162 seconds"
       ]
      },
      {
       "output_type": "stream",
       "stream": "stderr",
       "text": [
        "\r",
        "Processed 462000 ( 18.51% ) in 0.0161 seconds"
       ]
      },
      {
       "output_type": "stream",
       "stream": "stderr",
       "text": [
        "\r",
        "Processed 463000 ( 18.55% ) in 0.0161 seconds"
       ]
      },
      {
       "output_type": "stream",
       "stream": "stderr",
       "text": [
        "\r",
        "Processed 464000 ( 18.59% ) in 0.0168 seconds"
       ]
      },
      {
       "output_type": "stream",
       "stream": "stderr",
       "text": [
        "\r",
        "Processed 465000 ( 18.64% ) in 0.0164 seconds"
       ]
      },
      {
       "output_type": "stream",
       "stream": "stderr",
       "text": [
        "\r",
        "Processed 466000 ( 18.68% ) in 0.0164 seconds"
       ]
      },
      {
       "output_type": "stream",
       "stream": "stderr",
       "text": [
        "\r",
        "Processed 467000 ( 18.72% ) in 0.0167 seconds"
       ]
      },
      {
       "output_type": "stream",
       "stream": "stderr",
       "text": [
        "\r",
        "Processed 468000 ( 18.76% ) in 0.0159 seconds"
       ]
      },
      {
       "output_type": "stream",
       "stream": "stderr",
       "text": [
        "\r",
        "Processed 469000 ( 18.80% ) in 0.0161 seconds"
       ]
      },
      {
       "output_type": "stream",
       "stream": "stderr",
       "text": [
        "\r",
        "Processed 470000 ( 18.84% ) in 0.0162 seconds"
       ]
      },
      {
       "output_type": "stream",
       "stream": "stderr",
       "text": [
        "\r",
        "Processed 471000 ( 18.88% ) in 0.0165 seconds"
       ]
      },
      {
       "output_type": "stream",
       "stream": "stderr",
       "text": [
        "\r",
        "Processed 472000 ( 18.92% ) in 0.0162 seconds"
       ]
      },
      {
       "output_type": "stream",
       "stream": "stderr",
       "text": [
        "\r",
        "Processed 473000 ( 18.96% ) in 0.0161 seconds"
       ]
      },
      {
       "output_type": "stream",
       "stream": "stderr",
       "text": [
        "\r",
        "Processed 474000 ( 19.00% ) in 0.0210 seconds"
       ]
      },
      {
       "output_type": "stream",
       "stream": "stderr",
       "text": [
        "\r",
        "Processed 475000 ( 19.04% ) in 0.0159 seconds"
       ]
      },
      {
       "output_type": "stream",
       "stream": "stderr",
       "text": [
        "\r",
        "Processed 476000 ( 19.08% ) in 0.0396 seconds"
       ]
      },
      {
       "output_type": "stream",
       "stream": "stderr",
       "text": [
        "\r",
        "Processed 477000 ( 19.12% ) in 0.0393 seconds"
       ]
      },
      {
       "output_type": "stream",
       "stream": "stderr",
       "text": [
        "\r",
        "Processed 478000 ( 19.16% ) in 0.0154 seconds"
       ]
      },
      {
       "output_type": "stream",
       "stream": "stderr",
       "text": [
        "\r",
        "Processed 479000 ( 19.20% ) in 0.0155 seconds"
       ]
      },
      {
       "output_type": "stream",
       "stream": "stderr",
       "text": [
        "\r",
        "Processed 480000 ( 19.24% ) in 0.0155 seconds"
       ]
      },
      {
       "output_type": "stream",
       "stream": "stderr",
       "text": [
        "\r",
        "Processed 481000 ( 19.28% ) in 0.0155 seconds"
       ]
      },
      {
       "output_type": "stream",
       "stream": "stderr",
       "text": [
        "\r",
        "Processed 482000 ( 19.32% ) in 0.0157 seconds"
       ]
      },
      {
       "output_type": "stream",
       "stream": "stderr",
       "text": [
        "\r",
        "Processed 483000 ( 19.36% ) in 0.0155 seconds"
       ]
      },
      {
       "output_type": "stream",
       "stream": "stderr",
       "text": [
        "\r",
        "Processed 484000 ( 19.40% ) in 0.0154 seconds"
       ]
      },
      {
       "output_type": "stream",
       "stream": "stderr",
       "text": [
        "\r",
        "Processed 485000 ( 19.44% ) in 0.0155 seconds"
       ]
      },
      {
       "output_type": "stream",
       "stream": "stderr",
       "text": [
        "\r",
        "Processed 486000 ( 19.48% ) in 0.0157 seconds"
       ]
      },
      {
       "output_type": "stream",
       "stream": "stderr",
       "text": [
        "\r",
        "Processed 487000 ( 19.52% ) in 0.0157 seconds"
       ]
      },
      {
       "output_type": "stream",
       "stream": "stderr",
       "text": [
        "\r",
        "Processed 488000 ( 19.56% ) in 0.0156 seconds"
       ]
      },
      {
       "output_type": "stream",
       "stream": "stderr",
       "text": [
        "\r",
        "Processed 489000 ( 19.60% ) in 0.0156 seconds"
       ]
      },
      {
       "output_type": "stream",
       "stream": "stderr",
       "text": [
        "\r",
        "Processed 490000 ( 19.64% ) in 0.0158 seconds"
       ]
      },
      {
       "output_type": "stream",
       "stream": "stderr",
       "text": [
        "\r",
        "Processed 491000 ( 19.68% ) in 0.0154 seconds"
       ]
      },
      {
       "output_type": "stream",
       "stream": "stderr",
       "text": [
        "\r",
        "Processed 492000 ( 19.72% ) in 0.0158 seconds"
       ]
      },
      {
       "output_type": "stream",
       "stream": "stderr",
       "text": [
        "\r",
        "Processed 493000 ( 19.76% ) in 0.0157 seconds"
       ]
      },
      {
       "output_type": "stream",
       "stream": "stderr",
       "text": [
        "\r",
        "Processed 494000 ( 19.80% ) in 0.0157 seconds"
       ]
      },
      {
       "output_type": "stream",
       "stream": "stderr",
       "text": [
        "\r",
        "Processed 495000 ( 19.84% ) in 0.0157 seconds"
       ]
      },
      {
       "output_type": "stream",
       "stream": "stderr",
       "text": [
        "\r",
        "Processed 496000 ( 19.88% ) in 0.0155 seconds"
       ]
      },
      {
       "output_type": "stream",
       "stream": "stderr",
       "text": [
        "\r",
        "Processed 497000 ( 19.92% ) in 0.0154 seconds"
       ]
      },
      {
       "output_type": "stream",
       "stream": "stderr",
       "text": [
        "\r",
        "Processed 498000 ( 19.96% ) in 0.0153 seconds"
       ]
      },
      {
       "output_type": "stream",
       "stream": "stderr",
       "text": [
        "\r",
        "Processed 499000 ( 20.00% ) in 0.0156 seconds"
       ]
      },
      {
       "output_type": "stream",
       "stream": "stderr",
       "text": [
        "\r",
        "Processed 500000 ( 20.04% ) in 0.0156 seconds"
       ]
      },
      {
       "output_type": "stream",
       "stream": "stderr",
       "text": [
        "\r",
        "Processed 501000 ( 20.08% ) in 0.0156 seconds"
       ]
      },
      {
       "output_type": "stream",
       "stream": "stderr",
       "text": [
        "\r",
        "Processed 502000 ( 20.12% ) in 0.0156 seconds"
       ]
      },
      {
       "output_type": "stream",
       "stream": "stderr",
       "text": [
        "\r",
        "Processed 503000 ( 20.16% ) in 0.0158 seconds"
       ]
      },
      {
       "output_type": "stream",
       "stream": "stderr",
       "text": [
        "\r",
        "Processed 504000 ( 20.20% ) in 0.0154 seconds"
       ]
      },
      {
       "output_type": "stream",
       "stream": "stderr",
       "text": [
        "\r",
        "Processed 505000 ( 20.24% ) in 0.0153 seconds"
       ]
      },
      {
       "output_type": "stream",
       "stream": "stderr",
       "text": [
        "\r",
        "Processed 506000 ( 20.28% ) in 0.0157 seconds"
       ]
      },
      {
       "output_type": "stream",
       "stream": "stderr",
       "text": [
        "\r",
        "Processed 507000 ( 20.32% ) in 0.0156 seconds"
       ]
      },
      {
       "output_type": "stream",
       "stream": "stderr",
       "text": [
        "\r",
        "Processed 508000 ( 20.36% ) in 0.0157 seconds"
       ]
      },
      {
       "output_type": "stream",
       "stream": "stderr",
       "text": [
        "\r",
        "Processed 509000 ( 20.40% ) in 0.0206 seconds"
       ]
      },
      {
       "output_type": "stream",
       "stream": "stderr",
       "text": [
        "\r",
        "Processed 510000 ( 20.44% ) in 0.0156 seconds"
       ]
      },
      {
       "output_type": "stream",
       "stream": "stderr",
       "text": [
        "\r",
        "Processed 511000 ( 20.48% ) in 0.0153 seconds"
       ]
      },
      {
       "output_type": "stream",
       "stream": "stderr",
       "text": [
        "\r",
        "Processed 512000 ( 20.52% ) in 0.0157 seconds"
       ]
      },
      {
       "output_type": "stream",
       "stream": "stderr",
       "text": [
        "\r",
        "Processed 513000 ( 20.56% ) in 0.0201 seconds"
       ]
      },
      {
       "output_type": "stream",
       "stream": "stderr",
       "text": [
        "\r",
        "Processed 514000 ( 20.60% ) in 0.0208 seconds"
       ]
      },
      {
       "output_type": "stream",
       "stream": "stderr",
       "text": [
        "\r",
        "Processed 515000 ( 20.64% ) in 0.0158 seconds"
       ]
      },
      {
       "output_type": "stream",
       "stream": "stderr",
       "text": [
        "\r",
        "Processed 516000 ( 20.68% ) in 0.0157 seconds"
       ]
      },
      {
       "output_type": "stream",
       "stream": "stderr",
       "text": [
        "\r",
        "Processed 517000 ( 20.72% ) in 0.0159 seconds"
       ]
      },
      {
       "output_type": "stream",
       "stream": "stderr",
       "text": [
        "\r",
        "Processed 518000 ( 20.76% ) in 0.0156 seconds"
       ]
      },
      {
       "output_type": "stream",
       "stream": "stderr",
       "text": [
        "\r",
        "Processed 519000 ( 20.80% ) in 0.0158 seconds"
       ]
      },
      {
       "output_type": "stream",
       "stream": "stderr",
       "text": [
        "\r",
        "Processed 520000 ( 20.84% ) in 0.0157 seconds"
       ]
      },
      {
       "output_type": "stream",
       "stream": "stderr",
       "text": [
        "\r",
        "Processed 521000 ( 20.88% ) in 0.0155 seconds"
       ]
      },
      {
       "output_type": "stream",
       "stream": "stderr",
       "text": [
        "\r",
        "Processed 522000 ( 20.92% ) in 0.0155 seconds"
       ]
      },
      {
       "output_type": "stream",
       "stream": "stderr",
       "text": [
        "\r",
        "Processed 523000 ( 20.96% ) in 0.0155 seconds"
       ]
      },
      {
       "output_type": "stream",
       "stream": "stderr",
       "text": [
        "\r",
        "Processed 524000 ( 21.00% ) in 0.0156 seconds"
       ]
      },
      {
       "output_type": "stream",
       "stream": "stderr",
       "text": [
        "\r",
        "Processed 525000 ( 21.04% ) in 0.0155 seconds"
       ]
      },
      {
       "output_type": "stream",
       "stream": "stderr",
       "text": [
        "\r",
        "Processed 526000 ( 21.08% ) in 0.0386 seconds"
       ]
      },
      {
       "output_type": "stream",
       "stream": "stderr",
       "text": [
        "\r",
        "Processed 527000 ( 21.12% ) in 0.0346 seconds"
       ]
      },
      {
       "output_type": "stream",
       "stream": "stderr",
       "text": [
        "\r",
        "Processed 528000 ( 21.16% ) in 0.0158 seconds"
       ]
      },
      {
       "output_type": "stream",
       "stream": "stderr",
       "text": [
        "\r",
        "Processed 529000 ( 21.20% ) in 0.0156 seconds"
       ]
      },
      {
       "output_type": "stream",
       "stream": "stderr",
       "text": [
        "\r",
        "Processed 530000 ( 21.24% ) in 0.0157 seconds"
       ]
      },
      {
       "output_type": "stream",
       "stream": "stderr",
       "text": [
        "\r",
        "Processed 531000 ( 21.28% ) in 0.0155 seconds"
       ]
      },
      {
       "output_type": "stream",
       "stream": "stderr",
       "text": [
        "\r",
        "Processed 532000 ( 21.32% ) in 0.0156 seconds"
       ]
      },
      {
       "output_type": "stream",
       "stream": "stderr",
       "text": [
        "\r",
        "Processed 533000 ( 21.36% ) in 0.0219 seconds"
       ]
      },
      {
       "output_type": "stream",
       "stream": "stderr",
       "text": [
        "\r",
        "Processed 534000 ( 21.40% ) in 0.0748 seconds"
       ]
      },
      {
       "output_type": "stream",
       "stream": "stderr",
       "text": [
        "\r",
        "Processed 535000 ( 21.44% ) in 0.0249 seconds"
       ]
      },
      {
       "output_type": "stream",
       "stream": "stderr",
       "text": [
        "\r",
        "Processed 536000 ( 21.48% ) in 0.0211 seconds"
       ]
      },
      {
       "output_type": "stream",
       "stream": "stderr",
       "text": [
        "\r",
        "Processed 537000 ( 21.52% ) in 0.0351 seconds"
       ]
      },
      {
       "output_type": "stream",
       "stream": "stderr",
       "text": [
        "\r",
        "Processed 538000 ( 21.56% ) in 0.0318 seconds"
       ]
      },
      {
       "output_type": "stream",
       "stream": "stderr",
       "text": [
        "\r",
        "Processed 539000 ( 21.60% ) in 0.0251 seconds"
       ]
      },
      {
       "output_type": "stream",
       "stream": "stderr",
       "text": [
        "\r",
        "Processed 540000 ( 21.64% ) in 0.0202 seconds"
       ]
      },
      {
       "output_type": "stream",
       "stream": "stderr",
       "text": [
        "\r",
        "Processed 541000 ( 21.68% ) in 0.0160 seconds"
       ]
      },
      {
       "output_type": "stream",
       "stream": "stderr",
       "text": [
        "\r",
        "Processed 542000 ( 21.72% ) in 0.0159 seconds"
       ]
      },
      {
       "output_type": "stream",
       "stream": "stderr",
       "text": [
        "\r",
        "Processed 543000 ( 21.76% ) in 0.0159 seconds"
       ]
      },
      {
       "output_type": "stream",
       "stream": "stderr",
       "text": [
        "\r",
        "Processed 544000 ( 21.80% ) in 0.0159 seconds"
       ]
      },
      {
       "output_type": "stream",
       "stream": "stderr",
       "text": [
        "\r",
        "Processed 545000 ( 21.84% ) in 0.0162 seconds"
       ]
      },
      {
       "output_type": "stream",
       "stream": "stderr",
       "text": [
        "\r",
        "Processed 546000 ( 21.88% ) in 0.0160 seconds"
       ]
      },
      {
       "output_type": "stream",
       "stream": "stderr",
       "text": [
        "\r",
        "Processed 547000 ( 21.92% ) in 0.0160 seconds"
       ]
      },
      {
       "output_type": "stream",
       "stream": "stderr",
       "text": [
        "\r",
        "Processed 548000 ( 21.96% ) in 0.0164 seconds"
       ]
      },
      {
       "output_type": "stream",
       "stream": "stderr",
       "text": [
        "\r",
        "Processed 549000 ( 22.00% ) in 0.0170 seconds"
       ]
      },
      {
       "output_type": "stream",
       "stream": "stderr",
       "text": [
        "\r",
        "Processed 550000 ( 22.04% ) in 0.0163 seconds"
       ]
      },
      {
       "output_type": "stream",
       "stream": "stderr",
       "text": [
        "\r",
        "Processed 551000 ( 22.08% ) in 0.0164 seconds"
       ]
      },
      {
       "output_type": "stream",
       "stream": "stderr",
       "text": [
        "\r",
        "Processed 552000 ( 22.12% ) in 0.0162 seconds"
       ]
      },
      {
       "output_type": "stream",
       "stream": "stderr",
       "text": [
        "\r",
        "Processed 553000 ( 22.16% ) in 0.0161 seconds"
       ]
      },
      {
       "output_type": "stream",
       "stream": "stderr",
       "text": [
        "\r",
        "Processed 554000 ( 22.20% ) in 0.0162 seconds"
       ]
      },
      {
       "output_type": "stream",
       "stream": "stderr",
       "text": [
        "\r",
        "Processed 555000 ( 22.24% ) in 0.0161 seconds"
       ]
      },
      {
       "output_type": "stream",
       "stream": "stderr",
       "text": [
        "\r",
        "Processed 556000 ( 22.28% ) in 0.0159 seconds"
       ]
      },
      {
       "output_type": "stream",
       "stream": "stderr",
       "text": [
        "\r",
        "Processed 557000 ( 22.32% ) in 0.0160 seconds"
       ]
      },
      {
       "output_type": "stream",
       "stream": "stderr",
       "text": [
        "\r",
        "Processed 558000 ( 22.36% ) in 0.0159 seconds"
       ]
      },
      {
       "output_type": "stream",
       "stream": "stderr",
       "text": [
        "\r",
        "Processed 559000 ( 22.40% ) in 0.0161 seconds"
       ]
      },
      {
       "output_type": "stream",
       "stream": "stderr",
       "text": [
        "\r",
        "Processed 560000 ( 22.44% ) in 0.0162 seconds"
       ]
      },
      {
       "output_type": "stream",
       "stream": "stderr",
       "text": [
        "\r",
        "Processed 561000 ( 22.48% ) in 0.0159 seconds"
       ]
      },
      {
       "output_type": "stream",
       "stream": "stderr",
       "text": [
        "\r",
        "Processed 562000 ( 22.52% ) in 0.0160 seconds"
       ]
      },
      {
       "output_type": "stream",
       "stream": "stderr",
       "text": [
        "\r",
        "Processed 563000 ( 22.56% ) in 0.0156 seconds"
       ]
      },
      {
       "output_type": "stream",
       "stream": "stderr",
       "text": [
        "\r",
        "Processed 564000 ( 22.60% ) in 0.0156 seconds"
       ]
      },
      {
       "output_type": "stream",
       "stream": "stderr",
       "text": [
        "\r",
        "Processed 565000 ( 22.64% ) in 0.0156 seconds"
       ]
      },
      {
       "output_type": "stream",
       "stream": "stderr",
       "text": [
        "\r",
        "Processed 566000 ( 22.68% ) in 0.0156 seconds"
       ]
      },
      {
       "output_type": "stream",
       "stream": "stderr",
       "text": [
        "\r",
        "Processed 567000 ( 22.72% ) in 0.0156 seconds"
       ]
      },
      {
       "output_type": "stream",
       "stream": "stderr",
       "text": [
        "\r",
        "Processed 568000 ( 22.76% ) in 0.0155 seconds"
       ]
      },
      {
       "output_type": "stream",
       "stream": "stderr",
       "text": [
        "\r",
        "Processed 569000 ( 22.80% ) in 0.0155 seconds"
       ]
      },
      {
       "output_type": "stream",
       "stream": "stderr",
       "text": [
        "\r",
        "Processed 570000 ( 22.84% ) in 0.0155 seconds"
       ]
      },
      {
       "output_type": "stream",
       "stream": "stderr",
       "text": [
        "\r",
        "Processed 571000 ( 22.88% ) in 0.0156 seconds"
       ]
      },
      {
       "output_type": "stream",
       "stream": "stderr",
       "text": [
        "\r",
        "Processed 572000 ( 22.92% ) in 0.0156 seconds"
       ]
      },
      {
       "output_type": "stream",
       "stream": "stderr",
       "text": [
        "\r",
        "Processed 573000 ( 22.96% ) in 0.0155 seconds"
       ]
      },
      {
       "output_type": "stream",
       "stream": "stderr",
       "text": [
        "\r",
        "Processed 574000 ( 23.00% ) in 0.0205 seconds"
       ]
      },
      {
       "output_type": "stream",
       "stream": "stderr",
       "text": [
        "\r",
        "Processed 575000 ( 23.04% ) in 0.0161 seconds"
       ]
      },
      {
       "output_type": "stream",
       "stream": "stderr",
       "text": [
        "\r",
        "Processed 576000 ( 23.08% ) in 0.0156 seconds"
       ]
      },
      {
       "output_type": "stream",
       "stream": "stderr",
       "text": [
        "\r",
        "Processed 577000 ( 23.12% ) in 0.0155 seconds"
       ]
      },
      {
       "output_type": "stream",
       "stream": "stderr",
       "text": [
        "\r",
        "Processed 578000 ( 23.16% ) in 0.0155 seconds"
       ]
      },
      {
       "output_type": "stream",
       "stream": "stderr",
       "text": [
        "\r",
        "Processed 579000 ( 23.20% ) in 0.0156 seconds"
       ]
      },
      {
       "output_type": "stream",
       "stream": "stderr",
       "text": [
        "\r",
        "Processed 580000 ( 23.24% ) in 0.0156 seconds"
       ]
      },
      {
       "output_type": "stream",
       "stream": "stderr",
       "text": [
        "\r",
        "Processed 581000 ( 23.28% ) in 0.0157 seconds"
       ]
      },
      {
       "output_type": "stream",
       "stream": "stderr",
       "text": [
        "\r",
        "Processed 582000 ( 23.32% ) in 0.0155 seconds"
       ]
      },
      {
       "output_type": "stream",
       "stream": "stderr",
       "text": [
        "\r",
        "Processed 583000 ( 23.36% ) in 0.0156 seconds"
       ]
      },
      {
       "output_type": "stream",
       "stream": "stderr",
       "text": [
        "\r",
        "Processed 584000 ( 23.40% ) in 0.0155 seconds"
       ]
      },
      {
       "output_type": "stream",
       "stream": "stderr",
       "text": [
        "\r",
        "Processed 585000 ( 23.44% ) in 0.0157 seconds"
       ]
      },
      {
       "output_type": "stream",
       "stream": "stderr",
       "text": [
        "\r",
        "Processed 586000 ( 23.48% ) in 0.0156 seconds"
       ]
      },
      {
       "output_type": "stream",
       "stream": "stderr",
       "text": [
        "\r",
        "Processed 587000 ( 23.52% ) in 0.0155 seconds"
       ]
      },
      {
       "output_type": "stream",
       "stream": "stderr",
       "text": [
        "\r",
        "Processed 588000 ( 23.56% ) in 0.0364 seconds"
       ]
      },
      {
       "output_type": "stream",
       "stream": "stderr",
       "text": [
        "\r",
        "Processed 589000 ( 23.60% ) in 0.0316 seconds"
       ]
      },
      {
       "output_type": "stream",
       "stream": "stderr",
       "text": [
        "\r",
        "Processed 590000 ( 23.64% ) in 0.0211 seconds"
       ]
      },
      {
       "output_type": "stream",
       "stream": "stderr",
       "text": [
        "\r",
        "Processed 591000 ( 23.68% ) in 0.0173 seconds"
       ]
      },
      {
       "output_type": "stream",
       "stream": "stderr",
       "text": [
        "\r",
        "Processed 592000 ( 23.72% ) in 0.0155 seconds"
       ]
      },
      {
       "output_type": "stream",
       "stream": "stderr",
       "text": [
        "\r",
        "Processed 593000 ( 23.76% ) in 0.0155 seconds"
       ]
      },
      {
       "output_type": "stream",
       "stream": "stderr",
       "text": [
        "\r",
        "Processed 594000 ( 23.80% ) in 0.0156 seconds"
       ]
      },
      {
       "output_type": "stream",
       "stream": "stderr",
       "text": [
        "\r",
        "Processed 595000 ( 23.84% ) in 0.0155 seconds"
       ]
      },
      {
       "output_type": "stream",
       "stream": "stderr",
       "text": [
        "\r",
        "Processed 596000 ( 23.88% ) in 0.0156 seconds"
       ]
      },
      {
       "output_type": "stream",
       "stream": "stderr",
       "text": [
        "\r",
        "Processed 597000 ( 23.92% ) in 0.0155 seconds"
       ]
      },
      {
       "output_type": "stream",
       "stream": "stderr",
       "text": [
        "\r",
        "Processed 598000 ( 23.97% ) in 0.0154 seconds"
       ]
      },
      {
       "output_type": "stream",
       "stream": "stderr",
       "text": [
        "\r",
        "Processed 599000 ( 24.01% ) in 0.0157 seconds"
       ]
      },
      {
       "output_type": "stream",
       "stream": "stderr",
       "text": [
        "\r",
        "Processed 600000 ( 24.05% ) in 0.0154 seconds"
       ]
      },
      {
       "output_type": "stream",
       "stream": "stderr",
       "text": [
        "\r",
        "Processed 601000 ( 24.09% ) in 0.0156 seconds"
       ]
      },
      {
       "output_type": "stream",
       "stream": "stderr",
       "text": [
        "\r",
        "Processed 602000 ( 24.13% ) in 0.0158 seconds"
       ]
      },
      {
       "output_type": "stream",
       "stream": "stderr",
       "text": [
        "\r",
        "Processed 603000 ( 24.17% ) in 0.0155 seconds"
       ]
      },
      {
       "output_type": "stream",
       "stream": "stderr",
       "text": [
        "\r",
        "Processed 604000 ( 24.21% ) in 0.0156 seconds"
       ]
      },
      {
       "output_type": "stream",
       "stream": "stderr",
       "text": [
        "\r",
        "Processed 605000 ( 24.25% ) in 0.0157 seconds"
       ]
      },
      {
       "output_type": "stream",
       "stream": "stderr",
       "text": [
        "\r",
        "Processed 606000 ( 24.29% ) in 0.0157 seconds"
       ]
      },
      {
       "output_type": "stream",
       "stream": "stderr",
       "text": [
        "\r",
        "Processed 607000 ( 24.33% ) in 0.0154 seconds"
       ]
      },
      {
       "output_type": "stream",
       "stream": "stderr",
       "text": [
        "\r",
        "Processed 608000 ( 24.37% ) in 0.0156 seconds"
       ]
      },
      {
       "output_type": "stream",
       "stream": "stderr",
       "text": [
        "\r",
        "Processed 609000 ( 24.41% ) in 0.0192 seconds"
       ]
      },
      {
       "output_type": "stream",
       "stream": "stderr",
       "text": [
        "\r",
        "Processed 610000 ( 24.45% ) in 0.0158 seconds"
       ]
      },
      {
       "output_type": "stream",
       "stream": "stderr",
       "text": [
        "\r",
        "Processed 611000 ( 24.49% ) in 0.0156 seconds"
       ]
      },
      {
       "output_type": "stream",
       "stream": "stderr",
       "text": [
        "\r",
        "Processed 612000 ( 24.53% ) in 0.0157 seconds"
       ]
      },
      {
       "output_type": "stream",
       "stream": "stderr",
       "text": [
        "\r",
        "Processed 613000 ( 24.57% ) in 0.0156 seconds"
       ]
      },
      {
       "output_type": "stream",
       "stream": "stderr",
       "text": [
        "\r",
        "Processed 614000 ( 24.61% ) in 0.0157 seconds"
       ]
      },
      {
       "output_type": "stream",
       "stream": "stderr",
       "text": [
        "\r",
        "Processed 615000 ( 24.65% ) in 0.0156 seconds"
       ]
      },
      {
       "output_type": "stream",
       "stream": "stderr",
       "text": [
        "\r",
        "Processed 616000 ( 24.69% ) in 0.0157 seconds"
       ]
      },
      {
       "output_type": "stream",
       "stream": "stderr",
       "text": [
        "\r",
        "Processed 617000 ( 24.73% ) in 0.0156 seconds"
       ]
      },
      {
       "output_type": "stream",
       "stream": "stderr",
       "text": [
        "\r",
        "Processed 618000 ( 24.77% ) in 0.0158 seconds"
       ]
      },
      {
       "output_type": "stream",
       "stream": "stderr",
       "text": [
        "\r",
        "Processed 619000 ( 24.81% ) in 0.0164 seconds"
       ]
      },
      {
       "output_type": "stream",
       "stream": "stderr",
       "text": [
        "\r",
        "Processed 620000 ( 24.85% ) in 0.0165 seconds"
       ]
      },
      {
       "output_type": "stream",
       "stream": "stderr",
       "text": [
        "\r",
        "Processed 621000 ( 24.89% ) in 0.0158 seconds"
       ]
      },
      {
       "output_type": "stream",
       "stream": "stderr",
       "text": [
        "\r",
        "Processed 622000 ( 24.93% ) in 0.0155 seconds"
       ]
      },
      {
       "output_type": "stream",
       "stream": "stderr",
       "text": [
        "\r",
        "Processed 623000 ( 24.97% ) in 0.0157 seconds"
       ]
      },
      {
       "output_type": "stream",
       "stream": "stderr",
       "text": [
        "\r",
        "Processed 624000 ( 25.01% ) in 0.0154 seconds"
       ]
      },
      {
       "output_type": "stream",
       "stream": "stderr",
       "text": [
        "\r",
        "Processed 625000 ( 25.05% ) in 0.0155 seconds"
       ]
      },
      {
       "output_type": "stream",
       "stream": "stderr",
       "text": [
        "\r",
        "Processed 626000 ( 25.09% ) in 0.0155 seconds"
       ]
      },
      {
       "output_type": "stream",
       "stream": "stderr",
       "text": [
        "\r",
        "Processed 627000 ( 25.13% ) in 0.0157 seconds"
       ]
      },
      {
       "output_type": "stream",
       "stream": "stderr",
       "text": [
        "\r",
        "Processed 628000 ( 25.17% ) in 0.0158 seconds"
       ]
      },
      {
       "output_type": "stream",
       "stream": "stderr",
       "text": [
        "\r",
        "Processed 629000 ( 25.21% ) in 0.0155 seconds"
       ]
      },
      {
       "output_type": "stream",
       "stream": "stderr",
       "text": [
        "\r",
        "Processed 630000 ( 25.25% ) in 0.0155 seconds"
       ]
      },
      {
       "output_type": "stream",
       "stream": "stderr",
       "text": [
        "\r",
        "Processed 631000 ( 25.29% ) in 0.0155 seconds"
       ]
      },
      {
       "output_type": "stream",
       "stream": "stderr",
       "text": [
        "\r",
        "Processed 632000 ( 25.33% ) in 0.0156 seconds"
       ]
      },
      {
       "output_type": "stream",
       "stream": "stderr",
       "text": [
        "\r",
        "Processed 633000 ( 25.37% ) in 0.0156 seconds"
       ]
      },
      {
       "output_type": "stream",
       "stream": "stderr",
       "text": [
        "\r",
        "Processed 634000 ( 25.41% ) in 0.0156 seconds"
       ]
      },
      {
       "output_type": "stream",
       "stream": "stderr",
       "text": [
        "\r",
        "Processed 635000 ( 25.45% ) in 0.0155 seconds"
       ]
      },
      {
       "output_type": "stream",
       "stream": "stderr",
       "text": [
        "\r",
        "Processed 636000 ( 25.49% ) in 0.0154 seconds"
       ]
      },
      {
       "output_type": "stream",
       "stream": "stderr",
       "text": [
        "\r",
        "Processed 637000 ( 25.53% ) in 0.0273 seconds"
       ]
      },
      {
       "output_type": "stream",
       "stream": "stderr",
       "text": [
        "\r",
        "Processed 638000 ( 25.57% ) in 0.0178 seconds"
       ]
      },
      {
       "output_type": "stream",
       "stream": "stderr",
       "text": [
        "\r",
        "Processed 639000 ( 25.61% ) in 0.0195 seconds"
       ]
      },
      {
       "output_type": "stream",
       "stream": "stderr",
       "text": [
        "\r",
        "Processed 640000 ( 25.65% ) in 0.0157 seconds"
       ]
      },
      {
       "output_type": "stream",
       "stream": "stderr",
       "text": [
        "\r",
        "Processed 641000 ( 25.69% ) in 0.0155 seconds"
       ]
      },
      {
       "output_type": "stream",
       "stream": "stderr",
       "text": [
        "\r",
        "Processed 642000 ( 25.73% ) in 0.0158 seconds"
       ]
      },
      {
       "output_type": "stream",
       "stream": "stderr",
       "text": [
        "\r",
        "Processed 643000 ( 25.77% ) in 0.0155 seconds"
       ]
      },
      {
       "output_type": "stream",
       "stream": "stderr",
       "text": [
        "\r",
        "Processed 644000 ( 25.81% ) in 0.0155 seconds"
       ]
      },
      {
       "output_type": "stream",
       "stream": "stderr",
       "text": [
        "\r",
        "Processed 645000 ( 25.85% ) in 0.0156 seconds"
       ]
      },
      {
       "output_type": "stream",
       "stream": "stderr",
       "text": [
        "\r",
        "Processed 646000 ( 25.89% ) in 0.0204 seconds"
       ]
      },
      {
       "output_type": "stream",
       "stream": "stderr",
       "text": [
        "\r",
        "Processed 647000 ( 25.93% ) in 0.0150 seconds"
       ]
      },
      {
       "output_type": "stream",
       "stream": "stderr",
       "text": [
        "\r",
        "Processed 648000 ( 25.97% ) in 0.0550 seconds"
       ]
      },
      {
       "output_type": "stream",
       "stream": "stderr",
       "text": [
        "\r",
        "Processed 649000 ( 26.01% ) in 0.0377 seconds"
       ]
      },
      {
       "output_type": "stream",
       "stream": "stderr",
       "text": [
        "\r",
        "Processed 650000 ( 26.05% ) in 0.0328 seconds"
       ]
      },
      {
       "output_type": "stream",
       "stream": "stderr",
       "text": [
        "\r",
        "Processed 651000 ( 26.09% ) in 0.0161 seconds"
       ]
      },
      {
       "output_type": "stream",
       "stream": "stderr",
       "text": [
        "\r",
        "Processed 652000 ( 26.13% ) in 0.0381 seconds"
       ]
      },
      {
       "output_type": "stream",
       "stream": "stderr",
       "text": [
        "\r",
        "Processed 653000 ( 26.17% ) in 0.0293 seconds"
       ]
      },
      {
       "output_type": "stream",
       "stream": "stderr",
       "text": [
        "\r",
        "Processed 654000 ( 26.21% ) in 0.0272 seconds"
       ]
      },
      {
       "output_type": "stream",
       "stream": "stderr",
       "text": [
        "\r",
        "Processed 655000 ( 26.25% ) in 0.0155 seconds"
       ]
      },
      {
       "output_type": "stream",
       "stream": "stderr",
       "text": [
        "\r",
        "Processed 656000 ( 26.29% ) in 0.0152 seconds"
       ]
      },
      {
       "output_type": "stream",
       "stream": "stderr",
       "text": [
        "\r",
        "Processed 657000 ( 26.33% ) in 0.0153 seconds"
       ]
      },
      {
       "output_type": "stream",
       "stream": "stderr",
       "text": [
        "\r",
        "Processed 658000 ( 26.37% ) in 0.0151 seconds"
       ]
      },
      {
       "output_type": "stream",
       "stream": "stderr",
       "text": [
        "\r",
        "Processed 659000 ( 26.41% ) in 0.0153 seconds"
       ]
      },
      {
       "output_type": "stream",
       "stream": "stderr",
       "text": [
        "\r",
        "Processed 660000 ( 26.45% ) in 0.0154 seconds"
       ]
      },
      {
       "output_type": "stream",
       "stream": "stderr",
       "text": [
        "\r",
        "Processed 661000 ( 26.49% ) in 0.0152 seconds"
       ]
      },
      {
       "output_type": "stream",
       "stream": "stderr",
       "text": [
        "\r",
        "Processed 662000 ( 26.53% ) in 0.0153 seconds"
       ]
      },
      {
       "output_type": "stream",
       "stream": "stderr",
       "text": [
        "\r",
        "Processed 663000 ( 26.57% ) in 0.0151 seconds"
       ]
      },
      {
       "output_type": "stream",
       "stream": "stderr",
       "text": [
        "\r",
        "Processed 664000 ( 26.61% ) in 0.0151 seconds"
       ]
      },
      {
       "output_type": "stream",
       "stream": "stderr",
       "text": [
        "\r",
        "Processed 665000 ( 26.65% ) in 0.0151 seconds"
       ]
      },
      {
       "output_type": "stream",
       "stream": "stderr",
       "text": [
        "\r",
        "Processed 666000 ( 26.69% ) in 0.0152 seconds"
       ]
      },
      {
       "output_type": "stream",
       "stream": "stderr",
       "text": [
        "\r",
        "Processed 667000 ( 26.73% ) in 0.0157 seconds"
       ]
      },
      {
       "output_type": "stream",
       "stream": "stderr",
       "text": [
        "\r",
        "Processed 668000 ( 26.77% ) in 0.0152 seconds"
       ]
      },
      {
       "output_type": "stream",
       "stream": "stderr",
       "text": [
        "\r",
        "Processed 669000 ( 26.81% ) in 0.0153 seconds"
       ]
      },
      {
       "output_type": "stream",
       "stream": "stderr",
       "text": [
        "\r",
        "Processed 670000 ( 26.85% ) in 0.0152 seconds"
       ]
      },
      {
       "output_type": "stream",
       "stream": "stderr",
       "text": [
        "\r",
        "Processed 671000 ( 26.89% ) in 0.0152 seconds"
       ]
      },
      {
       "output_type": "stream",
       "stream": "stderr",
       "text": [
        "\r",
        "Processed 672000 ( 26.93% ) in 0.0152 seconds"
       ]
      },
      {
       "output_type": "stream",
       "stream": "stderr",
       "text": [
        "\r",
        "Processed 673000 ( 26.97% ) in 0.0151 seconds"
       ]
      },
      {
       "output_type": "stream",
       "stream": "stderr",
       "text": [
        "\r",
        "Processed 674000 ( 27.01% ) in 0.0151 seconds"
       ]
      },
      {
       "output_type": "stream",
       "stream": "stderr",
       "text": [
        "\r",
        "Processed 675000 ( 27.05% ) in 0.0153 seconds"
       ]
      },
      {
       "output_type": "stream",
       "stream": "stderr",
       "text": [
        "\r",
        "Processed 676000 ( 27.09% ) in 0.0151 seconds"
       ]
      },
      {
       "output_type": "stream",
       "stream": "stderr",
       "text": [
        "\r",
        "Processed 677000 ( 27.13% ) in 0.0172 seconds"
       ]
      },
      {
       "output_type": "stream",
       "stream": "stderr",
       "text": [
        "\r",
        "Processed 678000 ( 27.17% ) in 0.0153 seconds"
       ]
      },
      {
       "output_type": "stream",
       "stream": "stderr",
       "text": [
        "\r",
        "Processed 679000 ( 27.21% ) in 0.0152 seconds"
       ]
      },
      {
       "output_type": "stream",
       "stream": "stderr",
       "text": [
        "\r",
        "Processed 680000 ( 27.25% ) in 0.0151 seconds"
       ]
      },
      {
       "output_type": "stream",
       "stream": "stderr",
       "text": [
        "\r",
        "Processed 681000 ( 27.29% ) in 0.0152 seconds"
       ]
      },
      {
       "output_type": "stream",
       "stream": "stderr",
       "text": [
        "\r",
        "Processed 682000 ( 27.33% ) in 0.0153 seconds"
       ]
      },
      {
       "output_type": "stream",
       "stream": "stderr",
       "text": [
        "\r",
        "Processed 683000 ( 27.37% ) in 0.0149 seconds"
       ]
      },
      {
       "output_type": "stream",
       "stream": "stderr",
       "text": [
        "\r",
        "Processed 684000 ( 27.41% ) in 0.0151 seconds"
       ]
      },
      {
       "output_type": "stream",
       "stream": "stderr",
       "text": [
        "\r",
        "Processed 685000 ( 27.45% ) in 0.0150 seconds"
       ]
      },
      {
       "output_type": "stream",
       "stream": "stderr",
       "text": [
        "\r",
        "Processed 686000 ( 27.49% ) in 0.0152 seconds"
       ]
      },
      {
       "output_type": "stream",
       "stream": "stderr",
       "text": [
        "\r",
        "Processed 687000 ( 27.53% ) in 0.0152 seconds"
       ]
      },
      {
       "output_type": "stream",
       "stream": "stderr",
       "text": [
        "\r",
        "Processed 688000 ( 27.57% ) in 0.0153 seconds"
       ]
      },
      {
       "output_type": "stream",
       "stream": "stderr",
       "text": [
        "\r",
        "Processed 689000 ( 27.61% ) in 0.0151 seconds"
       ]
      },
      {
       "output_type": "stream",
       "stream": "stderr",
       "text": [
        "\r",
        "Processed 690000 ( 27.65% ) in 0.0152 seconds"
       ]
      },
      {
       "output_type": "stream",
       "stream": "stderr",
       "text": [
        "\r",
        "Processed 691000 ( 27.69% ) in 0.0151 seconds"
       ]
      },
      {
       "output_type": "stream",
       "stream": "stderr",
       "text": [
        "\r",
        "Processed 692000 ( 27.73% ) in 0.0151 seconds"
       ]
      },
      {
       "output_type": "stream",
       "stream": "stderr",
       "text": [
        "\r",
        "Processed 693000 ( 27.77% ) in 0.0151 seconds"
       ]
      },
      {
       "output_type": "stream",
       "stream": "stderr",
       "text": [
        "\r",
        "Processed 694000 ( 27.81% ) in 0.0152 seconds"
       ]
      },
      {
       "output_type": "stream",
       "stream": "stderr",
       "text": [
        "\r",
        "Processed 695000 ( 27.85% ) in 0.0152 seconds"
       ]
      },
      {
       "output_type": "stream",
       "stream": "stderr",
       "text": [
        "\r",
        "Processed 696000 ( 27.89% ) in 0.0151 seconds"
       ]
      },
      {
       "output_type": "stream",
       "stream": "stderr",
       "text": [
        "\r",
        "Processed 697000 ( 27.93% ) in 0.0153 seconds"
       ]
      },
      {
       "output_type": "stream",
       "stream": "stderr",
       "text": [
        "\r",
        "Processed 698000 ( 27.97% ) in 0.0152 seconds"
       ]
      },
      {
       "output_type": "stream",
       "stream": "stderr",
       "text": [
        "\r",
        "Processed 699000 ( 28.01% ) in 0.0150 seconds"
       ]
      },
      {
       "output_type": "stream",
       "stream": "stderr",
       "text": [
        "\r",
        "Processed 700000 ( 28.05% ) in 0.0151 seconds"
       ]
      },
      {
       "output_type": "stream",
       "stream": "stderr",
       "text": [
        "\r",
        "Processed 701000 ( 28.09% ) in 0.0152 seconds"
       ]
      },
      {
       "output_type": "stream",
       "stream": "stderr",
       "text": [
        "\r",
        "Processed 702000 ( 28.13% ) in 0.0152 seconds"
       ]
      },
      {
       "output_type": "stream",
       "stream": "stderr",
       "text": [
        "\r",
        "Processed 703000 ( 28.17% ) in 0.0151 seconds"
       ]
      },
      {
       "output_type": "stream",
       "stream": "stderr",
       "text": [
        "\r",
        "Processed 704000 ( 28.21% ) in 0.0151 seconds"
       ]
      },
      {
       "output_type": "stream",
       "stream": "stderr",
       "text": [
        "\r",
        "Processed 705000 ( 28.25% ) in 0.0483 seconds"
       ]
      },
      {
       "output_type": "stream",
       "stream": "stderr",
       "text": [
        "\r",
        "Processed 706000 ( 28.29% ) in 0.0245 seconds"
       ]
      },
      {
       "output_type": "stream",
       "stream": "stderr",
       "text": [
        "\r",
        "Processed 707000 ( 28.33% ) in 0.0150 seconds"
       ]
      },
      {
       "output_type": "stream",
       "stream": "stderr",
       "text": [
        "\r",
        "Processed 708000 ( 28.37% ) in 0.0151 seconds"
       ]
      },
      {
       "output_type": "stream",
       "stream": "stderr",
       "text": [
        "\r",
        "Processed 709000 ( 28.41% ) in 0.0151 seconds"
       ]
      },
      {
       "output_type": "stream",
       "stream": "stderr",
       "text": [
        "\r",
        "Processed 710000 ( 28.45% ) in 0.0151 seconds"
       ]
      },
      {
       "output_type": "stream",
       "stream": "stderr",
       "text": [
        "\r",
        "Processed 711000 ( 28.49% ) in 0.0150 seconds"
       ]
      },
      {
       "output_type": "stream",
       "stream": "stderr",
       "text": [
        "\r",
        "Processed 712000 ( 28.53% ) in 0.0151 seconds"
       ]
      },
      {
       "output_type": "stream",
       "stream": "stderr",
       "text": [
        "\r",
        "Processed 713000 ( 28.57% ) in 0.0199 seconds"
       ]
      },
      {
       "output_type": "stream",
       "stream": "stderr",
       "text": [
        "\r",
        "Processed 714000 ( 28.61% ) in 0.0151 seconds"
       ]
      },
      {
       "output_type": "stream",
       "stream": "stderr",
       "text": [
        "\r",
        "Processed 715000 ( 28.65% ) in 0.0151 seconds"
       ]
      },
      {
       "output_type": "stream",
       "stream": "stderr",
       "text": [
        "\r",
        "Processed 716000 ( 28.69% ) in 0.0151 seconds"
       ]
      },
      {
       "output_type": "stream",
       "stream": "stderr",
       "text": [
        "\r",
        "Processed 717000 ( 28.73% ) in 0.0150 seconds"
       ]
      },
      {
       "output_type": "stream",
       "stream": "stderr",
       "text": [
        "\r",
        "Processed 718000 ( 28.77% ) in 0.0153 seconds"
       ]
      },
      {
       "output_type": "stream",
       "stream": "stderr",
       "text": [
        "\r",
        "Processed 719000 ( 28.81% ) in 0.0153 seconds"
       ]
      },
      {
       "output_type": "stream",
       "stream": "stderr",
       "text": [
        "\r",
        "Processed 720000 ( 28.85% ) in 0.0152 seconds"
       ]
      },
      {
       "output_type": "stream",
       "stream": "stderr",
       "text": [
        "\r",
        "Processed 721000 ( 28.89% ) in 0.0151 seconds"
       ]
      },
      {
       "output_type": "stream",
       "stream": "stderr",
       "text": [
        "\r",
        "Processed 722000 ( 28.93% ) in 0.0152 seconds"
       ]
      },
      {
       "output_type": "stream",
       "stream": "stderr",
       "text": [
        "\r",
        "Processed 723000 ( 28.97% ) in 0.0153 seconds"
       ]
      },
      {
       "output_type": "stream",
       "stream": "stderr",
       "text": [
        "\r",
        "Processed 724000 ( 29.01% ) in 0.0151 seconds"
       ]
      },
      {
       "output_type": "stream",
       "stream": "stderr",
       "text": [
        "\r",
        "Processed 725000 ( 29.05% ) in 0.0152 seconds"
       ]
      },
      {
       "output_type": "stream",
       "stream": "stderr",
       "text": [
        "\r",
        "Processed 726000 ( 29.09% ) in 0.0151 seconds"
       ]
      },
      {
       "output_type": "stream",
       "stream": "stderr",
       "text": [
        "\r",
        "Processed 727000 ( 29.13% ) in 0.0151 seconds"
       ]
      },
      {
       "output_type": "stream",
       "stream": "stderr",
       "text": [
        "\r",
        "Processed 728000 ( 29.17% ) in 0.0160 seconds"
       ]
      },
      {
       "output_type": "stream",
       "stream": "stderr",
       "text": [
        "\r",
        "Processed 729000 ( 29.21% ) in 0.0152 seconds"
       ]
      },
      {
       "output_type": "stream",
       "stream": "stderr",
       "text": [
        "\r",
        "Processed 730000 ( 29.25% ) in 0.0151 seconds"
       ]
      },
      {
       "output_type": "stream",
       "stream": "stderr",
       "text": [
        "\r",
        "Processed 731000 ( 29.30% ) in 0.0151 seconds"
       ]
      },
      {
       "output_type": "stream",
       "stream": "stderr",
       "text": [
        "\r",
        "Processed 732000 ( 29.34% ) in 0.0151 seconds"
       ]
      },
      {
       "output_type": "stream",
       "stream": "stderr",
       "text": [
        "\r",
        "Processed 733000 ( 29.38% ) in 0.0153 seconds"
       ]
      },
      {
       "output_type": "stream",
       "stream": "stderr",
       "text": [
        "\r",
        "Processed 734000 ( 29.42% ) in 0.0152 seconds"
       ]
      },
      {
       "output_type": "stream",
       "stream": "stderr",
       "text": [
        "\r",
        "Processed 735000 ( 29.46% ) in 0.0152 seconds"
       ]
      },
      {
       "output_type": "stream",
       "stream": "stderr",
       "text": [
        "\r",
        "Processed 736000 ( 29.50% ) in 0.0151 seconds"
       ]
      },
      {
       "output_type": "stream",
       "stream": "stderr",
       "text": [
        "\r",
        "Processed 737000 ( 29.54% ) in 0.0152 seconds"
       ]
      },
      {
       "output_type": "stream",
       "stream": "stderr",
       "text": [
        "\r",
        "Processed 738000 ( 29.58% ) in 0.0151 seconds"
       ]
      },
      {
       "output_type": "stream",
       "stream": "stderr",
       "text": [
        "\r",
        "Processed 739000 ( 29.62% ) in 0.0151 seconds"
       ]
      },
      {
       "output_type": "stream",
       "stream": "stderr",
       "text": [
        "\r",
        "Processed 740000 ( 29.66% ) in 0.0445 seconds"
       ]
      },
      {
       "output_type": "stream",
       "stream": "stderr",
       "text": [
        "\r",
        "Processed 741000 ( 29.70% ) in 0.0156 seconds"
       ]
      },
      {
       "output_type": "stream",
       "stream": "stderr",
       "text": [
        "\r",
        "Processed 742000 ( 29.74% ) in 0.0153 seconds"
       ]
      },
      {
       "output_type": "stream",
       "stream": "stderr",
       "text": [
        "\r",
        "Processed 743000 ( 29.78% ) in 0.0153 seconds"
       ]
      },
      {
       "output_type": "stream",
       "stream": "stderr",
       "text": [
        "\r",
        "Processed 744000 ( 29.82% ) in 0.0153 seconds"
       ]
      },
      {
       "output_type": "stream",
       "stream": "stderr",
       "text": [
        "\r",
        "Processed 745000 ( 29.86% ) in 0.0152 seconds"
       ]
      },
      {
       "output_type": "stream",
       "stream": "stderr",
       "text": [
        "\r",
        "Processed 746000 ( 29.90% ) in 0.0152 seconds"
       ]
      },
      {
       "output_type": "stream",
       "stream": "stderr",
       "text": [
        "\r",
        "Processed 747000 ( 29.94% ) in 0.0152 seconds"
       ]
      },
      {
       "output_type": "stream",
       "stream": "stderr",
       "text": [
        "\r",
        "Processed 748000 ( 29.98% ) in 0.0296 seconds"
       ]
      },
      {
       "output_type": "stream",
       "stream": "stderr",
       "text": [
        "\r",
        "Processed 749000 ( 30.02% ) in 0.0164 seconds"
       ]
      },
      {
       "output_type": "stream",
       "stream": "stderr",
       "text": [
        "\r",
        "Processed 750000 ( 30.06% ) in 0.0156 seconds"
       ]
      },
      {
       "output_type": "stream",
       "stream": "stderr",
       "text": [
        "\r",
        "Processed 751000 ( 30.10% ) in 0.0159 seconds"
       ]
      },
      {
       "output_type": "stream",
       "stream": "stderr",
       "text": [
        "\r",
        "Processed 752000 ( 30.14% ) in 0.0189 seconds"
       ]
      },
      {
       "output_type": "stream",
       "stream": "stderr",
       "text": [
        "\r",
        "Processed 753000 ( 30.18% ) in 0.0161 seconds"
       ]
      },
      {
       "output_type": "stream",
       "stream": "stderr",
       "text": [
        "\r",
        "Processed 754000 ( 30.22% ) in 0.0341 seconds"
       ]
      },
      {
       "output_type": "stream",
       "stream": "stderr",
       "text": [
        "\r",
        "Processed 755000 ( 30.26% ) in 0.0224 seconds"
       ]
      },
      {
       "output_type": "stream",
       "stream": "stderr",
       "text": [
        "\r",
        "Processed 756000 ( 30.30% ) in 0.0406 seconds"
       ]
      },
      {
       "output_type": "stream",
       "stream": "stderr",
       "text": [
        "\r",
        "Processed 757000 ( 30.34% ) in 0.0232 seconds"
       ]
      },
      {
       "output_type": "stream",
       "stream": "stderr",
       "text": [
        "\r",
        "Processed 758000 ( 30.38% ) in 0.0233 seconds"
       ]
      },
      {
       "output_type": "stream",
       "stream": "stderr",
       "text": [
        "\r",
        "Processed 759000 ( 30.42% ) in 0.0423 seconds"
       ]
      },
      {
       "output_type": "stream",
       "stream": "stderr",
       "text": [
        "\r",
        "Processed 760000 ( 30.46% ) in 0.0513 seconds"
       ]
      },
      {
       "output_type": "stream",
       "stream": "stderr",
       "text": [
        "\r",
        "Processed 761000 ( 30.50% ) in 0.0556 seconds"
       ]
      },
      {
       "output_type": "stream",
       "stream": "stderr",
       "text": [
        "\r",
        "Processed 762000 ( 30.54% ) in 0.0298 seconds"
       ]
      },
      {
       "output_type": "stream",
       "stream": "stderr",
       "text": [
        "\r",
        "Processed 763000 ( 30.58% ) in 0.0214 seconds"
       ]
      },
      {
       "output_type": "stream",
       "stream": "stderr",
       "text": [
        "\r",
        "Processed 764000 ( 30.62% ) in 0.0208 seconds"
       ]
      },
      {
       "output_type": "stream",
       "stream": "stderr",
       "text": [
        "\r",
        "Processed 765000 ( 30.66% ) in 0.0207 seconds"
       ]
      },
      {
       "output_type": "stream",
       "stream": "stderr",
       "text": [
        "\r",
        "Processed 766000 ( 30.70% ) in 0.0216 seconds"
       ]
      },
      {
       "output_type": "stream",
       "stream": "stderr",
       "text": [
        "\r",
        "Processed 767000 ( 30.74% ) in 0.0252 seconds"
       ]
      },
      {
       "output_type": "stream",
       "stream": "stderr",
       "text": [
        "\r",
        "Processed 768000 ( 30.78% ) in 0.0197 seconds"
       ]
      },
      {
       "output_type": "stream",
       "stream": "stderr",
       "text": [
        "\r",
        "Processed 769000 ( 30.82% ) in 0.0159 seconds"
       ]
      },
      {
       "output_type": "stream",
       "stream": "stderr",
       "text": [
        "\r",
        "Processed 770000 ( 30.86% ) in 0.0160 seconds"
       ]
      },
      {
       "output_type": "stream",
       "stream": "stderr",
       "text": [
        "\r",
        "Processed 771000 ( 30.90% ) in 0.0158 seconds"
       ]
      },
      {
       "output_type": "stream",
       "stream": "stderr",
       "text": [
        "\r",
        "Processed 772000 ( 30.94% ) in 0.0158 seconds"
       ]
      },
      {
       "output_type": "stream",
       "stream": "stderr",
       "text": [
        "\r",
        "Processed 773000 ( 30.98% ) in 0.0159 seconds"
       ]
      },
      {
       "output_type": "stream",
       "stream": "stderr",
       "text": [
        "\r",
        "Processed 774000 ( 31.02% ) in 0.0159 seconds"
       ]
      },
      {
       "output_type": "stream",
       "stream": "stderr",
       "text": [
        "\r",
        "Processed 775000 ( 31.06% ) in 0.0159 seconds"
       ]
      },
      {
       "output_type": "stream",
       "stream": "stderr",
       "text": [
        "\r",
        "Processed 776000 ( 31.10% ) in 0.0160 seconds"
       ]
      },
      {
       "output_type": "stream",
       "stream": "stderr",
       "text": [
        "\r",
        "Processed 777000 ( 31.14% ) in 0.0165 seconds"
       ]
      },
      {
       "output_type": "stream",
       "stream": "stderr",
       "text": [
        "\r",
        "Processed 778000 ( 31.18% ) in 0.0191 seconds"
       ]
      },
      {
       "output_type": "stream",
       "stream": "stderr",
       "text": [
        "\r",
        "Processed 779000 ( 31.22% ) in 0.0163 seconds"
       ]
      },
      {
       "output_type": "stream",
       "stream": "stderr",
       "text": [
        "\r",
        "Processed 780000 ( 31.26% ) in 0.0166 seconds"
       ]
      },
      {
       "output_type": "stream",
       "stream": "stderr",
       "text": [
        "\r",
        "Processed 781000 ( 31.30% ) in 0.0164 seconds"
       ]
      },
      {
       "output_type": "stream",
       "stream": "stderr",
       "text": [
        "\r",
        "Processed 782000 ( 31.34% ) in 0.0162 seconds"
       ]
      },
      {
       "output_type": "stream",
       "stream": "stderr",
       "text": [
        "\r",
        "Processed 783000 ( 31.38% ) in 0.0163 seconds"
       ]
      },
      {
       "output_type": "stream",
       "stream": "stderr",
       "text": [
        "\r",
        "Processed 784000 ( 31.42% ) in 0.0161 seconds"
       ]
      },
      {
       "output_type": "stream",
       "stream": "stderr",
       "text": [
        "\r",
        "Processed 785000 ( 31.46% ) in 0.0162 seconds"
       ]
      },
      {
       "output_type": "stream",
       "stream": "stderr",
       "text": [
        "\r",
        "Processed 786000 ( 31.50% ) in 0.0165 seconds"
       ]
      },
      {
       "output_type": "stream",
       "stream": "stderr",
       "text": [
        "\r",
        "Processed 787000 ( 31.54% ) in 0.0161 seconds"
       ]
      },
      {
       "output_type": "stream",
       "stream": "stderr",
       "text": [
        "\r",
        "Processed 788000 ( 31.58% ) in 0.0161 seconds"
       ]
      },
      {
       "output_type": "stream",
       "stream": "stderr",
       "text": [
        "\r",
        "Processed 789000 ( 31.62% ) in 0.0159 seconds"
       ]
      },
      {
       "output_type": "stream",
       "stream": "stderr",
       "text": [
        "\r",
        "Processed 790000 ( 31.66% ) in 0.0163 seconds"
       ]
      },
      {
       "output_type": "stream",
       "stream": "stderr",
       "text": [
        "\r",
        "Processed 791000 ( 31.70% ) in 0.0161 seconds"
       ]
      },
      {
       "output_type": "stream",
       "stream": "stderr",
       "text": [
        "\r",
        "Processed 792000 ( 31.74% ) in 0.0161 seconds"
       ]
      },
      {
       "output_type": "stream",
       "stream": "stderr",
       "text": [
        "\r",
        "Processed 793000 ( 31.78% ) in 0.0160 seconds"
       ]
      },
      {
       "output_type": "stream",
       "stream": "stderr",
       "text": [
        "\r",
        "Processed 794000 ( 31.82% ) in 0.0160 seconds"
       ]
      },
      {
       "output_type": "stream",
       "stream": "stderr",
       "text": [
        "\r",
        "Processed 795000 ( 31.86% ) in 0.0162 seconds"
       ]
      },
      {
       "output_type": "stream",
       "stream": "stderr",
       "text": [
        "\r",
        "Processed 796000 ( 31.90% ) in 0.0162 seconds"
       ]
      },
      {
       "output_type": "stream",
       "stream": "stderr",
       "text": [
        "\r",
        "Processed 797000 ( 31.94% ) in 0.0159 seconds"
       ]
      },
      {
       "output_type": "stream",
       "stream": "stderr",
       "text": [
        "\r",
        "Processed 798000 ( 31.98% ) in 0.0161 seconds"
       ]
      },
      {
       "output_type": "stream",
       "stream": "stderr",
       "text": [
        "\r",
        "Processed 799000 ( 32.02% ) in 0.0159 seconds"
       ]
      },
      {
       "output_type": "stream",
       "stream": "stderr",
       "text": [
        "\r",
        "Processed 800000 ( 32.06% ) in 0.0162 seconds"
       ]
      },
      {
       "output_type": "stream",
       "stream": "stderr",
       "text": [
        "\r",
        "Processed 801000 ( 32.10% ) in 0.0161 seconds"
       ]
      },
      {
       "output_type": "stream",
       "stream": "stderr",
       "text": [
        "\r",
        "Processed 802000 ( 32.14% ) in 0.0169 seconds"
       ]
      },
      {
       "output_type": "stream",
       "stream": "stderr",
       "text": [
        "\r",
        "Processed 803000 ( 32.18% ) in 0.0205 seconds"
       ]
      },
      {
       "output_type": "stream",
       "stream": "stderr",
       "text": [
        "\r",
        "Processed 804000 ( 32.22% ) in 0.0163 seconds"
       ]
      },
      {
       "output_type": "stream",
       "stream": "stderr",
       "text": [
        "\r",
        "Processed 805000 ( 32.26% ) in 0.0162 seconds"
       ]
      },
      {
       "output_type": "stream",
       "stream": "stderr",
       "text": [
        "\r",
        "Processed 806000 ( 32.30% ) in 0.0161 seconds"
       ]
      },
      {
       "output_type": "stream",
       "stream": "stderr",
       "text": [
        "\r",
        "Processed 807000 ( 32.34% ) in 0.0161 seconds"
       ]
      },
      {
       "output_type": "stream",
       "stream": "stderr",
       "text": [
        "\r",
        "Processed 808000 ( 32.38% ) in 0.0384 seconds"
       ]
      },
      {
       "output_type": "stream",
       "stream": "stderr",
       "text": [
        "\r",
        "Processed 809000 ( 32.42% ) in 0.0346 seconds"
       ]
      },
      {
       "output_type": "stream",
       "stream": "stderr",
       "text": [
        "\r",
        "Processed 810000 ( 32.46% ) in 0.0785 seconds"
       ]
      },
      {
       "output_type": "stream",
       "stream": "stderr",
       "text": [
        "\r",
        "Processed 811000 ( 32.50% ) in 0.0336 seconds"
       ]
      },
      {
       "output_type": "stream",
       "stream": "stderr",
       "text": [
        "\r",
        "Processed 812000 ( 32.54% ) in 0.0336 seconds"
       ]
      },
      {
       "output_type": "stream",
       "stream": "stderr",
       "text": [
        "\r",
        "Processed 813000 ( 32.58% ) in 0.0322 seconds"
       ]
      },
      {
       "output_type": "stream",
       "stream": "stderr",
       "text": [
        "\r",
        "Processed 814000 ( 32.62% ) in 0.0330 seconds"
       ]
      },
      {
       "output_type": "stream",
       "stream": "stderr",
       "text": [
        "\r",
        "Processed 815000 ( 32.66% ) in 0.0315 seconds"
       ]
      },
      {
       "output_type": "stream",
       "stream": "stderr",
       "text": [
        "\r",
        "Processed 816000 ( 32.70% ) in 0.0330 seconds"
       ]
      },
      {
       "output_type": "stream",
       "stream": "stderr",
       "text": [
        "\r",
        "Processed 817000 ( 32.74% ) in 0.0325 seconds"
       ]
      },
      {
       "output_type": "stream",
       "stream": "stderr",
       "text": [
        "\r",
        "Processed 818000 ( 32.78% ) in 0.0324 seconds"
       ]
      },
      {
       "output_type": "stream",
       "stream": "stderr",
       "text": [
        "\r",
        "Processed 819000 ( 32.82% ) in 0.0308 seconds"
       ]
      },
      {
       "output_type": "stream",
       "stream": "stderr",
       "text": [
        "\r",
        "Processed 820000 ( 32.86% ) in 0.0322 seconds"
       ]
      },
      {
       "output_type": "stream",
       "stream": "stderr",
       "text": [
        "\r",
        "Processed 821000 ( 32.90% ) in 0.0320 seconds"
       ]
      },
      {
       "output_type": "stream",
       "stream": "stderr",
       "text": [
        "\r",
        "Processed 822000 ( 32.94% ) in 0.0320 seconds"
       ]
      },
      {
       "output_type": "stream",
       "stream": "stderr",
       "text": [
        "\r",
        "Processed 823000 ( 32.98% ) in 0.0323 seconds"
       ]
      },
      {
       "output_type": "stream",
       "stream": "stderr",
       "text": [
        "\r",
        "Processed 824000 ( 33.02% ) in 0.0322 seconds"
       ]
      },
      {
       "output_type": "stream",
       "stream": "stderr",
       "text": [
        "\r",
        "Processed 825000 ( 33.06% ) in 0.0322 seconds"
       ]
      },
      {
       "output_type": "stream",
       "stream": "stderr",
       "text": [
        "\r",
        "Processed 826000 ( 33.10% ) in 0.0326 seconds"
       ]
      },
      {
       "output_type": "stream",
       "stream": "stderr",
       "text": [
        "\r",
        "Processed 827000 ( 33.14% ) in 0.0322 seconds"
       ]
      },
      {
       "output_type": "stream",
       "stream": "stderr",
       "text": [
        "\r",
        "Processed 828000 ( 33.18% ) in 0.0319 seconds"
       ]
      },
      {
       "output_type": "stream",
       "stream": "stderr",
       "text": [
        "\r",
        "Processed 829000 ( 33.22% ) in 0.0331 seconds"
       ]
      },
      {
       "output_type": "stream",
       "stream": "stderr",
       "text": [
        "\r",
        "Processed 830000 ( 33.26% ) in 0.0322 seconds"
       ]
      },
      {
       "output_type": "stream",
       "stream": "stderr",
       "text": [
        "\r",
        "Processed 831000 ( 33.30% ) in 0.0319 seconds"
       ]
      },
      {
       "output_type": "stream",
       "stream": "stderr",
       "text": [
        "\r",
        "Processed 832000 ( 33.34% ) in 0.0317 seconds"
       ]
      },
      {
       "output_type": "stream",
       "stream": "stderr",
       "text": [
        "\r",
        "Processed 833000 ( 33.38% ) in 0.0317 seconds"
       ]
      },
      {
       "output_type": "stream",
       "stream": "stderr",
       "text": [
        "\r",
        "Processed 834000 ( 33.42% ) in 0.0321 seconds"
       ]
      },
      {
       "output_type": "stream",
       "stream": "stderr",
       "text": [
        "\r",
        "Processed 835000 ( 33.46% ) in 0.0328 seconds"
       ]
      },
      {
       "output_type": "stream",
       "stream": "stderr",
       "text": [
        "\r",
        "Processed 836000 ( 33.50% ) in 0.0321 seconds"
       ]
      },
      {
       "output_type": "stream",
       "stream": "stderr",
       "text": [
        "\r",
        "Processed 837000 ( 33.54% ) in 0.0178 seconds"
       ]
      },
      {
       "output_type": "stream",
       "stream": "stderr",
       "text": [
        "\r",
        "Processed 838000 ( 33.58% ) in 0.0299 seconds"
       ]
      },
      {
       "output_type": "stream",
       "stream": "stderr",
       "text": [
        "\r",
        "Processed 839000 ( 33.62% ) in 0.0273 seconds"
       ]
      },
      {
       "output_type": "stream",
       "stream": "stderr",
       "text": [
        "\r",
        "Processed 840000 ( 33.66% ) in 0.0615 seconds"
       ]
      },
      {
       "output_type": "stream",
       "stream": "stderr",
       "text": [
        "\r",
        "Processed 841000 ( 33.70% ) in 0.0374 seconds"
       ]
      },
      {
       "output_type": "stream",
       "stream": "stderr",
       "text": [
        "\r",
        "Processed 842000 ( 33.74% ) in 0.0438 seconds"
       ]
      },
      {
       "output_type": "stream",
       "stream": "stderr",
       "text": [
        "\r",
        "Processed 843000 ( 33.78% ) in 0.0205 seconds"
       ]
      },
      {
       "output_type": "stream",
       "stream": "stderr",
       "text": [
        "\r",
        "Processed 844000 ( 33.82% ) in 0.0276 seconds"
       ]
      },
      {
       "output_type": "stream",
       "stream": "stderr",
       "text": [
        "\r",
        "Processed 845000 ( 33.86% ) in 0.0351 seconds"
       ]
      },
      {
       "output_type": "stream",
       "stream": "stderr",
       "text": [
        "\r",
        "Processed 846000 ( 33.90% ) in 0.0260 seconds"
       ]
      },
      {
       "output_type": "stream",
       "stream": "stderr",
       "text": [
        "\r",
        "Processed 847000 ( 33.94% ) in 0.0200 seconds"
       ]
      },
      {
       "output_type": "stream",
       "stream": "stderr",
       "text": [
        "\r",
        "Processed 848000 ( 33.98% ) in 0.0192 seconds"
       ]
      },
      {
       "output_type": "stream",
       "stream": "stderr",
       "text": [
        "\r",
        "Processed 849000 ( 34.02% ) in 0.0241 seconds"
       ]
      },
      {
       "output_type": "stream",
       "stream": "stderr",
       "text": [
        "\r",
        "Processed 850000 ( 34.06% ) in 0.0218 seconds"
       ]
      },
      {
       "output_type": "stream",
       "stream": "stderr",
       "text": [
        "\r",
        "Processed 851000 ( 34.10% ) in 0.0228 seconds"
       ]
      },
      {
       "output_type": "stream",
       "stream": "stderr",
       "text": [
        "\r",
        "Processed 852000 ( 34.14% ) in 0.0161 seconds"
       ]
      },
      {
       "output_type": "stream",
       "stream": "stderr",
       "text": [
        "\r",
        "Processed 853000 ( 34.18% ) in 0.0154 seconds"
       ]
      },
      {
       "output_type": "stream",
       "stream": "stderr",
       "text": [
        "\r",
        "Processed 854000 ( 34.22% ) in 0.0153 seconds"
       ]
      },
      {
       "output_type": "stream",
       "stream": "stderr",
       "text": [
        "\r",
        "Processed 855000 ( 34.26% ) in 0.0154 seconds"
       ]
      },
      {
       "output_type": "stream",
       "stream": "stderr",
       "text": [
        "\r",
        "Processed 856000 ( 34.30% ) in 0.0155 seconds"
       ]
      },
      {
       "output_type": "stream",
       "stream": "stderr",
       "text": [
        "\r",
        "Processed 857000 ( 34.34% ) in 0.0156 seconds"
       ]
      },
      {
       "output_type": "stream",
       "stream": "stderr",
       "text": [
        "\r",
        "Processed 858000 ( 34.38% ) in 0.0150 seconds"
       ]
      },
      {
       "output_type": "stream",
       "stream": "stderr",
       "text": [
        "\r",
        "Processed 859000 ( 34.42% ) in 0.0154 seconds"
       ]
      },
      {
       "output_type": "stream",
       "stream": "stderr",
       "text": [
        "\r",
        "Processed 860000 ( 34.46% ) in 0.0155 seconds"
       ]
      },
      {
       "output_type": "stream",
       "stream": "stderr",
       "text": [
        "\r",
        "Processed 861000 ( 34.50% ) in 0.0157 seconds"
       ]
      },
      {
       "output_type": "stream",
       "stream": "stderr",
       "text": [
        "\r",
        "Processed 862000 ( 34.54% ) in 0.0155 seconds"
       ]
      },
      {
       "output_type": "stream",
       "stream": "stderr",
       "text": [
        "\r",
        "Processed 863000 ( 34.59% ) in 0.0155 seconds"
       ]
      },
      {
       "output_type": "stream",
       "stream": "stderr",
       "text": [
        "\r",
        "Processed 864000 ( 34.63% ) in 0.0153 seconds"
       ]
      },
      {
       "output_type": "stream",
       "stream": "stderr",
       "text": [
        "\r",
        "Processed 865000 ( 34.67% ) in 0.0155 seconds"
       ]
      },
      {
       "output_type": "stream",
       "stream": "stderr",
       "text": [
        "\r",
        "Processed 866000 ( 34.71% ) in 0.0152 seconds"
       ]
      },
      {
       "output_type": "stream",
       "stream": "stderr",
       "text": [
        "\r",
        "Processed 867000 ( 34.75% ) in 0.0151 seconds"
       ]
      },
      {
       "output_type": "stream",
       "stream": "stderr",
       "text": [
        "\r",
        "Processed 868000 ( 34.79% ) in 0.0151 seconds"
       ]
      },
      {
       "output_type": "stream",
       "stream": "stderr",
       "text": [
        "\r",
        "Processed 869000 ( 34.83% ) in 0.0150 seconds"
       ]
      },
      {
       "output_type": "stream",
       "stream": "stderr",
       "text": [
        "\r",
        "Processed 870000 ( 34.87% ) in 0.0150 seconds"
       ]
      },
      {
       "output_type": "stream",
       "stream": "stderr",
       "text": [
        "\r",
        "Processed 871000 ( 34.91% ) in 0.0152 seconds"
       ]
      },
      {
       "output_type": "stream",
       "stream": "stderr",
       "text": [
        "\r",
        "Processed 872000 ( 34.95% ) in 0.0154 seconds"
       ]
      },
      {
       "output_type": "stream",
       "stream": "stderr",
       "text": [
        "\r",
        "Processed 873000 ( 34.99% ) in 0.0154 seconds"
       ]
      },
      {
       "output_type": "stream",
       "stream": "stderr",
       "text": [
        "\r",
        "Processed 874000 ( 35.03% ) in 0.0152 seconds"
       ]
      },
      {
       "output_type": "stream",
       "stream": "stderr",
       "text": [
        "\r",
        "Processed 875000 ( 35.07% ) in 0.0152 seconds"
       ]
      },
      {
       "output_type": "stream",
       "stream": "stderr",
       "text": [
        "\r",
        "Processed 876000 ( 35.11% ) in 0.0157 seconds"
       ]
      },
      {
       "output_type": "stream",
       "stream": "stderr",
       "text": [
        "\r",
        "Processed 877000 ( 35.15% ) in 0.0155 seconds"
       ]
      },
      {
       "output_type": "stream",
       "stream": "stderr",
       "text": [
        "\r",
        "Processed 878000 ( 35.19% ) in 0.0156 seconds"
       ]
      },
      {
       "output_type": "stream",
       "stream": "stderr",
       "text": [
        "\r",
        "Processed 879000 ( 35.23% ) in 0.0151 seconds"
       ]
      },
      {
       "output_type": "stream",
       "stream": "stderr",
       "text": [
        "\r",
        "Processed 880000 ( 35.27% ) in 0.0152 seconds"
       ]
      },
      {
       "output_type": "stream",
       "stream": "stderr",
       "text": [
        "\r",
        "Processed 881000 ( 35.31% ) in 0.0155 seconds"
       ]
      },
      {
       "output_type": "stream",
       "stream": "stderr",
       "text": [
        "\r",
        "Processed 882000 ( 35.35% ) in 0.0155 seconds"
       ]
      },
      {
       "output_type": "stream",
       "stream": "stderr",
       "text": [
        "\r",
        "Processed 883000 ( 35.39% ) in 0.0156 seconds"
       ]
      },
      {
       "output_type": "stream",
       "stream": "stderr",
       "text": [
        "\r",
        "Processed 884000 ( 35.43% ) in 0.0155 seconds"
       ]
      },
      {
       "output_type": "stream",
       "stream": "stderr",
       "text": [
        "\r",
        "Processed 885000 ( 35.47% ) in 0.0155 seconds"
       ]
      },
      {
       "output_type": "stream",
       "stream": "stderr",
       "text": [
        "\r",
        "Processed 886000 ( 35.51% ) in 0.0157 seconds"
       ]
      },
      {
       "output_type": "stream",
       "stream": "stderr",
       "text": [
        "\r",
        "Processed 887000 ( 35.55% ) in 0.0156 seconds"
       ]
      },
      {
       "output_type": "stream",
       "stream": "stderr",
       "text": [
        "\r",
        "Processed 888000 ( 35.59% ) in 0.0154 seconds"
       ]
      },
      {
       "output_type": "stream",
       "stream": "stderr",
       "text": [
        "\r",
        "Processed 889000 ( 35.63% ) in 0.0152 seconds"
       ]
      },
      {
       "output_type": "stream",
       "stream": "stderr",
       "text": [
        "\r",
        "Processed 890000 ( 35.67% ) in 0.0301 seconds"
       ]
      },
      {
       "output_type": "stream",
       "stream": "stderr",
       "text": [
        "\r",
        "Processed 891000 ( 35.71% ) in 0.0312 seconds"
       ]
      },
      {
       "output_type": "stream",
       "stream": "stderr",
       "text": [
        "\r",
        "Processed 892000 ( 35.75% ) in 0.0793 seconds"
       ]
      },
      {
       "output_type": "stream",
       "stream": "stderr",
       "text": [
        "\r",
        "Processed 893000 ( 35.79% ) in 0.0337 seconds"
       ]
      },
      {
       "output_type": "stream",
       "stream": "stderr",
       "text": [
        "\r",
        "Processed 894000 ( 35.83% ) in 0.0332 seconds"
       ]
      },
      {
       "output_type": "stream",
       "stream": "stderr",
       "text": [
        "\r",
        "Processed 895000 ( 35.87% ) in 0.0324 seconds"
       ]
      },
      {
       "output_type": "stream",
       "stream": "stderr",
       "text": [
        "\r",
        "Processed 896000 ( 35.91% ) in 0.0314 seconds"
       ]
      },
      {
       "output_type": "stream",
       "stream": "stderr",
       "text": [
        "\r",
        "Processed 897000 ( 35.95% ) in 0.0319 seconds"
       ]
      },
      {
       "output_type": "stream",
       "stream": "stderr",
       "text": [
        "\r",
        "Processed 898000 ( 35.99% ) in 0.0267 seconds"
       ]
      },
      {
       "output_type": "stream",
       "stream": "stderr",
       "text": [
        "\r",
        "Processed 899000 ( 36.03% ) in 0.0348 seconds"
       ]
      },
      {
       "output_type": "stream",
       "stream": "stderr",
       "text": [
        "\r",
        "Processed 900000 ( 36.07% ) in 0.0343 seconds"
       ]
      },
      {
       "output_type": "stream",
       "stream": "stderr",
       "text": [
        "\r",
        "Processed 901000 ( 36.11% ) in 0.0333 seconds"
       ]
      },
      {
       "output_type": "stream",
       "stream": "stderr",
       "text": [
        "\r",
        "Processed 902000 ( 36.15% ) in 0.0322 seconds"
       ]
      },
      {
       "output_type": "stream",
       "stream": "stderr",
       "text": [
        "\r",
        "Processed 903000 ( 36.19% ) in 0.0325 seconds"
       ]
      },
      {
       "output_type": "stream",
       "stream": "stderr",
       "text": [
        "\r",
        "Processed 904000 ( 36.23% ) in 0.0318 seconds"
       ]
      },
      {
       "output_type": "stream",
       "stream": "stderr",
       "text": [
        "\r",
        "Processed 905000 ( 36.27% ) in 0.0451 seconds"
       ]
      },
      {
       "output_type": "stream",
       "stream": "stderr",
       "text": [
        "\r",
        "Processed 906000 ( 36.31% ) in 0.0200 seconds"
       ]
      },
      {
       "output_type": "stream",
       "stream": "stderr",
       "text": [
        "\r",
        "Processed 907000 ( 36.35% ) in 0.0201 seconds"
       ]
      },
      {
       "output_type": "stream",
       "stream": "stderr",
       "text": [
        "\r",
        "Processed 908000 ( 36.39% ) in 0.0272 seconds"
       ]
      },
      {
       "output_type": "stream",
       "stream": "stderr",
       "text": [
        "\r",
        "Processed 909000 ( 36.43% ) in 0.0334 seconds"
       ]
      },
      {
       "output_type": "stream",
       "stream": "stderr",
       "text": [
        "\r",
        "Processed 910000 ( 36.47% ) in 0.0314 seconds"
       ]
      },
      {
       "output_type": "stream",
       "stream": "stderr",
       "text": [
        "\r",
        "Processed 911000 ( 36.51% ) in 0.0322 seconds"
       ]
      },
      {
       "output_type": "stream",
       "stream": "stderr",
       "text": [
        "\r",
        "Processed 912000 ( 36.55% ) in 0.0322 seconds"
       ]
      },
      {
       "output_type": "stream",
       "stream": "stderr",
       "text": [
        "\r",
        "Processed 913000 ( 36.59% ) in 0.0320 seconds"
       ]
      },
      {
       "output_type": "stream",
       "stream": "stderr",
       "text": [
        "\r",
        "Processed 914000 ( 36.63% ) in 0.0321 seconds"
       ]
      },
      {
       "output_type": "stream",
       "stream": "stderr",
       "text": [
        "\r",
        "Processed 915000 ( 36.67% ) in 0.0321 seconds"
       ]
      },
      {
       "output_type": "stream",
       "stream": "stderr",
       "text": [
        "\r",
        "Processed 916000 ( 36.71% ) in 0.0323 seconds"
       ]
      },
      {
       "output_type": "stream",
       "stream": "stderr",
       "text": [
        "\r",
        "Processed 917000 ( 36.75% ) in 0.0320 seconds"
       ]
      },
      {
       "output_type": "stream",
       "stream": "stderr",
       "text": [
        "\r",
        "Processed 918000 ( 36.79% ) in 0.0320 seconds"
       ]
      },
      {
       "output_type": "stream",
       "stream": "stderr",
       "text": [
        "\r",
        "Processed 919000 ( 36.83% ) in 0.0323 seconds"
       ]
      },
      {
       "output_type": "stream",
       "stream": "stderr",
       "text": [
        "\r",
        "Processed 920000 ( 36.87% ) in 0.0330 seconds"
       ]
      },
      {
       "output_type": "stream",
       "stream": "stderr",
       "text": [
        "\r",
        "Processed 921000 ( 36.91% ) in 0.0322 seconds"
       ]
      },
      {
       "output_type": "stream",
       "stream": "stderr",
       "text": [
        "\r",
        "Processed 922000 ( 36.95% ) in 0.0298 seconds"
       ]
      },
      {
       "output_type": "stream",
       "stream": "stderr",
       "text": [
        "\r",
        "Processed 923000 ( 36.99% ) in 0.0423 seconds"
       ]
      },
      {
       "output_type": "stream",
       "stream": "stderr",
       "text": [
        "\r",
        "Processed 924000 ( 37.03% ) in 0.0522 seconds"
       ]
      },
      {
       "output_type": "stream",
       "stream": "stderr",
       "text": [
        "\r",
        "Processed 925000 ( 37.07% ) in 0.0480 seconds"
       ]
      },
      {
       "output_type": "stream",
       "stream": "stderr",
       "text": [
        "\r",
        "Processed 926000 ( 37.11% ) in 0.0452 seconds"
       ]
      },
      {
       "output_type": "stream",
       "stream": "stderr",
       "text": [
        "\r",
        "Processed 927000 ( 37.15% ) in 0.0423 seconds"
       ]
      },
      {
       "output_type": "stream",
       "stream": "stderr",
       "text": [
        "\r",
        "Processed 928000 ( 37.19% ) in 0.0322 seconds"
       ]
      },
      {
       "output_type": "stream",
       "stream": "stderr",
       "text": [
        "\r",
        "Processed 929000 ( 37.23% ) in 0.0348 seconds"
       ]
      },
      {
       "output_type": "stream",
       "stream": "stderr",
       "text": [
        "\r",
        "Processed 930000 ( 37.27% ) in 0.0278 seconds"
       ]
      },
      {
       "output_type": "stream",
       "stream": "stderr",
       "text": [
        "\r",
        "Processed 931000 ( 37.31% ) in 0.0169 seconds"
       ]
      },
      {
       "output_type": "stream",
       "stream": "stderr",
       "text": [
        "\r",
        "Processed 932000 ( 37.35% ) in 0.0158 seconds"
       ]
      },
      {
       "output_type": "stream",
       "stream": "stderr",
       "text": [
        "\r",
        "Processed 933000 ( 37.39% ) in 0.0156 seconds"
       ]
      },
      {
       "output_type": "stream",
       "stream": "stderr",
       "text": [
        "\r",
        "Processed 934000 ( 37.43% ) in 0.0157 seconds"
       ]
      },
      {
       "output_type": "stream",
       "stream": "stderr",
       "text": [
        "\r",
        "Processed 935000 ( 37.47% ) in 0.0155 seconds"
       ]
      },
      {
       "output_type": "stream",
       "stream": "stderr",
       "text": [
        "\r",
        "Processed 936000 ( 37.51% ) in 0.0154 seconds"
       ]
      },
      {
       "output_type": "stream",
       "stream": "stderr",
       "text": [
        "\r",
        "Processed 937000 ( 37.55% ) in 0.0159 seconds"
       ]
      },
      {
       "output_type": "stream",
       "stream": "stderr",
       "text": [
        "\r",
        "Processed 938000 ( 37.59% ) in 0.0158 seconds"
       ]
      },
      {
       "output_type": "stream",
       "stream": "stderr",
       "text": [
        "\r",
        "Processed 939000 ( 37.63% ) in 0.0159 seconds"
       ]
      },
      {
       "output_type": "stream",
       "stream": "stderr",
       "text": [
        "\r",
        "Processed 940000 ( 37.67% ) in 0.0160 seconds"
       ]
      },
      {
       "output_type": "stream",
       "stream": "stderr",
       "text": [
        "\r",
        "Processed 941000 ( 37.71% ) in 0.0160 seconds"
       ]
      },
      {
       "output_type": "stream",
       "stream": "stderr",
       "text": [
        "\r",
        "Processed 942000 ( 37.75% ) in 0.0159 seconds"
       ]
      },
      {
       "output_type": "stream",
       "stream": "stderr",
       "text": [
        "\r",
        "Processed 943000 ( 37.79% ) in 0.0157 seconds"
       ]
      },
      {
       "output_type": "stream",
       "stream": "stderr",
       "text": [
        "\r",
        "Processed 944000 ( 37.83% ) in 0.0154 seconds"
       ]
      },
      {
       "output_type": "stream",
       "stream": "stderr",
       "text": [
        "\r",
        "Processed 945000 ( 37.87% ) in 0.0153 seconds"
       ]
      },
      {
       "output_type": "stream",
       "stream": "stderr",
       "text": [
        "\r",
        "Processed 946000 ( 37.91% ) in 0.0159 seconds"
       ]
      },
      {
       "output_type": "stream",
       "stream": "stderr",
       "text": [
        "\r",
        "Processed 947000 ( 37.95% ) in 0.0159 seconds"
       ]
      },
      {
       "output_type": "stream",
       "stream": "stderr",
       "text": [
        "\r",
        "Processed 948000 ( 37.99% ) in 0.0160 seconds"
       ]
      },
      {
       "output_type": "stream",
       "stream": "stderr",
       "text": [
        "\r",
        "Processed 949000 ( 38.03% ) in 0.0160 seconds"
       ]
      },
      {
       "output_type": "stream",
       "stream": "stderr",
       "text": [
        "\r",
        "Processed 950000 ( 38.07% ) in 0.0158 seconds"
       ]
      },
      {
       "output_type": "stream",
       "stream": "stderr",
       "text": [
        "\r",
        "Processed 951000 ( 38.11% ) in 0.0160 seconds"
       ]
      },
      {
       "output_type": "stream",
       "stream": "stderr",
       "text": [
        "\r",
        "Processed 952000 ( 38.15% ) in 0.0161 seconds"
       ]
      },
      {
       "output_type": "stream",
       "stream": "stderr",
       "text": [
        "\r",
        "Processed 953000 ( 38.19% ) in 0.0168 seconds"
       ]
      },
      {
       "output_type": "stream",
       "stream": "stderr",
       "text": [
        "\r",
        "Processed 954000 ( 38.23% ) in 0.0159 seconds"
       ]
      },
      {
       "output_type": "stream",
       "stream": "stderr",
       "text": [
        "\r",
        "Processed 955000 ( 38.27% ) in 0.0157 seconds"
       ]
      },
      {
       "output_type": "stream",
       "stream": "stderr",
       "text": [
        "\r",
        "Processed 956000 ( 38.31% ) in 0.0156 seconds"
       ]
      },
      {
       "output_type": "stream",
       "stream": "stderr",
       "text": [
        "\r",
        "Processed 957000 ( 38.35% ) in 0.0156 seconds"
       ]
      },
      {
       "output_type": "stream",
       "stream": "stderr",
       "text": [
        "\r",
        "Processed 958000 ( 38.39% ) in 0.0157 seconds"
       ]
      },
      {
       "output_type": "stream",
       "stream": "stderr",
       "text": [
        "\r",
        "Processed 959000 ( 38.43% ) in 0.0156 seconds"
       ]
      },
      {
       "output_type": "stream",
       "stream": "stderr",
       "text": [
        "\r",
        "Processed 960000 ( 38.47% ) in 0.0158 seconds"
       ]
      },
      {
       "output_type": "stream",
       "stream": "stderr",
       "text": [
        "\r",
        "Processed 961000 ( 38.51% ) in 0.0158 seconds"
       ]
      },
      {
       "output_type": "stream",
       "stream": "stderr",
       "text": [
        "\r",
        "Processed 962000 ( 38.55% ) in 0.0157 seconds"
       ]
      },
      {
       "output_type": "stream",
       "stream": "stderr",
       "text": [
        "\r",
        "Processed 963000 ( 38.59% ) in 0.0156 seconds"
       ]
      },
      {
       "output_type": "stream",
       "stream": "stderr",
       "text": [
        "\r",
        "Processed 964000 ( 38.63% ) in 0.0158 seconds"
       ]
      },
      {
       "output_type": "stream",
       "stream": "stderr",
       "text": [
        "\r",
        "Processed 965000 ( 38.67% ) in 0.0150 seconds"
       ]
      },
      {
       "output_type": "stream",
       "stream": "stderr",
       "text": [
        "\r",
        "Processed 966000 ( 38.71% ) in 0.0153 seconds"
       ]
      },
      {
       "output_type": "stream",
       "stream": "stderr",
       "text": [
        "\r",
        "Processed 967000 ( 38.75% ) in 0.0163 seconds"
       ]
      },
      {
       "output_type": "stream",
       "stream": "stderr",
       "text": [
        "\r",
        "Processed 968000 ( 38.79% ) in 0.0305 seconds"
       ]
      },
      {
       "output_type": "stream",
       "stream": "stderr",
       "text": [
        "\r",
        "Processed 969000 ( 38.83% ) in 0.0419 seconds"
       ]
      },
      {
       "output_type": "stream",
       "stream": "stderr",
       "text": [
        "\r",
        "Processed 970000 ( 38.87% ) in 0.0486 seconds"
       ]
      },
      {
       "output_type": "stream",
       "stream": "stderr",
       "text": [
        "\r",
        "Processed 971000 ( 38.91% ) in 0.0233 seconds"
       ]
      },
      {
       "output_type": "stream",
       "stream": "stderr",
       "text": [
        "\r",
        "Processed 972000 ( 38.95% ) in 0.0301 seconds"
       ]
      },
      {
       "output_type": "stream",
       "stream": "stderr",
       "text": [
        "\r",
        "Processed 973000 ( 38.99% ) in 0.0237 seconds"
       ]
      },
      {
       "output_type": "stream",
       "stream": "stderr",
       "text": [
        "\r",
        "Processed 974000 ( 39.03% ) in 0.0304 seconds"
       ]
      },
      {
       "output_type": "stream",
       "stream": "stderr",
       "text": [
        "\r",
        "Processed 975000 ( 39.07% ) in 0.0318 seconds"
       ]
      },
      {
       "output_type": "stream",
       "stream": "stderr",
       "text": [
        "\r",
        "Processed 976000 ( 39.11% ) in 0.0321 seconds"
       ]
      },
      {
       "output_type": "stream",
       "stream": "stderr",
       "text": [
        "\r",
        "Processed 977000 ( 39.15% ) in 0.0470 seconds"
       ]
      },
      {
       "output_type": "stream",
       "stream": "stderr",
       "text": [
        "\r",
        "Processed 978000 ( 39.19% ) in 0.0266 seconds"
       ]
      },
      {
       "output_type": "stream",
       "stream": "stderr",
       "text": [
        "\r",
        "Processed 979000 ( 39.23% ) in 0.0351 seconds"
       ]
      },
      {
       "output_type": "stream",
       "stream": "stderr",
       "text": [
        "\r",
        "Processed 980000 ( 39.27% ) in 0.0357 seconds"
       ]
      },
      {
       "output_type": "stream",
       "stream": "stderr",
       "text": [
        "\r",
        "Processed 981000 ( 39.31% ) in 0.0344 seconds"
       ]
      },
      {
       "output_type": "stream",
       "stream": "stderr",
       "text": [
        "\r",
        "Processed 982000 ( 39.35% ) in 0.0229 seconds"
       ]
      },
      {
       "output_type": "stream",
       "stream": "stderr",
       "text": [
        "\r",
        "Processed 983000 ( 39.39% ) in 0.0329 seconds"
       ]
      },
      {
       "output_type": "stream",
       "stream": "stderr",
       "text": [
        "\r",
        "Processed 984000 ( 39.43% ) in 0.0427 seconds"
       ]
      },
      {
       "output_type": "stream",
       "stream": "stderr",
       "text": [
        "\r",
        "Processed 985000 ( 39.47% ) in 0.0336 seconds"
       ]
      },
      {
       "output_type": "stream",
       "stream": "stderr",
       "text": [
        "\r",
        "Processed 986000 ( 39.51% ) in 0.0282 seconds"
       ]
      },
      {
       "output_type": "stream",
       "stream": "stderr",
       "text": [
        "\r",
        "Processed 987000 ( 39.55% ) in 0.0317 seconds"
       ]
      },
      {
       "output_type": "stream",
       "stream": "stderr",
       "text": [
        "\r",
        "Processed 988000 ( 39.59% ) in 0.0307 seconds"
       ]
      },
      {
       "output_type": "stream",
       "stream": "stderr",
       "text": [
        "\r",
        "Processed 989000 ( 39.63% ) in 0.0205 seconds"
       ]
      },
      {
       "output_type": "stream",
       "stream": "stderr",
       "text": [
        "\r",
        "Processed 990000 ( 39.67% ) in 0.0335 seconds"
       ]
      },
      {
       "output_type": "stream",
       "stream": "stderr",
       "text": [
        "\r",
        "Processed 991000 ( 39.71% ) in 0.0320 seconds"
       ]
      },
      {
       "output_type": "stream",
       "stream": "stderr",
       "text": [
        "\r",
        "Processed 992000 ( 39.75% ) in 0.0284 seconds"
       ]
      },
      {
       "output_type": "stream",
       "stream": "stderr",
       "text": [
        "\r",
        "Processed 993000 ( 39.79% ) in 0.0217 seconds"
       ]
      },
      {
       "output_type": "stream",
       "stream": "stderr",
       "text": [
        "\r",
        "Processed 994000 ( 39.83% ) in 0.0262 seconds"
       ]
      },
      {
       "output_type": "stream",
       "stream": "stderr",
       "text": [
        "\r",
        "Processed 995000 ( 39.87% ) in 0.0321 seconds"
       ]
      },
      {
       "output_type": "stream",
       "stream": "stderr",
       "text": [
        "\r",
        "Processed 996000 ( 39.92% ) in 0.0340 seconds"
       ]
      },
      {
       "output_type": "stream",
       "stream": "stderr",
       "text": [
        "\r",
        "Processed 997000 ( 39.96% ) in 0.0199 seconds"
       ]
      },
      {
       "output_type": "stream",
       "stream": "stderr",
       "text": [
        "\r",
        "Processed 998000 ( 40.00% ) in 0.0290 seconds"
       ]
      },
      {
       "output_type": "stream",
       "stream": "stderr",
       "text": [
        "\r",
        "Processed 999000 ( 40.04% ) in 0.0339 seconds"
       ]
      },
      {
       "output_type": "stream",
       "stream": "stderr",
       "text": [
        "\r",
        "Processed 1000000 ( 40.08% ) in 0.0331 seconds"
       ]
      },
      {
       "output_type": "stream",
       "stream": "stderr",
       "text": [
        "\r",
        "Processed 1001000 ( 40.12% ) in 0.0307 seconds"
       ]
      },
      {
       "output_type": "stream",
       "stream": "stderr",
       "text": [
        "\r",
        "Processed 1002000 ( 40.16% ) in 0.0492 seconds"
       ]
      },
      {
       "output_type": "stream",
       "stream": "stderr",
       "text": [
        "\r",
        "Processed 1003000 ( 40.20% ) in 0.0437 seconds"
       ]
      },
      {
       "output_type": "stream",
       "stream": "stderr",
       "text": [
        "\r",
        "Processed 1004000 ( 40.24% ) in 0.0313 seconds"
       ]
      },
      {
       "output_type": "stream",
       "stream": "stderr",
       "text": [
        "\r",
        "Processed 1005000 ( 40.28% ) in 0.0341 seconds"
       ]
      },
      {
       "output_type": "stream",
       "stream": "stderr",
       "text": [
        "\r",
        "Processed 1006000 ( 40.32% ) in 0.0418 seconds"
       ]
      },
      {
       "output_type": "stream",
       "stream": "stderr",
       "text": [
        "\r",
        "Processed 1007000 ( 40.36% ) in 0.0364 seconds"
       ]
      },
      {
       "output_type": "stream",
       "stream": "stderr",
       "text": [
        "\r",
        "Processed 1008000 ( 40.40% ) in 0.0434 seconds"
       ]
      },
      {
       "output_type": "stream",
       "stream": "stderr",
       "text": [
        "\r",
        "Processed 1009000 ( 40.44% ) in 0.0287 seconds"
       ]
      },
      {
       "output_type": "stream",
       "stream": "stderr",
       "text": [
        "\r",
        "Processed 1010000 ( 40.48% ) in 0.0314 seconds"
       ]
      },
      {
       "output_type": "stream",
       "stream": "stderr",
       "text": [
        "\r",
        "Processed 1011000 ( 40.52% ) in 0.0232 seconds"
       ]
      },
      {
       "output_type": "stream",
       "stream": "stderr",
       "text": [
        "\r",
        "Processed 1012000 ( 40.56% ) in 0.0159 seconds"
       ]
      },
      {
       "output_type": "stream",
       "stream": "stderr",
       "text": [
        "\r",
        "Processed 1013000 ( 40.60% ) in 0.0160 seconds"
       ]
      },
      {
       "output_type": "stream",
       "stream": "stderr",
       "text": [
        "\r",
        "Processed 1014000 ( 40.64% ) in 0.0162 seconds"
       ]
      },
      {
       "output_type": "stream",
       "stream": "stderr",
       "text": [
        "\r",
        "Processed 1015000 ( 40.68% ) in 0.0159 seconds"
       ]
      },
      {
       "output_type": "stream",
       "stream": "stderr",
       "text": [
        "\r",
        "Processed 1016000 ( 40.72% ) in 0.0160 seconds"
       ]
      },
      {
       "output_type": "stream",
       "stream": "stderr",
       "text": [
        "\r",
        "Processed 1017000 ( 40.76% ) in 0.0163 seconds"
       ]
      },
      {
       "output_type": "stream",
       "stream": "stderr",
       "text": [
        "\r",
        "Processed 1018000 ( 40.80% ) in 0.0161 seconds"
       ]
      },
      {
       "output_type": "stream",
       "stream": "stderr",
       "text": [
        "\r",
        "Processed 1019000 ( 40.84% ) in 0.0159 seconds"
       ]
      },
      {
       "output_type": "stream",
       "stream": "stderr",
       "text": [
        "\r",
        "Processed 1020000 ( 40.88% ) in 0.0161 seconds"
       ]
      },
      {
       "output_type": "stream",
       "stream": "stderr",
       "text": [
        "\r",
        "Processed 1021000 ( 40.92% ) in 0.0160 seconds"
       ]
      },
      {
       "output_type": "stream",
       "stream": "stderr",
       "text": [
        "\r",
        "Processed 1022000 ( 40.96% ) in 0.0163 seconds"
       ]
      },
      {
       "output_type": "stream",
       "stream": "stderr",
       "text": [
        "\r",
        "Processed 1023000 ( 41.00% ) in 0.0160 seconds"
       ]
      },
      {
       "output_type": "stream",
       "stream": "stderr",
       "text": [
        "\r",
        "Processed 1024000 ( 41.04% ) in 0.0160 seconds"
       ]
      },
      {
       "output_type": "stream",
       "stream": "stderr",
       "text": [
        "\r",
        "Processed 1025000 ( 41.08% ) in 0.0160 seconds"
       ]
      },
      {
       "output_type": "stream",
       "stream": "stderr",
       "text": [
        "\r",
        "Processed 1026000 ( 41.12% ) in 0.0162 seconds"
       ]
      },
      {
       "output_type": "stream",
       "stream": "stderr",
       "text": [
        "\r",
        "Processed 1027000 ( 41.16% ) in 0.0161 seconds"
       ]
      },
      {
       "output_type": "stream",
       "stream": "stderr",
       "text": [
        "\r",
        "Processed 1028000 ( 41.20% ) in 0.0161 seconds"
       ]
      },
      {
       "output_type": "stream",
       "stream": "stderr",
       "text": [
        "\r",
        "Processed 1029000 ( 41.24% ) in 0.0161 seconds"
       ]
      },
      {
       "output_type": "stream",
       "stream": "stderr",
       "text": [
        "\r",
        "Processed 1030000 ( 41.28% ) in 0.0161 seconds"
       ]
      },
      {
       "output_type": "stream",
       "stream": "stderr",
       "text": [
        "\r",
        "Processed 1031000 ( 41.32% ) in 0.0159 seconds"
       ]
      },
      {
       "output_type": "stream",
       "stream": "stderr",
       "text": [
        "\r",
        "Processed 1032000 ( 41.36% ) in 0.0163 seconds"
       ]
      },
      {
       "output_type": "stream",
       "stream": "stderr",
       "text": [
        "\r",
        "Processed 1033000 ( 41.40% ) in 0.0157 seconds"
       ]
      },
      {
       "output_type": "stream",
       "stream": "stderr",
       "text": [
        "\r",
        "Processed 1034000 ( 41.44% ) in 0.0155 seconds"
       ]
      },
      {
       "output_type": "stream",
       "stream": "stderr",
       "text": [
        "\r",
        "Processed 1035000 ( 41.48% ) in 0.0157 seconds"
       ]
      },
      {
       "output_type": "stream",
       "stream": "stderr",
       "text": [
        "\r",
        "Processed 1036000 ( 41.52% ) in 0.0158 seconds"
       ]
      },
      {
       "output_type": "stream",
       "stream": "stderr",
       "text": [
        "\r",
        "Processed 1037000 ( 41.56% ) in 0.0155 seconds"
       ]
      },
      {
       "output_type": "stream",
       "stream": "stderr",
       "text": [
        "\r",
        "Processed 1038000 ( 41.60% ) in 0.0157 seconds"
       ]
      },
      {
       "output_type": "stream",
       "stream": "stderr",
       "text": [
        "\r",
        "Processed 1039000 ( 41.64% ) in 0.0157 seconds"
       ]
      },
      {
       "output_type": "stream",
       "stream": "stderr",
       "text": [
        "\r",
        "Processed 1040000 ( 41.68% ) in 0.0158 seconds"
       ]
      },
      {
       "output_type": "stream",
       "stream": "stderr",
       "text": [
        "\r",
        "Processed 1041000 ( 41.72% ) in 0.0155 seconds"
       ]
      },
      {
       "output_type": "stream",
       "stream": "stderr",
       "text": [
        "\r",
        "Processed 1042000 ( 41.76% ) in 0.0154 seconds"
       ]
      },
      {
       "output_type": "stream",
       "stream": "stderr",
       "text": [
        "\r",
        "Processed 1043000 ( 41.80% ) in 0.0157 seconds"
       ]
      },
      {
       "output_type": "stream",
       "stream": "stderr",
       "text": [
        "\r",
        "Processed 1044000 ( 41.84% ) in 0.0155 seconds"
       ]
      },
      {
       "output_type": "stream",
       "stream": "stderr",
       "text": [
        "\r",
        "Processed 1045000 ( 41.88% ) in 0.0156 seconds"
       ]
      },
      {
       "output_type": "stream",
       "stream": "stderr",
       "text": [
        "\r",
        "Processed 1046000 ( 41.92% ) in 0.0159 seconds"
       ]
      },
      {
       "output_type": "stream",
       "stream": "stderr",
       "text": [
        "\r",
        "Processed 1047000 ( 41.96% ) in 0.0153 seconds"
       ]
      },
      {
       "output_type": "stream",
       "stream": "stderr",
       "text": [
        "\r",
        "Processed 1048000 ( 42.00% ) in 0.0379 seconds"
       ]
      },
      {
       "output_type": "stream",
       "stream": "stderr",
       "text": [
        "\r",
        "Processed 1049000 ( 42.04% ) in 0.0485 seconds"
       ]
      },
      {
       "output_type": "stream",
       "stream": "stderr",
       "text": [
        "\r",
        "Processed 1050000 ( 42.08% ) in 0.0279 seconds"
       ]
      },
      {
       "output_type": "stream",
       "stream": "stderr",
       "text": [
        "\r",
        "Processed 1051000 ( 42.12% ) in 0.0202 seconds"
       ]
      },
      {
       "output_type": "stream",
       "stream": "stderr",
       "text": [
        "\r",
        "Processed 1052000 ( 42.16% ) in 0.0195 seconds"
       ]
      },
      {
       "output_type": "stream",
       "stream": "stderr",
       "text": [
        "\r",
        "Processed 1053000 ( 42.20% ) in 0.0230 seconds"
       ]
      },
      {
       "output_type": "stream",
       "stream": "stderr",
       "text": [
        "\r",
        "Processed 1054000 ( 42.24% ) in 0.0287 seconds"
       ]
      },
      {
       "output_type": "stream",
       "stream": "stderr",
       "text": [
        "\r",
        "Processed 1055000 ( 42.28% ) in 0.0215 seconds"
       ]
      },
      {
       "output_type": "stream",
       "stream": "stderr",
       "text": [
        "\r",
        "Processed 1056000 ( 42.32% ) in 0.0192 seconds"
       ]
      },
      {
       "output_type": "stream",
       "stream": "stderr",
       "text": [
        "\r",
        "Processed 1057000 ( 42.36% ) in 0.0221 seconds"
       ]
      },
      {
       "output_type": "stream",
       "stream": "stderr",
       "text": [
        "\r",
        "Processed 1058000 ( 42.40% ) in 0.0206 seconds"
       ]
      },
      {
       "output_type": "stream",
       "stream": "stderr",
       "text": [
        "\r",
        "Processed 1059000 ( 42.44% ) in 0.0213 seconds"
       ]
      },
      {
       "output_type": "stream",
       "stream": "stderr",
       "text": [
        "\r",
        "Processed 1060000 ( 42.48% ) in 0.0226 seconds"
       ]
      },
      {
       "output_type": "stream",
       "stream": "stderr",
       "text": [
        "\r",
        "Processed 1061000 ( 42.52% ) in 0.0278 seconds"
       ]
      },
      {
       "output_type": "stream",
       "stream": "stderr",
       "text": [
        "\r",
        "Processed 1062000 ( 42.56% ) in 0.0301 seconds"
       ]
      },
      {
       "output_type": "stream",
       "stream": "stderr",
       "text": [
        "\r",
        "Processed 1063000 ( 42.60% ) in 0.0311 seconds"
       ]
      },
      {
       "output_type": "stream",
       "stream": "stderr",
       "text": [
        "\r",
        "Processed 1064000 ( 42.64% ) in 0.0193 seconds"
       ]
      },
      {
       "output_type": "stream",
       "stream": "stderr",
       "text": [
        "\r",
        "Processed 1065000 ( 42.68% ) in 0.0190 seconds"
       ]
      },
      {
       "output_type": "stream",
       "stream": "stderr",
       "text": [
        "\r",
        "Processed 1066000 ( 42.72% ) in 0.0193 seconds"
       ]
      },
      {
       "output_type": "stream",
       "stream": "stderr",
       "text": [
        "\r",
        "Processed 1067000 ( 42.76% ) in 0.0202 seconds"
       ]
      },
      {
       "output_type": "stream",
       "stream": "stderr",
       "text": [
        "\r",
        "Processed 1068000 ( 42.80% ) in 0.0195 seconds"
       ]
      },
      {
       "output_type": "stream",
       "stream": "stderr",
       "text": [
        "\r",
        "Processed 1069000 ( 42.84% ) in 0.0195 seconds"
       ]
      },
      {
       "output_type": "stream",
       "stream": "stderr",
       "text": [
        "\r",
        "Processed 1070000 ( 42.88% ) in 0.0197 seconds"
       ]
      },
      {
       "output_type": "stream",
       "stream": "stderr",
       "text": [
        "\r",
        "Processed 1071000 ( 42.92% ) in 0.0197 seconds"
       ]
      },
      {
       "output_type": "stream",
       "stream": "stderr",
       "text": [
        "\r",
        "Processed 1072000 ( 42.96% ) in 0.0196 seconds"
       ]
      },
      {
       "output_type": "stream",
       "stream": "stderr",
       "text": [
        "\r",
        "Processed 1073000 ( 43.00% ) in 0.0202 seconds"
       ]
      },
      {
       "output_type": "stream",
       "stream": "stderr",
       "text": [
        "\r",
        "Processed 1074000 ( 43.04% ) in 0.0206 seconds"
       ]
      },
      {
       "output_type": "stream",
       "stream": "stderr",
       "text": [
        "\r",
        "Processed 1075000 ( 43.08% ) in 0.0209 seconds"
       ]
      },
      {
       "output_type": "stream",
       "stream": "stderr",
       "text": [
        "\r",
        "Processed 1076000 ( 43.12% ) in 0.0243 seconds"
       ]
      },
      {
       "output_type": "stream",
       "stream": "stderr",
       "text": [
        "\r",
        "Processed 1077000 ( 43.16% ) in 0.0213 seconds"
       ]
      },
      {
       "output_type": "stream",
       "stream": "stderr",
       "text": [
        "\r",
        "Processed 1078000 ( 43.20% ) in 0.0209 seconds"
       ]
      },
      {
       "output_type": "stream",
       "stream": "stderr",
       "text": [
        "\r",
        "Processed 1079000 ( 43.24% ) in 0.0210 seconds"
       ]
      },
      {
       "output_type": "stream",
       "stream": "stderr",
       "text": [
        "\r",
        "Processed 1080000 ( 43.28% ) in 0.0207 seconds"
       ]
      },
      {
       "output_type": "stream",
       "stream": "stderr",
       "text": [
        "\r",
        "Processed 1081000 ( 43.32% ) in 0.0205 seconds"
       ]
      },
      {
       "output_type": "stream",
       "stream": "stderr",
       "text": [
        "\r",
        "Processed 1082000 ( 43.36% ) in 0.0203 seconds"
       ]
      },
      {
       "output_type": "stream",
       "stream": "stderr",
       "text": [
        "\r",
        "Processed 1083000 ( 43.40% ) in 0.0206 seconds"
       ]
      },
      {
       "output_type": "stream",
       "stream": "stderr",
       "text": [
        "\r",
        "Processed 1084000 ( 43.44% ) in 0.0211 seconds"
       ]
      },
      {
       "output_type": "stream",
       "stream": "stderr",
       "text": [
        "\r",
        "Processed 1085000 ( 43.48% ) in 0.0211 seconds"
       ]
      },
      {
       "output_type": "stream",
       "stream": "stderr",
       "text": [
        "\r",
        "Processed 1086000 ( 43.52% ) in 0.0324 seconds"
       ]
      },
      {
       "output_type": "stream",
       "stream": "stderr",
       "text": [
        "\r",
        "Processed 1087000 ( 43.56% ) in 0.0210 seconds"
       ]
      },
      {
       "output_type": "stream",
       "stream": "stderr",
       "text": [
        "\r",
        "Processed 1088000 ( 43.60% ) in 0.0224 seconds"
       ]
      },
      {
       "output_type": "stream",
       "stream": "stderr",
       "text": [
        "\r",
        "Processed 1089000 ( 43.64% ) in 0.0228 seconds"
       ]
      },
      {
       "output_type": "stream",
       "stream": "stderr",
       "text": [
        "\r",
        "Processed 1090000 ( 43.68% ) in 0.0220 seconds"
       ]
      },
      {
       "output_type": "stream",
       "stream": "stderr",
       "text": [
        "\r",
        "Processed 1091000 ( 43.72% ) in 0.0449 seconds"
       ]
      },
      {
       "output_type": "stream",
       "stream": "stderr",
       "text": [
        "\r",
        "Processed 1092000 ( 43.76% ) in 0.0386 seconds"
       ]
      },
      {
       "output_type": "stream",
       "stream": "stderr",
       "text": [
        "\r",
        "Processed 1093000 ( 43.80% ) in 0.0512 seconds"
       ]
      },
      {
       "output_type": "stream",
       "stream": "stderr",
       "text": [
        "\r",
        "Processed 1094000 ( 43.84% ) in 0.0432 seconds"
       ]
      },
      {
       "output_type": "stream",
       "stream": "stderr",
       "text": [
        "\r",
        "Processed 1095000 ( 43.88% ) in 0.0473 seconds"
       ]
      },
      {
       "output_type": "stream",
       "stream": "stderr",
       "text": [
        "\r",
        "Processed 1096000 ( 43.92% ) in 0.0237 seconds"
       ]
      },
      {
       "output_type": "stream",
       "stream": "stderr",
       "text": [
        "\r",
        "Processed 1097000 ( 43.96% ) in 0.0165 seconds"
       ]
      },
      {
       "output_type": "stream",
       "stream": "stderr",
       "text": [
        "\r",
        "Processed 1098000 ( 44.00% ) in 0.0393 seconds"
       ]
      },
      {
       "output_type": "stream",
       "stream": "stderr",
       "text": [
        "\r",
        "Processed 1099000 ( 44.04% ) in 0.0345 seconds"
       ]
      },
      {
       "output_type": "stream",
       "stream": "stderr",
       "text": [
        "\r",
        "Processed 1100000 ( 44.08% ) in 0.0228 seconds"
       ]
      },
      {
       "output_type": "stream",
       "stream": "stderr",
       "text": [
        "\r",
        "Processed 1101000 ( 44.12% ) in 0.0160 seconds"
       ]
      },
      {
       "output_type": "stream",
       "stream": "stderr",
       "text": [
        "\r",
        "Processed 1102000 ( 44.16% ) in 0.0158 seconds"
       ]
      },
      {
       "output_type": "stream",
       "stream": "stderr",
       "text": [
        "\r",
        "Processed 1103000 ( 44.20% ) in 0.0157 seconds"
       ]
      },
      {
       "output_type": "stream",
       "stream": "stderr",
       "text": [
        "\r",
        "Processed 1104000 ( 44.24% ) in 0.0156 seconds"
       ]
      },
      {
       "output_type": "stream",
       "stream": "stderr",
       "text": [
        "\r",
        "Processed 1105000 ( 44.28% ) in 0.0190 seconds"
       ]
      },
      {
       "output_type": "stream",
       "stream": "stderr",
       "text": [
        "\r",
        "Processed 1106000 ( 44.32% ) in 0.0256 seconds"
       ]
      },
      {
       "output_type": "stream",
       "stream": "stderr",
       "text": [
        "\r",
        "Processed 1107000 ( 44.36% ) in 0.0158 seconds"
       ]
      },
      {
       "output_type": "stream",
       "stream": "stderr",
       "text": [
        "\r",
        "Processed 1108000 ( 44.40% ) in 0.0158 seconds"
       ]
      },
      {
       "output_type": "stream",
       "stream": "stderr",
       "text": [
        "\r",
        "Processed 1109000 ( 44.44% ) in 0.0183 seconds"
       ]
      },
      {
       "output_type": "stream",
       "stream": "stderr",
       "text": [
        "\r",
        "Processed 1110000 ( 44.48% ) in 0.0159 seconds"
       ]
      },
      {
       "output_type": "stream",
       "stream": "stderr",
       "text": [
        "\r",
        "Processed 1111000 ( 44.52% ) in 0.0158 seconds"
       ]
      },
      {
       "output_type": "stream",
       "stream": "stderr",
       "text": [
        "\r",
        "Processed 1112000 ( 44.56% ) in 0.0156 seconds"
       ]
      },
      {
       "output_type": "stream",
       "stream": "stderr",
       "text": [
        "\r",
        "Processed 1113000 ( 44.60% ) in 0.0154 seconds"
       ]
      },
      {
       "output_type": "stream",
       "stream": "stderr",
       "text": [
        "\r",
        "Processed 1114000 ( 44.64% ) in 0.0166 seconds"
       ]
      },
      {
       "output_type": "stream",
       "stream": "stderr",
       "text": [
        "\r",
        "Processed 1115000 ( 44.68% ) in 0.0180 seconds"
       ]
      },
      {
       "output_type": "stream",
       "stream": "stderr",
       "text": [
        "\r",
        "Processed 1116000 ( 44.72% ) in 0.0156 seconds"
       ]
      },
      {
       "output_type": "stream",
       "stream": "stderr",
       "text": [
        "\r",
        "Processed 1117000 ( 44.76% ) in 0.0158 seconds"
       ]
      },
      {
       "output_type": "stream",
       "stream": "stderr",
       "text": [
        "\r",
        "Processed 1118000 ( 44.80% ) in 0.0155 seconds"
       ]
      },
      {
       "output_type": "stream",
       "stream": "stderr",
       "text": [
        "\r",
        "Processed 1119000 ( 44.84% ) in 0.0155 seconds"
       ]
      },
      {
       "output_type": "stream",
       "stream": "stderr",
       "text": [
        "\r",
        "Processed 1120000 ( 44.88% ) in 0.0167 seconds"
       ]
      },
      {
       "output_type": "stream",
       "stream": "stderr",
       "text": [
        "\r",
        "Processed 1121000 ( 44.92% ) in 0.0160 seconds"
       ]
      },
      {
       "output_type": "stream",
       "stream": "stderr",
       "text": [
        "\r",
        "Processed 1122000 ( 44.96% ) in 0.0205 seconds"
       ]
      },
      {
       "output_type": "stream",
       "stream": "stderr",
       "text": [
        "\r",
        "Processed 1123000 ( 45.00% ) in 0.0155 seconds"
       ]
      },
      {
       "output_type": "stream",
       "stream": "stderr",
       "text": [
        "\r",
        "Processed 1124000 ( 45.04% ) in 0.0156 seconds"
       ]
      },
      {
       "output_type": "stream",
       "stream": "stderr",
       "text": [
        "\r",
        "Processed 1125000 ( 45.08% ) in 0.0158 seconds"
       ]
      },
      {
       "output_type": "stream",
       "stream": "stderr",
       "text": [
        "\r",
        "Processed 1126000 ( 45.12% ) in 0.0379 seconds"
       ]
      },
      {
       "output_type": "stream",
       "stream": "stderr",
       "text": [
        "\r",
        "Processed 1127000 ( 45.16% ) in 0.0156 seconds"
       ]
      },
      {
       "output_type": "stream",
       "stream": "stderr",
       "text": [
        "\r",
        "Processed 1128000 ( 45.20% ) in 0.0157 seconds"
       ]
      },
      {
       "output_type": "stream",
       "stream": "stderr",
       "text": [
        "\r",
        "Processed 1129000 ( 45.25% ) in 0.0157 seconds"
       ]
      },
      {
       "output_type": "stream",
       "stream": "stderr",
       "text": [
        "\r",
        "Processed 1130000 ( 45.29% ) in 0.0155 seconds"
       ]
      },
      {
       "output_type": "stream",
       "stream": "stderr",
       "text": [
        "\r",
        "Processed 1131000 ( 45.33% ) in 0.0156 seconds"
       ]
      },
      {
       "output_type": "stream",
       "stream": "stderr",
       "text": [
        "\r",
        "Processed 1132000 ( 45.37% ) in 0.0157 seconds"
       ]
      },
      {
       "output_type": "stream",
       "stream": "stderr",
       "text": [
        "\r",
        "Processed 1133000 ( 45.41% ) in 0.0156 seconds"
       ]
      },
      {
       "output_type": "stream",
       "stream": "stderr",
       "text": [
        "\r",
        "Processed 1134000 ( 45.45% ) in 0.0157 seconds"
       ]
      },
      {
       "output_type": "stream",
       "stream": "stderr",
       "text": [
        "\r",
        "Processed 1135000 ( 45.49% ) in 0.0155 seconds"
       ]
      },
      {
       "output_type": "stream",
       "stream": "stderr",
       "text": [
        "\r",
        "Processed 1136000 ( 45.53% ) in 0.0158 seconds"
       ]
      },
      {
       "output_type": "stream",
       "stream": "stderr",
       "text": [
        "\r",
        "Processed 1137000 ( 45.57% ) in 0.0157 seconds"
       ]
      },
      {
       "output_type": "stream",
       "stream": "stderr",
       "text": [
        "\r",
        "Processed 1138000 ( 45.61% ) in 0.0157 seconds"
       ]
      },
      {
       "output_type": "stream",
       "stream": "stderr",
       "text": [
        "\r",
        "Processed 1139000 ( 45.65% ) in 0.0156 seconds"
       ]
      },
      {
       "output_type": "stream",
       "stream": "stderr",
       "text": [
        "\r",
        "Processed 1140000 ( 45.69% ) in 0.0156 seconds"
       ]
      },
      {
       "output_type": "stream",
       "stream": "stderr",
       "text": [
        "\r",
        "Processed 1141000 ( 45.73% ) in 0.0157 seconds"
       ]
      },
      {
       "output_type": "stream",
       "stream": "stderr",
       "text": [
        "\r",
        "Processed 1142000 ( 45.77% ) in 0.0160 seconds"
       ]
      },
      {
       "output_type": "stream",
       "stream": "stderr",
       "text": [
        "\r",
        "Processed 1143000 ( 45.81% ) in 0.0450 seconds"
       ]
      },
      {
       "output_type": "stream",
       "stream": "stderr",
       "text": [
        "\r",
        "Processed 1144000 ( 45.85% ) in 0.0254 seconds"
       ]
      },
      {
       "output_type": "stream",
       "stream": "stderr",
       "text": [
        "\r",
        "Processed 1145000 ( 45.89% ) in 0.0154 seconds"
       ]
      },
      {
       "output_type": "stream",
       "stream": "stderr",
       "text": [
        "\r",
        "Processed 1146000 ( 45.93% ) in 0.0155 seconds"
       ]
      },
      {
       "output_type": "stream",
       "stream": "stderr",
       "text": [
        "\r",
        "Processed 1147000 ( 45.97% ) in 0.0155 seconds"
       ]
      },
      {
       "output_type": "stream",
       "stream": "stderr",
       "text": [
        "\r",
        "Processed 1148000 ( 46.01% ) in 0.0157 seconds"
       ]
      },
      {
       "output_type": "stream",
       "stream": "stderr",
       "text": [
        "\r",
        "Processed 1149000 ( 46.05% ) in 0.0156 seconds"
       ]
      },
      {
       "output_type": "stream",
       "stream": "stderr",
       "text": [
        "\r",
        "Processed 1150000 ( 46.09% ) in 0.0228 seconds"
       ]
      },
      {
       "output_type": "stream",
       "stream": "stderr",
       "text": [
        "\r",
        "Processed 1151000 ( 46.13% ) in 0.0299 seconds"
       ]
      },
      {
       "output_type": "stream",
       "stream": "stderr",
       "text": [
        "\r",
        "Processed 1152000 ( 46.17% ) in 0.0257 seconds"
       ]
      },
      {
       "output_type": "stream",
       "stream": "stderr",
       "text": [
        "\r",
        "Processed 1153000 ( 46.21% ) in 0.0641 seconds"
       ]
      },
      {
       "output_type": "stream",
       "stream": "stderr",
       "text": [
        "\r",
        "Processed 1154000 ( 46.25% ) in 0.0223 seconds"
       ]
      },
      {
       "output_type": "stream",
       "stream": "stderr",
       "text": [
        "\r",
        "Processed 1155000 ( 46.29% ) in 0.0188 seconds"
       ]
      },
      {
       "output_type": "stream",
       "stream": "stderr",
       "text": [
        "\r",
        "Processed 1156000 ( 46.33% ) in 0.0157 seconds"
       ]
      },
      {
       "output_type": "stream",
       "stream": "stderr",
       "text": [
        "\r",
        "Processed 1157000 ( 46.37% ) in 0.0157 seconds"
       ]
      },
      {
       "output_type": "stream",
       "stream": "stderr",
       "text": [
        "\r",
        "Processed 1158000 ( 46.41% ) in 0.0158 seconds"
       ]
      },
      {
       "output_type": "stream",
       "stream": "stderr",
       "text": [
        "\r",
        "Processed 1159000 ( 46.45% ) in 0.0158 seconds"
       ]
      },
      {
       "output_type": "stream",
       "stream": "stderr",
       "text": [
        "\r",
        "Processed 1160000 ( 46.49% ) in 0.0156 seconds"
       ]
      },
      {
       "output_type": "stream",
       "stream": "stderr",
       "text": [
        "\r",
        "Processed 1161000 ( 46.53% ) in 0.0158 seconds"
       ]
      },
      {
       "output_type": "stream",
       "stream": "stderr",
       "text": [
        "\r",
        "Processed 1162000 ( 46.57% ) in 0.0157 seconds"
       ]
      },
      {
       "output_type": "stream",
       "stream": "stderr",
       "text": [
        "\r",
        "Processed 1163000 ( 46.61% ) in 0.0159 seconds"
       ]
      },
      {
       "output_type": "stream",
       "stream": "stderr",
       "text": [
        "\r",
        "Processed 1164000 ( 46.65% ) in 0.0158 seconds"
       ]
      },
      {
       "output_type": "stream",
       "stream": "stderr",
       "text": [
        "\r",
        "Processed 1165000 ( 46.69% ) in 0.0157 seconds"
       ]
      },
      {
       "output_type": "stream",
       "stream": "stderr",
       "text": [
        "\r",
        "Processed 1166000 ( 46.73% ) in 0.0156 seconds"
       ]
      },
      {
       "output_type": "stream",
       "stream": "stderr",
       "text": [
        "\r",
        "Processed 1167000 ( 46.77% ) in 0.0155 seconds"
       ]
      },
      {
       "output_type": "stream",
       "stream": "stderr",
       "text": [
        "\r",
        "Processed 1168000 ( 46.81% ) in 0.0158 seconds"
       ]
      },
      {
       "output_type": "stream",
       "stream": "stderr",
       "text": [
        "\r",
        "Processed 1169000 ( 46.85% ) in 0.0217 seconds"
       ]
      },
      {
       "output_type": "stream",
       "stream": "stderr",
       "text": [
        "\r",
        "Processed 1170000 ( 46.89% ) in 0.0373 seconds"
       ]
      },
      {
       "output_type": "stream",
       "stream": "stderr",
       "text": [
        "\r",
        "Processed 1171000 ( 46.93% ) in 0.0173 seconds"
       ]
      },
      {
       "output_type": "stream",
       "stream": "stderr",
       "text": [
        "\r",
        "Processed 1172000 ( 46.97% ) in 0.0156 seconds"
       ]
      },
      {
       "output_type": "stream",
       "stream": "stderr",
       "text": [
        "\r",
        "Processed 1173000 ( 47.01% ) in 0.0157 seconds"
       ]
      },
      {
       "output_type": "stream",
       "stream": "stderr",
       "text": [
        "\r",
        "Processed 1174000 ( 47.05% ) in 0.0187 seconds"
       ]
      },
      {
       "output_type": "stream",
       "stream": "stderr",
       "text": [
        "\r",
        "Processed 1175000 ( 47.09% ) in 0.0227 seconds"
       ]
      },
      {
       "output_type": "stream",
       "stream": "stderr",
       "text": [
        "\r",
        "Processed 1176000 ( 47.13% ) in 0.0159 seconds"
       ]
      },
      {
       "output_type": "stream",
       "stream": "stderr",
       "text": [
        "\r",
        "Processed 1177000 ( 47.17% ) in 0.0158 seconds"
       ]
      },
      {
       "output_type": "stream",
       "stream": "stderr",
       "text": [
        "\r",
        "Processed 1178000 ( 47.21% ) in 0.0158 seconds"
       ]
      },
      {
       "output_type": "stream",
       "stream": "stderr",
       "text": [
        "\r",
        "Processed 1179000 ( 47.25% ) in 0.0157 seconds"
       ]
      },
      {
       "output_type": "stream",
       "stream": "stderr",
       "text": [
        "\r",
        "Processed 1180000 ( 47.29% ) in 0.0157 seconds"
       ]
      },
      {
       "output_type": "stream",
       "stream": "stderr",
       "text": [
        "\r",
        "Processed 1181000 ( 47.33% ) in 0.0156 seconds"
       ]
      },
      {
       "output_type": "stream",
       "stream": "stderr",
       "text": [
        "\r",
        "Processed 1182000 ( 47.37% ) in 0.0156 seconds"
       ]
      },
      {
       "output_type": "stream",
       "stream": "stderr",
       "text": [
        "\r",
        "Processed 1183000 ( 47.41% ) in 0.0157 seconds"
       ]
      },
      {
       "output_type": "stream",
       "stream": "stderr",
       "text": [
        "\r",
        "Processed 1184000 ( 47.45% ) in 0.0183 seconds"
       ]
      },
      {
       "output_type": "stream",
       "stream": "stderr",
       "text": [
        "\r",
        "Processed 1185000 ( 47.49% ) in 0.0158 seconds"
       ]
      },
      {
       "output_type": "stream",
       "stream": "stderr",
       "text": [
        "\r",
        "Processed 1186000 ( 47.53% ) in 0.0157 seconds"
       ]
      },
      {
       "output_type": "stream",
       "stream": "stderr",
       "text": [
        "\r",
        "Processed 1187000 ( 47.57% ) in 0.0202 seconds"
       ]
      },
      {
       "output_type": "stream",
       "stream": "stderr",
       "text": [
        "\r",
        "Processed 1188000 ( 47.61% ) in 0.0157 seconds"
       ]
      },
      {
       "output_type": "stream",
       "stream": "stderr",
       "text": [
        "\r",
        "Processed 1189000 ( 47.65% ) in 0.0156 seconds"
       ]
      },
      {
       "output_type": "stream",
       "stream": "stderr",
       "text": [
        "\r",
        "Processed 1190000 ( 47.69% ) in 0.0166 seconds"
       ]
      },
      {
       "output_type": "stream",
       "stream": "stderr",
       "text": [
        "\r",
        "Processed 1191000 ( 47.73% ) in 0.0184 seconds"
       ]
      },
      {
       "output_type": "stream",
       "stream": "stderr",
       "text": [
        "\r",
        "Processed 1192000 ( 47.77% ) in 0.0182 seconds"
       ]
      },
      {
       "output_type": "stream",
       "stream": "stderr",
       "text": [
        "\r",
        "Processed 1193000 ( 47.81% ) in 0.0170 seconds"
       ]
      },
      {
       "output_type": "stream",
       "stream": "stderr",
       "text": [
        "\r",
        "Processed 1194000 ( 47.85% ) in 0.0174 seconds"
       ]
      },
      {
       "output_type": "stream",
       "stream": "stderr",
       "text": [
        "\r",
        "Processed 1195000 ( 47.89% ) in 0.0416 seconds"
       ]
      },
      {
       "output_type": "stream",
       "stream": "stderr",
       "text": [
        "\r",
        "Processed 1196000 ( 47.93% ) in 0.0311 seconds"
       ]
      },
      {
       "output_type": "stream",
       "stream": "stderr",
       "text": [
        "\r",
        "Processed 1197000 ( 47.97% ) in 0.0326 seconds"
       ]
      },
      {
       "output_type": "stream",
       "stream": "stderr",
       "text": [
        "\r",
        "Processed 1198000 ( 48.01% ) in 0.0200 seconds"
       ]
      },
      {
       "output_type": "stream",
       "stream": "stderr",
       "text": [
        "\r",
        "Processed 1199000 ( 48.05% ) in 0.0185 seconds"
       ]
      },
      {
       "output_type": "stream",
       "stream": "stderr",
       "text": [
        "\r",
        "Processed 1200000 ( 48.09% ) in 0.0185 seconds"
       ]
      },
      {
       "output_type": "stream",
       "stream": "stderr",
       "text": [
        "\r",
        "Processed 1201000 ( 48.13% ) in 0.0301 seconds"
       ]
      },
      {
       "output_type": "stream",
       "stream": "stderr",
       "text": [
        "\r",
        "Processed 1202000 ( 48.17% ) in 0.0304 seconds"
       ]
      },
      {
       "output_type": "stream",
       "stream": "stderr",
       "text": [
        "\r",
        "Processed 1203000 ( 48.21% ) in 0.0214 seconds"
       ]
      },
      {
       "output_type": "stream",
       "stream": "stderr",
       "text": [
        "\r",
        "Processed 1204000 ( 48.25% ) in 0.0205 seconds"
       ]
      },
      {
       "output_type": "stream",
       "stream": "stderr",
       "text": [
        "\r",
        "Processed 1205000 ( 48.29% ) in 0.0158 seconds"
       ]
      },
      {
       "output_type": "stream",
       "stream": "stderr",
       "text": [
        "\r",
        "Processed 1206000 ( 48.33% ) in 0.0185 seconds"
       ]
      },
      {
       "output_type": "stream",
       "stream": "stderr",
       "text": [
        "\r",
        "Processed 1207000 ( 48.37% ) in 0.0154 seconds"
       ]
      },
      {
       "output_type": "stream",
       "stream": "stderr",
       "text": [
        "\r",
        "Processed 1208000 ( 48.41% ) in 0.0153 seconds"
       ]
      },
      {
       "output_type": "stream",
       "stream": "stderr",
       "text": [
        "\r",
        "Processed 1209000 ( 48.45% ) in 0.0155 seconds"
       ]
      },
      {
       "output_type": "stream",
       "stream": "stderr",
       "text": [
        "\r",
        "Processed 1210000 ( 48.49% ) in 0.0156 seconds"
       ]
      },
      {
       "output_type": "stream",
       "stream": "stderr",
       "text": [
        "\r",
        "Processed 1211000 ( 48.53% ) in 0.0156 seconds"
       ]
      },
      {
       "output_type": "stream",
       "stream": "stderr",
       "text": [
        "\r",
        "Processed 1212000 ( 48.57% ) in 0.0155 seconds"
       ]
      },
      {
       "output_type": "stream",
       "stream": "stderr",
       "text": [
        "\r",
        "Processed 1213000 ( 48.61% ) in 0.0154 seconds"
       ]
      },
      {
       "output_type": "stream",
       "stream": "stderr",
       "text": [
        "\r",
        "Processed 1214000 ( 48.65% ) in 0.0155 seconds"
       ]
      },
      {
       "output_type": "stream",
       "stream": "stderr",
       "text": [
        "\r",
        "Processed 1215000 ( 48.69% ) in 0.0156 seconds"
       ]
      },
      {
       "output_type": "stream",
       "stream": "stderr",
       "text": [
        "\r",
        "Processed 1216000 ( 48.73% ) in 0.0157 seconds"
       ]
      },
      {
       "output_type": "stream",
       "stream": "stderr",
       "text": [
        "\r",
        "Processed 1217000 ( 48.77% ) in 0.0207 seconds"
       ]
      },
      {
       "output_type": "stream",
       "stream": "stderr",
       "text": [
        "\r",
        "Processed 1218000 ( 48.81% ) in 0.0155 seconds"
       ]
      },
      {
       "output_type": "stream",
       "stream": "stderr",
       "text": [
        "\r",
        "Processed 1219000 ( 48.85% ) in 0.0152 seconds"
       ]
      },
      {
       "output_type": "stream",
       "stream": "stderr",
       "text": [
        "\r",
        "Processed 1220000 ( 48.89% ) in 0.0155 seconds"
       ]
      },
      {
       "output_type": "stream",
       "stream": "stderr",
       "text": [
        "\r",
        "Processed 1221000 ( 48.93% ) in 0.0173 seconds"
       ]
      },
      {
       "output_type": "stream",
       "stream": "stderr",
       "text": [
        "\r",
        "Processed 1222000 ( 48.97% ) in 0.0158 seconds"
       ]
      },
      {
       "output_type": "stream",
       "stream": "stderr",
       "text": [
        "\r",
        "Processed 1223000 ( 49.01% ) in 0.0153 seconds"
       ]
      },
      {
       "output_type": "stream",
       "stream": "stderr",
       "text": [
        "\r",
        "Processed 1224000 ( 49.05% ) in 0.0155 seconds"
       ]
      },
      {
       "output_type": "stream",
       "stream": "stderr",
       "text": [
        "\r",
        "Processed 1225000 ( 49.09% ) in 0.0156 seconds"
       ]
      },
      {
       "output_type": "stream",
       "stream": "stderr",
       "text": [
        "\r",
        "Processed 1226000 ( 49.13% ) in 0.0155 seconds"
       ]
      },
      {
       "output_type": "stream",
       "stream": "stderr",
       "text": [
        "\r",
        "Processed 1227000 ( 49.17% ) in 0.0156 seconds"
       ]
      },
      {
       "output_type": "stream",
       "stream": "stderr",
       "text": [
        "\r",
        "Processed 1228000 ( 49.21% ) in 0.0154 seconds"
       ]
      },
      {
       "output_type": "stream",
       "stream": "stderr",
       "text": [
        "\r",
        "Processed 1229000 ( 49.25% ) in 0.0155 seconds"
       ]
      },
      {
       "output_type": "stream",
       "stream": "stderr",
       "text": [
        "\r",
        "Processed 1230000 ( 49.29% ) in 0.0155 seconds"
       ]
      },
      {
       "output_type": "stream",
       "stream": "stderr",
       "text": [
        "\r",
        "Processed 1231000 ( 49.33% ) in 0.0155 seconds"
       ]
      },
      {
       "output_type": "stream",
       "stream": "stderr",
       "text": [
        "\r",
        "Processed 1232000 ( 49.37% ) in 0.0154 seconds"
       ]
      },
      {
       "output_type": "stream",
       "stream": "stderr",
       "text": [
        "\r",
        "Processed 1233000 ( 49.41% ) in 0.0154 seconds"
       ]
      },
      {
       "output_type": "stream",
       "stream": "stderr",
       "text": [
        "\r",
        "Processed 1234000 ( 49.45% ) in 0.0157 seconds"
       ]
      },
      {
       "output_type": "stream",
       "stream": "stderr",
       "text": [
        "\r",
        "Processed 1235000 ( 49.49% ) in 0.0157 seconds"
       ]
      },
      {
       "output_type": "stream",
       "stream": "stderr",
       "text": [
        "\r",
        "Processed 1236000 ( 49.53% ) in 0.0155 seconds"
       ]
      },
      {
       "output_type": "stream",
       "stream": "stderr",
       "text": [
        "\r",
        "Processed 1237000 ( 49.57% ) in 0.0156 seconds"
       ]
      },
      {
       "output_type": "stream",
       "stream": "stderr",
       "text": [
        "\r",
        "Processed 1238000 ( 49.61% ) in 0.0155 seconds"
       ]
      },
      {
       "output_type": "stream",
       "stream": "stderr",
       "text": [
        "\r",
        "Processed 1239000 ( 49.65% ) in 0.0155 seconds"
       ]
      },
      {
       "output_type": "stream",
       "stream": "stderr",
       "text": [
        "\r",
        "Processed 1240000 ( 49.69% ) in 0.0154 seconds"
       ]
      },
      {
       "output_type": "stream",
       "stream": "stderr",
       "text": [
        "\r",
        "Processed 1241000 ( 49.73% ) in 0.0155 seconds"
       ]
      },
      {
       "output_type": "stream",
       "stream": "stderr",
       "text": [
        "\r",
        "Processed 1242000 ( 49.77% ) in 0.0155 seconds"
       ]
      },
      {
       "output_type": "stream",
       "stream": "stderr",
       "text": [
        "\r",
        "Processed 1243000 ( 49.81% ) in 0.0282 seconds"
       ]
      },
      {
       "output_type": "stream",
       "stream": "stderr",
       "text": [
        "\r",
        "Processed 1244000 ( 49.85% ) in 0.0252 seconds"
       ]
      },
      {
       "output_type": "stream",
       "stream": "stderr",
       "text": [
        "\r",
        "Processed 1245000 ( 49.89% ) in 0.0167 seconds"
       ]
      },
      {
       "output_type": "stream",
       "stream": "stderr",
       "text": [
        "\r",
        "Processed 1246000 ( 49.93% ) in 0.0161 seconds"
       ]
      },
      {
       "output_type": "stream",
       "stream": "stderr",
       "text": [
        "\r",
        "Processed 1247000 ( 49.97% ) in 0.0157 seconds"
       ]
      },
      {
       "output_type": "stream",
       "stream": "stderr",
       "text": [
        "\r",
        "Processed 1248000 ( 50.01% ) in 0.0420 seconds"
       ]
      },
      {
       "output_type": "stream",
       "stream": "stderr",
       "text": [
        "\r",
        "Processed 1249000 ( 50.05% ) in 0.0263 seconds"
       ]
      },
      {
       "output_type": "stream",
       "stream": "stderr",
       "text": [
        "\r",
        "Processed 1250000 ( 50.09% ) in 0.0470 seconds"
       ]
      },
      {
       "output_type": "stream",
       "stream": "stderr",
       "text": [
        "\r",
        "Processed 1251000 ( 50.13% ) in 0.0269 seconds"
       ]
      },
      {
       "output_type": "stream",
       "stream": "stderr",
       "text": [
        "\r",
        "Processed 1252000 ( 50.17% ) in 0.0182 seconds"
       ]
      },
      {
       "output_type": "stream",
       "stream": "stderr",
       "text": [
        "\r",
        "Processed 1253000 ( 50.21% ) in 0.0182 seconds"
       ]
      },
      {
       "output_type": "stream",
       "stream": "stderr",
       "text": [
        "\r",
        "Processed 1254000 ( 50.25% ) in 0.0206 seconds"
       ]
      },
      {
       "output_type": "stream",
       "stream": "stderr",
       "text": [
        "\r",
        "Processed 1255000 ( 50.29% ) in 0.0188 seconds"
       ]
      },
      {
       "output_type": "stream",
       "stream": "stderr",
       "text": [
        "\r",
        "Processed 1256000 ( 50.33% ) in 0.0182 seconds"
       ]
      },
      {
       "output_type": "stream",
       "stream": "stderr",
       "text": [
        "\r",
        "Processed 1257000 ( 50.37% ) in 0.0178 seconds"
       ]
      },
      {
       "output_type": "stream",
       "stream": "stderr",
       "text": [
        "\r",
        "Processed 1258000 ( 50.41% ) in 0.0179 seconds"
       ]
      },
      {
       "output_type": "stream",
       "stream": "stderr",
       "text": [
        "\r",
        "Processed 1259000 ( 50.45% ) in 0.0183 seconds"
       ]
      },
      {
       "output_type": "stream",
       "stream": "stderr",
       "text": [
        "\r",
        "Processed 1260000 ( 50.49% ) in 0.0181 seconds"
       ]
      },
      {
       "output_type": "stream",
       "stream": "stderr",
       "text": [
        "\r",
        "Processed 1261000 ( 50.54% ) in 0.0179 seconds"
       ]
      },
      {
       "output_type": "stream",
       "stream": "stderr",
       "text": [
        "\r",
        "Processed 1262000 ( 50.58% ) in 0.0179 seconds"
       ]
      },
      {
       "output_type": "stream",
       "stream": "stderr",
       "text": [
        "\r",
        "Processed 1263000 ( 50.62% ) in 0.0178 seconds"
       ]
      },
      {
       "output_type": "stream",
       "stream": "stderr",
       "text": [
        "\r",
        "Processed 1264000 ( 50.66% ) in 0.0179 seconds"
       ]
      },
      {
       "output_type": "stream",
       "stream": "stderr",
       "text": [
        "\r",
        "Processed 1265000 ( 50.70% ) in 0.0197 seconds"
       ]
      },
      {
       "output_type": "stream",
       "stream": "stderr",
       "text": [
        "\r",
        "Processed 1266000 ( 50.74% ) in 0.0183 seconds"
       ]
      },
      {
       "output_type": "stream",
       "stream": "stderr",
       "text": [
        "\r",
        "Processed 1267000 ( 50.78% ) in 0.0527 seconds"
       ]
      },
      {
       "output_type": "stream",
       "stream": "stderr",
       "text": [
        "\r",
        "Processed 1268000 ( 50.82% ) in 0.0435 seconds"
       ]
      },
      {
       "output_type": "stream",
       "stream": "stderr",
       "text": [
        "\r",
        "Processed 1269000 ( 50.86% ) in 0.0533 seconds"
       ]
      },
      {
       "output_type": "stream",
       "stream": "stderr",
       "text": [
        "\r",
        "Processed 1270000 ( 50.90% ) in 0.0433 seconds"
       ]
      },
      {
       "output_type": "stream",
       "stream": "stderr",
       "text": [
        "\r",
        "Processed 1271000 ( 50.94% ) in 0.0282 seconds"
       ]
      },
      {
       "output_type": "stream",
       "stream": "stderr",
       "text": [
        "\r",
        "Processed 1272000 ( 50.98% ) in 0.0220 seconds"
       ]
      },
      {
       "output_type": "stream",
       "stream": "stderr",
       "text": [
        "\r",
        "Processed 1273000 ( 51.02% ) in 0.0237 seconds"
       ]
      },
      {
       "output_type": "stream",
       "stream": "stderr",
       "text": [
        "\r",
        "Processed 1274000 ( 51.06% ) in 0.0280 seconds"
       ]
      },
      {
       "output_type": "stream",
       "stream": "stderr",
       "text": [
        "\r",
        "Processed 1275000 ( 51.10% ) in 0.0296 seconds"
       ]
      },
      {
       "output_type": "stream",
       "stream": "stderr",
       "text": [
        "\r",
        "Processed 1276000 ( 51.14% ) in 0.0278 seconds"
       ]
      },
      {
       "output_type": "stream",
       "stream": "stderr",
       "text": [
        "\r",
        "Processed 1277000 ( 51.18% ) in 0.0286 seconds"
       ]
      },
      {
       "output_type": "stream",
       "stream": "stderr",
       "text": [
        "\r",
        "Processed 1278000 ( 51.22% ) in 0.0205 seconds"
       ]
      },
      {
       "output_type": "stream",
       "stream": "stderr",
       "text": [
        "\r",
        "Processed 1279000 ( 51.26% ) in 0.0203 seconds"
       ]
      },
      {
       "output_type": "stream",
       "stream": "stderr",
       "text": [
        "\r",
        "Processed 1280000 ( 51.30% ) in 0.0156 seconds"
       ]
      },
      {
       "output_type": "stream",
       "stream": "stderr",
       "text": [
        "\r",
        "Processed 1281000 ( 51.34% ) in 0.0153 seconds"
       ]
      },
      {
       "output_type": "stream",
       "stream": "stderr",
       "text": [
        "\r",
        "Processed 1282000 ( 51.38% ) in 0.0150 seconds"
       ]
      },
      {
       "output_type": "stream",
       "stream": "stderr",
       "text": [
        "\r",
        "Processed 1283000 ( 51.42% ) in 0.0150 seconds"
       ]
      },
      {
       "output_type": "stream",
       "stream": "stderr",
       "text": [
        "\r",
        "Processed 1284000 ( 51.46% ) in 0.0152 seconds"
       ]
      },
      {
       "output_type": "stream",
       "stream": "stderr",
       "text": [
        "\r",
        "Processed 1285000 ( 51.50% ) in 0.0156 seconds"
       ]
      },
      {
       "output_type": "stream",
       "stream": "stderr",
       "text": [
        "\r",
        "Processed 1286000 ( 51.54% ) in 0.0149 seconds"
       ]
      },
      {
       "output_type": "stream",
       "stream": "stderr",
       "text": [
        "\r",
        "Processed 1287000 ( 51.58% ) in 0.0151 seconds"
       ]
      },
      {
       "output_type": "stream",
       "stream": "stderr",
       "text": [
        "\r",
        "Processed 1288000 ( 51.62% ) in 0.0155 seconds"
       ]
      },
      {
       "output_type": "stream",
       "stream": "stderr",
       "text": [
        "\r",
        "Processed 1289000 ( 51.66% ) in 0.0154 seconds"
       ]
      },
      {
       "output_type": "stream",
       "stream": "stderr",
       "text": [
        "\r",
        "Processed 1290000 ( 51.70% ) in 0.0153 seconds"
       ]
      },
      {
       "output_type": "stream",
       "stream": "stderr",
       "text": [
        "\r",
        "Processed 1291000 ( 51.74% ) in 0.0152 seconds"
       ]
      },
      {
       "output_type": "stream",
       "stream": "stderr",
       "text": [
        "\r",
        "Processed 1292000 ( 51.78% ) in 0.0288 seconds"
       ]
      },
      {
       "output_type": "stream",
       "stream": "stderr",
       "text": [
        "\r",
        "Processed 1293000 ( 51.82% ) in 0.0255 seconds"
       ]
      },
      {
       "output_type": "stream",
       "stream": "stderr",
       "text": [
        "\r",
        "Processed 1294000 ( 51.86% ) in 0.0328 seconds"
       ]
      },
      {
       "output_type": "stream",
       "stream": "stderr",
       "text": [
        "\r",
        "Processed 1295000 ( 51.90% ) in 0.0153 seconds"
       ]
      },
      {
       "output_type": "stream",
       "stream": "stderr",
       "text": [
        "\r",
        "Processed 1296000 ( 51.94% ) in 0.0340 seconds"
       ]
      },
      {
       "output_type": "stream",
       "stream": "stderr",
       "text": [
        "\r",
        "Processed 1297000 ( 51.98% ) in 0.0320 seconds"
       ]
      },
      {
       "output_type": "stream",
       "stream": "stderr",
       "text": [
        "\r",
        "Processed 1298000 ( 52.02% ) in 0.0280 seconds"
       ]
      },
      {
       "output_type": "stream",
       "stream": "stderr",
       "text": [
        "\r",
        "Processed 1299000 ( 52.06% ) in 0.0194 seconds"
       ]
      },
      {
       "output_type": "stream",
       "stream": "stderr",
       "text": [
        "\r",
        "Processed 1300000 ( 52.10% ) in 0.0158 seconds"
       ]
      },
      {
       "output_type": "stream",
       "stream": "stderr",
       "text": [
        "\r",
        "Processed 1301000 ( 52.14% ) in 0.0402 seconds"
       ]
      },
      {
       "output_type": "stream",
       "stream": "stderr",
       "text": [
        "\r",
        "Processed 1302000 ( 52.18% ) in 0.0319 seconds"
       ]
      },
      {
       "output_type": "stream",
       "stream": "stderr",
       "text": [
        "\r",
        "Processed 1303000 ( 52.22% ) in 0.0264 seconds"
       ]
      },
      {
       "output_type": "stream",
       "stream": "stderr",
       "text": [
        "\r",
        "Processed 1304000 ( 52.26% ) in 0.0162 seconds"
       ]
      },
      {
       "output_type": "stream",
       "stream": "stderr",
       "text": [
        "\r",
        "Processed 1305000 ( 52.30% ) in 0.0161 seconds"
       ]
      },
      {
       "output_type": "stream",
       "stream": "stderr",
       "text": [
        "\r",
        "Processed 1306000 ( 52.34% ) in 0.0351 seconds"
       ]
      },
      {
       "output_type": "stream",
       "stream": "stderr",
       "text": [
        "\r",
        "Processed 1307000 ( 52.38% ) in 0.0168 seconds"
       ]
      },
      {
       "output_type": "stream",
       "stream": "stderr",
       "text": [
        "\r",
        "Processed 1308000 ( 52.42% ) in 0.0420 seconds"
       ]
      },
      {
       "output_type": "stream",
       "stream": "stderr",
       "text": [
        "\r",
        "Processed 1309000 ( 52.46% ) in 0.0196 seconds"
       ]
      },
      {
       "output_type": "stream",
       "stream": "stderr",
       "text": [
        "\r",
        "Processed 1310000 ( 52.50% ) in 0.0232 seconds"
       ]
      },
      {
       "output_type": "stream",
       "stream": "stderr",
       "text": [
        "\r",
        "Processed 1311000 ( 52.54% ) in 0.0342 seconds"
       ]
      },
      {
       "output_type": "stream",
       "stream": "stderr",
       "text": [
        "\r",
        "Processed 1312000 ( 52.58% ) in 0.0294 seconds"
       ]
      },
      {
       "output_type": "stream",
       "stream": "stderr",
       "text": [
        "\r",
        "Processed 1313000 ( 52.62% ) in 0.0297 seconds"
       ]
      },
      {
       "output_type": "stream",
       "stream": "stderr",
       "text": [
        "\r",
        "Processed 1314000 ( 52.66% ) in 0.0364 seconds"
       ]
      },
      {
       "output_type": "stream",
       "stream": "stderr",
       "text": [
        "\r",
        "Processed 1315000 ( 52.70% ) in 0.0270 seconds"
       ]
      },
      {
       "output_type": "stream",
       "stream": "stderr",
       "text": [
        "\r",
        "Processed 1316000 ( 52.74% ) in 0.0358 seconds"
       ]
      },
      {
       "output_type": "stream",
       "stream": "stderr",
       "text": [
        "\r",
        "Processed 1317000 ( 52.78% ) in 0.0335 seconds"
       ]
      },
      {
       "output_type": "stream",
       "stream": "stderr",
       "text": [
        "\r",
        "Processed 1318000 ( 52.82% ) in 0.0295 seconds"
       ]
      },
      {
       "output_type": "stream",
       "stream": "stderr",
       "text": [
        "\r",
        "Processed 1319000 ( 52.86% ) in 0.0277 seconds"
       ]
      },
      {
       "output_type": "stream",
       "stream": "stderr",
       "text": [
        "\r",
        "Processed 1320000 ( 52.90% ) in 0.0314 seconds"
       ]
      },
      {
       "output_type": "stream",
       "stream": "stderr",
       "text": [
        "\r",
        "Processed 1321000 ( 52.94% ) in 0.0300 seconds"
       ]
      },
      {
       "output_type": "stream",
       "stream": "stderr",
       "text": [
        "\r",
        "Processed 1322000 ( 52.98% ) in 0.0406 seconds"
       ]
      },
      {
       "output_type": "stream",
       "stream": "stderr",
       "text": [
        "\r",
        "Processed 1323000 ( 53.02% ) in 0.0247 seconds"
       ]
      },
      {
       "output_type": "stream",
       "stream": "stderr",
       "text": [
        "\r",
        "Processed 1324000 ( 53.06% ) in 0.0239 seconds"
       ]
      },
      {
       "output_type": "stream",
       "stream": "stderr",
       "text": [
        "\r",
        "Processed 1325000 ( 53.10% ) in 0.0241 seconds"
       ]
      },
      {
       "output_type": "stream",
       "stream": "stderr",
       "text": [
        "\r",
        "Processed 1326000 ( 53.14% ) in 0.0240 seconds"
       ]
      },
      {
       "output_type": "stream",
       "stream": "stderr",
       "text": [
        "\r",
        "Processed 1327000 ( 53.18% ) in 0.0239 seconds"
       ]
      },
      {
       "output_type": "stream",
       "stream": "stderr",
       "text": [
        "\r",
        "Processed 1328000 ( 53.22% ) in 0.0593 seconds"
       ]
      },
      {
       "output_type": "stream",
       "stream": "stderr",
       "text": [
        "\r",
        "Processed 1329000 ( 53.26% ) in 0.0213 seconds"
       ]
      },
      {
       "output_type": "stream",
       "stream": "stderr",
       "text": [
        "\r",
        "Processed 1330000 ( 53.30% ) in 0.0193 seconds"
       ]
      },
      {
       "output_type": "stream",
       "stream": "stderr",
       "text": [
        "\r",
        "Processed 1331000 ( 53.34% ) in 0.0196 seconds"
       ]
      },
      {
       "output_type": "stream",
       "stream": "stderr",
       "text": [
        "\r",
        "Processed 1332000 ( 53.38% ) in 0.0191 seconds"
       ]
      },
      {
       "output_type": "stream",
       "stream": "stderr",
       "text": [
        "\r",
        "Processed 1333000 ( 53.42% ) in 0.0194 seconds"
       ]
      },
      {
       "output_type": "stream",
       "stream": "stderr",
       "text": [
        "\r",
        "Processed 1334000 ( 53.46% ) in 0.0195 seconds"
       ]
      },
      {
       "output_type": "stream",
       "stream": "stderr",
       "text": [
        "\r",
        "Processed 1335000 ( 53.50% ) in 0.0192 seconds"
       ]
      },
      {
       "output_type": "stream",
       "stream": "stderr",
       "text": [
        "\r",
        "Processed 1336000 ( 53.54% ) in 0.0191 seconds"
       ]
      },
      {
       "output_type": "stream",
       "stream": "stderr",
       "text": [
        "\r",
        "Processed 1337000 ( 53.58% ) in 0.0192 seconds"
       ]
      },
      {
       "output_type": "stream",
       "stream": "stderr",
       "text": [
        "\r",
        "Processed 1338000 ( 53.62% ) in 0.0206 seconds"
       ]
      },
      {
       "output_type": "stream",
       "stream": "stderr",
       "text": [
        "\r",
        "Processed 1339000 ( 53.66% ) in 0.0194 seconds"
       ]
      },
      {
       "output_type": "stream",
       "stream": "stderr",
       "text": [
        "\r",
        "Processed 1340000 ( 53.70% ) in 0.0193 seconds"
       ]
      },
      {
       "output_type": "stream",
       "stream": "stderr",
       "text": [
        "\r",
        "Processed 1341000 ( 53.74% ) in 0.0195 seconds"
       ]
      },
      {
       "output_type": "stream",
       "stream": "stderr",
       "text": [
        "\r",
        "Processed 1342000 ( 53.78% ) in 0.0207 seconds"
       ]
      },
      {
       "output_type": "stream",
       "stream": "stderr",
       "text": [
        "\r",
        "Processed 1343000 ( 53.82% ) in 0.0211 seconds"
       ]
      },
      {
       "output_type": "stream",
       "stream": "stderr",
       "text": [
        "\r",
        "Processed 1344000 ( 53.86% ) in 0.0338 seconds"
       ]
      },
      {
       "output_type": "stream",
       "stream": "stderr",
       "text": [
        "\r",
        "Processed 1345000 ( 53.90% ) in 0.0246 seconds"
       ]
      },
      {
       "output_type": "stream",
       "stream": "stderr",
       "text": [
        "\r",
        "Processed 1346000 ( 53.94% ) in 0.0382 seconds"
       ]
      },
      {
       "output_type": "stream",
       "stream": "stderr",
       "text": [
        "\r",
        "Processed 1347000 ( 53.98% ) in 0.0242 seconds"
       ]
      },
      {
       "output_type": "stream",
       "stream": "stderr",
       "text": [
        "\r",
        "Processed 1348000 ( 54.02% ) in 0.0385 seconds"
       ]
      },
      {
       "output_type": "stream",
       "stream": "stderr",
       "text": [
        "\r",
        "Processed 1349000 ( 54.06% ) in 0.0440 seconds"
       ]
      },
      {
       "output_type": "stream",
       "stream": "stderr",
       "text": [
        "\r",
        "Processed 1350000 ( 54.10% ) in 0.0335 seconds"
       ]
      },
      {
       "output_type": "stream",
       "stream": "stderr",
       "text": [
        "\r",
        "Processed 1351000 ( 54.14% ) in 0.0276 seconds"
       ]
      },
      {
       "output_type": "stream",
       "stream": "stderr",
       "text": [
        "\r",
        "Processed 1352000 ( 54.18% ) in 0.0282 seconds"
       ]
      },
      {
       "output_type": "stream",
       "stream": "stderr",
       "text": [
        "\r",
        "Processed 1353000 ( 54.22% ) in 0.0285 seconds"
       ]
      },
      {
       "output_type": "stream",
       "stream": "stderr",
       "text": [
        "\r",
        "Processed 1354000 ( 54.26% ) in 0.0234 seconds"
       ]
      },
      {
       "output_type": "stream",
       "stream": "stderr",
       "text": [
        "\r",
        "Processed 1355000 ( 54.30% ) in 0.0211 seconds"
       ]
      },
      {
       "output_type": "stream",
       "stream": "stderr",
       "text": [
        "\r",
        "Processed 1356000 ( 54.34% ) in 0.0195 seconds"
       ]
      },
      {
       "output_type": "stream",
       "stream": "stderr",
       "text": [
        "\r",
        "Processed 1357000 ( 54.38% ) in 0.0204 seconds"
       ]
      },
      {
       "output_type": "stream",
       "stream": "stderr",
       "text": [
        "\r",
        "Processed 1358000 ( 54.42% ) in 0.0188 seconds"
       ]
      },
      {
       "output_type": "stream",
       "stream": "stderr",
       "text": [
        "\r",
        "Processed 1359000 ( 54.46% ) in 0.0193 seconds"
       ]
      },
      {
       "output_type": "stream",
       "stream": "stderr",
       "text": [
        "\r",
        "Processed 1360000 ( 54.50% ) in 0.0221 seconds"
       ]
      },
      {
       "output_type": "stream",
       "stream": "stderr",
       "text": [
        "\r",
        "Processed 1361000 ( 54.54% ) in 0.0182 seconds"
       ]
      },
      {
       "output_type": "stream",
       "stream": "stderr",
       "text": [
        "\r",
        "Processed 1362000 ( 54.58% ) in 0.0184 seconds"
       ]
      },
      {
       "output_type": "stream",
       "stream": "stderr",
       "text": [
        "\r",
        "Processed 1363000 ( 54.62% ) in 0.0186 seconds"
       ]
      },
      {
       "output_type": "stream",
       "stream": "stderr",
       "text": [
        "\r",
        "Processed 1364000 ( 54.66% ) in 0.0197 seconds"
       ]
      },
      {
       "output_type": "stream",
       "stream": "stderr",
       "text": [
        "\r",
        "Processed 1365000 ( 54.70% ) in 0.0343 seconds"
       ]
      },
      {
       "output_type": "stream",
       "stream": "stderr",
       "text": [
        "\r",
        "Processed 1366000 ( 54.74% ) in 0.0188 seconds"
       ]
      },
      {
       "output_type": "stream",
       "stream": "stderr",
       "text": [
        "\r",
        "Processed 1367000 ( 54.78% ) in 0.0190 seconds"
       ]
      },
      {
       "output_type": "stream",
       "stream": "stderr",
       "text": [
        "\r",
        "Processed 1368000 ( 54.82% ) in 0.0192 seconds"
       ]
      },
      {
       "output_type": "stream",
       "stream": "stderr",
       "text": [
        "\r",
        "Processed 1369000 ( 54.86% ) in 0.0275 seconds"
       ]
      },
      {
       "output_type": "stream",
       "stream": "stderr",
       "text": [
        "\r",
        "Processed 1370000 ( 54.90% ) in 0.0314 seconds"
       ]
      },
      {
       "output_type": "stream",
       "stream": "stderr",
       "text": [
        "\r",
        "Processed 1371000 ( 54.94% ) in 0.0201 seconds"
       ]
      },
      {
       "output_type": "stream",
       "stream": "stderr",
       "text": [
        "\r",
        "Processed 1372000 ( 54.98% ) in 0.0150 seconds"
       ]
      },
      {
       "output_type": "stream",
       "stream": "stderr",
       "text": [
        "\r",
        "Processed 1373000 ( 55.02% ) in 0.0153 seconds"
       ]
      },
      {
       "output_type": "stream",
       "stream": "stderr",
       "text": [
        "\r",
        "Processed 1374000 ( 55.06% ) in 0.0421 seconds"
       ]
      },
      {
       "output_type": "stream",
       "stream": "stderr",
       "text": [
        "\r",
        "Processed 1375000 ( 55.10% ) in 0.0357 seconds"
       ]
      },
      {
       "output_type": "stream",
       "stream": "stderr",
       "text": [
        "\r",
        "Processed 1376000 ( 55.14% ) in 0.0353 seconds"
       ]
      },
      {
       "output_type": "stream",
       "stream": "stderr",
       "text": [
        "\r",
        "Processed 1377000 ( 55.18% ) in 0.0295 seconds"
       ]
      },
      {
       "output_type": "stream",
       "stream": "stderr",
       "text": [
        "\r",
        "Processed 1378000 ( 55.22% ) in 0.0202 seconds"
       ]
      },
      {
       "output_type": "stream",
       "stream": "stderr",
       "text": [
        "\r",
        "Processed 1379000 ( 55.26% ) in 0.0193 seconds"
       ]
      },
      {
       "output_type": "stream",
       "stream": "stderr",
       "text": [
        "\r",
        "Processed 1380000 ( 55.30% ) in 0.0207 seconds"
       ]
      },
      {
       "output_type": "stream",
       "stream": "stderr",
       "text": [
        "\r",
        "Processed 1381000 ( 55.34% ) in 0.0281 seconds"
       ]
      },
      {
       "output_type": "stream",
       "stream": "stderr",
       "text": [
        "\r",
        "Processed 1382000 ( 55.38% ) in 0.0176 seconds"
       ]
      },
      {
       "output_type": "stream",
       "stream": "stderr",
       "text": [
        "\r",
        "Processed 1383000 ( 55.42% ) in 0.0158 seconds"
       ]
      },
      {
       "output_type": "stream",
       "stream": "stderr",
       "text": [
        "\r",
        "Processed 1384000 ( 55.46% ) in 0.0158 seconds"
       ]
      },
      {
       "output_type": "stream",
       "stream": "stderr",
       "text": [
        "\r",
        "Processed 1385000 ( 55.50% ) in 0.0157 seconds"
       ]
      },
      {
       "output_type": "stream",
       "stream": "stderr",
       "text": [
        "\r",
        "Processed 1386000 ( 55.54% ) in 0.0161 seconds"
       ]
      },
      {
       "output_type": "stream",
       "stream": "stderr",
       "text": [
        "\r",
        "Processed 1387000 ( 55.58% ) in 0.0158 seconds"
       ]
      },
      {
       "output_type": "stream",
       "stream": "stderr",
       "text": [
        "\r",
        "Processed 1388000 ( 55.62% ) in 0.0158 seconds"
       ]
      },
      {
       "output_type": "stream",
       "stream": "stderr",
       "text": [
        "\r",
        "Processed 1389000 ( 55.66% ) in 0.0153 seconds"
       ]
      },
      {
       "output_type": "stream",
       "stream": "stderr",
       "text": [
        "\r",
        "Processed 1390000 ( 55.70% ) in 0.0156 seconds"
       ]
      },
      {
       "output_type": "stream",
       "stream": "stderr",
       "text": [
        "\r",
        "Processed 1391000 ( 55.74% ) in 0.0259 seconds"
       ]
      },
      {
       "output_type": "stream",
       "stream": "stderr",
       "text": [
        "\r",
        "Processed 1392000 ( 55.78% ) in 0.0352 seconds"
       ]
      },
      {
       "output_type": "stream",
       "stream": "stderr",
       "text": [
        "\r",
        "Processed 1393000 ( 55.82% ) in 0.0309 seconds"
       ]
      },
      {
       "output_type": "stream",
       "stream": "stderr",
       "text": [
        "\r",
        "Processed 1394000 ( 55.87% ) in 0.0305 seconds"
       ]
      },
      {
       "output_type": "stream",
       "stream": "stderr",
       "text": [
        "\r",
        "Processed 1395000 ( 55.91% ) in 0.0234 seconds"
       ]
      },
      {
       "output_type": "stream",
       "stream": "stderr",
       "text": [
        "\r",
        "Processed 1396000 ( 55.95% ) in 0.0320 seconds"
       ]
      },
      {
       "output_type": "stream",
       "stream": "stderr",
       "text": [
        "\r",
        "Processed 1397000 ( 55.99% ) in 0.0182 seconds"
       ]
      },
      {
       "output_type": "stream",
       "stream": "stderr",
       "text": [
        "\r",
        "Processed 1398000 ( 56.03% ) in 0.0315 seconds"
       ]
      },
      {
       "output_type": "stream",
       "stream": "stderr",
       "text": [
        "\r",
        "Processed 1399000 ( 56.07% ) in 0.0264 seconds"
       ]
      },
      {
       "output_type": "stream",
       "stream": "stderr",
       "text": [
        "\r",
        "Processed 1400000 ( 56.11% ) in 0.0196 seconds"
       ]
      },
      {
       "output_type": "stream",
       "stream": "stderr",
       "text": [
        "\r",
        "Processed 1401000 ( 56.15% ) in 0.0330 seconds"
       ]
      },
      {
       "output_type": "stream",
       "stream": "stderr",
       "text": [
        "\r",
        "Processed 1402000 ( 56.19% ) in 0.0272 seconds"
       ]
      },
      {
       "output_type": "stream",
       "stream": "stderr",
       "text": [
        "\r",
        "Processed 1403000 ( 56.23% ) in 0.0329 seconds"
       ]
      },
      {
       "output_type": "stream",
       "stream": "stderr",
       "text": [
        "\r",
        "Processed 1404000 ( 56.27% ) in 0.0270 seconds"
       ]
      },
      {
       "output_type": "stream",
       "stream": "stderr",
       "text": [
        "\r",
        "Processed 1405000 ( 56.31% ) in 0.0267 seconds"
       ]
      },
      {
       "output_type": "stream",
       "stream": "stderr",
       "text": [
        "\r",
        "Processed 1406000 ( 56.35% ) in 0.0306 seconds"
       ]
      },
      {
       "output_type": "stream",
       "stream": "stderr",
       "text": [
        "\r",
        "Processed 1407000 ( 56.39% ) in 0.0327 seconds"
       ]
      },
      {
       "output_type": "stream",
       "stream": "stderr",
       "text": [
        "\r",
        "Processed 1408000 ( 56.43% ) in 0.0322 seconds"
       ]
      },
      {
       "output_type": "stream",
       "stream": "stderr",
       "text": [
        "\r",
        "Processed 1409000 ( 56.47% ) in 0.0194 seconds"
       ]
      },
      {
       "output_type": "stream",
       "stream": "stderr",
       "text": [
        "\r",
        "Processed 1410000 ( 56.51% ) in 0.0462 seconds"
       ]
      },
      {
       "output_type": "stream",
       "stream": "stderr",
       "text": [
        "\r",
        "Processed 1411000 ( 56.55% ) in 0.0243 seconds"
       ]
      },
      {
       "output_type": "stream",
       "stream": "stderr",
       "text": [
        "\r",
        "Processed 1412000 ( 56.59% ) in 0.0194 seconds"
       ]
      },
      {
       "output_type": "stream",
       "stream": "stderr",
       "text": [
        "\r",
        "Processed 1413000 ( 56.63% ) in 0.0328 seconds"
       ]
      },
      {
       "output_type": "stream",
       "stream": "stderr",
       "text": [
        "\r",
        "Processed 1414000 ( 56.67% ) in 0.0324 seconds"
       ]
      },
      {
       "output_type": "stream",
       "stream": "stderr",
       "text": [
        "\r",
        "Processed 1415000 ( 56.71% ) in 0.0336 seconds"
       ]
      },
      {
       "output_type": "stream",
       "stream": "stderr",
       "text": [
        "\r",
        "Processed 1416000 ( 56.75% ) in 0.0349 seconds"
       ]
      },
      {
       "output_type": "stream",
       "stream": "stderr",
       "text": [
        "\r",
        "Processed 1417000 ( 56.79% ) in 0.0319 seconds"
       ]
      },
      {
       "output_type": "stream",
       "stream": "stderr",
       "text": [
        "\r",
        "Processed 1418000 ( 56.83% ) in 0.0327 seconds"
       ]
      },
      {
       "output_type": "stream",
       "stream": "stderr",
       "text": [
        "\r",
        "Processed 1419000 ( 56.87% ) in 0.0322 seconds"
       ]
      },
      {
       "output_type": "stream",
       "stream": "stderr",
       "text": [
        "\r",
        "Processed 1420000 ( 56.91% ) in 0.0314 seconds"
       ]
      },
      {
       "output_type": "stream",
       "stream": "stderr",
       "text": [
        "\r",
        "Processed 1421000 ( 56.95% ) in 0.0322 seconds"
       ]
      },
      {
       "output_type": "stream",
       "stream": "stderr",
       "text": [
        "\r",
        "Processed 1422000 ( 56.99% ) in 0.0320 seconds"
       ]
      },
      {
       "output_type": "stream",
       "stream": "stderr",
       "text": [
        "\r",
        "Processed 1423000 ( 57.03% ) in 0.0322 seconds"
       ]
      },
      {
       "output_type": "stream",
       "stream": "stderr",
       "text": [
        "\r",
        "Processed 1424000 ( 57.07% ) in 0.0319 seconds"
       ]
      },
      {
       "output_type": "stream",
       "stream": "stderr",
       "text": [
        "\r",
        "Processed 1425000 ( 57.11% ) in 0.0238 seconds"
       ]
      },
      {
       "output_type": "stream",
       "stream": "stderr",
       "text": [
        "\r",
        "Processed 1426000 ( 57.15% ) in 0.0208 seconds"
       ]
      },
      {
       "output_type": "stream",
       "stream": "stderr",
       "text": [
        "\r",
        "Processed 1427000 ( 57.19% ) in 0.0190 seconds"
       ]
      },
      {
       "output_type": "stream",
       "stream": "stderr",
       "text": [
        "\r",
        "Processed 1428000 ( 57.23% ) in 0.0330 seconds"
       ]
      },
      {
       "output_type": "stream",
       "stream": "stderr",
       "text": [
        "\r",
        "Processed 1429000 ( 57.27% ) in 0.0270 seconds"
       ]
      },
      {
       "output_type": "stream",
       "stream": "stderr",
       "text": [
        "\r",
        "Processed 1430000 ( 57.31% ) in 0.0336 seconds"
       ]
      },
      {
       "output_type": "stream",
       "stream": "stderr",
       "text": [
        "\r",
        "Processed 1431000 ( 57.35% ) in 0.0335 seconds"
       ]
      },
      {
       "output_type": "stream",
       "stream": "stderr",
       "text": [
        "\r",
        "Processed 1432000 ( 57.39% ) in 0.0349 seconds"
       ]
      },
      {
       "output_type": "stream",
       "stream": "stderr",
       "text": [
        "\r",
        "Processed 1433000 ( 57.43% ) in 0.0326 seconds"
       ]
      },
      {
       "output_type": "stream",
       "stream": "stderr",
       "text": [
        "\r",
        "Processed 1434000 ( 57.47% ) in 0.0329 seconds"
       ]
      },
      {
       "output_type": "stream",
       "stream": "stderr",
       "text": [
        "\r",
        "Processed 1435000 ( 57.51% ) in 0.0309 seconds"
       ]
      },
      {
       "output_type": "stream",
       "stream": "stderr",
       "text": [
        "\r",
        "Processed 1436000 ( 57.55% ) in 0.0319 seconds"
       ]
      },
      {
       "output_type": "stream",
       "stream": "stderr",
       "text": [
        "\r",
        "Processed 1437000 ( 57.59% ) in 0.0323 seconds"
       ]
      },
      {
       "output_type": "stream",
       "stream": "stderr",
       "text": [
        "\r",
        "Processed 1438000 ( 57.63% ) in 0.0321 seconds"
       ]
      },
      {
       "output_type": "stream",
       "stream": "stderr",
       "text": [
        "\r",
        "Processed 1439000 ( 57.67% ) in 0.0168 seconds"
       ]
      },
      {
       "output_type": "stream",
       "stream": "stderr",
       "text": [
        "\r",
        "Processed 1440000 ( 57.71% ) in 0.0159 seconds"
       ]
      },
      {
       "output_type": "stream",
       "stream": "stderr",
       "text": [
        "\r",
        "Processed 1441000 ( 57.75% ) in 0.0160 seconds"
       ]
      },
      {
       "output_type": "stream",
       "stream": "stderr",
       "text": [
        "\r",
        "Processed 1442000 ( 57.79% ) in 0.0163 seconds"
       ]
      },
      {
       "output_type": "stream",
       "stream": "stderr",
       "text": [
        "\r",
        "Processed 1443000 ( 57.83% ) in 0.0165 seconds"
       ]
      },
      {
       "output_type": "stream",
       "stream": "stderr",
       "text": [
        "\r",
        "Processed 1444000 ( 57.87% ) in 0.0160 seconds"
       ]
      },
      {
       "output_type": "stream",
       "stream": "stderr",
       "text": [
        "\r",
        "Processed 1445000 ( 57.91% ) in 0.0506 seconds"
       ]
      },
      {
       "output_type": "stream",
       "stream": "stderr",
       "text": [
        "\r",
        "Processed 1446000 ( 57.95% ) in 0.0162 seconds"
       ]
      },
      {
       "output_type": "stream",
       "stream": "stderr",
       "text": [
        "\r",
        "Processed 1447000 ( 57.99% ) in 0.0165 seconds"
       ]
      },
      {
       "output_type": "stream",
       "stream": "stderr",
       "text": [
        "\r",
        "Processed 1448000 ( 58.03% ) in 0.0161 seconds"
       ]
      },
      {
       "output_type": "stream",
       "stream": "stderr",
       "text": [
        "\r",
        "Processed 1449000 ( 58.07% ) in 0.0412 seconds"
       ]
      },
      {
       "output_type": "stream",
       "stream": "stderr",
       "text": [
        "\r",
        "Processed 1450000 ( 58.11% ) in 0.0369 seconds"
       ]
      },
      {
       "output_type": "stream",
       "stream": "stderr",
       "text": [
        "\r",
        "Processed 1451000 ( 58.15% ) in 0.0269 seconds"
       ]
      },
      {
       "output_type": "stream",
       "stream": "stderr",
       "text": [
        "\r",
        "Processed 1452000 ( 58.19% ) in 0.0325 seconds"
       ]
      },
      {
       "output_type": "stream",
       "stream": "stderr",
       "text": [
        "\r",
        "Processed 1453000 ( 58.23% ) in 0.0282 seconds"
       ]
      },
      {
       "output_type": "stream",
       "stream": "stderr",
       "text": [
        "\r",
        "Processed 1454000 ( 58.27% ) in 0.0288 seconds"
       ]
      },
      {
       "output_type": "stream",
       "stream": "stderr",
       "text": [
        "\r",
        "Processed 1455000 ( 58.31% ) in 0.0228 seconds"
       ]
      },
      {
       "output_type": "stream",
       "stream": "stderr",
       "text": [
        "\r",
        "Processed 1456000 ( 58.35% ) in 0.0154 seconds"
       ]
      },
      {
       "output_type": "stream",
       "stream": "stderr",
       "text": [
        "\r",
        "Processed 1457000 ( 58.39% ) in 0.0158 seconds"
       ]
      },
      {
       "output_type": "stream",
       "stream": "stderr",
       "text": [
        "\r",
        "Processed 1458000 ( 58.43% ) in 0.0156 seconds"
       ]
      },
      {
       "output_type": "stream",
       "stream": "stderr",
       "text": [
        "\r",
        "Processed 1459000 ( 58.47% ) in 0.0158 seconds"
       ]
      },
      {
       "output_type": "stream",
       "stream": "stderr",
       "text": [
        "\r",
        "Processed 1460000 ( 58.51% ) in 0.0158 seconds"
       ]
      },
      {
       "output_type": "stream",
       "stream": "stderr",
       "text": [
        "\r",
        "Processed 1461000 ( 58.55% ) in 0.0156 seconds"
       ]
      },
      {
       "output_type": "stream",
       "stream": "stderr",
       "text": [
        "\r",
        "Processed 1462000 ( 58.59% ) in 0.0155 seconds"
       ]
      },
      {
       "output_type": "stream",
       "stream": "stderr",
       "text": [
        "\r",
        "Processed 1463000 ( 58.63% ) in 0.0158 seconds"
       ]
      },
      {
       "output_type": "stream",
       "stream": "stderr",
       "text": [
        "\r",
        "Processed 1464000 ( 58.67% ) in 0.0155 seconds"
       ]
      },
      {
       "output_type": "stream",
       "stream": "stderr",
       "text": [
        "\r",
        "Processed 1465000 ( 58.71% ) in 0.0155 seconds"
       ]
      },
      {
       "output_type": "stream",
       "stream": "stderr",
       "text": [
        "\r",
        "Processed 1466000 ( 58.75% ) in 0.0255 seconds"
       ]
      },
      {
       "output_type": "stream",
       "stream": "stderr",
       "text": [
        "\r",
        "Processed 1467000 ( 58.79% ) in 0.0322 seconds"
       ]
      },
      {
       "output_type": "stream",
       "stream": "stderr",
       "text": [
        "\r",
        "Processed 1468000 ( 58.83% ) in 0.0312 seconds"
       ]
      },
      {
       "output_type": "stream",
       "stream": "stderr",
       "text": [
        "\r",
        "Processed 1469000 ( 58.87% ) in 0.0276 seconds"
       ]
      },
      {
       "output_type": "stream",
       "stream": "stderr",
       "text": [
        "\r",
        "Processed 1470000 ( 58.91% ) in 0.0236 seconds"
       ]
      },
      {
       "output_type": "stream",
       "stream": "stderr",
       "text": [
        "\r",
        "Processed 1471000 ( 58.95% ) in 0.0336 seconds"
       ]
      },
      {
       "output_type": "stream",
       "stream": "stderr",
       "text": [
        "\r",
        "Processed 1472000 ( 58.99% ) in 0.0329 seconds"
       ]
      },
      {
       "output_type": "stream",
       "stream": "stderr",
       "text": [
        "\r",
        "Processed 1473000 ( 59.03% ) in 0.0317 seconds"
       ]
      },
      {
       "output_type": "stream",
       "stream": "stderr",
       "text": [
        "\r",
        "Processed 1474000 ( 59.07% ) in 0.0222 seconds"
       ]
      },
      {
       "output_type": "stream",
       "stream": "stderr",
       "text": [
        "\r",
        "Processed 1475000 ( 59.11% ) in 0.0212 seconds"
       ]
      },
      {
       "output_type": "stream",
       "stream": "stderr",
       "text": [
        "\r",
        "Processed 1476000 ( 59.15% ) in 0.0277 seconds"
       ]
      },
      {
       "output_type": "stream",
       "stream": "stderr",
       "text": [
        "\r",
        "Processed 1477000 ( 59.19% ) in 0.0246 seconds"
       ]
      },
      {
       "output_type": "stream",
       "stream": "stderr",
       "text": [
        "\r",
        "Processed 1478000 ( 59.23% ) in 0.0321 seconds"
       ]
      },
      {
       "output_type": "stream",
       "stream": "stderr",
       "text": [
        "\r",
        "Processed 1479000 ( 59.27% ) in 0.0204 seconds"
       ]
      },
      {
       "output_type": "stream",
       "stream": "stderr",
       "text": [
        "\r",
        "Processed 1480000 ( 59.31% ) in 0.0191 seconds"
       ]
      },
      {
       "output_type": "stream",
       "stream": "stderr",
       "text": [
        "\r",
        "Processed 1481000 ( 59.35% ) in 0.0193 seconds"
       ]
      },
      {
       "output_type": "stream",
       "stream": "stderr",
       "text": [
        "\r",
        "Processed 1482000 ( 59.39% ) in 0.0200 seconds"
       ]
      },
      {
       "output_type": "stream",
       "stream": "stderr",
       "text": [
        "\r",
        "Processed 1483000 ( 59.43% ) in 0.0209 seconds"
       ]
      },
      {
       "output_type": "stream",
       "stream": "stderr",
       "text": [
        "\r",
        "Processed 1484000 ( 59.47% ) in 0.0198 seconds"
       ]
      },
      {
       "output_type": "stream",
       "stream": "stderr",
       "text": [
        "\r",
        "Processed 1485000 ( 59.51% ) in 0.0196 seconds"
       ]
      },
      {
       "output_type": "stream",
       "stream": "stderr",
       "text": [
        "\r",
        "Processed 1486000 ( 59.55% ) in 0.0201 seconds"
       ]
      },
      {
       "output_type": "stream",
       "stream": "stderr",
       "text": [
        "\r",
        "Processed 1487000 ( 59.59% ) in 0.0470 seconds"
       ]
      },
      {
       "output_type": "stream",
       "stream": "stderr",
       "text": [
        "\r",
        "Processed 1488000 ( 59.63% ) in 0.0309 seconds"
       ]
      },
      {
       "output_type": "stream",
       "stream": "stderr",
       "text": [
        "\r",
        "Processed 1489000 ( 59.67% ) in 0.0201 seconds"
       ]
      },
      {
       "output_type": "stream",
       "stream": "stderr",
       "text": [
        "\r",
        "Processed 1490000 ( 59.71% ) in 0.0197 seconds"
       ]
      },
      {
       "output_type": "stream",
       "stream": "stderr",
       "text": [
        "\r",
        "Processed 1491000 ( 59.75% ) in 0.0204 seconds"
       ]
      },
      {
       "output_type": "stream",
       "stream": "stderr",
       "text": [
        "\r",
        "Processed 1492000 ( 59.79% ) in 0.0200 seconds"
       ]
      },
      {
       "output_type": "stream",
       "stream": "stderr",
       "text": [
        "\r",
        "Processed 1493000 ( 59.83% ) in 0.0200 seconds"
       ]
      },
      {
       "output_type": "stream",
       "stream": "stderr",
       "text": [
        "\r",
        "Processed 1494000 ( 59.87% ) in 0.0203 seconds"
       ]
      },
      {
       "output_type": "stream",
       "stream": "stderr",
       "text": [
        "\r",
        "Processed 1495000 ( 59.91% ) in 0.0198 seconds"
       ]
      },
      {
       "output_type": "stream",
       "stream": "stderr",
       "text": [
        "\r",
        "Processed 1496000 ( 59.95% ) in 0.0210 seconds"
       ]
      },
      {
       "output_type": "stream",
       "stream": "stderr",
       "text": [
        "\r",
        "Processed 1497000 ( 59.99% ) in 0.0196 seconds"
       ]
      },
      {
       "output_type": "stream",
       "stream": "stderr",
       "text": [
        "\r",
        "Processed 1498000 ( 60.03% ) in 0.0197 seconds"
       ]
      },
      {
       "output_type": "stream",
       "stream": "stderr",
       "text": [
        "\r",
        "Processed 1499000 ( 60.07% ) in 0.0205 seconds"
       ]
      },
      {
       "output_type": "stream",
       "stream": "stderr",
       "text": [
        "\r",
        "Processed 1500000 ( 60.11% ) in 0.0200 seconds"
       ]
      },
      {
       "output_type": "stream",
       "stream": "stderr",
       "text": [
        "\r",
        "Processed 1501000 ( 60.15% ) in 0.0204 seconds"
       ]
      },
      {
       "output_type": "stream",
       "stream": "stderr",
       "text": [
        "\r",
        "Processed 1502000 ( 60.19% ) in 0.0241 seconds"
       ]
      },
      {
       "output_type": "stream",
       "stream": "stderr",
       "text": [
        "\r",
        "Processed 1503000 ( 60.23% ) in 0.0202 seconds"
       ]
      },
      {
       "output_type": "stream",
       "stream": "stderr",
       "text": [
        "\r",
        "Processed 1504000 ( 60.27% ) in 0.0213 seconds"
       ]
      },
      {
       "output_type": "stream",
       "stream": "stderr",
       "text": [
        "\r",
        "Processed 1505000 ( 60.31% ) in 0.0205 seconds"
       ]
      },
      {
       "output_type": "stream",
       "stream": "stderr",
       "text": [
        "\r",
        "Processed 1506000 ( 60.35% ) in 0.0223 seconds"
       ]
      },
      {
       "output_type": "stream",
       "stream": "stderr",
       "text": [
        "\r",
        "Processed 1507000 ( 60.39% ) in 0.0223 seconds"
       ]
      },
      {
       "output_type": "stream",
       "stream": "stderr",
       "text": [
        "\r",
        "Processed 1508000 ( 60.43% ) in 0.0197 seconds"
       ]
      },
      {
       "output_type": "stream",
       "stream": "stderr",
       "text": [
        "\r",
        "Processed 1509000 ( 60.47% ) in 0.0288 seconds"
       ]
      },
      {
       "output_type": "stream",
       "stream": "stderr",
       "text": [
        "\r",
        "Processed 1510000 ( 60.51% ) in 0.0342 seconds"
       ]
      },
      {
       "output_type": "stream",
       "stream": "stderr",
       "text": [
        "\r",
        "Processed 1511000 ( 60.55% ) in 0.0458 seconds"
       ]
      },
      {
       "output_type": "stream",
       "stream": "stderr",
       "text": [
        "\r",
        "Processed 1512000 ( 60.59% ) in 0.0361 seconds"
       ]
      },
      {
       "output_type": "stream",
       "stream": "stderr",
       "text": [
        "\r",
        "Processed 1513000 ( 60.63% ) in 0.0271 seconds"
       ]
      },
      {
       "output_type": "stream",
       "stream": "stderr",
       "text": [
        "\r",
        "Processed 1514000 ( 60.67% ) in 0.0190 seconds"
       ]
      },
      {
       "output_type": "stream",
       "stream": "stderr",
       "text": [
        "\r",
        "Processed 1515000 ( 60.71% ) in 0.0192 seconds"
       ]
      },
      {
       "output_type": "stream",
       "stream": "stderr",
       "text": [
        "\r",
        "Processed 1516000 ( 60.75% ) in 0.0199 seconds"
       ]
      },
      {
       "output_type": "stream",
       "stream": "stderr",
       "text": [
        "\r",
        "Processed 1517000 ( 60.79% ) in 0.0389 seconds"
       ]
      },
      {
       "output_type": "stream",
       "stream": "stderr",
       "text": [
        "\r",
        "Processed 1518000 ( 60.83% ) in 0.0153 seconds"
       ]
      },
      {
       "output_type": "stream",
       "stream": "stderr",
       "text": [
        "\r",
        "Processed 1519000 ( 60.87% ) in 0.0155 seconds"
       ]
      },
      {
       "output_type": "stream",
       "stream": "stderr",
       "text": [
        "\r",
        "Processed 1520000 ( 60.91% ) in 0.0155 seconds"
       ]
      },
      {
       "output_type": "stream",
       "stream": "stderr",
       "text": [
        "\r",
        "Processed 1521000 ( 60.95% ) in 0.0155 seconds"
       ]
      },
      {
       "output_type": "stream",
       "stream": "stderr",
       "text": [
        "\r",
        "Processed 1522000 ( 60.99% ) in 0.0154 seconds"
       ]
      },
      {
       "output_type": "stream",
       "stream": "stderr",
       "text": [
        "\r",
        "Processed 1523000 ( 61.03% ) in 0.0152 seconds"
       ]
      },
      {
       "output_type": "stream",
       "stream": "stderr",
       "text": [
        "\r",
        "Processed 1524000 ( 61.07% ) in 0.0154 seconds"
       ]
      },
      {
       "output_type": "stream",
       "stream": "stderr",
       "text": [
        "\r",
        "Processed 1525000 ( 61.11% ) in 0.0166 seconds"
       ]
      },
      {
       "output_type": "stream",
       "stream": "stderr",
       "text": [
        "\r",
        "Processed 1526000 ( 61.15% ) in 0.0170 seconds"
       ]
      },
      {
       "output_type": "stream",
       "stream": "stderr",
       "text": [
        "\r",
        "Processed 1527000 ( 61.20% ) in 0.0262 seconds"
       ]
      },
      {
       "output_type": "stream",
       "stream": "stderr",
       "text": [
        "\r",
        "Processed 1528000 ( 61.24% ) in 0.0161 seconds"
       ]
      },
      {
       "output_type": "stream",
       "stream": "stderr",
       "text": [
        "\r",
        "Processed 1529000 ( 61.28% ) in 0.0165 seconds"
       ]
      },
      {
       "output_type": "stream",
       "stream": "stderr",
       "text": [
        "\r",
        "Processed 1530000 ( 61.32% ) in 0.0160 seconds"
       ]
      },
      {
       "output_type": "stream",
       "stream": "stderr",
       "text": [
        "\r",
        "Processed 1531000 ( 61.36% ) in 0.0177 seconds"
       ]
      },
      {
       "output_type": "stream",
       "stream": "stderr",
       "text": [
        "\r",
        "Processed 1532000 ( 61.40% ) in 0.0293 seconds"
       ]
      },
      {
       "output_type": "stream",
       "stream": "stderr",
       "text": [
        "\r",
        "Processed 1533000 ( 61.44% ) in 0.0278 seconds"
       ]
      },
      {
       "output_type": "stream",
       "stream": "stderr",
       "text": [
        "\r",
        "Processed 1534000 ( 61.48% ) in 0.0193 seconds"
       ]
      },
      {
       "output_type": "stream",
       "stream": "stderr",
       "text": [
        "\r",
        "Processed 1535000 ( 61.52% ) in 0.0152 seconds"
       ]
      },
      {
       "output_type": "stream",
       "stream": "stderr",
       "text": [
        "\r",
        "Processed 1536000 ( 61.56% ) in 0.0155 seconds"
       ]
      },
      {
       "output_type": "stream",
       "stream": "stderr",
       "text": [
        "\r",
        "Processed 1537000 ( 61.60% ) in 0.0154 seconds"
       ]
      },
      {
       "output_type": "stream",
       "stream": "stderr",
       "text": [
        "\r",
        "Processed 1538000 ( 61.64% ) in 0.0151 seconds"
       ]
      },
      {
       "output_type": "stream",
       "stream": "stderr",
       "text": [
        "\r",
        "Processed 1539000 ( 61.68% ) in 0.0469 seconds"
       ]
      },
      {
       "output_type": "stream",
       "stream": "stderr",
       "text": [
        "\r",
        "Processed 1540000 ( 61.72% ) in 0.0301 seconds"
       ]
      },
      {
       "output_type": "stream",
       "stream": "stderr",
       "text": [
        "\r",
        "Processed 1541000 ( 61.76% ) in 0.0237 seconds"
       ]
      },
      {
       "output_type": "stream",
       "stream": "stderr",
       "text": [
        "\r",
        "Processed 1542000 ( 61.80% ) in 0.0437 seconds"
       ]
      },
      {
       "output_type": "stream",
       "stream": "stderr",
       "text": [
        "\r",
        "Processed 1543000 ( 61.84% ) in 0.0320 seconds"
       ]
      },
      {
       "output_type": "stream",
       "stream": "stderr",
       "text": [
        "\r",
        "Processed 1544000 ( 61.88% ) in 0.0309 seconds"
       ]
      },
      {
       "output_type": "stream",
       "stream": "stderr",
       "text": [
        "\r",
        "Processed 1545000 ( 61.92% ) in 0.0207 seconds"
       ]
      },
      {
       "output_type": "stream",
       "stream": "stderr",
       "text": [
        "\r",
        "Processed 1546000 ( 61.96% ) in 0.0156 seconds"
       ]
      },
      {
       "output_type": "stream",
       "stream": "stderr",
       "text": [
        "\r",
        "Processed 1547000 ( 62.00% ) in 0.0154 seconds"
       ]
      },
      {
       "output_type": "stream",
       "stream": "stderr",
       "text": [
        "\r",
        "Processed 1548000 ( 62.04% ) in 0.0154 seconds"
       ]
      },
      {
       "output_type": "stream",
       "stream": "stderr",
       "text": [
        "\r",
        "Processed 1549000 ( 62.08% ) in 0.0153 seconds"
       ]
      },
      {
       "output_type": "stream",
       "stream": "stderr",
       "text": [
        "\r",
        "Processed 1550000 ( 62.12% ) in 0.0154 seconds"
       ]
      },
      {
       "output_type": "stream",
       "stream": "stderr",
       "text": [
        "\r",
        "Processed 1551000 ( 62.16% ) in 0.0152 seconds"
       ]
      },
      {
       "output_type": "stream",
       "stream": "stderr",
       "text": [
        "\r",
        "Processed 1552000 ( 62.20% ) in 0.0153 seconds"
       ]
      },
      {
       "output_type": "stream",
       "stream": "stderr",
       "text": [
        "\r",
        "Processed 1553000 ( 62.24% ) in 0.0152 seconds"
       ]
      },
      {
       "output_type": "stream",
       "stream": "stderr",
       "text": [
        "\r",
        "Processed 1554000 ( 62.28% ) in 0.0165 seconds"
       ]
      },
      {
       "output_type": "stream",
       "stream": "stderr",
       "text": [
        "\r",
        "Processed 1555000 ( 62.32% ) in 0.0154 seconds"
       ]
      },
      {
       "output_type": "stream",
       "stream": "stderr",
       "text": [
        "\r",
        "Processed 1556000 ( 62.36% ) in 0.0150 seconds"
       ]
      },
      {
       "output_type": "stream",
       "stream": "stderr",
       "text": [
        "\r",
        "Processed 1557000 ( 62.40% ) in 0.0152 seconds"
       ]
      },
      {
       "output_type": "stream",
       "stream": "stderr",
       "text": [
        "\r",
        "Processed 1558000 ( 62.44% ) in 0.0152 seconds"
       ]
      },
      {
       "output_type": "stream",
       "stream": "stderr",
       "text": [
        "\r",
        "Processed 1559000 ( 62.48% ) in 0.0153 seconds"
       ]
      },
      {
       "output_type": "stream",
       "stream": "stderr",
       "text": [
        "\r",
        "Processed 1560000 ( 62.52% ) in 0.0152 seconds"
       ]
      },
      {
       "output_type": "stream",
       "stream": "stderr",
       "text": [
        "\r",
        "Processed 1561000 ( 62.56% ) in 0.0154 seconds"
       ]
      },
      {
       "output_type": "stream",
       "stream": "stderr",
       "text": [
        "\r",
        "Processed 1562000 ( 62.60% ) in 0.0152 seconds"
       ]
      },
      {
       "output_type": "stream",
       "stream": "stderr",
       "text": [
        "\r",
        "Processed 1563000 ( 62.64% ) in 0.0162 seconds"
       ]
      },
      {
       "output_type": "stream",
       "stream": "stderr",
       "text": [
        "\r",
        "Processed 1564000 ( 62.68% ) in 0.0156 seconds"
       ]
      },
      {
       "output_type": "stream",
       "stream": "stderr",
       "text": [
        "\r",
        "Processed 1565000 ( 62.72% ) in 0.0154 seconds"
       ]
      },
      {
       "output_type": "stream",
       "stream": "stderr",
       "text": [
        "\r",
        "Processed 1566000 ( 62.76% ) in 0.0152 seconds"
       ]
      },
      {
       "output_type": "stream",
       "stream": "stderr",
       "text": [
        "\r",
        "Processed 1567000 ( 62.80% ) in 0.0154 seconds"
       ]
      },
      {
       "output_type": "stream",
       "stream": "stderr",
       "text": [
        "\r",
        "Processed 1568000 ( 62.84% ) in 0.0152 seconds"
       ]
      },
      {
       "output_type": "stream",
       "stream": "stderr",
       "text": [
        "\r",
        "Processed 1569000 ( 62.88% ) in 0.0152 seconds"
       ]
      },
      {
       "output_type": "stream",
       "stream": "stderr",
       "text": [
        "\r",
        "Processed 1570000 ( 62.92% ) in 0.0152 seconds"
       ]
      },
      {
       "output_type": "stream",
       "stream": "stderr",
       "text": [
        "\r",
        "Processed 1571000 ( 62.96% ) in 0.0152 seconds"
       ]
      },
      {
       "output_type": "stream",
       "stream": "stderr",
       "text": [
        "\r",
        "Processed 1572000 ( 63.00% ) in 0.0154 seconds"
       ]
      },
      {
       "output_type": "stream",
       "stream": "stderr",
       "text": [
        "\r",
        "Processed 1573000 ( 63.04% ) in 0.0153 seconds"
       ]
      },
      {
       "output_type": "stream",
       "stream": "stderr",
       "text": [
        "\r",
        "Processed 1574000 ( 63.08% ) in 0.0153 seconds"
       ]
      },
      {
       "output_type": "stream",
       "stream": "stderr",
       "text": [
        "\r",
        "Processed 1575000 ( 63.12% ) in 0.0152 seconds"
       ]
      },
      {
       "output_type": "stream",
       "stream": "stderr",
       "text": [
        "\r",
        "Processed 1576000 ( 63.16% ) in 0.0153 seconds"
       ]
      },
      {
       "output_type": "stream",
       "stream": "stderr",
       "text": [
        "\r",
        "Processed 1577000 ( 63.20% ) in 0.0155 seconds"
       ]
      },
      {
       "output_type": "stream",
       "stream": "stderr",
       "text": [
        "\r",
        "Processed 1578000 ( 63.24% ) in 0.0153 seconds"
       ]
      },
      {
       "output_type": "stream",
       "stream": "stderr",
       "text": [
        "\r",
        "Processed 1579000 ( 63.28% ) in 0.0151 seconds"
       ]
      },
      {
       "output_type": "stream",
       "stream": "stderr",
       "text": [
        "\r",
        "Processed 1580000 ( 63.32% ) in 0.0154 seconds"
       ]
      },
      {
       "output_type": "stream",
       "stream": "stderr",
       "text": [
        "\r",
        "Processed 1581000 ( 63.36% ) in 0.0152 seconds"
       ]
      },
      {
       "output_type": "stream",
       "stream": "stderr",
       "text": [
        "\r",
        "Processed 1582000 ( 63.40% ) in 0.0152 seconds"
       ]
      },
      {
       "output_type": "stream",
       "stream": "stderr",
       "text": [
        "\r",
        "Processed 1583000 ( 63.44% ) in 0.0153 seconds"
       ]
      },
      {
       "output_type": "stream",
       "stream": "stderr",
       "text": [
        "\r",
        "Processed 1584000 ( 63.48% ) in 0.0173 seconds"
       ]
      },
      {
       "output_type": "stream",
       "stream": "stderr",
       "text": [
        "\r",
        "Processed 1585000 ( 63.52% ) in 0.0156 seconds"
       ]
      },
      {
       "output_type": "stream",
       "stream": "stderr",
       "text": [
        "\r",
        "Processed 1586000 ( 63.56% ) in 0.0157 seconds"
       ]
      },
      {
       "output_type": "stream",
       "stream": "stderr",
       "text": [
        "\r",
        "Processed 1587000 ( 63.60% ) in 0.0308 seconds"
       ]
      },
      {
       "output_type": "stream",
       "stream": "stderr",
       "text": [
        "\r",
        "Processed 1588000 ( 63.64% ) in 0.0269 seconds"
       ]
      },
      {
       "output_type": "stream",
       "stream": "stderr",
       "text": [
        "\r",
        "Processed 1589000 ( 63.68% ) in 0.0192 seconds"
       ]
      },
      {
       "output_type": "stream",
       "stream": "stderr",
       "text": [
        "\r",
        "Processed 1590000 ( 63.72% ) in 0.0151 seconds"
       ]
      },
      {
       "output_type": "stream",
       "stream": "stderr",
       "text": [
        "\r",
        "Processed 1591000 ( 63.76% ) in 0.0153 seconds"
       ]
      },
      {
       "output_type": "stream",
       "stream": "stderr",
       "text": [
        "\r",
        "Processed 1592000 ( 63.80% ) in 0.0152 seconds"
       ]
      },
      {
       "output_type": "stream",
       "stream": "stderr",
       "text": [
        "\r",
        "Processed 1593000 ( 63.84% ) in 0.0150 seconds"
       ]
      },
      {
       "output_type": "stream",
       "stream": "stderr",
       "text": [
        "\r",
        "Processed 1594000 ( 63.88% ) in 0.0151 seconds"
       ]
      },
      {
       "output_type": "stream",
       "stream": "stderr",
       "text": [
        "\r",
        "Processed 1595000 ( 63.92% ) in 0.0153 seconds"
       ]
      },
      {
       "output_type": "stream",
       "stream": "stderr",
       "text": [
        "\r",
        "Processed 1596000 ( 63.96% ) in 0.0152 seconds"
       ]
      },
      {
       "output_type": "stream",
       "stream": "stderr",
       "text": [
        "\r",
        "Processed 1597000 ( 64.00% ) in 0.0152 seconds"
       ]
      },
      {
       "output_type": "stream",
       "stream": "stderr",
       "text": [
        "\r",
        "Processed 1598000 ( 64.04% ) in 0.0150 seconds"
       ]
      },
      {
       "output_type": "stream",
       "stream": "stderr",
       "text": [
        "\r",
        "Processed 1599000 ( 64.08% ) in 0.0152 seconds"
       ]
      },
      {
       "output_type": "stream",
       "stream": "stderr",
       "text": [
        "\r",
        "Processed 1600000 ( 64.12% ) in 0.0158 seconds"
       ]
      },
      {
       "output_type": "stream",
       "stream": "stderr",
       "text": [
        "\r",
        "Processed 1601000 ( 64.16% ) in 0.0151 seconds"
       ]
      },
      {
       "output_type": "stream",
       "stream": "stderr",
       "text": [
        "\r",
        "Processed 1602000 ( 64.20% ) in 0.0152 seconds"
       ]
      },
      {
       "output_type": "stream",
       "stream": "stderr",
       "text": [
        "\r",
        "Processed 1603000 ( 64.24% ) in 0.0151 seconds"
       ]
      },
      {
       "output_type": "stream",
       "stream": "stderr",
       "text": [
        "\r",
        "Processed 1604000 ( 64.28% ) in 0.0150 seconds"
       ]
      },
      {
       "output_type": "stream",
       "stream": "stderr",
       "text": [
        "\r",
        "Processed 1605000 ( 64.32% ) in 0.0152 seconds"
       ]
      },
      {
       "output_type": "stream",
       "stream": "stderr",
       "text": [
        "\r",
        "Processed 1606000 ( 64.36% ) in 0.0151 seconds"
       ]
      },
      {
       "output_type": "stream",
       "stream": "stderr",
       "text": [
        "\r",
        "Processed 1607000 ( 64.40% ) in 0.0150 seconds"
       ]
      },
      {
       "output_type": "stream",
       "stream": "stderr",
       "text": [
        "\r",
        "Processed 1608000 ( 64.44% ) in 0.0151 seconds"
       ]
      },
      {
       "output_type": "stream",
       "stream": "stderr",
       "text": [
        "\r",
        "Processed 1609000 ( 64.48% ) in 0.0151 seconds"
       ]
      },
      {
       "output_type": "stream",
       "stream": "stderr",
       "text": [
        "\r",
        "Processed 1610000 ( 64.52% ) in 0.0151 seconds"
       ]
      },
      {
       "output_type": "stream",
       "stream": "stderr",
       "text": [
        "\r",
        "Processed 1611000 ( 64.56% ) in 0.0153 seconds"
       ]
      },
      {
       "output_type": "stream",
       "stream": "stderr",
       "text": [
        "\r",
        "Processed 1612000 ( 64.60% ) in 0.0152 seconds"
       ]
      },
      {
       "output_type": "stream",
       "stream": "stderr",
       "text": [
        "\r",
        "Processed 1613000 ( 64.64% ) in 0.0156 seconds"
       ]
      },
      {
       "output_type": "stream",
       "stream": "stderr",
       "text": [
        "\r",
        "Processed 1614000 ( 64.68% ) in 0.0151 seconds"
       ]
      },
      {
       "output_type": "stream",
       "stream": "stderr",
       "text": [
        "\r",
        "Processed 1615000 ( 64.72% ) in 0.0151 seconds"
       ]
      },
      {
       "output_type": "stream",
       "stream": "stderr",
       "text": [
        "\r",
        "Processed 1616000 ( 64.76% ) in 0.0152 seconds"
       ]
      },
      {
       "output_type": "stream",
       "stream": "stderr",
       "text": [
        "\r",
        "Processed 1617000 ( 64.80% ) in 0.0151 seconds"
       ]
      },
      {
       "output_type": "stream",
       "stream": "stderr",
       "text": [
        "\r",
        "Processed 1618000 ( 64.84% ) in 0.0151 seconds"
       ]
      },
      {
       "output_type": "stream",
       "stream": "stderr",
       "text": [
        "\r",
        "Processed 1619000 ( 64.88% ) in 0.0150 seconds"
       ]
      },
      {
       "output_type": "stream",
       "stream": "stderr",
       "text": [
        "\r",
        "Processed 1620000 ( 64.92% ) in 0.0151 seconds"
       ]
      },
      {
       "output_type": "stream",
       "stream": "stderr",
       "text": [
        "\r",
        "Processed 1621000 ( 64.96% ) in 0.0196 seconds"
       ]
      },
      {
       "output_type": "stream",
       "stream": "stderr",
       "text": [
        "\r",
        "Processed 1622000 ( 65.00% ) in 0.0155 seconds"
       ]
      },
      {
       "output_type": "stream",
       "stream": "stderr",
       "text": [
        "\r",
        "Processed 1623000 ( 65.04% ) in 0.0150 seconds"
       ]
      },
      {
       "output_type": "stream",
       "stream": "stderr",
       "text": [
        "\r",
        "Processed 1624000 ( 65.08% ) in 0.0152 seconds"
       ]
      },
      {
       "output_type": "stream",
       "stream": "stderr",
       "text": [
        "\r",
        "Processed 1625000 ( 65.12% ) in 0.0150 seconds"
       ]
      },
      {
       "output_type": "stream",
       "stream": "stderr",
       "text": [
        "\r",
        "Processed 1626000 ( 65.16% ) in 0.0150 seconds"
       ]
      },
      {
       "output_type": "stream",
       "stream": "stderr",
       "text": [
        "\r",
        "Processed 1627000 ( 65.20% ) in 0.0151 seconds"
       ]
      },
      {
       "output_type": "stream",
       "stream": "stderr",
       "text": [
        "\r",
        "Processed 1628000 ( 65.24% ) in 0.0151 seconds"
       ]
      },
      {
       "output_type": "stream",
       "stream": "stderr",
       "text": [
        "\r",
        "Processed 1629000 ( 65.28% ) in 0.0153 seconds"
       ]
      },
      {
       "output_type": "stream",
       "stream": "stderr",
       "text": [
        "\r",
        "Processed 1630000 ( 65.32% ) in 0.0151 seconds"
       ]
      },
      {
       "output_type": "stream",
       "stream": "stderr",
       "text": [
        "\r",
        "Processed 1631000 ( 65.36% ) in 0.0152 seconds"
       ]
      },
      {
       "output_type": "stream",
       "stream": "stderr",
       "text": [
        "\r",
        "Processed 1632000 ( 65.40% ) in 0.0150 seconds"
       ]
      },
      {
       "output_type": "stream",
       "stream": "stderr",
       "text": [
        "\r",
        "Processed 1633000 ( 65.44% ) in 0.0151 seconds"
       ]
      },
      {
       "output_type": "stream",
       "stream": "stderr",
       "text": [
        "\r",
        "Processed 1634000 ( 65.48% ) in 0.0151 seconds"
       ]
      },
      {
       "output_type": "stream",
       "stream": "stderr",
       "text": [
        "\r",
        "Processed 1635000 ( 65.52% ) in 0.0152 seconds"
       ]
      },
      {
       "output_type": "stream",
       "stream": "stderr",
       "text": [
        "\r",
        "Processed 1636000 ( 65.56% ) in 0.0153 seconds"
       ]
      },
      {
       "output_type": "stream",
       "stream": "stderr",
       "text": [
        "\r",
        "Processed 1637000 ( 65.60% ) in 0.0153 seconds"
       ]
      },
      {
       "output_type": "stream",
       "stream": "stderr",
       "text": [
        "\r",
        "Processed 1638000 ( 65.64% ) in 0.0150 seconds"
       ]
      },
      {
       "output_type": "stream",
       "stream": "stderr",
       "text": [
        "\r",
        "Processed 1639000 ( 65.68% ) in 0.0151 seconds"
       ]
      },
      {
       "output_type": "stream",
       "stream": "stderr",
       "text": [
        "\r",
        "Processed 1640000 ( 65.72% ) in 0.0150 seconds"
       ]
      },
      {
       "output_type": "stream",
       "stream": "stderr",
       "text": [
        "\r",
        "Processed 1641000 ( 65.76% ) in 0.0150 seconds"
       ]
      },
      {
       "output_type": "stream",
       "stream": "stderr",
       "text": [
        "\r",
        "Processed 1642000 ( 65.80% ) in 0.0150 seconds"
       ]
      },
      {
       "output_type": "stream",
       "stream": "stderr",
       "text": [
        "\r",
        "Processed 1643000 ( 65.84% ) in 0.0150 seconds"
       ]
      },
      {
       "output_type": "stream",
       "stream": "stderr",
       "text": [
        "\r",
        "Processed 1644000 ( 65.88% ) in 0.0151 seconds"
       ]
      },
      {
       "output_type": "stream",
       "stream": "stderr",
       "text": [
        "\r",
        "Processed 1645000 ( 65.92% ) in 0.0151 seconds"
       ]
      },
      {
       "output_type": "stream",
       "stream": "stderr",
       "text": [
        "\r",
        "Processed 1646000 ( 65.96% ) in 0.0151 seconds"
       ]
      },
      {
       "output_type": "stream",
       "stream": "stderr",
       "text": [
        "\r",
        "Processed 1647000 ( 66.00% ) in 0.0151 seconds"
       ]
      },
      {
       "output_type": "stream",
       "stream": "stderr",
       "text": [
        "\r",
        "Processed 1648000 ( 66.04% ) in 0.0152 seconds"
       ]
      },
      {
       "output_type": "stream",
       "stream": "stderr",
       "text": [
        "\r",
        "Processed 1649000 ( 66.08% ) in 0.0150 seconds"
       ]
      },
      {
       "output_type": "stream",
       "stream": "stderr",
       "text": [
        "\r",
        "Processed 1650000 ( 66.12% ) in 0.0150 seconds"
       ]
      },
      {
       "output_type": "stream",
       "stream": "stderr",
       "text": [
        "\r",
        "Processed 1651000 ( 66.16% ) in 0.0317 seconds"
       ]
      },
      {
       "output_type": "stream",
       "stream": "stderr",
       "text": [
        "\r",
        "Processed 1652000 ( 66.20% ) in 0.0395 seconds"
       ]
      },
      {
       "output_type": "stream",
       "stream": "stderr",
       "text": [
        "\r",
        "Processed 1653000 ( 66.24% ) in 0.0269 seconds"
       ]
      },
      {
       "output_type": "stream",
       "stream": "stderr",
       "text": [
        "\r",
        "Processed 1654000 ( 66.28% ) in 0.0155 seconds"
       ]
      },
      {
       "output_type": "stream",
       "stream": "stderr",
       "text": [
        "\r",
        "Processed 1655000 ( 66.32% ) in 0.0154 seconds"
       ]
      },
      {
       "output_type": "stream",
       "stream": "stderr",
       "text": [
        "\r",
        "Processed 1656000 ( 66.36% ) in 0.0155 seconds"
       ]
      },
      {
       "output_type": "stream",
       "stream": "stderr",
       "text": [
        "\r",
        "Processed 1657000 ( 66.40% ) in 0.0427 seconds"
       ]
      },
      {
       "output_type": "stream",
       "stream": "stderr",
       "text": [
        "\r",
        "Processed 1658000 ( 66.44% ) in 0.0283 seconds"
       ]
      },
      {
       "output_type": "stream",
       "stream": "stderr",
       "text": [
        "\r",
        "Processed 1659000 ( 66.48% ) in 0.0320 seconds"
       ]
      },
      {
       "output_type": "stream",
       "stream": "stderr",
       "text": [
        "\r",
        "Processed 1660000 ( 66.53% ) in 0.0180 seconds"
       ]
      },
      {
       "output_type": "stream",
       "stream": "stderr",
       "text": [
        "\r",
        "Processed 1661000 ( 66.57% ) in 0.0444 seconds"
       ]
      },
      {
       "output_type": "stream",
       "stream": "stderr",
       "text": [
        "\r",
        "Processed 1662000 ( 66.61% ) in 0.0262 seconds"
       ]
      },
      {
       "output_type": "stream",
       "stream": "stderr",
       "text": [
        "\r",
        "Processed 1663000 ( 66.65% ) in 0.0199 seconds"
       ]
      },
      {
       "output_type": "stream",
       "stream": "stderr",
       "text": [
        "\r",
        "Processed 1664000 ( 66.69% ) in 0.0200 seconds"
       ]
      },
      {
       "output_type": "stream",
       "stream": "stderr",
       "text": [
        "\r",
        "Processed 1665000 ( 66.73% ) in 0.0166 seconds"
       ]
      },
      {
       "output_type": "stream",
       "stream": "stderr",
       "text": [
        "\r",
        "Processed 1666000 ( 66.77% ) in 0.0158 seconds"
       ]
      },
      {
       "output_type": "stream",
       "stream": "stderr",
       "text": [
        "\r",
        "Processed 1667000 ( 66.81% ) in 0.0155 seconds"
       ]
      },
      {
       "output_type": "stream",
       "stream": "stderr",
       "text": [
        "\r",
        "Processed 1668000 ( 66.85% ) in 0.0154 seconds"
       ]
      },
      {
       "output_type": "stream",
       "stream": "stderr",
       "text": [
        "\r",
        "Processed 1669000 ( 66.89% ) in 0.0155 seconds"
       ]
      },
      {
       "output_type": "stream",
       "stream": "stderr",
       "text": [
        "\r",
        "Processed 1670000 ( 66.93% ) in 0.0157 seconds"
       ]
      },
      {
       "output_type": "stream",
       "stream": "stderr",
       "text": [
        "\r",
        "Processed 1671000 ( 66.97% ) in 0.0156 seconds"
       ]
      },
      {
       "output_type": "stream",
       "stream": "stderr",
       "text": [
        "\r",
        "Processed 1672000 ( 67.01% ) in 0.0155 seconds"
       ]
      },
      {
       "output_type": "stream",
       "stream": "stderr",
       "text": [
        "\r",
        "Processed 1673000 ( 67.05% ) in 0.0155 seconds"
       ]
      },
      {
       "output_type": "stream",
       "stream": "stderr",
       "text": [
        "\r",
        "Processed 1674000 ( 67.09% ) in 0.0155 seconds"
       ]
      },
      {
       "output_type": "stream",
       "stream": "stderr",
       "text": [
        "\r",
        "Processed 1675000 ( 67.13% ) in 0.0175 seconds"
       ]
      },
      {
       "output_type": "stream",
       "stream": "stderr",
       "text": [
        "\r",
        "Processed 1676000 ( 67.17% ) in 0.0155 seconds"
       ]
      },
      {
       "output_type": "stream",
       "stream": "stderr",
       "text": [
        "\r",
        "Processed 1677000 ( 67.21% ) in 0.0156 seconds"
       ]
      },
      {
       "output_type": "stream",
       "stream": "stderr",
       "text": [
        "\r",
        "Processed 1678000 ( 67.25% ) in 0.0155 seconds"
       ]
      },
      {
       "output_type": "stream",
       "stream": "stderr",
       "text": [
        "\r",
        "Processed 1679000 ( 67.29% ) in 0.0156 seconds"
       ]
      },
      {
       "output_type": "stream",
       "stream": "stderr",
       "text": [
        "\r",
        "Processed 1680000 ( 67.33% ) in 0.0156 seconds"
       ]
      },
      {
       "output_type": "stream",
       "stream": "stderr",
       "text": [
        "\r",
        "Processed 1681000 ( 67.37% ) in 0.0154 seconds"
       ]
      },
      {
       "output_type": "stream",
       "stream": "stderr",
       "text": [
        "\r",
        "Processed 1682000 ( 67.41% ) in 0.0155 seconds"
       ]
      },
      {
       "output_type": "stream",
       "stream": "stderr",
       "text": [
        "\r",
        "Processed 1683000 ( 67.45% ) in 0.0157 seconds"
       ]
      },
      {
       "output_type": "stream",
       "stream": "stderr",
       "text": [
        "\r",
        "Processed 1684000 ( 67.49% ) in 0.0155 seconds"
       ]
      },
      {
       "output_type": "stream",
       "stream": "stderr",
       "text": [
        "\r",
        "Processed 1685000 ( 67.53% ) in 0.0156 seconds"
       ]
      },
      {
       "output_type": "stream",
       "stream": "stderr",
       "text": [
        "\r",
        "Processed 1686000 ( 67.57% ) in 0.0158 seconds"
       ]
      },
      {
       "output_type": "stream",
       "stream": "stderr",
       "text": [
        "\r",
        "Processed 1687000 ( 67.61% ) in 0.0154 seconds"
       ]
      },
      {
       "output_type": "stream",
       "stream": "stderr",
       "text": [
        "\r",
        "Processed 1688000 ( 67.65% ) in 0.0204 seconds"
       ]
      },
      {
       "output_type": "stream",
       "stream": "stderr",
       "text": [
        "\r",
        "Processed 1689000 ( 67.69% ) in 0.0156 seconds"
       ]
      },
      {
       "output_type": "stream",
       "stream": "stderr",
       "text": [
        "\r",
        "Processed 1690000 ( 67.73% ) in 0.0155 seconds"
       ]
      },
      {
       "output_type": "stream",
       "stream": "stderr",
       "text": [
        "\r",
        "Processed 1691000 ( 67.77% ) in 0.0156 seconds"
       ]
      },
      {
       "output_type": "stream",
       "stream": "stderr",
       "text": [
        "\r",
        "Processed 1692000 ( 67.81% ) in 0.0155 seconds"
       ]
      },
      {
       "output_type": "stream",
       "stream": "stderr",
       "text": [
        "\r",
        "Processed 1693000 ( 67.85% ) in 0.0156 seconds"
       ]
      },
      {
       "output_type": "stream",
       "stream": "stderr",
       "text": [
        "\r",
        "Processed 1694000 ( 67.89% ) in 0.0151 seconds"
       ]
      },
      {
       "output_type": "stream",
       "stream": "stderr",
       "text": [
        "\r",
        "Processed 1695000 ( 67.93% ) in 0.0176 seconds"
       ]
      },
      {
       "output_type": "stream",
       "stream": "stderr",
       "text": [
        "\r",
        "Processed 1696000 ( 67.97% ) in 0.0182 seconds"
       ]
      },
      {
       "output_type": "stream",
       "stream": "stderr",
       "text": [
        "\r",
        "Processed 1697000 ( 68.01% ) in 0.0153 seconds"
       ]
      },
      {
       "output_type": "stream",
       "stream": "stderr",
       "text": [
        "\r",
        "Processed 1698000 ( 68.05% ) in 0.0153 seconds"
       ]
      },
      {
       "output_type": "stream",
       "stream": "stderr",
       "text": [
        "\r",
        "Processed 1699000 ( 68.09% ) in 0.0152 seconds"
       ]
      },
      {
       "output_type": "stream",
       "stream": "stderr",
       "text": [
        "\r",
        "Processed 1700000 ( 68.13% ) in 0.0153 seconds"
       ]
      },
      {
       "output_type": "stream",
       "stream": "stderr",
       "text": [
        "\r",
        "Processed 1701000 ( 68.17% ) in 0.0379 seconds"
       ]
      },
      {
       "output_type": "stream",
       "stream": "stderr",
       "text": [
        "\r",
        "Processed 1702000 ( 68.21% ) in 0.0158 seconds"
       ]
      },
      {
       "output_type": "stream",
       "stream": "stderr",
       "text": [
        "\r",
        "Processed 1703000 ( 68.25% ) in 0.0386 seconds"
       ]
      },
      {
       "output_type": "stream",
       "stream": "stderr",
       "text": [
        "\r",
        "Processed 1704000 ( 68.29% ) in 0.0410 seconds"
       ]
      },
      {
       "output_type": "stream",
       "stream": "stderr",
       "text": [
        "\r",
        "Processed 1705000 ( 68.33% ) in 0.0249 seconds"
       ]
      },
      {
       "output_type": "stream",
       "stream": "stderr",
       "text": [
        "\r",
        "Processed 1706000 ( 68.37% ) in 0.0194 seconds"
       ]
      },
      {
       "output_type": "stream",
       "stream": "stderr",
       "text": [
        "\r",
        "Processed 1707000 ( 68.41% ) in 0.0312 seconds"
       ]
      },
      {
       "output_type": "stream",
       "stream": "stderr",
       "text": [
        "\r",
        "Processed 1708000 ( 68.45% ) in 0.0324 seconds"
       ]
      },
      {
       "output_type": "stream",
       "stream": "stderr",
       "text": [
        "\r",
        "Processed 1709000 ( 68.49% ) in 0.0240 seconds"
       ]
      },
      {
       "output_type": "stream",
       "stream": "stderr",
       "text": [
        "\r",
        "Processed 1710000 ( 68.53% ) in 0.0359 seconds"
       ]
      },
      {
       "output_type": "stream",
       "stream": "stderr",
       "text": [
        "\r",
        "Processed 1711000 ( 68.57% ) in 0.0290 seconds"
       ]
      },
      {
       "output_type": "stream",
       "stream": "stderr",
       "text": [
        "\r",
        "Processed 1712000 ( 68.61% ) in 0.0300 seconds"
       ]
      },
      {
       "output_type": "stream",
       "stream": "stderr",
       "text": [
        "\r",
        "Processed 1713000 ( 68.65% ) in 0.0283 seconds"
       ]
      },
      {
       "output_type": "stream",
       "stream": "stderr",
       "text": [
        "\r",
        "Processed 1714000 ( 68.69% ) in 0.0282 seconds"
       ]
      },
      {
       "output_type": "stream",
       "stream": "stderr",
       "text": [
        "\r",
        "Processed 1715000 ( 68.73% ) in 0.0489 seconds"
       ]
      },
      {
       "output_type": "stream",
       "stream": "stderr",
       "text": [
        "\r",
        "Processed 1716000 ( 68.77% ) in 0.0412 seconds"
       ]
      },
      {
       "output_type": "stream",
       "stream": "stderr",
       "text": [
        "\r",
        "Processed 1717000 ( 68.81% ) in 0.0333 seconds"
       ]
      },
      {
       "output_type": "stream",
       "stream": "stderr",
       "text": [
        "\r",
        "Processed 1718000 ( 68.85% ) in 0.0291 seconds"
       ]
      },
      {
       "output_type": "stream",
       "stream": "stderr",
       "text": [
        "\r",
        "Processed 1719000 ( 68.89% ) in 0.0226 seconds"
       ]
      },
      {
       "output_type": "stream",
       "stream": "stderr",
       "text": [
        "\r",
        "Processed 1720000 ( 68.93% ) in 0.0323 seconds"
       ]
      },
      {
       "output_type": "stream",
       "stream": "stderr",
       "text": [
        "\r",
        "Processed 1721000 ( 68.97% ) in 0.0196 seconds"
       ]
      },
      {
       "output_type": "stream",
       "stream": "stderr",
       "text": [
        "\r",
        "Processed 1722000 ( 69.01% ) in 0.0153 seconds"
       ]
      },
      {
       "output_type": "stream",
       "stream": "stderr",
       "text": [
        "\r",
        "Processed 1723000 ( 69.05% ) in 0.0151 seconds"
       ]
      },
      {
       "output_type": "stream",
       "stream": "stderr",
       "text": [
        "\r",
        "Processed 1724000 ( 69.09% ) in 0.0183 seconds"
       ]
      },
      {
       "output_type": "stream",
       "stream": "stderr",
       "text": [
        "\r",
        "Processed 1725000 ( 69.13% ) in 0.0519 seconds"
       ]
      },
      {
       "output_type": "stream",
       "stream": "stderr",
       "text": [
        "\r",
        "Processed 1726000 ( 69.17% ) in 0.0293 seconds"
       ]
      },
      {
       "output_type": "stream",
       "stream": "stderr",
       "text": [
        "\r",
        "Processed 1727000 ( 69.21% ) in 0.0306 seconds"
       ]
      },
      {
       "output_type": "stream",
       "stream": "stderr",
       "text": [
        "\r",
        "Processed 1728000 ( 69.25% ) in 0.0295 seconds"
       ]
      },
      {
       "output_type": "stream",
       "stream": "stderr",
       "text": [
        "\r",
        "Processed 1729000 ( 69.29% ) in 0.0373 seconds"
       ]
      },
      {
       "output_type": "stream",
       "stream": "stderr",
       "text": [
        "\r",
        "Processed 1730000 ( 69.33% ) in 0.0214 seconds"
       ]
      },
      {
       "output_type": "stream",
       "stream": "stderr",
       "text": [
        "\r",
        "Processed 1731000 ( 69.37% ) in 0.0155 seconds"
       ]
      },
      {
       "output_type": "stream",
       "stream": "stderr",
       "text": [
        "\r",
        "Processed 1732000 ( 69.41% ) in 0.0157 seconds"
       ]
      },
      {
       "output_type": "stream",
       "stream": "stderr",
       "text": [
        "\r",
        "Processed 1733000 ( 69.45% ) in 0.0157 seconds"
       ]
      },
      {
       "output_type": "stream",
       "stream": "stderr",
       "text": [
        "\r",
        "Processed 1734000 ( 69.49% ) in 0.0319 seconds"
       ]
      },
      {
       "output_type": "stream",
       "stream": "stderr",
       "text": [
        "\r",
        "Processed 1735000 ( 69.53% ) in 0.0155 seconds"
       ]
      },
      {
       "output_type": "stream",
       "stream": "stderr",
       "text": [
        "\r",
        "Processed 1736000 ( 69.57% ) in 0.0155 seconds"
       ]
      },
      {
       "output_type": "stream",
       "stream": "stderr",
       "text": [
        "\r",
        "Processed 1737000 ( 69.61% ) in 0.0155 seconds"
       ]
      },
      {
       "output_type": "stream",
       "stream": "stderr",
       "text": [
        "\r",
        "Processed 1738000 ( 69.65% ) in 0.0155 seconds"
       ]
      },
      {
       "output_type": "stream",
       "stream": "stderr",
       "text": [
        "\r",
        "Processed 1739000 ( 69.69% ) in 0.0155 seconds"
       ]
      },
      {
       "output_type": "stream",
       "stream": "stderr",
       "text": [
        "\r",
        "Processed 1740000 ( 69.73% ) in 0.0173 seconds"
       ]
      },
      {
       "output_type": "stream",
       "stream": "stderr",
       "text": [
        "\r",
        "Processed 1741000 ( 69.77% ) in 0.0418 seconds"
       ]
      },
      {
       "output_type": "stream",
       "stream": "stderr",
       "text": [
        "\r",
        "Processed 1742000 ( 69.81% ) in 0.0448 seconds"
       ]
      },
      {
       "output_type": "stream",
       "stream": "stderr",
       "text": [
        "\r",
        "Processed 1743000 ( 69.85% ) in 0.0288 seconds"
       ]
      },
      {
       "output_type": "stream",
       "stream": "stderr",
       "text": [
        "\r",
        "Processed 1744000 ( 69.89% ) in 0.0279 seconds"
       ]
      },
      {
       "output_type": "stream",
       "stream": "stderr",
       "text": [
        "\r",
        "Processed 1745000 ( 69.93% ) in 0.0281 seconds"
       ]
      },
      {
       "output_type": "stream",
       "stream": "stderr",
       "text": [
        "\r",
        "Processed 1746000 ( 69.97% ) in 0.0320 seconds"
       ]
      },
      {
       "output_type": "stream",
       "stream": "stderr",
       "text": [
        "\r",
        "Processed 1747000 ( 70.01% ) in 0.0434 seconds"
       ]
      },
      {
       "output_type": "stream",
       "stream": "stderr",
       "text": [
        "\r",
        "Processed 1748000 ( 70.05% ) in 0.0274 seconds"
       ]
      },
      {
       "output_type": "stream",
       "stream": "stderr",
       "text": [
        "\r",
        "Processed 1749000 ( 70.09% ) in 0.0362 seconds"
       ]
      },
      {
       "output_type": "stream",
       "stream": "stderr",
       "text": [
        "\r",
        "Processed 1750000 ( 70.13% ) in 0.0329 seconds"
       ]
      },
      {
       "output_type": "stream",
       "stream": "stderr",
       "text": [
        "\r",
        "Processed 1751000 ( 70.17% ) in 0.0272 seconds"
       ]
      },
      {
       "output_type": "stream",
       "stream": "stderr",
       "text": [
        "\r",
        "Processed 1752000 ( 70.21% ) in 0.0292 seconds"
       ]
      },
      {
       "output_type": "stream",
       "stream": "stderr",
       "text": [
        "\r",
        "Processed 1753000 ( 70.25% ) in 0.0294 seconds"
       ]
      },
      {
       "output_type": "stream",
       "stream": "stderr",
       "text": [
        "\r",
        "Processed 1754000 ( 70.29% ) in 0.0292 seconds"
       ]
      },
      {
       "output_type": "stream",
       "stream": "stderr",
       "text": [
        "\r",
        "Processed 1755000 ( 70.33% ) in 0.0299 seconds"
       ]
      },
      {
       "output_type": "stream",
       "stream": "stderr",
       "text": [
        "\r",
        "Processed 1756000 ( 70.37% ) in 0.0299 seconds"
       ]
      },
      {
       "output_type": "stream",
       "stream": "stderr",
       "text": [
        "\r",
        "Processed 1757000 ( 70.41% ) in 0.0289 seconds"
       ]
      },
      {
       "output_type": "stream",
       "stream": "stderr",
       "text": [
        "\r",
        "Processed 1758000 ( 70.45% ) in 0.0290 seconds"
       ]
      },
      {
       "output_type": "stream",
       "stream": "stderr",
       "text": [
        "\r",
        "Processed 1759000 ( 70.49% ) in 0.0503 seconds"
       ]
      },
      {
       "output_type": "stream",
       "stream": "stderr",
       "text": [
        "\r",
        "Processed 1760000 ( 70.53% ) in 0.0354 seconds"
       ]
      },
      {
       "output_type": "stream",
       "stream": "stderr",
       "text": [
        "\r",
        "Processed 1761000 ( 70.57% ) in 0.0323 seconds"
       ]
      },
      {
       "output_type": "stream",
       "stream": "stderr",
       "text": [
        "\r",
        "Processed 1762000 ( 70.61% ) in 0.0455 seconds"
       ]
      },
      {
       "output_type": "stream",
       "stream": "stderr",
       "text": [
        "\r",
        "Processed 1763000 ( 70.65% ) in 0.0386 seconds"
       ]
      },
      {
       "output_type": "stream",
       "stream": "stderr",
       "text": [
        "\r",
        "Processed 1764000 ( 70.69% ) in 0.0656 seconds"
       ]
      },
      {
       "output_type": "stream",
       "stream": "stderr",
       "text": [
        "\r",
        "Processed 1765000 ( 70.73% ) in 0.0625 seconds"
       ]
      },
      {
       "output_type": "stream",
       "stream": "stderr",
       "text": [
        "\r",
        "Processed 1766000 ( 70.77% ) in 0.0373 seconds"
       ]
      },
      {
       "output_type": "stream",
       "stream": "stderr",
       "text": [
        "\r",
        "Processed 1767000 ( 70.81% ) in 0.0506 seconds"
       ]
      },
      {
       "output_type": "stream",
       "stream": "stderr",
       "text": [
        "\r",
        "Processed 1768000 ( 70.85% ) in 0.0326 seconds"
       ]
      },
      {
       "output_type": "stream",
       "stream": "stderr",
       "text": [
        "\r",
        "Processed 1769000 ( 70.89% ) in 0.0281 seconds"
       ]
      },
      {
       "output_type": "stream",
       "stream": "stderr",
       "text": [
        "\r",
        "Processed 1770000 ( 70.93% ) in 0.0353 seconds"
       ]
      },
      {
       "output_type": "stream",
       "stream": "stderr",
       "text": [
        "\r",
        "Processed 1771000 ( 70.97% ) in 0.0283 seconds"
       ]
      },
      {
       "output_type": "stream",
       "stream": "stderr",
       "text": [
        "\r",
        "Processed 1772000 ( 71.01% ) in 0.0184 seconds"
       ]
      },
      {
       "output_type": "stream",
       "stream": "stderr",
       "text": [
        "\r",
        "Processed 1773000 ( 71.05% ) in 0.0170 seconds"
       ]
      },
      {
       "output_type": "stream",
       "stream": "stderr",
       "text": [
        "\r",
        "Processed 1774000 ( 71.09% ) in 0.0366 seconds"
       ]
      },
      {
       "output_type": "stream",
       "stream": "stderr",
       "text": [
        "\r",
        "Processed 1775000 ( 71.13% ) in 0.0283 seconds"
       ]
      },
      {
       "output_type": "stream",
       "stream": "stderr",
       "text": [
        "\r",
        "Processed 1776000 ( 71.17% ) in 0.0215 seconds"
       ]
      },
      {
       "output_type": "stream",
       "stream": "stderr",
       "text": [
        "\r",
        "Processed 1777000 ( 71.21% ) in 0.0239 seconds"
       ]
      },
      {
       "output_type": "stream",
       "stream": "stderr",
       "text": [
        "\r",
        "Processed 1778000 ( 71.25% ) in 0.0197 seconds"
       ]
      },
      {
       "output_type": "stream",
       "stream": "stderr",
       "text": [
        "\r",
        "Processed 1779000 ( 71.29% ) in 0.0207 seconds"
       ]
      },
      {
       "output_type": "stream",
       "stream": "stderr",
       "text": [
        "\r",
        "Processed 1780000 ( 71.33% ) in 0.0211 seconds"
       ]
      },
      {
       "output_type": "stream",
       "stream": "stderr",
       "text": [
        "\r",
        "Processed 1781000 ( 71.37% ) in 0.0323 seconds"
       ]
      },
      {
       "output_type": "stream",
       "stream": "stderr",
       "text": [
        "\r",
        "Processed 1782000 ( 71.41% ) in 0.0209 seconds"
       ]
      },
      {
       "output_type": "stream",
       "stream": "stderr",
       "text": [
        "\r",
        "Processed 1783000 ( 71.45% ) in 0.0215 seconds"
       ]
      },
      {
       "output_type": "stream",
       "stream": "stderr",
       "text": [
        "\r",
        "Processed 1784000 ( 71.49% ) in 0.0213 seconds"
       ]
      },
      {
       "output_type": "stream",
       "stream": "stderr",
       "text": [
        "\r",
        "Processed 1785000 ( 71.53% ) in 0.0213 seconds"
       ]
      },
      {
       "output_type": "stream",
       "stream": "stderr",
       "text": [
        "\r",
        "Processed 1786000 ( 71.57% ) in 0.0211 seconds"
       ]
      },
      {
       "output_type": "stream",
       "stream": "stderr",
       "text": [
        "\r",
        "Processed 1787000 ( 71.61% ) in 0.0289 seconds"
       ]
      },
      {
       "output_type": "stream",
       "stream": "stderr",
       "text": [
        "\r",
        "Processed 1788000 ( 71.65% ) in 0.0197 seconds"
       ]
      },
      {
       "output_type": "stream",
       "stream": "stderr",
       "text": [
        "\r",
        "Processed 1789000 ( 71.69% ) in 0.0294 seconds"
       ]
      },
      {
       "output_type": "stream",
       "stream": "stderr",
       "text": [
        "\r",
        "Processed 1790000 ( 71.73% ) in 0.0170 seconds"
       ]
      },
      {
       "output_type": "stream",
       "stream": "stderr",
       "text": [
        "\r",
        "Processed 1791000 ( 71.77% ) in 0.0156 seconds"
       ]
      },
      {
       "output_type": "stream",
       "stream": "stderr",
       "text": [
        "\r",
        "Processed 1792000 ( 71.82% ) in 0.0155 seconds"
       ]
      },
      {
       "output_type": "stream",
       "stream": "stderr",
       "text": [
        "\r",
        "Processed 1793000 ( 71.86% ) in 0.0156 seconds"
       ]
      },
      {
       "output_type": "stream",
       "stream": "stderr",
       "text": [
        "\r",
        "Processed 1794000 ( 71.90% ) in 0.0154 seconds"
       ]
      },
      {
       "output_type": "stream",
       "stream": "stderr",
       "text": [
        "\r",
        "Processed 1795000 ( 71.94% ) in 0.0156 seconds"
       ]
      },
      {
       "output_type": "stream",
       "stream": "stderr",
       "text": [
        "\r",
        "Processed 1796000 ( 71.98% ) in 0.0155 seconds"
       ]
      },
      {
       "output_type": "stream",
       "stream": "stderr",
       "text": [
        "\r",
        "Processed 1797000 ( 72.02% ) in 0.0157 seconds"
       ]
      },
      {
       "output_type": "stream",
       "stream": "stderr",
       "text": [
        "\r",
        "Processed 1798000 ( 72.06% ) in 0.0156 seconds"
       ]
      },
      {
       "output_type": "stream",
       "stream": "stderr",
       "text": [
        "\r",
        "Processed 1799000 ( 72.10% ) in 0.0156 seconds"
       ]
      },
      {
       "output_type": "stream",
       "stream": "stderr",
       "text": [
        "\r",
        "Processed 1800000 ( 72.14% ) in 0.0155 seconds"
       ]
      },
      {
       "output_type": "stream",
       "stream": "stderr",
       "text": [
        "\r",
        "Processed 1801000 ( 72.18% ) in 0.0153 seconds"
       ]
      },
      {
       "output_type": "stream",
       "stream": "stderr",
       "text": [
        "\r",
        "Processed 1802000 ( 72.22% ) in 0.0154 seconds"
       ]
      },
      {
       "output_type": "stream",
       "stream": "stderr",
       "text": [
        "\r",
        "Processed 1803000 ( 72.26% ) in 0.0154 seconds"
       ]
      },
      {
       "output_type": "stream",
       "stream": "stderr",
       "text": [
        "\r",
        "Processed 1804000 ( 72.30% ) in 0.0153 seconds"
       ]
      },
      {
       "output_type": "stream",
       "stream": "stderr",
       "text": [
        "\r",
        "Processed 1805000 ( 72.34% ) in 0.0154 seconds"
       ]
      },
      {
       "output_type": "stream",
       "stream": "stderr",
       "text": [
        "\r",
        "Processed 1806000 ( 72.38% ) in 0.0157 seconds"
       ]
      },
      {
       "output_type": "stream",
       "stream": "stderr",
       "text": [
        "\r",
        "Processed 1807000 ( 72.42% ) in 0.0154 seconds"
       ]
      },
      {
       "output_type": "stream",
       "stream": "stderr",
       "text": [
        "\r",
        "Processed 1808000 ( 72.46% ) in 0.0154 seconds"
       ]
      },
      {
       "output_type": "stream",
       "stream": "stderr",
       "text": [
        "\r",
        "Processed 1809000 ( 72.50% ) in 0.0154 seconds"
       ]
      },
      {
       "output_type": "stream",
       "stream": "stderr",
       "text": [
        "\r",
        "Processed 1810000 ( 72.54% ) in 0.0156 seconds"
       ]
      },
      {
       "output_type": "stream",
       "stream": "stderr",
       "text": [
        "\r",
        "Processed 1811000 ( 72.58% ) in 0.0275 seconds"
       ]
      },
      {
       "output_type": "stream",
       "stream": "stderr",
       "text": [
        "\r",
        "Processed 1812000 ( 72.62% ) in 0.0172 seconds"
       ]
      },
      {
       "output_type": "stream",
       "stream": "stderr",
       "text": [
        "\r",
        "Processed 1813000 ( 72.66% ) in 0.0178 seconds"
       ]
      },
      {
       "output_type": "stream",
       "stream": "stderr",
       "text": [
        "\r",
        "Processed 1814000 ( 72.70% ) in 0.0149 seconds"
       ]
      },
      {
       "output_type": "stream",
       "stream": "stderr",
       "text": [
        "\r",
        "Processed 1815000 ( 72.74% ) in 0.0150 seconds"
       ]
      },
      {
       "output_type": "stream",
       "stream": "stderr",
       "text": [
        "\r",
        "Processed 1816000 ( 72.78% ) in 0.0151 seconds"
       ]
      },
      {
       "output_type": "stream",
       "stream": "stderr",
       "text": [
        "\r",
        "Processed 1817000 ( 72.82% ) in 0.0150 seconds"
       ]
      },
      {
       "output_type": "stream",
       "stream": "stderr",
       "text": [
        "\r",
        "Processed 1818000 ( 72.86% ) in 0.0397 seconds"
       ]
      },
      {
       "output_type": "stream",
       "stream": "stderr",
       "text": [
        "\r",
        "Processed 1819000 ( 72.90% ) in 0.0301 seconds"
       ]
      },
      {
       "output_type": "stream",
       "stream": "stderr",
       "text": [
        "\r",
        "Processed 1820000 ( 72.94% ) in 0.0154 seconds"
       ]
      },
      {
       "output_type": "stream",
       "stream": "stderr",
       "text": [
        "\r",
        "Processed 1821000 ( 72.98% ) in 0.0154 seconds"
       ]
      },
      {
       "output_type": "stream",
       "stream": "stderr",
       "text": [
        "\r",
        "Processed 1822000 ( 73.02% ) in 0.0153 seconds"
       ]
      },
      {
       "output_type": "stream",
       "stream": "stderr",
       "text": [
        "\r",
        "Processed 1823000 ( 73.06% ) in 0.0156 seconds"
       ]
      },
      {
       "output_type": "stream",
       "stream": "stderr",
       "text": [
        "\r",
        "Processed 1824000 ( 73.10% ) in 0.0155 seconds"
       ]
      },
      {
       "output_type": "stream",
       "stream": "stderr",
       "text": [
        "\r",
        "Processed 1825000 ( 73.14% ) in 0.0154 seconds"
       ]
      },
      {
       "output_type": "stream",
       "stream": "stderr",
       "text": [
        "\r",
        "Processed 1826000 ( 73.18% ) in 0.0155 seconds"
       ]
      },
      {
       "output_type": "stream",
       "stream": "stderr",
       "text": [
        "\r",
        "Processed 1827000 ( 73.22% ) in 0.0155 seconds"
       ]
      },
      {
       "output_type": "stream",
       "stream": "stderr",
       "text": [
        "\r",
        "Processed 1828000 ( 73.26% ) in 0.0378 seconds"
       ]
      },
      {
       "output_type": "stream",
       "stream": "stderr",
       "text": [
        "\r",
        "Processed 1829000 ( 73.30% ) in 0.0165 seconds"
       ]
      },
      {
       "output_type": "stream",
       "stream": "stderr",
       "text": [
        "\r",
        "Processed 1830000 ( 73.34% ) in 0.0158 seconds"
       ]
      },
      {
       "output_type": "stream",
       "stream": "stderr",
       "text": [
        "\r",
        "Processed 1831000 ( 73.38% ) in 0.0158 seconds"
       ]
      },
      {
       "output_type": "stream",
       "stream": "stderr",
       "text": [
        "\r",
        "Processed 1832000 ( 73.42% ) in 0.0157 seconds"
       ]
      },
      {
       "output_type": "stream",
       "stream": "stderr",
       "text": [
        "\r",
        "Processed 1833000 ( 73.46% ) in 0.0371 seconds"
       ]
      },
      {
       "output_type": "stream",
       "stream": "stderr",
       "text": [
        "\r",
        "Processed 1834000 ( 73.50% ) in 0.0157 seconds"
       ]
      },
      {
       "output_type": "stream",
       "stream": "stderr",
       "text": [
        "\r",
        "Processed 1835000 ( 73.54% ) in 0.0156 seconds"
       ]
      },
      {
       "output_type": "stream",
       "stream": "stderr",
       "text": [
        "\r",
        "Processed 1836000 ( 73.58% ) in 0.0159 seconds"
       ]
      },
      {
       "output_type": "stream",
       "stream": "stderr",
       "text": [
        "\r",
        "Processed 1837000 ( 73.62% ) in 0.0436 seconds"
       ]
      },
      {
       "output_type": "stream",
       "stream": "stderr",
       "text": [
        "\r",
        "Processed 1838000 ( 73.66% ) in 0.0182 seconds"
       ]
      },
      {
       "output_type": "stream",
       "stream": "stderr",
       "text": [
        "\r",
        "Processed 1839000 ( 73.70% ) in 0.0415 seconds"
       ]
      },
      {
       "output_type": "stream",
       "stream": "stderr",
       "text": [
        "\r",
        "Processed 1840000 ( 73.74% ) in 0.0368 seconds"
       ]
      },
      {
       "output_type": "stream",
       "stream": "stderr",
       "text": [
        "\r",
        "Processed 1841000 ( 73.78% ) in 0.0399 seconds"
       ]
      },
      {
       "output_type": "stream",
       "stream": "stderr",
       "text": [
        "\r",
        "Processed 1842000 ( 73.82% ) in 0.0393 seconds"
       ]
      },
      {
       "output_type": "stream",
       "stream": "stderr",
       "text": [
        "\r",
        "Processed 1843000 ( 73.86% ) in 0.0316 seconds"
       ]
      },
      {
       "output_type": "stream",
       "stream": "stderr",
       "text": [
        "\r",
        "Processed 1844000 ( 73.90% ) in 0.0241 seconds"
       ]
      },
      {
       "output_type": "stream",
       "stream": "stderr",
       "text": [
        "\r",
        "Processed 1845000 ( 73.94% ) in 0.0186 seconds"
       ]
      },
      {
       "output_type": "stream",
       "stream": "stderr",
       "text": [
        "\r",
        "Processed 1846000 ( 73.98% ) in 0.0156 seconds"
       ]
      },
      {
       "output_type": "stream",
       "stream": "stderr",
       "text": [
        "\r",
        "Processed 1847000 ( 74.02% ) in 0.0154 seconds"
       ]
      },
      {
       "output_type": "stream",
       "stream": "stderr",
       "text": [
        "\r",
        "Processed 1848000 ( 74.06% ) in 0.0408 seconds"
       ]
      },
      {
       "output_type": "stream",
       "stream": "stderr",
       "text": [
        "\r",
        "Processed 1849000 ( 74.10% ) in 0.0262 seconds"
       ]
      },
      {
       "output_type": "stream",
       "stream": "stderr",
       "text": [
        "\r",
        "Processed 1850000 ( 74.14% ) in 0.0352 seconds"
       ]
      },
      {
       "output_type": "stream",
       "stream": "stderr",
       "text": [
        "\r",
        "Processed 1851000 ( 74.18% ) in 0.0208 seconds"
       ]
      },
      {
       "output_type": "stream",
       "stream": "stderr",
       "text": [
        "\r",
        "Processed 1852000 ( 74.22% ) in 0.0401 seconds"
       ]
      },
      {
       "output_type": "stream",
       "stream": "stderr",
       "text": [
        "\r",
        "Processed 1853000 ( 74.26% ) in 0.0397 seconds"
       ]
      },
      {
       "output_type": "stream",
       "stream": "stderr",
       "text": [
        "\r",
        "Processed 1854000 ( 74.30% ) in 0.0362 seconds"
       ]
      },
      {
       "output_type": "stream",
       "stream": "stderr",
       "text": [
        "\r",
        "Processed 1855000 ( 74.34% ) in 0.0196 seconds"
       ]
      },
      {
       "output_type": "stream",
       "stream": "stderr",
       "text": [
        "\r",
        "Processed 1856000 ( 74.38% ) in 0.0320 seconds"
       ]
      },
      {
       "output_type": "stream",
       "stream": "stderr",
       "text": [
        "\r",
        "Processed 1857000 ( 74.42% ) in 0.0440 seconds"
       ]
      },
      {
       "output_type": "stream",
       "stream": "stderr",
       "text": [
        "\r",
        "Processed 1858000 ( 74.46% ) in 0.0398 seconds"
       ]
      },
      {
       "output_type": "stream",
       "stream": "stderr",
       "text": [
        "\r",
        "Processed 1859000 ( 74.50% ) in 0.0278 seconds"
       ]
      },
      {
       "output_type": "stream",
       "stream": "stderr",
       "text": [
        "\r",
        "Processed 1860000 ( 74.54% ) in 0.0167 seconds"
       ]
      },
      {
       "output_type": "stream",
       "stream": "stderr",
       "text": [
        "\r",
        "Processed 1861000 ( 74.58% ) in 0.0155 seconds"
       ]
      },
      {
       "output_type": "stream",
       "stream": "stderr",
       "text": [
        "\r",
        "Processed 1862000 ( 74.62% ) in 0.0154 seconds"
       ]
      },
      {
       "output_type": "stream",
       "stream": "stderr",
       "text": [
        "\r",
        "Processed 1863000 ( 74.66% ) in 0.0154 seconds"
       ]
      },
      {
       "output_type": "stream",
       "stream": "stderr",
       "text": [
        "\r",
        "Processed 1864000 ( 74.70% ) in 0.0408 seconds"
       ]
      },
      {
       "output_type": "stream",
       "stream": "stderr",
       "text": [
        "\r",
        "Processed 1865000 ( 74.74% ) in 0.0163 seconds"
       ]
      },
      {
       "output_type": "stream",
       "stream": "stderr",
       "text": [
        "\r",
        "Processed 1866000 ( 74.78% ) in 0.0155 seconds"
       ]
      },
      {
       "output_type": "stream",
       "stream": "stderr",
       "text": [
        "\r",
        "Processed 1867000 ( 74.82% ) in 0.0340 seconds"
       ]
      },
      {
       "output_type": "stream",
       "stream": "stderr",
       "text": [
        "\r",
        "Processed 1868000 ( 74.86% ) in 0.0229 seconds"
       ]
      },
      {
       "output_type": "stream",
       "stream": "stderr",
       "text": [
        "\r",
        "Processed 1869000 ( 74.90% ) in 0.0154 seconds"
       ]
      },
      {
       "output_type": "stream",
       "stream": "stderr",
       "text": [
        "\r",
        "Processed 1870000 ( 74.94% ) in 0.0360 seconds"
       ]
      },
      {
       "output_type": "stream",
       "stream": "stderr",
       "text": [
        "\r",
        "Processed 1871000 ( 74.98% ) in 0.0239 seconds"
       ]
      },
      {
       "output_type": "stream",
       "stream": "stderr",
       "text": [
        "\r",
        "Processed 1872000 ( 75.02% ) in 0.0257 seconds"
       ]
      },
      {
       "output_type": "stream",
       "stream": "stderr",
       "text": [
        "\r",
        "Processed 1873000 ( 75.06% ) in 0.0280 seconds"
       ]
      },
      {
       "output_type": "stream",
       "stream": "stderr",
       "text": [
        "\r",
        "Processed 1874000 ( 75.10% ) in 0.0281 seconds"
       ]
      },
      {
       "output_type": "stream",
       "stream": "stderr",
       "text": [
        "\r",
        "Processed 1875000 ( 75.14% ) in 0.0286 seconds"
       ]
      },
      {
       "output_type": "stream",
       "stream": "stderr",
       "text": [
        "\r",
        "Processed 1876000 ( 75.18% ) in 0.0331 seconds"
       ]
      },
      {
       "output_type": "stream",
       "stream": "stderr",
       "text": [
        "\r",
        "Processed 1877000 ( 75.22% ) in 0.0166 seconds"
       ]
      },
      {
       "output_type": "stream",
       "stream": "stderr",
       "text": [
        "\r",
        "Processed 1878000 ( 75.26% ) in 0.0157 seconds"
       ]
      },
      {
       "output_type": "stream",
       "stream": "stderr",
       "text": [
        "\r",
        "Processed 1879000 ( 75.30% ) in 0.0393 seconds"
       ]
      },
      {
       "output_type": "stream",
       "stream": "stderr",
       "text": [
        "\r",
        "Processed 1880000 ( 75.34% ) in 0.0154 seconds"
       ]
      },
      {
       "output_type": "stream",
       "stream": "stderr",
       "text": [
        "\r",
        "Processed 1881000 ( 75.38% ) in 0.0152 seconds"
       ]
      },
      {
       "output_type": "stream",
       "stream": "stderr",
       "text": [
        "\r",
        "Processed 1882000 ( 75.42% ) in 0.0153 seconds"
       ]
      },
      {
       "output_type": "stream",
       "stream": "stderr",
       "text": [
        "\r",
        "Processed 1883000 ( 75.46% ) in 0.0287 seconds"
       ]
      },
      {
       "output_type": "stream",
       "stream": "stderr",
       "text": [
        "\r",
        "Processed 1884000 ( 75.50% ) in 0.0283 seconds"
       ]
      },
      {
       "output_type": "stream",
       "stream": "stderr",
       "text": [
        "\r",
        "Processed 1885000 ( 75.54% ) in 0.0157 seconds"
       ]
      },
      {
       "output_type": "stream",
       "stream": "stderr",
       "text": [
        "\r",
        "Processed 1886000 ( 75.58% ) in 0.0154 seconds"
       ]
      },
      {
       "output_type": "stream",
       "stream": "stderr",
       "text": [
        "\r",
        "Processed 1887000 ( 75.62% ) in 0.0156 seconds"
       ]
      },
      {
       "output_type": "stream",
       "stream": "stderr",
       "text": [
        "\r",
        "Processed 1888000 ( 75.66% ) in 0.0263 seconds"
       ]
      },
      {
       "output_type": "stream",
       "stream": "stderr",
       "text": [
        "\r",
        "Processed 1889000 ( 75.70% ) in 0.0191 seconds"
       ]
      },
      {
       "output_type": "stream",
       "stream": "stderr",
       "text": [
        "\r",
        "Processed 1890000 ( 75.74% ) in 0.0194 seconds"
       ]
      },
      {
       "output_type": "stream",
       "stream": "stderr",
       "text": [
        "\r",
        "Processed 1891000 ( 75.78% ) in 0.0203 seconds"
       ]
      },
      {
       "output_type": "stream",
       "stream": "stderr",
       "text": [
        "\r",
        "Processed 1892000 ( 75.82% ) in 0.0207 seconds"
       ]
      },
      {
       "output_type": "stream",
       "stream": "stderr",
       "text": [
        "\r",
        "Processed 1893000 ( 75.86% ) in 0.0203 seconds"
       ]
      },
      {
       "output_type": "stream",
       "stream": "stderr",
       "text": [
        "\r",
        "Processed 1894000 ( 75.90% ) in 0.0205 seconds"
       ]
      },
      {
       "output_type": "stream",
       "stream": "stderr",
       "text": [
        "\r",
        "Processed 1895000 ( 75.94% ) in 0.0203 seconds"
       ]
      },
      {
       "output_type": "stream",
       "stream": "stderr",
       "text": [
        "\r",
        "Processed 1896000 ( 75.98% ) in 0.0210 seconds"
       ]
      },
      {
       "output_type": "stream",
       "stream": "stderr",
       "text": [
        "\r",
        "Processed 1897000 ( 76.02% ) in 0.0158 seconds"
       ]
      },
      {
       "output_type": "stream",
       "stream": "stderr",
       "text": [
        "\r",
        "Processed 1898000 ( 76.06% ) in 0.0157 seconds"
       ]
      },
      {
       "output_type": "stream",
       "stream": "stderr",
       "text": [
        "\r",
        "Processed 1899000 ( 76.10% ) in 0.0200 seconds"
       ]
      },
      {
       "output_type": "stream",
       "stream": "stderr",
       "text": [
        "\r",
        "Processed 1900000 ( 76.14% ) in 0.0199 seconds"
       ]
      },
      {
       "output_type": "stream",
       "stream": "stderr",
       "text": [
        "\r",
        "Processed 1901000 ( 76.18% ) in 0.0299 seconds"
       ]
      },
      {
       "output_type": "stream",
       "stream": "stderr",
       "text": [
        "\r",
        "Processed 1902000 ( 76.22% ) in 0.0280 seconds"
       ]
      },
      {
       "output_type": "stream",
       "stream": "stderr",
       "text": [
        "\r",
        "Processed 1903000 ( 76.26% ) in 0.0232 seconds"
       ]
      },
      {
       "output_type": "stream",
       "stream": "stderr",
       "text": [
        "\r",
        "Processed 1904000 ( 76.30% ) in 0.0354 seconds"
       ]
      },
      {
       "output_type": "stream",
       "stream": "stderr",
       "text": [
        "\r",
        "Processed 1905000 ( 76.34% ) in 0.0203 seconds"
       ]
      },
      {
       "output_type": "stream",
       "stream": "stderr",
       "text": [
        "\r",
        "Processed 1906000 ( 76.38% ) in 0.0404 seconds"
       ]
      },
      {
       "output_type": "stream",
       "stream": "stderr",
       "text": [
        "\r",
        "Processed 1907000 ( 76.42% ) in 0.0313 seconds"
       ]
      },
      {
       "output_type": "stream",
       "stream": "stderr",
       "text": [
        "\r",
        "Processed 1908000 ( 76.46% ) in 0.0448 seconds"
       ]
      },
      {
       "output_type": "stream",
       "stream": "stderr",
       "text": [
        "\r",
        "Processed 1909000 ( 76.50% ) in 0.0314 seconds"
       ]
      },
      {
       "output_type": "stream",
       "stream": "stderr",
       "text": [
        "\r",
        "Processed 1910000 ( 76.54% ) in 0.0398 seconds"
       ]
      },
      {
       "output_type": "stream",
       "stream": "stderr",
       "text": [
        "\r",
        "Processed 1911000 ( 76.58% ) in 0.0344 seconds"
       ]
      },
      {
       "output_type": "stream",
       "stream": "stderr",
       "text": [
        "\r",
        "Processed 1912000 ( 76.62% ) in 0.0154 seconds"
       ]
      },
      {
       "output_type": "stream",
       "stream": "stderr",
       "text": [
        "\r",
        "Processed 1913000 ( 76.66% ) in 0.0157 seconds"
       ]
      },
      {
       "output_type": "stream",
       "stream": "stderr",
       "text": [
        "\r",
        "Processed 1914000 ( 76.70% ) in 0.0180 seconds"
       ]
      },
      {
       "output_type": "stream",
       "stream": "stderr",
       "text": [
        "\r",
        "Processed 1915000 ( 76.74% ) in 0.0156 seconds"
       ]
      },
      {
       "output_type": "stream",
       "stream": "stderr",
       "text": [
        "\r",
        "Processed 1916000 ( 76.78% ) in 0.0154 seconds"
       ]
      },
      {
       "output_type": "stream",
       "stream": "stderr",
       "text": [
        "\r",
        "Processed 1917000 ( 76.82% ) in 0.0156 seconds"
       ]
      },
      {
       "output_type": "stream",
       "stream": "stderr",
       "text": [
        "\r",
        "Processed 1918000 ( 76.86% ) in 0.0155 seconds"
       ]
      },
      {
       "output_type": "stream",
       "stream": "stderr",
       "text": [
        "\r",
        "Processed 1919000 ( 76.90% ) in 0.0156 seconds"
       ]
      },
      {
       "output_type": "stream",
       "stream": "stderr",
       "text": [
        "\r",
        "Processed 1920000 ( 76.94% ) in 0.0156 seconds"
       ]
      },
      {
       "output_type": "stream",
       "stream": "stderr",
       "text": [
        "\r",
        "Processed 1921000 ( 76.98% ) in 0.0155 seconds"
       ]
      },
      {
       "output_type": "stream",
       "stream": "stderr",
       "text": [
        "\r",
        "Processed 1922000 ( 77.02% ) in 0.0156 seconds"
       ]
      },
      {
       "output_type": "stream",
       "stream": "stderr",
       "text": [
        "\r",
        "Processed 1923000 ( 77.06% ) in 0.0157 seconds"
       ]
      },
      {
       "output_type": "stream",
       "stream": "stderr",
       "text": [
        "\r",
        "Processed 1924000 ( 77.10% ) in 0.0524 seconds"
       ]
      },
      {
       "output_type": "stream",
       "stream": "stderr",
       "text": [
        "\r",
        "Processed 1925000 ( 77.15% ) in 0.0386 seconds"
       ]
      },
      {
       "output_type": "stream",
       "stream": "stderr",
       "text": [
        "\r",
        "Processed 1926000 ( 77.19% ) in 0.0188 seconds"
       ]
      },
      {
       "output_type": "stream",
       "stream": "stderr",
       "text": [
        "\r",
        "Processed 1927000 ( 77.23% ) in 0.0191 seconds"
       ]
      },
      {
       "output_type": "stream",
       "stream": "stderr",
       "text": [
        "\r",
        "Processed 1928000 ( 77.27% ) in 0.0184 seconds"
       ]
      },
      {
       "output_type": "stream",
       "stream": "stderr",
       "text": [
        "\r",
        "Processed 1929000 ( 77.31% ) in 0.0184 seconds"
       ]
      },
      {
       "output_type": "stream",
       "stream": "stderr",
       "text": [
        "\r",
        "Processed 1930000 ( 77.35% ) in 0.0406 seconds"
       ]
      },
      {
       "output_type": "stream",
       "stream": "stderr",
       "text": [
        "\r",
        "Processed 1931000 ( 77.39% ) in 0.0298 seconds"
       ]
      },
      {
       "output_type": "stream",
       "stream": "stderr",
       "text": [
        "\r",
        "Processed 1932000 ( 77.43% ) in 0.0191 seconds"
       ]
      },
      {
       "output_type": "stream",
       "stream": "stderr",
       "text": [
        "\r",
        "Processed 1933000 ( 77.47% ) in 0.0192 seconds"
       ]
      },
      {
       "output_type": "stream",
       "stream": "stderr",
       "text": [
        "\r",
        "Processed 1934000 ( 77.51% ) in 0.0373 seconds"
       ]
      },
      {
       "output_type": "stream",
       "stream": "stderr",
       "text": [
        "\r",
        "Processed 1935000 ( 77.55% ) in 0.0194 seconds"
       ]
      },
      {
       "output_type": "stream",
       "stream": "stderr",
       "text": [
        "\r",
        "Processed 1936000 ( 77.59% ) in 0.0184 seconds"
       ]
      },
      {
       "output_type": "stream",
       "stream": "stderr",
       "text": [
        "\r",
        "Processed 1937000 ( 77.63% ) in 0.0330 seconds"
       ]
      },
      {
       "output_type": "stream",
       "stream": "stderr",
       "text": [
        "\r",
        "Processed 1938000 ( 77.67% ) in 0.0171 seconds"
       ]
      },
      {
       "output_type": "stream",
       "stream": "stderr",
       "text": [
        "\r",
        "Processed 1939000 ( 77.71% ) in 0.0275 seconds"
       ]
      },
      {
       "output_type": "stream",
       "stream": "stderr",
       "text": [
        "\r",
        "Processed 1940000 ( 77.75% ) in 0.0202 seconds"
       ]
      },
      {
       "output_type": "stream",
       "stream": "stderr",
       "text": [
        "\r",
        "Processed 1941000 ( 77.79% ) in 0.0331 seconds"
       ]
      },
      {
       "output_type": "stream",
       "stream": "stderr",
       "text": [
        "\r",
        "Processed 1942000 ( 77.83% ) in 0.0343 seconds"
       ]
      },
      {
       "output_type": "stream",
       "stream": "stderr",
       "text": [
        "\r",
        "Processed 1943000 ( 77.87% ) in 0.0215 seconds"
       ]
      },
      {
       "output_type": "stream",
       "stream": "stderr",
       "text": [
        "\r",
        "Processed 1944000 ( 77.91% ) in 0.0248 seconds"
       ]
      },
      {
       "output_type": "stream",
       "stream": "stderr",
       "text": [
        "\r",
        "Processed 1945000 ( 77.95% ) in 0.0168 seconds"
       ]
      },
      {
       "output_type": "stream",
       "stream": "stderr",
       "text": [
        "\r",
        "Processed 1946000 ( 77.99% ) in 0.0160 seconds"
       ]
      },
      {
       "output_type": "stream",
       "stream": "stderr",
       "text": [
        "\r",
        "Processed 1947000 ( 78.03% ) in 0.0156 seconds"
       ]
      },
      {
       "output_type": "stream",
       "stream": "stderr",
       "text": [
        "\r",
        "Processed 1948000 ( 78.07% ) in 0.0155 seconds"
       ]
      },
      {
       "output_type": "stream",
       "stream": "stderr",
       "text": [
        "\r",
        "Processed 1949000 ( 78.11% ) in 0.0351 seconds"
       ]
      },
      {
       "output_type": "stream",
       "stream": "stderr",
       "text": [
        "\r",
        "Processed 1950000 ( 78.15% ) in 0.0163 seconds"
       ]
      },
      {
       "output_type": "stream",
       "stream": "stderr",
       "text": [
        "\r",
        "Processed 1951000 ( 78.19% ) in 0.0345 seconds"
       ]
      },
      {
       "output_type": "stream",
       "stream": "stderr",
       "text": [
        "\r",
        "Processed 1952000 ( 78.23% ) in 0.0171 seconds"
       ]
      },
      {
       "output_type": "stream",
       "stream": "stderr",
       "text": [
        "\r",
        "Processed 1953000 ( 78.27% ) in 0.0155 seconds"
       ]
      },
      {
       "output_type": "stream",
       "stream": "stderr",
       "text": [
        "\r",
        "Processed 1954000 ( 78.31% ) in 0.0155 seconds"
       ]
      },
      {
       "output_type": "stream",
       "stream": "stderr",
       "text": [
        "\r",
        "Processed 1955000 ( 78.35% ) in 0.0155 seconds"
       ]
      },
      {
       "output_type": "stream",
       "stream": "stderr",
       "text": [
        "\r",
        "Processed 1956000 ( 78.39% ) in 0.0153 seconds"
       ]
      },
      {
       "output_type": "stream",
       "stream": "stderr",
       "text": [
        "\r",
        "Processed 1957000 ( 78.43% ) in 0.0429 seconds"
       ]
      },
      {
       "output_type": "stream",
       "stream": "stderr",
       "text": [
        "\r",
        "Processed 1958000 ( 78.47% ) in 0.0359 seconds"
       ]
      },
      {
       "output_type": "stream",
       "stream": "stderr",
       "text": [
        "\r",
        "Processed 1959000 ( 78.51% ) in 0.0363 seconds"
       ]
      },
      {
       "output_type": "stream",
       "stream": "stderr",
       "text": [
        "\r",
        "Processed 1960000 ( 78.55% ) in 0.0360 seconds"
       ]
      },
      {
       "output_type": "stream",
       "stream": "stderr",
       "text": [
        "\r",
        "Processed 1961000 ( 78.59% ) in 0.0364 seconds"
       ]
      },
      {
       "output_type": "stream",
       "stream": "stderr",
       "text": [
        "\r",
        "Processed 1962000 ( 78.63% ) in 0.0342 seconds"
       ]
      },
      {
       "output_type": "stream",
       "stream": "stderr",
       "text": [
        "\r",
        "Processed 1963000 ( 78.67% ) in 0.0176 seconds"
       ]
      },
      {
       "output_type": "stream",
       "stream": "stderr",
       "text": [
        "\r",
        "Processed 1964000 ( 78.71% ) in 0.0158 seconds"
       ]
      },
      {
       "output_type": "stream",
       "stream": "stderr",
       "text": [
        "\r",
        "Processed 1965000 ( 78.75% ) in 0.0158 seconds"
       ]
      },
      {
       "output_type": "stream",
       "stream": "stderr",
       "text": [
        "\r",
        "Processed 1966000 ( 78.79% ) in 0.0156 seconds"
       ]
      },
      {
       "output_type": "stream",
       "stream": "stderr",
       "text": [
        "\r",
        "Processed 1967000 ( 78.83% ) in 0.0154 seconds"
       ]
      },
      {
       "output_type": "stream",
       "stream": "stderr",
       "text": [
        "\r",
        "Processed 1968000 ( 78.87% ) in 0.0154 seconds"
       ]
      },
      {
       "output_type": "stream",
       "stream": "stderr",
       "text": [
        "\r",
        "Processed 1969000 ( 78.91% ) in 0.0158 seconds"
       ]
      },
      {
       "output_type": "stream",
       "stream": "stderr",
       "text": [
        "\r",
        "Processed 1970000 ( 78.95% ) in 0.0155 seconds"
       ]
      },
      {
       "output_type": "stream",
       "stream": "stderr",
       "text": [
        "\r",
        "Processed 1971000 ( 78.99% ) in 0.0155 seconds"
       ]
      },
      {
       "output_type": "stream",
       "stream": "stderr",
       "text": [
        "\r",
        "Processed 1972000 ( 79.03% ) in 0.0155 seconds"
       ]
      },
      {
       "output_type": "stream",
       "stream": "stderr",
       "text": [
        "\r",
        "Processed 1973000 ( 79.07% ) in 0.0155 seconds"
       ]
      },
      {
       "output_type": "stream",
       "stream": "stderr",
       "text": [
        "\r",
        "Processed 1974000 ( 79.11% ) in 0.0154 seconds"
       ]
      },
      {
       "output_type": "stream",
       "stream": "stderr",
       "text": [
        "\r",
        "Processed 1975000 ( 79.15% ) in 0.0521 seconds"
       ]
      },
      {
       "output_type": "stream",
       "stream": "stderr",
       "text": [
        "\r",
        "Processed 1976000 ( 79.19% ) in 0.0399 seconds"
       ]
      },
      {
       "output_type": "stream",
       "stream": "stderr",
       "text": [
        "\r",
        "Processed 1977000 ( 79.23% ) in 0.0400 seconds"
       ]
      },
      {
       "output_type": "stream",
       "stream": "stderr",
       "text": [
        "\r",
        "Processed 1978000 ( 79.27% ) in 0.0404 seconds"
       ]
      },
      {
       "output_type": "stream",
       "stream": "stderr",
       "text": [
        "\r",
        "Processed 1979000 ( 79.31% ) in 0.0216 seconds"
       ]
      },
      {
       "output_type": "stream",
       "stream": "stderr",
       "text": [
        "\r",
        "Processed 1980000 ( 79.35% ) in 0.0158 seconds"
       ]
      },
      {
       "output_type": "stream",
       "stream": "stderr",
       "text": [
        "\r",
        "Processed 1981000 ( 79.39% ) in 0.0157 seconds"
       ]
      },
      {
       "output_type": "stream",
       "stream": "stderr",
       "text": [
        "\r",
        "Processed 1982000 ( 79.43% ) in 0.0155 seconds"
       ]
      },
      {
       "output_type": "stream",
       "stream": "stderr",
       "text": [
        "\r",
        "Processed 1983000 ( 79.47% ) in 0.0155 seconds"
       ]
      },
      {
       "output_type": "stream",
       "stream": "stderr",
       "text": [
        "\r",
        "Processed 1984000 ( 79.51% ) in 0.0396 seconds"
       ]
      },
      {
       "output_type": "stream",
       "stream": "stderr",
       "text": [
        "\r",
        "Processed 1985000 ( 79.55% ) in 0.0212 seconds"
       ]
      },
      {
       "output_type": "stream",
       "stream": "stderr",
       "text": [
        "\r",
        "Processed 1986000 ( 79.59% ) in 0.0153 seconds"
       ]
      },
      {
       "output_type": "stream",
       "stream": "stderr",
       "text": [
        "\r",
        "Processed 1987000 ( 79.63% ) in 0.0154 seconds"
       ]
      },
      {
       "output_type": "stream",
       "stream": "stderr",
       "text": [
        "\r",
        "Processed 1988000 ( 79.67% ) in 0.0155 seconds"
       ]
      },
      {
       "output_type": "stream",
       "stream": "stderr",
       "text": [
        "\r",
        "Processed 1989000 ( 79.71% ) in 0.0154 seconds"
       ]
      },
      {
       "output_type": "stream",
       "stream": "stderr",
       "text": [
        "\r",
        "Processed 1990000 ( 79.75% ) in 0.0387 seconds"
       ]
      },
      {
       "output_type": "stream",
       "stream": "stderr",
       "text": [
        "\r",
        "Processed 1991000 ( 79.79% ) in 0.0181 seconds"
       ]
      },
      {
       "output_type": "stream",
       "stream": "stderr",
       "text": [
        "\r",
        "Processed 1992000 ( 79.83% ) in 0.0156 seconds"
       ]
      },
      {
       "output_type": "stream",
       "stream": "stderr",
       "text": [
        "\r",
        "Processed 1993000 ( 79.87% ) in 0.0171 seconds"
       ]
      },
      {
       "output_type": "stream",
       "stream": "stderr",
       "text": [
        "\r",
        "Processed 1994000 ( 79.91% ) in 0.0265 seconds"
       ]
      },
      {
       "output_type": "stream",
       "stream": "stderr",
       "text": [
        "\r",
        "Processed 1995000 ( 79.95% ) in 0.0156 seconds"
       ]
      },
      {
       "output_type": "stream",
       "stream": "stderr",
       "text": [
        "\r",
        "Processed 1996000 ( 79.99% ) in 0.0156 seconds"
       ]
      },
      {
       "output_type": "stream",
       "stream": "stderr",
       "text": [
        "\r",
        "Processed 1997000 ( 80.03% ) in 0.0154 seconds"
       ]
      },
      {
       "output_type": "stream",
       "stream": "stderr",
       "text": [
        "\r",
        "Processed 1998000 ( 80.07% ) in 0.0427 seconds"
       ]
      },
      {
       "output_type": "stream",
       "stream": "stderr",
       "text": [
        "\r",
        "Processed 1999000 ( 80.11% ) in 0.0163 seconds"
       ]
      },
      {
       "output_type": "stream",
       "stream": "stderr",
       "text": [
        "\r",
        "Processed 2000000 ( 80.15% ) in 0.0159 seconds"
       ]
      },
      {
       "output_type": "stream",
       "stream": "stderr",
       "text": [
        "\r",
        "Processed 2001000 ( 80.19% ) in 0.0155 seconds"
       ]
      },
      {
       "output_type": "stream",
       "stream": "stderr",
       "text": [
        "\r",
        "Processed 2002000 ( 80.23% ) in 0.0491 seconds"
       ]
      },
      {
       "output_type": "stream",
       "stream": "stderr",
       "text": [
        "\r",
        "Processed 2003000 ( 80.27% ) in 0.0358 seconds"
       ]
      },
      {
       "output_type": "stream",
       "stream": "stderr",
       "text": [
        "\r",
        "Processed 2004000 ( 80.31% ) in 0.0360 seconds"
       ]
      },
      {
       "output_type": "stream",
       "stream": "stderr",
       "text": [
        "\r",
        "Processed 2005000 ( 80.35% ) in 0.0358 seconds"
       ]
      },
      {
       "output_type": "stream",
       "stream": "stderr",
       "text": [
        "\r",
        "Processed 2006000 ( 80.39% ) in 0.0361 seconds"
       ]
      },
      {
       "output_type": "stream",
       "stream": "stderr",
       "text": [
        "\r",
        "Processed 2007000 ( 80.43% ) in 0.0196 seconds"
       ]
      },
      {
       "output_type": "stream",
       "stream": "stderr",
       "text": [
        "\r",
        "Processed 2008000 ( 80.47% ) in 0.0288 seconds"
       ]
      },
      {
       "output_type": "stream",
       "stream": "stderr",
       "text": [
        "\r",
        "Processed 2009000 ( 80.51% ) in 0.0184 seconds"
       ]
      },
      {
       "output_type": "stream",
       "stream": "stderr",
       "text": [
        "\r",
        "Processed 2010000 ( 80.55% ) in 0.0156 seconds"
       ]
      },
      {
       "output_type": "stream",
       "stream": "stderr",
       "text": [
        "\r",
        "Processed 2011000 ( 80.59% ) in 0.0170 seconds"
       ]
      },
      {
       "output_type": "stream",
       "stream": "stderr",
       "text": [
        "\r",
        "Processed 2012000 ( 80.63% ) in 0.0153 seconds"
       ]
      },
      {
       "output_type": "stream",
       "stream": "stderr",
       "text": [
        "\r",
        "Processed 2013000 ( 80.67% ) in 0.0154 seconds"
       ]
      },
      {
       "output_type": "stream",
       "stream": "stderr",
       "text": [
        "\r",
        "Processed 2014000 ( 80.71% ) in 0.0155 seconds"
       ]
      },
      {
       "output_type": "stream",
       "stream": "stderr",
       "text": [
        "\r",
        "Processed 2015000 ( 80.75% ) in 0.0436 seconds"
       ]
      },
      {
       "output_type": "stream",
       "stream": "stderr",
       "text": [
        "\r",
        "Processed 2016000 ( 80.79% ) in 0.0211 seconds"
       ]
      },
      {
       "output_type": "stream",
       "stream": "stderr",
       "text": [
        "\r",
        "Processed 2017000 ( 80.83% ) in 0.0441 seconds"
       ]
      },
      {
       "output_type": "stream",
       "stream": "stderr",
       "text": [
        "\r",
        "Processed 2018000 ( 80.87% ) in 0.0452 seconds"
       ]
      },
      {
       "output_type": "stream",
       "stream": "stderr",
       "text": [
        "\r",
        "Processed 2019000 ( 80.91% ) in 0.0399 seconds"
       ]
      },
      {
       "output_type": "stream",
       "stream": "stderr",
       "text": [
        "\r",
        "Processed 2020000 ( 80.95% ) in 0.0365 seconds"
       ]
      },
      {
       "output_type": "stream",
       "stream": "stderr",
       "text": [
        "\r",
        "Processed 2021000 ( 80.99% ) in 0.0297 seconds"
       ]
      },
      {
       "output_type": "stream",
       "stream": "stderr",
       "text": [
        "\r",
        "Processed 2022000 ( 81.03% ) in 0.0151 seconds"
       ]
      },
      {
       "output_type": "stream",
       "stream": "stderr",
       "text": [
        "\r",
        "Processed 2023000 ( 81.07% ) in 0.0190 seconds"
       ]
      },
      {
       "output_type": "stream",
       "stream": "stderr",
       "text": [
        "\r",
        "Processed 2024000 ( 81.11% ) in 0.0330 seconds"
       ]
      },
      {
       "output_type": "stream",
       "stream": "stderr",
       "text": [
        "\r",
        "Processed 2025000 ( 81.15% ) in 0.0242 seconds"
       ]
      },
      {
       "output_type": "stream",
       "stream": "stderr",
       "text": [
        "\r",
        "Processed 2026000 ( 81.19% ) in 0.0366 seconds"
       ]
      },
      {
       "output_type": "stream",
       "stream": "stderr",
       "text": [
        "\r",
        "Processed 2027000 ( 81.23% ) in 0.0338 seconds"
       ]
      },
      {
       "output_type": "stream",
       "stream": "stderr",
       "text": [
        "\r",
        "Processed 2028000 ( 81.27% ) in 0.0215 seconds"
       ]
      },
      {
       "output_type": "stream",
       "stream": "stderr",
       "text": [
        "\r",
        "Processed 2029000 ( 81.31% ) in 0.0396 seconds"
       ]
      },
      {
       "output_type": "stream",
       "stream": "stderr",
       "text": [
        "\r",
        "Processed 2030000 ( 81.35% ) in 0.0383 seconds"
       ]
      },
      {
       "output_type": "stream",
       "stream": "stderr",
       "text": [
        "\r",
        "Processed 2031000 ( 81.39% ) in 0.0378 seconds"
       ]
      },
      {
       "output_type": "stream",
       "stream": "stderr",
       "text": [
        "\r",
        "Processed 2032000 ( 81.43% ) in 0.0396 seconds"
       ]
      },
      {
       "output_type": "stream",
       "stream": "stderr",
       "text": [
        "\r",
        "Processed 2033000 ( 81.47% ) in 0.0516 seconds"
       ]
      },
      {
       "output_type": "stream",
       "stream": "stderr",
       "text": [
        "\r",
        "Processed 2034000 ( 81.51% ) in 0.0449 seconds"
       ]
      },
      {
       "output_type": "stream",
       "stream": "stderr",
       "text": [
        "\r",
        "Processed 2035000 ( 81.55% ) in 0.0244 seconds"
       ]
      },
      {
       "output_type": "stream",
       "stream": "stderr",
       "text": [
        "\r",
        "Processed 2036000 ( 81.59% ) in 0.0251 seconds"
       ]
      },
      {
       "output_type": "stream",
       "stream": "stderr",
       "text": [
        "\r",
        "Processed 2037000 ( 81.63% ) in 0.0219 seconds"
       ]
      },
      {
       "output_type": "stream",
       "stream": "stderr",
       "text": [
        "\r",
        "Processed 2038000 ( 81.67% ) in 0.0223 seconds"
       ]
      },
      {
       "output_type": "stream",
       "stream": "stderr",
       "text": [
        "\r",
        "Processed 2039000 ( 81.71% ) in 0.0237 seconds"
       ]
      },
      {
       "output_type": "stream",
       "stream": "stderr",
       "text": [
        "\r",
        "Processed 2040000 ( 81.75% ) in 0.0264 seconds"
       ]
      },
      {
       "output_type": "stream",
       "stream": "stderr",
       "text": [
        "\r",
        "Processed 2041000 ( 81.79% ) in 0.0201 seconds"
       ]
      },
      {
       "output_type": "stream",
       "stream": "stderr",
       "text": [
        "\r",
        "Processed 2042000 ( 81.83% ) in 0.0154 seconds"
       ]
      },
      {
       "output_type": "stream",
       "stream": "stderr",
       "text": [
        "\r",
        "Processed 2043000 ( 81.87% ) in 0.0154 seconds"
       ]
      },
      {
       "output_type": "stream",
       "stream": "stderr",
       "text": [
        "\r",
        "Processed 2044000 ( 81.91% ) in 0.0154 seconds"
       ]
      },
      {
       "output_type": "stream",
       "stream": "stderr",
       "text": [
        "\r",
        "Processed 2045000 ( 81.95% ) in 0.0154 seconds"
       ]
      },
      {
       "output_type": "stream",
       "stream": "stderr",
       "text": [
        "\r",
        "Processed 2046000 ( 81.99% ) in 0.0347 seconds"
       ]
      },
      {
       "output_type": "stream",
       "stream": "stderr",
       "text": [
        "\r",
        "Processed 2047000 ( 82.03% ) in 0.0281 seconds"
       ]
      },
      {
       "output_type": "stream",
       "stream": "stderr",
       "text": [
        "\r",
        "Processed 2048000 ( 82.07% ) in 0.0248 seconds"
       ]
      },
      {
       "output_type": "stream",
       "stream": "stderr",
       "text": [
        "\r",
        "Processed 2049000 ( 82.11% ) in 0.0199 seconds"
       ]
      },
      {
       "output_type": "stream",
       "stream": "stderr",
       "text": [
        "\r",
        "Processed 2050000 ( 82.15% ) in 0.0203 seconds"
       ]
      },
      {
       "output_type": "stream",
       "stream": "stderr",
       "text": [
        "\r",
        "Processed 2051000 ( 82.19% ) in 0.0206 seconds"
       ]
      },
      {
       "output_type": "stream",
       "stream": "stderr",
       "text": [
        "\r",
        "Processed 2052000 ( 82.23% ) in 0.0172 seconds"
       ]
      },
      {
       "output_type": "stream",
       "stream": "stderr",
       "text": [
        "\r",
        "Processed 2053000 ( 82.27% ) in 0.0161 seconds"
       ]
      },
      {
       "output_type": "stream",
       "stream": "stderr",
       "text": [
        "\r",
        "Processed 2054000 ( 82.31% ) in 0.0160 seconds"
       ]
      },
      {
       "output_type": "stream",
       "stream": "stderr",
       "text": [
        "\r",
        "Processed 2055000 ( 82.35% ) in 0.0160 seconds"
       ]
      },
      {
       "output_type": "stream",
       "stream": "stderr",
       "text": [
        "\r",
        "Processed 2056000 ( 82.39% ) in 0.0158 seconds"
       ]
      },
      {
       "output_type": "stream",
       "stream": "stderr",
       "text": [
        "\r",
        "Processed 2057000 ( 82.43% ) in 0.0160 seconds"
       ]
      },
      {
       "output_type": "stream",
       "stream": "stderr",
       "text": [
        "\r",
        "Processed 2058000 ( 82.48% ) in 0.0160 seconds"
       ]
      },
      {
       "output_type": "stream",
       "stream": "stderr",
       "text": [
        "\r",
        "Processed 2059000 ( 82.52% ) in 0.0159 seconds"
       ]
      },
      {
       "output_type": "stream",
       "stream": "stderr",
       "text": [
        "\r",
        "Processed 2060000 ( 82.56% ) in 0.0161 seconds"
       ]
      },
      {
       "output_type": "stream",
       "stream": "stderr",
       "text": [
        "\r",
        "Processed 2061000 ( 82.60% ) in 0.0160 seconds"
       ]
      },
      {
       "output_type": "stream",
       "stream": "stderr",
       "text": [
        "\r",
        "Processed 2062000 ( 82.64% ) in 0.0161 seconds"
       ]
      },
      {
       "output_type": "stream",
       "stream": "stderr",
       "text": [
        "\r",
        "Processed 2063000 ( 82.68% ) in 0.0344 seconds"
       ]
      },
      {
       "output_type": "stream",
       "stream": "stderr",
       "text": [
        "\r",
        "Processed 2064000 ( 82.72% ) in 0.0298 seconds"
       ]
      },
      {
       "output_type": "stream",
       "stream": "stderr",
       "text": [
        "\r",
        "Processed 2065000 ( 82.76% ) in 0.0380 seconds"
       ]
      },
      {
       "output_type": "stream",
       "stream": "stderr",
       "text": [
        "\r",
        "Processed 2066000 ( 82.80% ) in 0.0232 seconds"
       ]
      },
      {
       "output_type": "stream",
       "stream": "stderr",
       "text": [
        "\r",
        "Processed 2067000 ( 82.84% ) in 0.0159 seconds"
       ]
      },
      {
       "output_type": "stream",
       "stream": "stderr",
       "text": [
        "\r",
        "Processed 2068000 ( 82.88% ) in 0.0159 seconds"
       ]
      },
      {
       "output_type": "stream",
       "stream": "stderr",
       "text": [
        "\r",
        "Processed 2069000 ( 82.92% ) in 0.0159 seconds"
       ]
      },
      {
       "output_type": "stream",
       "stream": "stderr",
       "text": [
        "\r",
        "Processed 2070000 ( 82.96% ) in 0.0160 seconds"
       ]
      },
      {
       "output_type": "stream",
       "stream": "stderr",
       "text": [
        "\r",
        "Processed 2071000 ( 83.00% ) in 0.0162 seconds"
       ]
      },
      {
       "output_type": "stream",
       "stream": "stderr",
       "text": [
        "\r",
        "Processed 2072000 ( 83.04% ) in 0.0160 seconds"
       ]
      },
      {
       "output_type": "stream",
       "stream": "stderr",
       "text": [
        "\r",
        "Processed 2073000 ( 83.08% ) in 0.0160 seconds"
       ]
      },
      {
       "output_type": "stream",
       "stream": "stderr",
       "text": [
        "\r",
        "Processed 2074000 ( 83.12% ) in 0.0160 seconds"
       ]
      },
      {
       "output_type": "stream",
       "stream": "stderr",
       "text": [
        "\r",
        "Processed 2075000 ( 83.16% ) in 0.0326 seconds"
       ]
      },
      {
       "output_type": "stream",
       "stream": "stderr",
       "text": [
        "\r",
        "Processed 2076000 ( 83.20% ) in 0.0205 seconds"
       ]
      },
      {
       "output_type": "stream",
       "stream": "stderr",
       "text": [
        "\r",
        "Processed 2077000 ( 83.24% ) in 0.0209 seconds"
       ]
      },
      {
       "output_type": "stream",
       "stream": "stderr",
       "text": [
        "\r",
        "Processed 2078000 ( 83.28% ) in 0.0210 seconds"
       ]
      },
      {
       "output_type": "stream",
       "stream": "stderr",
       "text": [
        "\r",
        "Processed 2079000 ( 83.32% ) in 0.0213 seconds"
       ]
      },
      {
       "output_type": "stream",
       "stream": "stderr",
       "text": [
        "\r",
        "Processed 2080000 ( 83.36% ) in 0.0210 seconds"
       ]
      },
      {
       "output_type": "stream",
       "stream": "stderr",
       "text": [
        "\r",
        "Processed 2081000 ( 83.40% ) in 0.0181 seconds"
       ]
      },
      {
       "output_type": "stream",
       "stream": "stderr",
       "text": [
        "\r",
        "Processed 2082000 ( 83.44% ) in 0.0160 seconds"
       ]
      },
      {
       "output_type": "stream",
       "stream": "stderr",
       "text": [
        "\r",
        "Processed 2083000 ( 83.48% ) in 0.0160 seconds"
       ]
      },
      {
       "output_type": "stream",
       "stream": "stderr",
       "text": [
        "\r",
        "Processed 2084000 ( 83.52% ) in 0.0163 seconds"
       ]
      },
      {
       "output_type": "stream",
       "stream": "stderr",
       "text": [
        "\r",
        "Processed 2085000 ( 83.56% ) in 0.0160 seconds"
       ]
      },
      {
       "output_type": "stream",
       "stream": "stderr",
       "text": [
        "\r",
        "Processed 2086000 ( 83.60% ) in 0.0159 seconds"
       ]
      },
      {
       "output_type": "stream",
       "stream": "stderr",
       "text": [
        "\r",
        "Processed 2087000 ( 83.64% ) in 0.0160 seconds"
       ]
      },
      {
       "output_type": "stream",
       "stream": "stderr",
       "text": [
        "\r",
        "Processed 2088000 ( 83.68% ) in 0.0159 seconds"
       ]
      },
      {
       "output_type": "stream",
       "stream": "stderr",
       "text": [
        "\r",
        "Processed 2089000 ( 83.72% ) in 0.0156 seconds"
       ]
      },
      {
       "output_type": "stream",
       "stream": "stderr",
       "text": [
        "\r",
        "Processed 2090000 ( 83.76% ) in 0.0154 seconds"
       ]
      },
      {
       "output_type": "stream",
       "stream": "stderr",
       "text": [
        "\r",
        "Processed 2091000 ( 83.80% ) in 0.0154 seconds"
       ]
      },
      {
       "output_type": "stream",
       "stream": "stderr",
       "text": [
        "\r",
        "Processed 2092000 ( 83.84% ) in 0.0153 seconds"
       ]
      },
      {
       "output_type": "stream",
       "stream": "stderr",
       "text": [
        "\r",
        "Processed 2093000 ( 83.88% ) in 0.0153 seconds"
       ]
      },
      {
       "output_type": "stream",
       "stream": "stderr",
       "text": [
        "\r",
        "Processed 2094000 ( 83.92% ) in 0.0168 seconds"
       ]
      },
      {
       "output_type": "stream",
       "stream": "stderr",
       "text": [
        "\r",
        "Processed 2095000 ( 83.96% ) in 0.0204 seconds"
       ]
      },
      {
       "output_type": "stream",
       "stream": "stderr",
       "text": [
        "\r",
        "Processed 2096000 ( 84.00% ) in 0.0155 seconds"
       ]
      },
      {
       "output_type": "stream",
       "stream": "stderr",
       "text": [
        "\r",
        "Processed 2097000 ( 84.04% ) in 0.0154 seconds"
       ]
      },
      {
       "output_type": "stream",
       "stream": "stderr",
       "text": [
        "\r",
        "Processed 2098000 ( 84.08% ) in 0.0163 seconds"
       ]
      },
      {
       "output_type": "stream",
       "stream": "stderr",
       "text": [
        "\r",
        "Processed 2099000 ( 84.12% ) in 0.0154 seconds"
       ]
      },
      {
       "output_type": "stream",
       "stream": "stderr",
       "text": [
        "\r",
        "Processed 2100000 ( 84.16% ) in 0.0155 seconds"
       ]
      },
      {
       "output_type": "stream",
       "stream": "stderr",
       "text": [
        "\r",
        "Processed 2101000 ( 84.20% ) in 0.0155 seconds"
       ]
      },
      {
       "output_type": "stream",
       "stream": "stderr",
       "text": [
        "\r",
        "Processed 2102000 ( 84.24% ) in 0.0155 seconds"
       ]
      },
      {
       "output_type": "stream",
       "stream": "stderr",
       "text": [
        "\r",
        "Processed 2103000 ( 84.28% ) in 0.0238 seconds"
       ]
      },
      {
       "output_type": "stream",
       "stream": "stderr",
       "text": [
        "\r",
        "Processed 2104000 ( 84.32% ) in 0.0308 seconds"
       ]
      },
      {
       "output_type": "stream",
       "stream": "stderr",
       "text": [
        "\r",
        "Processed 2105000 ( 84.36% ) in 0.0197 seconds"
       ]
      },
      {
       "output_type": "stream",
       "stream": "stderr",
       "text": [
        "\r",
        "Processed 2106000 ( 84.40% ) in 0.0194 seconds"
       ]
      },
      {
       "output_type": "stream",
       "stream": "stderr",
       "text": [
        "\r",
        "Processed 2107000 ( 84.44% ) in 0.0157 seconds"
       ]
      },
      {
       "output_type": "stream",
       "stream": "stderr",
       "text": [
        "\r",
        "Processed 2108000 ( 84.48% ) in 0.0463 seconds"
       ]
      },
      {
       "output_type": "stream",
       "stream": "stderr",
       "text": [
        "\r",
        "Processed 2109000 ( 84.52% ) in 0.0360 seconds"
       ]
      },
      {
       "output_type": "stream",
       "stream": "stderr",
       "text": [
        "\r",
        "Processed 2110000 ( 84.56% ) in 0.0180 seconds"
       ]
      },
      {
       "output_type": "stream",
       "stream": "stderr",
       "text": [
        "\r",
        "Processed 2111000 ( 84.60% ) in 0.0222 seconds"
       ]
      },
      {
       "output_type": "stream",
       "stream": "stderr",
       "text": [
        "\r",
        "Processed 2112000 ( 84.64% ) in 0.0154 seconds"
       ]
      },
      {
       "output_type": "stream",
       "stream": "stderr",
       "text": [
        "\r",
        "Processed 2113000 ( 84.68% ) in 0.0157 seconds"
       ]
      },
      {
       "output_type": "stream",
       "stream": "stderr",
       "text": [
        "\r",
        "Processed 2114000 ( 84.72% ) in 0.0154 seconds"
       ]
      },
      {
       "output_type": "stream",
       "stream": "stderr",
       "text": [
        "\r",
        "Processed 2115000 ( 84.76% ) in 0.0154 seconds"
       ]
      },
      {
       "output_type": "stream",
       "stream": "stderr",
       "text": [
        "\r",
        "Processed 2116000 ( 84.80% ) in 0.0510 seconds"
       ]
      },
      {
       "output_type": "stream",
       "stream": "stderr",
       "text": [
        "\r",
        "Processed 2117000 ( 84.84% ) in 0.0279 seconds"
       ]
      },
      {
       "output_type": "stream",
       "stream": "stderr",
       "text": [
        "\r",
        "Processed 2118000 ( 84.88% ) in 0.0153 seconds"
       ]
      },
      {
       "output_type": "stream",
       "stream": "stderr",
       "text": [
        "\r",
        "Processed 2119000 ( 84.92% ) in 0.0156 seconds"
       ]
      },
      {
       "output_type": "stream",
       "stream": "stderr",
       "text": [
        "\r",
        "Processed 2120000 ( 84.96% ) in 0.0156 seconds"
       ]
      },
      {
       "output_type": "stream",
       "stream": "stderr",
       "text": [
        "\r",
        "Processed 2121000 ( 85.00% ) in 0.0155 seconds"
       ]
      },
      {
       "output_type": "stream",
       "stream": "stderr",
       "text": [
        "\r",
        "Processed 2122000 ( 85.04% ) in 0.0153 seconds"
       ]
      },
      {
       "output_type": "stream",
       "stream": "stderr",
       "text": [
        "\r",
        "Processed 2123000 ( 85.08% ) in 0.0154 seconds"
       ]
      },
      {
       "output_type": "stream",
       "stream": "stderr",
       "text": [
        "\r",
        "Processed 2124000 ( 85.12% ) in 0.0213 seconds"
       ]
      },
      {
       "output_type": "stream",
       "stream": "stderr",
       "text": [
        "\r",
        "Processed 2125000 ( 85.16% ) in 0.0153 seconds"
       ]
      },
      {
       "output_type": "stream",
       "stream": "stderr",
       "text": [
        "\r",
        "Processed 2126000 ( 85.20% ) in 0.0154 seconds"
       ]
      },
      {
       "output_type": "stream",
       "stream": "stderr",
       "text": [
        "\r",
        "Processed 2127000 ( 85.24% ) in 0.0154 seconds"
       ]
      },
      {
       "output_type": "stream",
       "stream": "stderr",
       "text": [
        "\r",
        "Processed 2128000 ( 85.28% ) in 0.0302 seconds"
       ]
      },
      {
       "output_type": "stream",
       "stream": "stderr",
       "text": [
        "\r",
        "Processed 2129000 ( 85.32% ) in 0.0162 seconds"
       ]
      },
      {
       "output_type": "stream",
       "stream": "stderr",
       "text": [
        "\r",
        "Processed 2130000 ( 85.36% ) in 0.0154 seconds"
       ]
      },
      {
       "output_type": "stream",
       "stream": "stderr",
       "text": [
        "\r",
        "Processed 2131000 ( 85.40% ) in 0.0153 seconds"
       ]
      },
      {
       "output_type": "stream",
       "stream": "stderr",
       "text": [
        "\r",
        "Processed 2132000 ( 85.44% ) in 0.0155 seconds"
       ]
      },
      {
       "output_type": "stream",
       "stream": "stderr",
       "text": [
        "\r",
        "Processed 2133000 ( 85.48% ) in 0.0154 seconds"
       ]
      },
      {
       "output_type": "stream",
       "stream": "stderr",
       "text": [
        "\r",
        "Processed 2134000 ( 85.52% ) in 0.0152 seconds"
       ]
      },
      {
       "output_type": "stream",
       "stream": "stderr",
       "text": [
        "\r",
        "Processed 2135000 ( 85.56% ) in 0.0154 seconds"
       ]
      },
      {
       "output_type": "stream",
       "stream": "stderr",
       "text": [
        "\r",
        "Processed 2136000 ( 85.60% ) in 0.0153 seconds"
       ]
      },
      {
       "output_type": "stream",
       "stream": "stderr",
       "text": [
        "\r",
        "Processed 2137000 ( 85.64% ) in 0.0153 seconds"
       ]
      },
      {
       "output_type": "stream",
       "stream": "stderr",
       "text": [
        "\r",
        "Processed 2138000 ( 85.68% ) in 0.0159 seconds"
       ]
      },
      {
       "output_type": "stream",
       "stream": "stderr",
       "text": [
        "\r",
        "Processed 2139000 ( 85.72% ) in 0.0154 seconds"
       ]
      },
      {
       "output_type": "stream",
       "stream": "stderr",
       "text": [
        "\r",
        "Processed 2140000 ( 85.76% ) in 0.0153 seconds"
       ]
      },
      {
       "output_type": "stream",
       "stream": "stderr",
       "text": [
        "\r",
        "Processed 2141000 ( 85.80% ) in 0.0155 seconds"
       ]
      },
      {
       "output_type": "stream",
       "stream": "stderr",
       "text": [
        "\r",
        "Processed 2142000 ( 85.84% ) in 0.0153 seconds"
       ]
      },
      {
       "output_type": "stream",
       "stream": "stderr",
       "text": [
        "\r",
        "Processed 2143000 ( 85.88% ) in 0.0152 seconds"
       ]
      },
      {
       "output_type": "stream",
       "stream": "stderr",
       "text": [
        "\r",
        "Processed 2144000 ( 85.92% ) in 0.0274 seconds"
       ]
      },
      {
       "output_type": "stream",
       "stream": "stderr",
       "text": [
        "\r",
        "Processed 2145000 ( 85.96% ) in 0.0292 seconds"
       ]
      },
      {
       "output_type": "stream",
       "stream": "stderr",
       "text": [
        "\r",
        "Processed 2146000 ( 86.00% ) in 0.0306 seconds"
       ]
      },
      {
       "output_type": "stream",
       "stream": "stderr",
       "text": [
        "\r",
        "Processed 2147000 ( 86.04% ) in 0.0274 seconds"
       ]
      },
      {
       "output_type": "stream",
       "stream": "stderr",
       "text": [
        "\r",
        "Processed 2148000 ( 86.08% ) in 0.0291 seconds"
       ]
      },
      {
       "output_type": "stream",
       "stream": "stderr",
       "text": [
        "\r",
        "Processed 2149000 ( 86.12% ) in 0.0153 seconds"
       ]
      },
      {
       "output_type": "stream",
       "stream": "stderr",
       "text": [
        "\r",
        "Processed 2150000 ( 86.16% ) in 0.0153 seconds"
       ]
      },
      {
       "output_type": "stream",
       "stream": "stderr",
       "text": [
        "\r",
        "Processed 2151000 ( 86.20% ) in 0.0153 seconds"
       ]
      },
      {
       "output_type": "stream",
       "stream": "stderr",
       "text": [
        "\r",
        "Processed 2152000 ( 86.24% ) in 0.0152 seconds"
       ]
      },
      {
       "output_type": "stream",
       "stream": "stderr",
       "text": [
        "\r",
        "Processed 2153000 ( 86.28% ) in 0.0154 seconds"
       ]
      },
      {
       "output_type": "stream",
       "stream": "stderr",
       "text": [
        "\r",
        "Processed 2154000 ( 86.32% ) in 0.0152 seconds"
       ]
      },
      {
       "output_type": "stream",
       "stream": "stderr",
       "text": [
        "\r",
        "Processed 2155000 ( 86.36% ) in 0.0221 seconds"
       ]
      },
      {
       "output_type": "stream",
       "stream": "stderr",
       "text": [
        "\r",
        "Processed 2156000 ( 86.40% ) in 0.0403 seconds"
       ]
      },
      {
       "output_type": "stream",
       "stream": "stderr",
       "text": [
        "\r",
        "Processed 2157000 ( 86.44% ) in 0.0248 seconds"
       ]
      },
      {
       "output_type": "stream",
       "stream": "stderr",
       "text": [
        "\r",
        "Processed 2158000 ( 86.48% ) in 0.0226 seconds"
       ]
      },
      {
       "output_type": "stream",
       "stream": "stderr",
       "text": [
        "\r",
        "Processed 2159000 ( 86.52% ) in 0.0208 seconds"
       ]
      },
      {
       "output_type": "stream",
       "stream": "stderr",
       "text": [
        "\r",
        "Processed 2160000 ( 86.56% ) in 0.0235 seconds"
       ]
      },
      {
       "output_type": "stream",
       "stream": "stderr",
       "text": [
        "\r",
        "Processed 2161000 ( 86.60% ) in 0.0215 seconds"
       ]
      },
      {
       "output_type": "stream",
       "stream": "stderr",
       "text": [
        "\r",
        "Processed 2162000 ( 86.64% ) in 0.0167 seconds"
       ]
      },
      {
       "output_type": "stream",
       "stream": "stderr",
       "text": [
        "\r",
        "Processed 2163000 ( 86.68% ) in 0.0223 seconds"
       ]
      },
      {
       "output_type": "stream",
       "stream": "stderr",
       "text": [
        "\r",
        "Processed 2164000 ( 86.72% ) in 0.0314 seconds"
       ]
      },
      {
       "output_type": "stream",
       "stream": "stderr",
       "text": [
        "\r",
        "Processed 2165000 ( 86.76% ) in 0.0354 seconds"
       ]
      },
      {
       "output_type": "stream",
       "stream": "stderr",
       "text": [
        "\r",
        "Processed 2166000 ( 86.80% ) in 0.0361 seconds"
       ]
      },
      {
       "output_type": "stream",
       "stream": "stderr",
       "text": [
        "\r",
        "Processed 2167000 ( 86.84% ) in 0.0477 seconds"
       ]
      },
      {
       "output_type": "stream",
       "stream": "stderr",
       "text": [
        "\r",
        "Processed 2168000 ( 86.88% ) in 0.0251 seconds"
       ]
      },
      {
       "output_type": "stream",
       "stream": "stderr",
       "text": [
        "\r",
        "Processed 2169000 ( 86.92% ) in 0.0356 seconds"
       ]
      },
      {
       "output_type": "stream",
       "stream": "stderr",
       "text": [
        "\r",
        "Processed 2170000 ( 86.96% ) in 0.0277 seconds"
       ]
      },
      {
       "output_type": "stream",
       "stream": "stderr",
       "text": [
        "\r",
        "Processed 2171000 ( 87.00% ) in 0.0277 seconds"
       ]
      },
      {
       "output_type": "stream",
       "stream": "stderr",
       "text": [
        "\r",
        "Processed 2172000 ( 87.04% ) in 0.0418 seconds"
       ]
      },
      {
       "output_type": "stream",
       "stream": "stderr",
       "text": [
        "\r",
        "Processed 2173000 ( 87.08% ) in 0.0299 seconds"
       ]
      },
      {
       "output_type": "stream",
       "stream": "stderr",
       "text": [
        "\r",
        "Processed 2174000 ( 87.12% ) in 0.0278 seconds"
       ]
      },
      {
       "output_type": "stream",
       "stream": "stderr",
       "text": [
        "\r",
        "Processed 2175000 ( 87.16% ) in 0.0253 seconds"
       ]
      },
      {
       "output_type": "stream",
       "stream": "stderr",
       "text": [
        "\r",
        "Processed 2176000 ( 87.20% ) in 0.0268 seconds"
       ]
      },
      {
       "output_type": "stream",
       "stream": "stderr",
       "text": [
        "\r",
        "Processed 2177000 ( 87.24% ) in 0.0180 seconds"
       ]
      },
      {
       "output_type": "stream",
       "stream": "stderr",
       "text": [
        "\r",
        "Processed 2178000 ( 87.28% ) in 0.0457 seconds"
       ]
      },
      {
       "output_type": "stream",
       "stream": "stderr",
       "text": [
        "\r",
        "Processed 2179000 ( 87.32% ) in 0.0182 seconds"
       ]
      },
      {
       "output_type": "stream",
       "stream": "stderr",
       "text": [
        "\r",
        "Processed 2180000 ( 87.36% ) in 0.0228 seconds"
       ]
      },
      {
       "output_type": "stream",
       "stream": "stderr",
       "text": [
        "\r",
        "Processed 2181000 ( 87.40% ) in 0.0302 seconds"
       ]
      },
      {
       "output_type": "stream",
       "stream": "stderr",
       "text": [
        "\r",
        "Processed 2182000 ( 87.44% ) in 0.0202 seconds"
       ]
      },
      {
       "output_type": "stream",
       "stream": "stderr",
       "text": [
        "\r",
        "Processed 2183000 ( 87.48% ) in 0.0227 seconds"
       ]
      },
      {
       "output_type": "stream",
       "stream": "stderr",
       "text": [
        "\r",
        "Processed 2184000 ( 87.52% ) in 0.0240 seconds"
       ]
      },
      {
       "output_type": "stream",
       "stream": "stderr",
       "text": [
        "\r",
        "Processed 2185000 ( 87.56% ) in 0.0241 seconds"
       ]
      },
      {
       "output_type": "stream",
       "stream": "stderr",
       "text": [
        "\r",
        "Processed 2186000 ( 87.60% ) in 0.0194 seconds"
       ]
      },
      {
       "output_type": "stream",
       "stream": "stderr",
       "text": [
        "\r",
        "Processed 2187000 ( 87.64% ) in 0.0195 seconds"
       ]
      },
      {
       "output_type": "stream",
       "stream": "stderr",
       "text": [
        "\r",
        "Processed 2188000 ( 87.68% ) in 0.0379 seconds"
       ]
      },
      {
       "output_type": "stream",
       "stream": "stderr",
       "text": [
        "\r",
        "Processed 2189000 ( 87.72% ) in 0.0173 seconds"
       ]
      },
      {
       "output_type": "stream",
       "stream": "stderr",
       "text": [
        "\r",
        "Processed 2190000 ( 87.76% ) in 0.0152 seconds"
       ]
      },
      {
       "output_type": "stream",
       "stream": "stderr",
       "text": [
        "\r",
        "Processed 2191000 ( 87.81% ) in 0.0152 seconds"
       ]
      },
      {
       "output_type": "stream",
       "stream": "stderr",
       "text": [
        "\r",
        "Processed 2192000 ( 87.85% ) in 0.0152 seconds"
       ]
      },
      {
       "output_type": "stream",
       "stream": "stderr",
       "text": [
        "\r",
        "Processed 2193000 ( 87.89% ) in 0.0324 seconds"
       ]
      },
      {
       "output_type": "stream",
       "stream": "stderr",
       "text": [
        "\r",
        "Processed 2194000 ( 87.93% ) in 0.0234 seconds"
       ]
      },
      {
       "output_type": "stream",
       "stream": "stderr",
       "text": [
        "\r",
        "Processed 2195000 ( 87.97% ) in 0.0248 seconds"
       ]
      },
      {
       "output_type": "stream",
       "stream": "stderr",
       "text": [
        "\r",
        "Processed 2196000 ( 88.01% ) in 0.0253 seconds"
       ]
      },
      {
       "output_type": "stream",
       "stream": "stderr",
       "text": [
        "\r",
        "Processed 2197000 ( 88.05% ) in 0.0348 seconds"
       ]
      },
      {
       "output_type": "stream",
       "stream": "stderr",
       "text": [
        "\r",
        "Processed 2198000 ( 88.09% ) in 0.0196 seconds"
       ]
      },
      {
       "output_type": "stream",
       "stream": "stderr",
       "text": [
        "\r",
        "Processed 2199000 ( 88.13% ) in 0.0431 seconds"
       ]
      },
      {
       "output_type": "stream",
       "stream": "stderr",
       "text": [
        "\r",
        "Processed 2200000 ( 88.17% ) in 0.0284 seconds"
       ]
      },
      {
       "output_type": "stream",
       "stream": "stderr",
       "text": [
        "\r",
        "Processed 2201000 ( 88.21% ) in 0.0225 seconds"
       ]
      },
      {
       "output_type": "stream",
       "stream": "stderr",
       "text": [
        "\r",
        "Processed 2202000 ( 88.25% ) in 0.0308 seconds"
       ]
      },
      {
       "output_type": "stream",
       "stream": "stderr",
       "text": [
        "\r",
        "Processed 2203000 ( 88.29% ) in 0.0381 seconds"
       ]
      },
      {
       "output_type": "stream",
       "stream": "stderr",
       "text": [
        "\r",
        "Processed 2204000 ( 88.33% ) in 0.0254 seconds"
       ]
      },
      {
       "output_type": "stream",
       "stream": "stderr",
       "text": [
        "\r",
        "Processed 2205000 ( 88.37% ) in 0.0250 seconds"
       ]
      },
      {
       "output_type": "stream",
       "stream": "stderr",
       "text": [
        "\r",
        "Processed 2206000 ( 88.41% ) in 0.0159 seconds"
       ]
      },
      {
       "output_type": "stream",
       "stream": "stderr",
       "text": [
        "\r",
        "Processed 2207000 ( 88.45% ) in 0.0167 seconds"
       ]
      },
      {
       "output_type": "stream",
       "stream": "stderr",
       "text": [
        "\r",
        "Processed 2208000 ( 88.49% ) in 0.0167 seconds"
       ]
      },
      {
       "output_type": "stream",
       "stream": "stderr",
       "text": [
        "\r",
        "Processed 2209000 ( 88.53% ) in 0.0156 seconds"
       ]
      },
      {
       "output_type": "stream",
       "stream": "stderr",
       "text": [
        "\r",
        "Processed 2210000 ( 88.57% ) in 0.0159 seconds"
       ]
      },
      {
       "output_type": "stream",
       "stream": "stderr",
       "text": [
        "\r",
        "Processed 2211000 ( 88.61% ) in 0.0156 seconds"
       ]
      },
      {
       "output_type": "stream",
       "stream": "stderr",
       "text": [
        "\r",
        "Processed 2212000 ( 88.65% ) in 0.0331 seconds"
       ]
      },
      {
       "output_type": "stream",
       "stream": "stderr",
       "text": [
        "\r",
        "Processed 2213000 ( 88.69% ) in 0.0172 seconds"
       ]
      },
      {
       "output_type": "stream",
       "stream": "stderr",
       "text": [
        "\r",
        "Processed 2214000 ( 88.73% ) in 0.0176 seconds"
       ]
      },
      {
       "output_type": "stream",
       "stream": "stderr",
       "text": [
        "\r",
        "Processed 2215000 ( 88.77% ) in 0.0158 seconds"
       ]
      },
      {
       "output_type": "stream",
       "stream": "stderr",
       "text": [
        "\r",
        "Processed 2216000 ( 88.81% ) in 0.0157 seconds"
       ]
      },
      {
       "output_type": "stream",
       "stream": "stderr",
       "text": [
        "\r",
        "Processed 2217000 ( 88.85% ) in 0.0179 seconds"
       ]
      },
      {
       "output_type": "stream",
       "stream": "stderr",
       "text": [
        "\r",
        "Processed 2218000 ( 88.89% ) in 0.0214 seconds"
       ]
      },
      {
       "output_type": "stream",
       "stream": "stderr",
       "text": [
        "\r",
        "Processed 2219000 ( 88.93% ) in 0.0204 seconds"
       ]
      },
      {
       "output_type": "stream",
       "stream": "stderr",
       "text": [
        "\r",
        "Processed 2220000 ( 88.97% ) in 0.0182 seconds"
       ]
      },
      {
       "output_type": "stream",
       "stream": "stderr",
       "text": [
        "\r",
        "Processed 2221000 ( 89.01% ) in 0.0184 seconds"
       ]
      },
      {
       "output_type": "stream",
       "stream": "stderr",
       "text": [
        "\r",
        "Processed 2222000 ( 89.05% ) in 0.0197 seconds"
       ]
      },
      {
       "output_type": "stream",
       "stream": "stderr",
       "text": [
        "\r",
        "Processed 2223000 ( 89.09% ) in 0.0185 seconds"
       ]
      },
      {
       "output_type": "stream",
       "stream": "stderr",
       "text": [
        "\r",
        "Processed 2224000 ( 89.13% ) in 0.0182 seconds"
       ]
      },
      {
       "output_type": "stream",
       "stream": "stderr",
       "text": [
        "\r",
        "Processed 2225000 ( 89.17% ) in 0.0340 seconds"
       ]
      },
      {
       "output_type": "stream",
       "stream": "stderr",
       "text": [
        "\r",
        "Processed 2226000 ( 89.21% ) in 0.0267 seconds"
       ]
      },
      {
       "output_type": "stream",
       "stream": "stderr",
       "text": [
        "\r",
        "Processed 2227000 ( 89.25% ) in 0.0160 seconds"
       ]
      },
      {
       "output_type": "stream",
       "stream": "stderr",
       "text": [
        "\r",
        "Processed 2228000 ( 89.29% ) in 0.0157 seconds"
       ]
      },
      {
       "output_type": "stream",
       "stream": "stderr",
       "text": [
        "\r",
        "Processed 2229000 ( 89.33% ) in 0.0282 seconds"
       ]
      },
      {
       "output_type": "stream",
       "stream": "stderr",
       "text": [
        "\r",
        "Processed 2230000 ( 89.37% ) in 0.0156 seconds"
       ]
      },
      {
       "output_type": "stream",
       "stream": "stderr",
       "text": [
        "\r",
        "Processed 2231000 ( 89.41% ) in 0.0156 seconds"
       ]
      },
      {
       "output_type": "stream",
       "stream": "stderr",
       "text": [
        "\r",
        "Processed 2232000 ( 89.45% ) in 0.0155 seconds"
       ]
      },
      {
       "output_type": "stream",
       "stream": "stderr",
       "text": [
        "\r",
        "Processed 2233000 ( 89.49% ) in 0.0156 seconds"
       ]
      },
      {
       "output_type": "stream",
       "stream": "stderr",
       "text": [
        "\r",
        "Processed 2234000 ( 89.53% ) in 0.0155 seconds"
       ]
      },
      {
       "output_type": "stream",
       "stream": "stderr",
       "text": [
        "\r",
        "Processed 2235000 ( 89.57% ) in 0.0155 seconds"
       ]
      },
      {
       "output_type": "stream",
       "stream": "stderr",
       "text": [
        "\r",
        "Processed 2236000 ( 89.61% ) in 0.0155 seconds"
       ]
      },
      {
       "output_type": "stream",
       "stream": "stderr",
       "text": [
        "\r",
        "Processed 2237000 ( 89.65% ) in 0.0177 seconds"
       ]
      },
      {
       "output_type": "stream",
       "stream": "stderr",
       "text": [
        "\r",
        "Processed 2238000 ( 89.69% ) in 0.0154 seconds"
       ]
      },
      {
       "output_type": "stream",
       "stream": "stderr",
       "text": [
        "\r",
        "Processed 2239000 ( 89.73% ) in 0.0440 seconds"
       ]
      },
      {
       "output_type": "stream",
       "stream": "stderr",
       "text": [
        "\r",
        "Processed 2240000 ( 89.77% ) in 0.0241 seconds"
       ]
      },
      {
       "output_type": "stream",
       "stream": "stderr",
       "text": [
        "\r",
        "Processed 2241000 ( 89.81% ) in 0.0279 seconds"
       ]
      },
      {
       "output_type": "stream",
       "stream": "stderr",
       "text": [
        "\r",
        "Processed 2242000 ( 89.85% ) in 0.0237 seconds"
       ]
      },
      {
       "output_type": "stream",
       "stream": "stderr",
       "text": [
        "\r",
        "Processed 2243000 ( 89.89% ) in 0.0244 seconds"
       ]
      },
      {
       "output_type": "stream",
       "stream": "stderr",
       "text": [
        "\r",
        "Processed 2244000 ( 89.93% ) in 0.0282 seconds"
       ]
      },
      {
       "output_type": "stream",
       "stream": "stderr",
       "text": [
        "\r",
        "Processed 2245000 ( 89.97% ) in 0.0184 seconds"
       ]
      },
      {
       "output_type": "stream",
       "stream": "stderr",
       "text": [
        "\r",
        "Processed 2246000 ( 90.01% ) in 0.0157 seconds"
       ]
      },
      {
       "output_type": "stream",
       "stream": "stderr",
       "text": [
        "\r",
        "Processed 2247000 ( 90.05% ) in 0.0155 seconds"
       ]
      },
      {
       "output_type": "stream",
       "stream": "stderr",
       "text": [
        "\r",
        "Processed 2248000 ( 90.09% ) in 0.0155 seconds"
       ]
      },
      {
       "output_type": "stream",
       "stream": "stderr",
       "text": [
        "\r",
        "Processed 2249000 ( 90.13% ) in 0.0155 seconds"
       ]
      },
      {
       "output_type": "stream",
       "stream": "stderr",
       "text": [
        "\r",
        "Processed 2250000 ( 90.17% ) in 0.0157 seconds"
       ]
      },
      {
       "output_type": "stream",
       "stream": "stderr",
       "text": [
        "\r",
        "Processed 2251000 ( 90.21% ) in 0.0154 seconds"
       ]
      },
      {
       "output_type": "stream",
       "stream": "stderr",
       "text": [
        "\r",
        "Processed 2252000 ( 90.25% ) in 0.0352 seconds"
       ]
      },
      {
       "output_type": "stream",
       "stream": "stderr",
       "text": [
        "\r",
        "Processed 2253000 ( 90.29% ) in 0.0197 seconds"
       ]
      },
      {
       "output_type": "stream",
       "stream": "stderr",
       "text": [
        "\r",
        "Processed 2254000 ( 90.33% ) in 0.0178 seconds"
       ]
      },
      {
       "output_type": "stream",
       "stream": "stderr",
       "text": [
        "\r",
        "Processed 2255000 ( 90.37% ) in 0.0197 seconds"
       ]
      },
      {
       "output_type": "stream",
       "stream": "stderr",
       "text": [
        "\r",
        "Processed 2256000 ( 90.41% ) in 0.0154 seconds"
       ]
      },
      {
       "output_type": "stream",
       "stream": "stderr",
       "text": [
        "\r",
        "Processed 2257000 ( 90.45% ) in 0.0438 seconds"
       ]
      },
      {
       "output_type": "stream",
       "stream": "stderr",
       "text": [
        "\r",
        "Processed 2258000 ( 90.49% ) in 0.0161 seconds"
       ]
      },
      {
       "output_type": "stream",
       "stream": "stderr",
       "text": [
        "\r",
        "Processed 2259000 ( 90.53% ) in 0.0158 seconds"
       ]
      },
      {
       "output_type": "stream",
       "stream": "stderr",
       "text": [
        "\r",
        "Processed 2260000 ( 90.57% ) in 0.0171 seconds"
       ]
      },
      {
       "output_type": "stream",
       "stream": "stderr",
       "text": [
        "\r",
        "Processed 2261000 ( 90.61% ) in 0.0155 seconds"
       ]
      },
      {
       "output_type": "stream",
       "stream": "stderr",
       "text": [
        "\r",
        "Processed 2262000 ( 90.65% ) in 0.0154 seconds"
       ]
      },
      {
       "output_type": "stream",
       "stream": "stderr",
       "text": [
        "\r",
        "Processed 2263000 ( 90.69% ) in 0.0154 seconds"
       ]
      },
      {
       "output_type": "stream",
       "stream": "stderr",
       "text": [
        "\r",
        "Processed 2264000 ( 90.73% ) in 0.0319 seconds"
       ]
      },
      {
       "output_type": "stream",
       "stream": "stderr",
       "text": [
        "\r",
        "Processed 2265000 ( 90.77% ) in 0.0176 seconds"
       ]
      },
      {
       "output_type": "stream",
       "stream": "stderr",
       "text": [
        "\r",
        "Processed 2266000 ( 90.81% ) in 0.0155 seconds"
       ]
      },
      {
       "output_type": "stream",
       "stream": "stderr",
       "text": [
        "\r",
        "Processed 2267000 ( 90.85% ) in 0.0157 seconds"
       ]
      },
      {
       "output_type": "stream",
       "stream": "stderr",
       "text": [
        "\r",
        "Processed 2268000 ( 90.89% ) in 0.0281 seconds"
       ]
      },
      {
       "output_type": "stream",
       "stream": "stderr",
       "text": [
        "\r",
        "Processed 2269000 ( 90.93% ) in 0.0176 seconds"
       ]
      },
      {
       "output_type": "stream",
       "stream": "stderr",
       "text": [
        "\r",
        "Processed 2270000 ( 90.97% ) in 0.0176 seconds"
       ]
      },
      {
       "output_type": "stream",
       "stream": "stderr",
       "text": [
        "\r",
        "Processed 2271000 ( 91.01% ) in 0.0180 seconds"
       ]
      },
      {
       "output_type": "stream",
       "stream": "stderr",
       "text": [
        "\r",
        "Processed 2272000 ( 91.05% ) in 0.0180 seconds"
       ]
      },
      {
       "output_type": "stream",
       "stream": "stderr",
       "text": [
        "\r",
        "Processed 2273000 ( 91.09% ) in 0.0184 seconds"
       ]
      },
      {
       "output_type": "stream",
       "stream": "stderr",
       "text": [
        "\r",
        "Processed 2274000 ( 91.13% ) in 0.0183 seconds"
       ]
      },
      {
       "output_type": "stream",
       "stream": "stderr",
       "text": [
        "\r",
        "Processed 2275000 ( 91.17% ) in 0.0196 seconds"
       ]
      },
      {
       "output_type": "stream",
       "stream": "stderr",
       "text": [
        "\r",
        "Processed 2276000 ( 91.21% ) in 0.0184 seconds"
       ]
      },
      {
       "output_type": "stream",
       "stream": "stderr",
       "text": [
        "\r",
        "Processed 2277000 ( 91.25% ) in 0.0181 seconds"
       ]
      },
      {
       "output_type": "stream",
       "stream": "stderr",
       "text": [
        "\r",
        "Processed 2278000 ( 91.29% ) in 0.0232 seconds"
       ]
      },
      {
       "output_type": "stream",
       "stream": "stderr",
       "text": [
        "\r",
        "Processed 2279000 ( 91.33% ) in 0.0163 seconds"
       ]
      },
      {
       "output_type": "stream",
       "stream": "stderr",
       "text": [
        "\r",
        "Processed 2280000 ( 91.37% ) in 0.0155 seconds"
       ]
      },
      {
       "output_type": "stream",
       "stream": "stderr",
       "text": [
        "\r",
        "Processed 2281000 ( 91.41% ) in 0.0411 seconds"
       ]
      },
      {
       "output_type": "stream",
       "stream": "stderr",
       "text": [
        "\r",
        "Processed 2282000 ( 91.45% ) in 0.0158 seconds"
       ]
      },
      {
       "output_type": "stream",
       "stream": "stderr",
       "text": [
        "\r",
        "Processed 2283000 ( 91.49% ) in 0.0156 seconds"
       ]
      },
      {
       "output_type": "stream",
       "stream": "stderr",
       "text": [
        "\r",
        "Processed 2284000 ( 91.53% ) in 0.0165 seconds"
       ]
      },
      {
       "output_type": "stream",
       "stream": "stderr",
       "text": [
        "\r",
        "Processed 2285000 ( 91.57% ) in 0.0155 seconds"
       ]
      },
      {
       "output_type": "stream",
       "stream": "stderr",
       "text": [
        "\r",
        "Processed 2286000 ( 91.61% ) in 0.0157 seconds"
       ]
      },
      {
       "output_type": "stream",
       "stream": "stderr",
       "text": [
        "\r",
        "Processed 2287000 ( 91.65% ) in 0.0156 seconds"
       ]
      },
      {
       "output_type": "stream",
       "stream": "stderr",
       "text": [
        "\r",
        "Processed 2288000 ( 91.69% ) in 0.0180 seconds"
       ]
      },
      {
       "output_type": "stream",
       "stream": "stderr",
       "text": [
        "\r",
        "Processed 2289000 ( 91.73% ) in 0.0315 seconds"
       ]
      },
      {
       "output_type": "stream",
       "stream": "stderr",
       "text": [
        "\r",
        "Processed 2290000 ( 91.77% ) in 0.0389 seconds"
       ]
      },
      {
       "output_type": "stream",
       "stream": "stderr",
       "text": [
        "\r",
        "Processed 2291000 ( 91.81% ) in 0.0333 seconds"
       ]
      },
      {
       "output_type": "stream",
       "stream": "stderr",
       "text": [
        "\r",
        "Processed 2292000 ( 91.85% ) in 0.0441 seconds"
       ]
      },
      {
       "output_type": "stream",
       "stream": "stderr",
       "text": [
        "\r",
        "Processed 2293000 ( 91.89% ) in 0.0316 seconds"
       ]
      },
      {
       "output_type": "stream",
       "stream": "stderr",
       "text": [
        "\r",
        "Processed 2294000 ( 91.93% ) in 0.0365 seconds"
       ]
      },
      {
       "output_type": "stream",
       "stream": "stderr",
       "text": [
        "\r",
        "Processed 2295000 ( 91.97% ) in 0.0405 seconds"
       ]
      },
      {
       "output_type": "stream",
       "stream": "stderr",
       "text": [
        "\r",
        "Processed 2296000 ( 92.01% ) in 0.0219 seconds"
       ]
      },
      {
       "output_type": "stream",
       "stream": "stderr",
       "text": [
        "\r",
        "Processed 2297000 ( 92.05% ) in 0.0402 seconds"
       ]
      },
      {
       "output_type": "stream",
       "stream": "stderr",
       "text": [
        "\r",
        "Processed 2298000 ( 92.09% ) in 0.0278 seconds"
       ]
      },
      {
       "output_type": "stream",
       "stream": "stderr",
       "text": [
        "\r",
        "Processed 2299000 ( 92.13% ) in 0.0238 seconds"
       ]
      },
      {
       "output_type": "stream",
       "stream": "stderr",
       "text": [
        "\r",
        "Processed 2300000 ( 92.17% ) in 0.0165 seconds"
       ]
      },
      {
       "output_type": "stream",
       "stream": "stderr",
       "text": [
        "\r",
        "Processed 2301000 ( 92.21% ) in 0.0160 seconds"
       ]
      },
      {
       "output_type": "stream",
       "stream": "stderr",
       "text": [
        "\r",
        "Processed 2302000 ( 92.25% ) in 0.0164 seconds"
       ]
      },
      {
       "output_type": "stream",
       "stream": "stderr",
       "text": [
        "\r",
        "Processed 2303000 ( 92.29% ) in 0.0163 seconds"
       ]
      },
      {
       "output_type": "stream",
       "stream": "stderr",
       "text": [
        "\r",
        "Processed 2304000 ( 92.33% ) in 0.0160 seconds"
       ]
      },
      {
       "output_type": "stream",
       "stream": "stderr",
       "text": [
        "\r",
        "Processed 2305000 ( 92.37% ) in 0.0165 seconds"
       ]
      },
      {
       "output_type": "stream",
       "stream": "stderr",
       "text": [
        "\r",
        "Processed 2306000 ( 92.41% ) in 0.0401 seconds"
       ]
      },
      {
       "output_type": "stream",
       "stream": "stderr",
       "text": [
        "\r",
        "Processed 2307000 ( 92.45% ) in 0.0172 seconds"
       ]
      },
      {
       "output_type": "stream",
       "stream": "stderr",
       "text": [
        "\r",
        "Processed 2308000 ( 92.49% ) in 0.0161 seconds"
       ]
      },
      {
       "output_type": "stream",
       "stream": "stderr",
       "text": [
        "\r",
        "Processed 2309000 ( 92.53% ) in 0.0365 seconds"
       ]
      },
      {
       "output_type": "stream",
       "stream": "stderr",
       "text": [
        "\r",
        "Processed 2310000 ( 92.57% ) in 0.0163 seconds"
       ]
      },
      {
       "output_type": "stream",
       "stream": "stderr",
       "text": [
        "\r",
        "Processed 2311000 ( 92.61% ) in 0.0165 seconds"
       ]
      },
      {
       "output_type": "stream",
       "stream": "stderr",
       "text": [
        "\r",
        "Processed 2312000 ( 92.65% ) in 0.0179 seconds"
       ]
      },
      {
       "output_type": "stream",
       "stream": "stderr",
       "text": [
        "\r",
        "Processed 2313000 ( 92.69% ) in 0.0162 seconds"
       ]
      },
      {
       "output_type": "stream",
       "stream": "stderr",
       "text": [
        "\r",
        "Processed 2314000 ( 92.73% ) in 0.0396 seconds"
       ]
      },
      {
       "output_type": "stream",
       "stream": "stderr",
       "text": [
        "\r",
        "Processed 2315000 ( 92.77% ) in 0.0173 seconds"
       ]
      },
      {
       "output_type": "stream",
       "stream": "stderr",
       "text": [
        "\r",
        "Processed 2316000 ( 92.81% ) in 0.0161 seconds"
       ]
      },
      {
       "output_type": "stream",
       "stream": "stderr",
       "text": [
        "\r",
        "Processed 2317000 ( 92.85% ) in 0.0301 seconds"
       ]
      },
      {
       "output_type": "stream",
       "stream": "stderr",
       "text": [
        "\r",
        "Processed 2318000 ( 92.89% ) in 0.0439 seconds"
       ]
      },
      {
       "output_type": "stream",
       "stream": "stderr",
       "text": [
        "\r",
        "Processed 2319000 ( 92.93% ) in 0.0394 seconds"
       ]
      },
      {
       "output_type": "stream",
       "stream": "stderr",
       "text": [
        "\r",
        "Processed 2320000 ( 92.97% ) in 0.0320 seconds"
       ]
      },
      {
       "output_type": "stream",
       "stream": "stderr",
       "text": [
        "\r",
        "Processed 2321000 ( 93.01% ) in 0.0354 seconds"
       ]
      },
      {
       "output_type": "stream",
       "stream": "stderr",
       "text": [
        "\r",
        "Processed 2322000 ( 93.05% ) in 0.0360 seconds"
       ]
      },
      {
       "output_type": "stream",
       "stream": "stderr",
       "text": [
        "\r",
        "Processed 2323000 ( 93.10% ) in 0.0309 seconds"
       ]
      },
      {
       "output_type": "stream",
       "stream": "stderr",
       "text": [
        "\r",
        "Processed 2324000 ( 93.14% ) in 0.0167 seconds"
       ]
      },
      {
       "output_type": "stream",
       "stream": "stderr",
       "text": [
        "\r",
        "Processed 2325000 ( 93.18% ) in 0.0340 seconds"
       ]
      },
      {
       "output_type": "stream",
       "stream": "stderr",
       "text": [
        "\r",
        "Processed 2326000 ( 93.22% ) in 0.0165 seconds"
       ]
      },
      {
       "output_type": "stream",
       "stream": "stderr",
       "text": [
        "\r",
        "Processed 2327000 ( 93.26% ) in 0.0165 seconds"
       ]
      },
      {
       "output_type": "stream",
       "stream": "stderr",
       "text": [
        "\r",
        "Processed 2328000 ( 93.30% ) in 0.0163 seconds"
       ]
      },
      {
       "output_type": "stream",
       "stream": "stderr",
       "text": [
        "\r",
        "Processed 2329000 ( 93.34% ) in 0.0164 seconds"
       ]
      },
      {
       "output_type": "stream",
       "stream": "stderr",
       "text": [
        "\r",
        "Processed 2330000 ( 93.38% ) in 0.0183 seconds"
       ]
      },
      {
       "output_type": "stream",
       "stream": "stderr",
       "text": [
        "\r",
        "Processed 2331000 ( 93.42% ) in 0.0161 seconds"
       ]
      },
      {
       "output_type": "stream",
       "stream": "stderr",
       "text": [
        "\r",
        "Processed 2332000 ( 93.46% ) in 0.0362 seconds"
       ]
      },
      {
       "output_type": "stream",
       "stream": "stderr",
       "text": [
        "\r",
        "Processed 2333000 ( 93.50% ) in 0.0382 seconds"
       ]
      },
      {
       "output_type": "stream",
       "stream": "stderr",
       "text": [
        "\r",
        "Processed 2334000 ( 93.54% ) in 0.0329 seconds"
       ]
      },
      {
       "output_type": "stream",
       "stream": "stderr",
       "text": [
        "\r",
        "Processed 2335000 ( 93.58% ) in 0.0246 seconds"
       ]
      },
      {
       "output_type": "stream",
       "stream": "stderr",
       "text": [
        "\r",
        "Processed 2336000 ( 93.62% ) in 0.0352 seconds"
       ]
      },
      {
       "output_type": "stream",
       "stream": "stderr",
       "text": [
        "\r",
        "Processed 2337000 ( 93.66% ) in 0.0303 seconds"
       ]
      },
      {
       "output_type": "stream",
       "stream": "stderr",
       "text": [
        "\r",
        "Processed 2338000 ( 93.70% ) in 0.0230 seconds"
       ]
      },
      {
       "output_type": "stream",
       "stream": "stderr",
       "text": [
        "\r",
        "Processed 2339000 ( 93.74% ) in 0.0253 seconds"
       ]
      },
      {
       "output_type": "stream",
       "stream": "stderr",
       "text": [
        "\r",
        "Processed 2340000 ( 93.78% ) in 0.0166 seconds"
       ]
      },
      {
       "output_type": "stream",
       "stream": "stderr",
       "text": [
        "\r",
        "Processed 2341000 ( 93.82% ) in 0.0151 seconds"
       ]
      },
      {
       "output_type": "stream",
       "stream": "stderr",
       "text": [
        "\r",
        "Processed 2342000 ( 93.86% ) in 0.0153 seconds"
       ]
      },
      {
       "output_type": "stream",
       "stream": "stderr",
       "text": [
        "\r",
        "Processed 2343000 ( 93.90% ) in 0.0149 seconds"
       ]
      },
      {
       "output_type": "stream",
       "stream": "stderr",
       "text": [
        "\r",
        "Processed 2344000 ( 93.94% ) in 0.0150 seconds"
       ]
      },
      {
       "output_type": "stream",
       "stream": "stderr",
       "text": [
        "\r",
        "Processed 2345000 ( 93.98% ) in 0.0150 seconds"
       ]
      },
      {
       "output_type": "stream",
       "stream": "stderr",
       "text": [
        "\r",
        "Processed 2346000 ( 94.02% ) in 0.0152 seconds"
       ]
      },
      {
       "output_type": "stream",
       "stream": "stderr",
       "text": [
        "\r",
        "Processed 2347000 ( 94.06% ) in 0.0153 seconds"
       ]
      },
      {
       "output_type": "stream",
       "stream": "stderr",
       "text": [
        "\r",
        "Processed 2348000 ( 94.10% ) in 0.0151 seconds"
       ]
      },
      {
       "output_type": "stream",
       "stream": "stderr",
       "text": [
        "\r",
        "Processed 2349000 ( 94.14% ) in 0.0150 seconds"
       ]
      },
      {
       "output_type": "stream",
       "stream": "stderr",
       "text": [
        "\r",
        "Processed 2350000 ( 94.18% ) in 0.0152 seconds"
       ]
      },
      {
       "output_type": "stream",
       "stream": "stderr",
       "text": [
        "\r",
        "Processed 2351000 ( 94.22% ) in 0.0294 seconds"
       ]
      },
      {
       "output_type": "stream",
       "stream": "stderr",
       "text": [
        "\r",
        "Processed 2352000 ( 94.26% ) in 0.0152 seconds"
       ]
      },
      {
       "output_type": "stream",
       "stream": "stderr",
       "text": [
        "\r",
        "Processed 2353000 ( 94.30% ) in 0.0450 seconds"
       ]
      },
      {
       "output_type": "stream",
       "stream": "stderr",
       "text": [
        "\r",
        "Processed 2354000 ( 94.34% ) in 0.0285 seconds"
       ]
      },
      {
       "output_type": "stream",
       "stream": "stderr",
       "text": [
        "\r",
        "Processed 2355000 ( 94.38% ) in 0.0230 seconds"
       ]
      },
      {
       "output_type": "stream",
       "stream": "stderr",
       "text": [
        "\r",
        "Processed 2356000 ( 94.42% ) in 0.0196 seconds"
       ]
      },
      {
       "output_type": "stream",
       "stream": "stderr",
       "text": [
        "\r",
        "Processed 2357000 ( 94.46% ) in 0.0203 seconds"
       ]
      },
      {
       "output_type": "stream",
       "stream": "stderr",
       "text": [
        "\r",
        "Processed 2358000 ( 94.50% ) in 0.0203 seconds"
       ]
      },
      {
       "output_type": "stream",
       "stream": "stderr",
       "text": [
        "\r",
        "Processed 2359000 ( 94.54% ) in 0.0182 seconds"
       ]
      },
      {
       "output_type": "stream",
       "stream": "stderr",
       "text": [
        "\r",
        "Processed 2360000 ( 94.58% ) in 0.0157 seconds"
       ]
      },
      {
       "output_type": "stream",
       "stream": "stderr",
       "text": [
        "\r",
        "Processed 2361000 ( 94.62% ) in 0.0153 seconds"
       ]
      },
      {
       "output_type": "stream",
       "stream": "stderr",
       "text": [
        "\r",
        "Processed 2362000 ( 94.66% ) in 0.0151 seconds"
       ]
      },
      {
       "output_type": "stream",
       "stream": "stderr",
       "text": [
        "\r",
        "Processed 2363000 ( 94.70% ) in 0.0153 seconds"
       ]
      },
      {
       "output_type": "stream",
       "stream": "stderr",
       "text": [
        "\r",
        "Processed 2364000 ( 94.74% ) in 0.0152 seconds"
       ]
      },
      {
       "output_type": "stream",
       "stream": "stderr",
       "text": [
        "\r",
        "Processed 2365000 ( 94.78% ) in 0.0152 seconds"
       ]
      },
      {
       "output_type": "stream",
       "stream": "stderr",
       "text": [
        "\r",
        "Processed 2366000 ( 94.82% ) in 0.0155 seconds"
       ]
      },
      {
       "output_type": "stream",
       "stream": "stderr",
       "text": [
        "\r",
        "Processed 2367000 ( 94.86% ) in 0.0154 seconds"
       ]
      },
      {
       "output_type": "stream",
       "stream": "stderr",
       "text": [
        "\r",
        "Processed 2368000 ( 94.90% ) in 0.0151 seconds"
       ]
      },
      {
       "output_type": "stream",
       "stream": "stderr",
       "text": [
        "\r",
        "Processed 2369000 ( 94.94% ) in 0.0152 seconds"
       ]
      },
      {
       "output_type": "stream",
       "stream": "stderr",
       "text": [
        "\r",
        "Processed 2370000 ( 94.98% ) in 0.0151 seconds"
       ]
      },
      {
       "output_type": "stream",
       "stream": "stderr",
       "text": [
        "\r",
        "Processed 2371000 ( 95.02% ) in 0.0152 seconds"
       ]
      },
      {
       "output_type": "stream",
       "stream": "stderr",
       "text": [
        "\r",
        "Processed 2372000 ( 95.06% ) in 0.0155 seconds"
       ]
      },
      {
       "output_type": "stream",
       "stream": "stderr",
       "text": [
        "\r",
        "Processed 2373000 ( 95.10% ) in 0.0155 seconds"
       ]
      },
      {
       "output_type": "stream",
       "stream": "stderr",
       "text": [
        "\r",
        "Processed 2374000 ( 95.14% ) in 0.0347 seconds"
       ]
      },
      {
       "output_type": "stream",
       "stream": "stderr",
       "text": [
        "\r",
        "Processed 2375000 ( 95.18% ) in 0.0445 seconds"
       ]
      },
      {
       "output_type": "stream",
       "stream": "stderr",
       "text": [
        "\r",
        "Processed 2376000 ( 95.22% ) in 0.0360 seconds"
       ]
      },
      {
       "output_type": "stream",
       "stream": "stderr",
       "text": [
        "\r",
        "Processed 2377000 ( 95.26% ) in 0.0360 seconds"
       ]
      },
      {
       "output_type": "stream",
       "stream": "stderr",
       "text": [
        "\r",
        "Processed 2378000 ( 95.30% ) in 0.0179 seconds"
       ]
      },
      {
       "output_type": "stream",
       "stream": "stderr",
       "text": [
        "\r",
        "Processed 2379000 ( 95.34% ) in 0.0402 seconds"
       ]
      },
      {
       "output_type": "stream",
       "stream": "stderr",
       "text": [
        "\r",
        "Processed 2380000 ( 95.38% ) in 0.0339 seconds"
       ]
      },
      {
       "output_type": "stream",
       "stream": "stderr",
       "text": [
        "\r",
        "Processed 2381000 ( 95.42% ) in 0.0263 seconds"
       ]
      },
      {
       "output_type": "stream",
       "stream": "stderr",
       "text": [
        "\r",
        "Processed 2382000 ( 95.46% ) in 0.0161 seconds"
       ]
      },
      {
       "output_type": "stream",
       "stream": "stderr",
       "text": [
        "\r",
        "Processed 2383000 ( 95.50% ) in 0.0541 seconds"
       ]
      },
      {
       "output_type": "stream",
       "stream": "stderr",
       "text": [
        "\r",
        "Processed 2384000 ( 95.54% ) in 0.0346 seconds"
       ]
      },
      {
       "output_type": "stream",
       "stream": "stderr",
       "text": [
        "\r",
        "Processed 2385000 ( 95.58% ) in 0.0389 seconds"
       ]
      },
      {
       "output_type": "stream",
       "stream": "stderr",
       "text": [
        "\r",
        "Processed 2386000 ( 95.62% ) in 0.0299 seconds"
       ]
      },
      {
       "output_type": "stream",
       "stream": "stderr",
       "text": [
        "\r",
        "Processed 2387000 ( 95.66% ) in 0.0280 seconds"
       ]
      },
      {
       "output_type": "stream",
       "stream": "stderr",
       "text": [
        "\r",
        "Processed 2388000 ( 95.70% ) in 0.0239 seconds"
       ]
      },
      {
       "output_type": "stream",
       "stream": "stderr",
       "text": [
        "\r",
        "Processed 2389000 ( 95.74% ) in 0.0164 seconds"
       ]
      },
      {
       "output_type": "stream",
       "stream": "stderr",
       "text": [
        "\r",
        "Processed 2390000 ( 95.78% ) in 0.0150 seconds"
       ]
      },
      {
       "output_type": "stream",
       "stream": "stderr",
       "text": [
        "\r",
        "Processed 2391000 ( 95.82% ) in 0.0152 seconds"
       ]
      },
      {
       "output_type": "stream",
       "stream": "stderr",
       "text": [
        "\r",
        "Processed 2392000 ( 95.86% ) in 0.0151 seconds"
       ]
      },
      {
       "output_type": "stream",
       "stream": "stderr",
       "text": [
        "\r",
        "Processed 2393000 ( 95.90% ) in 0.0149 seconds"
       ]
      },
      {
       "output_type": "stream",
       "stream": "stderr",
       "text": [
        "\r",
        "Processed 2394000 ( 95.94% ) in 0.0149 seconds"
       ]
      },
      {
       "output_type": "stream",
       "stream": "stderr",
       "text": [
        "\r",
        "Processed 2395000 ( 95.98% ) in 0.0152 seconds"
       ]
      },
      {
       "output_type": "stream",
       "stream": "stderr",
       "text": [
        "\r",
        "Processed 2396000 ( 96.02% ) in 0.0153 seconds"
       ]
      },
      {
       "output_type": "stream",
       "stream": "stderr",
       "text": [
        "\r",
        "Processed 2397000 ( 96.06% ) in 0.0151 seconds"
       ]
      },
      {
       "output_type": "stream",
       "stream": "stderr",
       "text": [
        "\r",
        "Processed 2398000 ( 96.10% ) in 0.0206 seconds"
       ]
      },
      {
       "output_type": "stream",
       "stream": "stderr",
       "text": [
        "\r",
        "Processed 2399000 ( 96.14% ) in 0.0152 seconds"
       ]
      },
      {
       "output_type": "stream",
       "stream": "stderr",
       "text": [
        "\r",
        "Processed 2400000 ( 96.18% ) in 0.0151 seconds"
       ]
      },
      {
       "output_type": "stream",
       "stream": "stderr",
       "text": [
        "\r",
        "Processed 2401000 ( 96.22% ) in 0.0150 seconds"
       ]
      },
      {
       "output_type": "stream",
       "stream": "stderr",
       "text": [
        "\r",
        "Processed 2402000 ( 96.26% ) in 0.0151 seconds"
       ]
      },
      {
       "output_type": "stream",
       "stream": "stderr",
       "text": [
        "\r",
        "Processed 2403000 ( 96.30% ) in 0.0150 seconds"
       ]
      },
      {
       "output_type": "stream",
       "stream": "stderr",
       "text": [
        "\r",
        "Processed 2404000 ( 96.34% ) in 0.0150 seconds"
       ]
      },
      {
       "output_type": "stream",
       "stream": "stderr",
       "text": [
        "\r",
        "Processed 2405000 ( 96.38% ) in 0.0150 seconds"
       ]
      },
      {
       "output_type": "stream",
       "stream": "stderr",
       "text": [
        "\r",
        "Processed 2406000 ( 96.42% ) in 0.0152 seconds"
       ]
      },
      {
       "output_type": "stream",
       "stream": "stderr",
       "text": [
        "\r",
        "Processed 2407000 ( 96.46% ) in 0.0150 seconds"
       ]
      },
      {
       "output_type": "stream",
       "stream": "stderr",
       "text": [
        "\r",
        "Processed 2408000 ( 96.50% ) in 0.0153 seconds"
       ]
      },
      {
       "output_type": "stream",
       "stream": "stderr",
       "text": [
        "\r",
        "Processed 2409000 ( 96.54% ) in 0.0170 seconds"
       ]
      },
      {
       "output_type": "stream",
       "stream": "stderr",
       "text": [
        "\r",
        "Processed 2410000 ( 96.58% ) in 0.0153 seconds"
       ]
      },
      {
       "output_type": "stream",
       "stream": "stderr",
       "text": [
        "\r",
        "Processed 2411000 ( 96.62% ) in 0.0152 seconds"
       ]
      },
      {
       "output_type": "stream",
       "stream": "stderr",
       "text": [
        "\r",
        "Processed 2412000 ( 96.66% ) in 0.0151 seconds"
       ]
      },
      {
       "output_type": "stream",
       "stream": "stderr",
       "text": [
        "\r",
        "Processed 2413000 ( 96.70% ) in 0.0150 seconds"
       ]
      },
      {
       "output_type": "stream",
       "stream": "stderr",
       "text": [
        "\r",
        "Processed 2414000 ( 96.74% ) in 0.0149 seconds"
       ]
      },
      {
       "output_type": "stream",
       "stream": "stderr",
       "text": [
        "\r",
        "Processed 2415000 ( 96.78% ) in 0.0152 seconds"
       ]
      },
      {
       "output_type": "stream",
       "stream": "stderr",
       "text": [
        "\r",
        "Processed 2416000 ( 96.82% ) in 0.0152 seconds"
       ]
      },
      {
       "output_type": "stream",
       "stream": "stderr",
       "text": [
        "\r",
        "Processed 2417000 ( 96.86% ) in 0.0150 seconds"
       ]
      },
      {
       "output_type": "stream",
       "stream": "stderr",
       "text": [
        "\r",
        "Processed 2418000 ( 96.90% ) in 0.0150 seconds"
       ]
      },
      {
       "output_type": "stream",
       "stream": "stderr",
       "text": [
        "\r",
        "Processed 2419000 ( 96.94% ) in 0.0151 seconds"
       ]
      },
      {
       "output_type": "stream",
       "stream": "stderr",
       "text": [
        "\r",
        "Processed 2420000 ( 96.98% ) in 0.0157 seconds"
       ]
      },
      {
       "output_type": "stream",
       "stream": "stderr",
       "text": [
        "\r",
        "Processed 2421000 ( 97.02% ) in 0.0152 seconds"
       ]
      },
      {
       "output_type": "stream",
       "stream": "stderr",
       "text": [
        "\r",
        "Processed 2422000 ( 97.06% ) in 0.0150 seconds"
       ]
      },
      {
       "output_type": "stream",
       "stream": "stderr",
       "text": [
        "\r",
        "Processed 2423000 ( 97.10% ) in 0.0150 seconds"
       ]
      },
      {
       "output_type": "stream",
       "stream": "stderr",
       "text": [
        "\r",
        "Processed 2424000 ( 97.14% ) in 0.0153 seconds"
       ]
      },
      {
       "output_type": "stream",
       "stream": "stderr",
       "text": [
        "\r",
        "Processed 2425000 ( 97.18% ) in 0.0149 seconds"
       ]
      },
      {
       "output_type": "stream",
       "stream": "stderr",
       "text": [
        "\r",
        "Processed 2426000 ( 97.22% ) in 0.0151 seconds"
       ]
      },
      {
       "output_type": "stream",
       "stream": "stderr",
       "text": [
        "\r",
        "Processed 2427000 ( 97.26% ) in 0.0150 seconds"
       ]
      },
      {
       "output_type": "stream",
       "stream": "stderr",
       "text": [
        "\r",
        "Processed 2428000 ( 97.30% ) in 0.0151 seconds"
       ]
      },
      {
       "output_type": "stream",
       "stream": "stderr",
       "text": [
        "\r",
        "Processed 2429000 ( 97.34% ) in 0.0240 seconds"
       ]
      },
      {
       "output_type": "stream",
       "stream": "stderr",
       "text": [
        "\r",
        "Processed 2430000 ( 97.38% ) in 0.0201 seconds"
       ]
      },
      {
       "output_type": "stream",
       "stream": "stderr",
       "text": [
        "\r",
        "Processed 2431000 ( 97.42% ) in 0.0166 seconds"
       ]
      },
      {
       "output_type": "stream",
       "stream": "stderr",
       "text": [
        "\r",
        "Processed 2432000 ( 97.46% ) in 0.0274 seconds"
       ]
      },
      {
       "output_type": "stream",
       "stream": "stderr",
       "text": [
        "\r",
        "Processed 2433000 ( 97.50% ) in 0.0271 seconds"
       ]
      },
      {
       "output_type": "stream",
       "stream": "stderr",
       "text": [
        "\r",
        "Processed 2434000 ( 97.54% ) in 0.0178 seconds"
       ]
      },
      {
       "output_type": "stream",
       "stream": "stderr",
       "text": [
        "\r",
        "Processed 2435000 ( 97.58% ) in 0.0155 seconds"
       ]
      },
      {
       "output_type": "stream",
       "stream": "stderr",
       "text": [
        "\r",
        "Processed 2436000 ( 97.62% ) in 0.0218 seconds"
       ]
      },
      {
       "output_type": "stream",
       "stream": "stderr",
       "text": [
        "\r",
        "Processed 2437000 ( 97.66% ) in 0.0152 seconds"
       ]
      },
      {
       "output_type": "stream",
       "stream": "stderr",
       "text": [
        "\r",
        "Processed 2438000 ( 97.70% ) in 0.0153 seconds"
       ]
      },
      {
       "output_type": "stream",
       "stream": "stderr",
       "text": [
        "\r",
        "Processed 2439000 ( 97.74% ) in 0.0358 seconds"
       ]
      },
      {
       "output_type": "stream",
       "stream": "stderr",
       "text": [
        "\r",
        "Processed 2440000 ( 97.78% ) in 0.0240 seconds"
       ]
      },
      {
       "output_type": "stream",
       "stream": "stderr",
       "text": [
        "\r",
        "Processed 2441000 ( 97.82% ) in 0.0271 seconds"
       ]
      },
      {
       "output_type": "stream",
       "stream": "stderr",
       "text": [
        "\r",
        "Processed 2442000 ( 97.86% ) in 0.0249 seconds"
       ]
      },
      {
       "output_type": "stream",
       "stream": "stderr",
       "text": [
        "\r",
        "Processed 2443000 ( 97.90% ) in 0.0350 seconds"
       ]
      },
      {
       "output_type": "stream",
       "stream": "stderr",
       "text": [
        "\r",
        "Processed 2444000 ( 97.94% ) in 0.0205 seconds"
       ]
      },
      {
       "output_type": "stream",
       "stream": "stderr",
       "text": [
        "\r",
        "Processed 2445000 ( 97.98% ) in 0.0254 seconds"
       ]
      },
      {
       "output_type": "stream",
       "stream": "stderr",
       "text": [
        "\r",
        "Processed 2446000 ( 98.02% ) in 0.0217 seconds"
       ]
      },
      {
       "output_type": "stream",
       "stream": "stderr",
       "text": [
        "\r",
        "Processed 2447000 ( 98.06% ) in 0.0284 seconds"
       ]
      },
      {
       "output_type": "stream",
       "stream": "stderr",
       "text": [
        "\r",
        "Processed 2448000 ( 98.10% ) in 0.0321 seconds"
       ]
      },
      {
       "output_type": "stream",
       "stream": "stderr",
       "text": [
        "\r",
        "Processed 2449000 ( 98.14% ) in 0.0360 seconds"
       ]
      },
      {
       "output_type": "stream",
       "stream": "stderr",
       "text": [
        "\r",
        "Processed 2450000 ( 98.18% ) in 0.0370 seconds"
       ]
      },
      {
       "output_type": "stream",
       "stream": "stderr",
       "text": [
        "\r",
        "Processed 2451000 ( 98.22% ) in 0.0192 seconds"
       ]
      },
      {
       "output_type": "stream",
       "stream": "stderr",
       "text": [
        "\r",
        "Processed 2452000 ( 98.26% ) in 0.0156 seconds"
       ]
      },
      {
       "output_type": "stream",
       "stream": "stderr",
       "text": [
        "\r",
        "Processed 2453000 ( 98.30% ) in 0.0178 seconds"
       ]
      },
      {
       "output_type": "stream",
       "stream": "stderr",
       "text": [
        "\r",
        "Processed 2454000 ( 98.34% ) in 0.0174 seconds"
       ]
      },
      {
       "output_type": "stream",
       "stream": "stderr",
       "text": [
        "\r",
        "Processed 2455000 ( 98.38% ) in 0.0152 seconds"
       ]
      },
      {
       "output_type": "stream",
       "stream": "stderr",
       "text": [
        "\r",
        "Processed 2456000 ( 98.43% ) in 0.0300 seconds"
       ]
      },
      {
       "output_type": "stream",
       "stream": "stderr",
       "text": [
        "\r",
        "Processed 2457000 ( 98.47% ) in 0.0286 seconds"
       ]
      },
      {
       "output_type": "stream",
       "stream": "stderr",
       "text": [
        "\r",
        "Processed 2458000 ( 98.51% ) in 0.0155 seconds"
       ]
      },
      {
       "output_type": "stream",
       "stream": "stderr",
       "text": [
        "\r",
        "Processed 2459000 ( 98.55% ) in 0.0327 seconds"
       ]
      },
      {
       "output_type": "stream",
       "stream": "stderr",
       "text": [
        "\r",
        "Processed 2460000 ( 98.59% ) in 0.0293 seconds"
       ]
      },
      {
       "output_type": "stream",
       "stream": "stderr",
       "text": [
        "\r",
        "Processed 2461000 ( 98.63% ) in 0.0246 seconds"
       ]
      },
      {
       "output_type": "stream",
       "stream": "stderr",
       "text": [
        "\r",
        "Processed 2462000 ( 98.67% ) in 0.0196 seconds"
       ]
      },
      {
       "output_type": "stream",
       "stream": "stderr",
       "text": [
        "\r",
        "Processed 2463000 ( 98.71% ) in 0.0204 seconds"
       ]
      },
      {
       "output_type": "stream",
       "stream": "stderr",
       "text": [
        "\r",
        "Processed 2464000 ( 98.75% ) in 0.0229 seconds"
       ]
      },
      {
       "output_type": "stream",
       "stream": "stderr",
       "text": [
        "\r",
        "Processed 2465000 ( 98.79% ) in 0.0212 seconds"
       ]
      },
      {
       "output_type": "stream",
       "stream": "stderr",
       "text": [
        "\r",
        "Processed 2466000 ( 98.83% ) in 0.0206 seconds"
       ]
      },
      {
       "output_type": "stream",
       "stream": "stderr",
       "text": [
        "\r",
        "Processed 2467000 ( 98.87% ) in 0.0308 seconds"
       ]
      },
      {
       "output_type": "stream",
       "stream": "stderr",
       "text": [
        "\r",
        "Processed 2468000 ( 98.91% ) in 0.0387 seconds"
       ]
      },
      {
       "output_type": "stream",
       "stream": "stderr",
       "text": [
        "\r",
        "Processed 2469000 ( 98.95% ) in 0.0249 seconds"
       ]
      },
      {
       "output_type": "stream",
       "stream": "stderr",
       "text": [
        "\r",
        "Processed 2470000 ( 98.99% ) in 0.0200 seconds"
       ]
      },
      {
       "output_type": "stream",
       "stream": "stderr",
       "text": [
        "\r",
        "Processed 2471000 ( 99.03% ) in 0.0386 seconds"
       ]
      },
      {
       "output_type": "stream",
       "stream": "stderr",
       "text": [
        "\r",
        "Processed 2472000 ( 99.07% ) in 0.0314 seconds"
       ]
      },
      {
       "output_type": "stream",
       "stream": "stderr",
       "text": [
        "\r",
        "Processed 2473000 ( 99.11% ) in 0.0305 seconds"
       ]
      },
      {
       "output_type": "stream",
       "stream": "stderr",
       "text": [
        "\r",
        "Processed 2474000 ( 99.15% ) in 0.0202 seconds"
       ]
      },
      {
       "output_type": "stream",
       "stream": "stderr",
       "text": [
        "\r",
        "Processed 2475000 ( 99.19% ) in 0.0199 seconds"
       ]
      },
      {
       "output_type": "stream",
       "stream": "stderr",
       "text": [
        "\r",
        "Processed 2476000 ( 99.23% ) in 0.0325 seconds"
       ]
      },
      {
       "output_type": "stream",
       "stream": "stderr",
       "text": [
        "\r",
        "Processed 2477000 ( 99.27% ) in 0.0239 seconds"
       ]
      },
      {
       "output_type": "stream",
       "stream": "stderr",
       "text": [
        "\r",
        "Processed 2478000 ( 99.31% ) in 0.0183 seconds"
       ]
      },
      {
       "output_type": "stream",
       "stream": "stderr",
       "text": [
        "\r",
        "Processed 2479000 ( 99.35% ) in 0.0197 seconds"
       ]
      },
      {
       "output_type": "stream",
       "stream": "stderr",
       "text": [
        "\r",
        "Processed 2480000 ( 99.39% ) in 0.0232 seconds"
       ]
      },
      {
       "output_type": "stream",
       "stream": "stderr",
       "text": [
        "\r",
        "Processed 2481000 ( 99.43% ) in 0.0245 seconds"
       ]
      },
      {
       "output_type": "stream",
       "stream": "stderr",
       "text": [
        "\r",
        "Processed 2482000 ( 99.47% ) in 0.0215 seconds"
       ]
      },
      {
       "output_type": "stream",
       "stream": "stderr",
       "text": [
        "\r",
        "Processed 2483000 ( 99.51% ) in 0.0221 seconds"
       ]
      },
      {
       "output_type": "stream",
       "stream": "stderr",
       "text": [
        "\r",
        "Processed 2484000 ( 99.55% ) in 0.0215 seconds"
       ]
      },
      {
       "output_type": "stream",
       "stream": "stderr",
       "text": [
        "\r",
        "Processed 2485000 ( 99.59% ) in 0.0217 seconds"
       ]
      },
      {
       "output_type": "stream",
       "stream": "stderr",
       "text": [
        "\r",
        "Processed 2486000 ( 99.63% ) in 0.0224 seconds"
       ]
      },
      {
       "output_type": "stream",
       "stream": "stderr",
       "text": [
        "\r",
        "Processed 2487000 ( 99.67% ) in 0.0218 seconds"
       ]
      },
      {
       "output_type": "stream",
       "stream": "stderr",
       "text": [
        "\r",
        "Processed 2488000 ( 99.71% ) in 0.0197 seconds"
       ]
      },
      {
       "output_type": "stream",
       "stream": "stderr",
       "text": [
        "\r",
        "Processed 2489000 ( 99.75% ) in 0.0195 seconds"
       ]
      },
      {
       "output_type": "stream",
       "stream": "stderr",
       "text": [
        "\r",
        "Processed 2490000 ( 99.79% ) in 0.0184 seconds"
       ]
      },
      {
       "output_type": "stream",
       "stream": "stderr",
       "text": [
        "\r",
        "Processed 2491000 ( 99.83% ) in 0.0182 seconds"
       ]
      },
      {
       "output_type": "stream",
       "stream": "stderr",
       "text": [
        "\r",
        "Processed 2492000 ( 99.87% ) in 0.0188 seconds"
       ]
      },
      {
       "output_type": "stream",
       "stream": "stderr",
       "text": [
        "\r",
        "Processed 2493000 ( 99.91% ) in 0.0191 seconds"
       ]
      },
      {
       "output_type": "stream",
       "stream": "stderr",
       "text": [
        "\r",
        "Processed 2494000 ( 99.95% ) in 0.0176 seconds"
       ]
      },
      {
       "output_type": "stream",
       "stream": "stderr",
       "text": [
        "\r",
        "Processed 2495000 ( 99.99% ) in 0.0179 seconds"
       ]
      },
      {
       "output_type": "stream",
       "stream": "stderr",
       "text": [
        "\n",
        "Total training time 53.76 seconds; 2.154323e-05 per sample\n"
       ]
      }
     ],
     "prompt_number": 19
    },
    {
     "cell_type": "heading",
     "level": 2,
     "metadata": {},
     "source": [
      "Testing a BPR model"
     ]
    },
    {
     "cell_type": "markdown",
     "metadata": {},
     "source": [
      "We can now evaluate how well our trained model is doing over our test data. How accurately can it predict user viewings in the testing dataset?  The metric we use to quantify that is the Area Under Curve (AUC) measure. "
     ]
    },
    {
     "cell_type": "code",
     "collapsed": false,
     "input": [
      "bpr.test(testing_data)"
     ],
     "language": "python",
     "metadata": {},
     "outputs": [
      {
       "output_type": "stream",
       "stream": "stderr",
       "text": [
        "\r",
        "Current AUC mean (100 samples): 0.91369"
       ]
      },
      {
       "output_type": "stream",
       "stream": "stderr",
       "text": [
        "\r",
        "Current AUC mean (200 samples): 0.91551"
       ]
      },
      {
       "output_type": "stream",
       "stream": "stderr",
       "text": [
        "\r",
        "Current AUC mean (300 samples): 0.91380"
       ]
      },
      {
       "output_type": "stream",
       "stream": "stderr",
       "text": [
        "\r",
        "Current AUC mean (400 samples): 0.91120"
       ]
      },
      {
       "output_type": "stream",
       "stream": "stderr",
       "text": [
        "\r",
        "Current AUC mean (500 samples): 0.91242"
       ]
      },
      {
       "output_type": "stream",
       "stream": "stderr",
       "text": [
        "\r",
        "Current AUC mean (600 samples): 0.91393"
       ]
      },
      {
       "output_type": "stream",
       "stream": "stderr",
       "text": [
        "\r",
        "Current AUC mean (700 samples): 0.91282"
       ]
      },
      {
       "output_type": "stream",
       "stream": "stderr",
       "text": [
        "\r",
        "Current AUC mean (800 samples): 0.91442"
       ]
      },
      {
       "output_type": "stream",
       "stream": "stderr",
       "text": [
        "\r",
        "Current AUC mean (900 samples): 0.91430"
       ]
      },
      {
       "output_type": "stream",
       "stream": "stderr",
       "text": [
        "\n"
       ]
      },
      {
       "metadata": {},
       "output_type": "pyout",
       "prompt_number": 20,
       "text": [
        "0.91428679132906043"
       ]
      }
     ],
     "prompt_number": 20
    },
    {
     "cell_type": "code",
     "collapsed": false,
     "input": [],
     "language": "python",
     "metadata": {},
     "outputs": []
    }
   ],
   "metadata": {}
  }
 ]
}